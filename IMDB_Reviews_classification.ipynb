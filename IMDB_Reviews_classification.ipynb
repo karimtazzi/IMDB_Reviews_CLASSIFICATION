{
  "cells": [
    {
      "cell_type": "markdown",
      "metadata": {
        "id": "R1R29_T9tPG6"
      },
      "source": [
        "<strong><b><font size=\"6\">IMDB reviews Classification </font></b></strong> "
      ]
    },
    {
      "cell_type": "markdown",
      "metadata": {
        "toc": true,
        "id": "_QRkWJMrtPG-"
      },
      "source": [
        "<h1>Tasks <span class=\"tocSkip\"></span></h1>\n",
        "    <li> Lower casing\n",
        "    <li> Punctuation removal\n",
        "    <li> Identifying and Remove Stop Words\n",
        "    <li> Tokenize Text in Words\n",
        "    <li> NLTK Word Stemming\n",
        "    <li> Build a bag-of-words\n",
        "    <li> Create Term Frequency-Inverse Document Frequency (TF-IDF)\n",
        "  "
      ]
    },
    {
      "cell_type": "markdown",
      "metadata": {
        "id": "cqksbBJXtPG_"
      },
      "source": [
        "## Importing Libraries"
      ]
    },
    {
      "cell_type": "code",
      "execution_count": null,
      "metadata": {
        "scrolled": true,
        "id": "eN2tO077tPHA"
      },
      "outputs": [],
      "source": [
        "import warnings\n",
        "warnings.filterwarnings(\"ignore\")\n",
        "\n",
        "import pandas as pd\n",
        "import string\n",
        "\n",
        "#nltk\n",
        "import nltk\n",
        "from nltk.corpus import stopwords\n",
        "from nltk.tokenize import word_tokenize, sent_tokenize\n",
        "from nltk.stem import PorterStemmer, WordNetLemmatizer\n",
        "from nltk import tokenize\n",
        "\n",
        "#sci-kit learn\n",
        "from sklearn.feature_extraction.text import CountVectorizer, TfidfVectorizer\n"
      ]
    },
    {
      "cell_type": "markdown",
      "metadata": {
        "id": "YE8QPP6VtPHB"
      },
      "source": [
        "## Download and Inspect the IMDB Movie Reviews Dataset\n",
        "- Labeled movie reviews data as either positive or negative reviews\n",
        "- We can download the __movie_reviews__ package using the nltk.download function:"
      ]
    },
    {
      "cell_type": "code",
      "execution_count": null,
      "metadata": {
        "id": "OIoVm4HTtPHB",
        "outputId": "e2ff957d-8555-4a03-fad9-370d15f3bc09"
      },
      "outputs": [
        {
          "name": "stderr",
          "output_type": "stream",
          "text": [
            "[nltk_data] Downloading package movie_reviews to\n",
            "[nltk_data]     C:\\Users\\Hinnovis\\AppData\\Roaming\\nltk_data...\n",
            "[nltk_data]   Package movie_reviews is already up-to-date!\n"
          ]
        },
        {
          "data": {
            "text/plain": [
              "True"
            ]
          },
          "execution_count": 5,
          "metadata": {},
          "output_type": "execute_result"
        }
      ],
      "source": [
        "nltk.download(\"movie_reviews\")"
      ]
    },
    {
      "cell_type": "code",
      "execution_count": null,
      "metadata": {
        "id": "jeZdh9kktPHD"
      },
      "outputs": [],
      "source": [
        "from nltk.corpus import movie_reviews"
      ]
    },
    {
      "cell_type": "code",
      "execution_count": null,
      "metadata": {
        "id": "1WKJ3EMgtPHD",
        "outputId": "f0671d8b-94dc-4b8c-e293-de93bf75de0e"
      },
      "outputs": [
        {
          "data": {
            "text/plain": [
              "2000"
            ]
          },
          "execution_count": 7,
          "metadata": {},
          "output_type": "execute_result"
        }
      ],
      "source": [
        "len(movie_reviews.fileids())"
      ]
    },
    {
      "cell_type": "code",
      "execution_count": null,
      "metadata": {
        "id": "eb2KRnOktPHE",
        "outputId": "c5032a52-a5d6-4ea3-9d18-93e90dd3f9a2"
      },
      "outputs": [
        {
          "data": {
            "text/plain": [
              "['neg/cv000_29416.txt',\n",
              " 'neg/cv001_19502.txt',\n",
              " 'neg/cv002_17424.txt',\n",
              " 'neg/cv003_12683.txt',\n",
              " 'neg/cv004_12641.txt']"
            ]
          },
          "execution_count": 8,
          "metadata": {},
          "output_type": "execute_result"
        }
      ],
      "source": [
        "movie_reviews.fileids()[:5]"
      ]
    },
    {
      "cell_type": "code",
      "execution_count": null,
      "metadata": {
        "id": "YpiA2eWetPHE",
        "outputId": "27d9ff6b-ef64-4269-ef43-56cc7c15ba21"
      },
      "outputs": [
        {
          "data": {
            "text/plain": [
              "['pos/cv995_21821.txt',\n",
              " 'pos/cv996_11592.txt',\n",
              " 'pos/cv997_5046.txt',\n",
              " 'pos/cv998_14111.txt',\n",
              " 'pos/cv999_13106.txt']"
            ]
          },
          "execution_count": 9,
          "metadata": {},
          "output_type": "execute_result"
        }
      ],
      "source": [
        "movie_reviews.fileids()[-5:]"
      ]
    },
    {
      "cell_type": "markdown",
      "metadata": {
        "id": "y9LHvruGtPHF"
      },
      "source": [
        "- __fileids__ can also filter the available files based on their category, which is the name of the subfolders they are located in. Therefore we can have lists of positive and negative reviews separately."
      ]
    },
    {
      "cell_type": "code",
      "execution_count": null,
      "metadata": {
        "id": "jXo1YpDmtPHF"
      },
      "outputs": [],
      "source": [
        "negative_fileids = movie_reviews.fileids('neg')\n",
        "positive_fileids = movie_reviews.fileids('pos')"
      ]
    },
    {
      "cell_type": "code",
      "execution_count": null,
      "metadata": {
        "id": "Ep9ELx0TtPHG",
        "outputId": "1e606df2-dbea-46b5-8040-be550d94609f"
      },
      "outputs": [
        {
          "data": {
            "text/plain": [
              "(1000, 1000)"
            ]
          },
          "execution_count": 11,
          "metadata": {},
          "output_type": "execute_result"
        }
      ],
      "source": [
        "len(negative_fileids), len(positive_fileids)"
      ]
    },
    {
      "cell_type": "markdown",
      "metadata": {
        "id": "Og1DE9cvtPHG"
      },
      "source": [
        "- We can inspect one of the reviews using the raw method of movie_reviews, each file is split into sentences, the curators of this dataset also removed from each review from any direct mention of the rating of the movie."
      ]
    },
    {
      "cell_type": "code",
      "execution_count": null,
      "metadata": {
        "scrolled": true,
        "id": "NTtnvNv3tPHG",
        "outputId": "914e2d8e-530b-4468-9e9b-6f079b6a9f84"
      },
      "outputs": [
        {
          "name": "stdout",
          "output_type": "stream",
          "text": [
            "by phil curtolo mel gibson ( braveheart ) gave a gripping performance as the father of a young kidnapped boy in ron howard's ransom . \n",
            "gibson plays tom mullen , a wealthy business tycoon whose past actions are coming back to haunt him as a deranged psychopath , played by gary sinise ( forrest gump ) , and his band of low-life thugs kidnap his only son for $2 million . \n",
            "tom and his wife , kate , played by rene russo ( tin cup ) were instructed not to inform the police , but they contacted the fbi . \n",
            "minutes later , an elite team of agents led by delroy lindo ( broken arrow ) are in tom's house and wiring every phone . \n",
            "the plot sounds average , just like most other kidnap movies that you've already seen , and it was nothing more than that . \n",
            "that is until about half-way through the movie . \n",
            "suddenly , tom goes to the fox 5 news room and makes a live broadcast saying , \" this is your ransom . \n",
            "but this is as close as you will ever get to it . \n",
            "instead , i am offering this money as a reward on your head , dead or alive . \" \n",
            "at this point , the plot thickened , and the unusually slow start of the film turned into a suspense-filled action film with great stunts . \n",
            "the last half of the film is very well done . \n",
            "another thing that carries this film are the superb performances by gibson and sinise , as they collide in a game of wits over their cellular phones for most of the movie . \n",
            "owen gleiberman of entertainment weekly commented on the subject : \" it makes you wonder what kidnappers did before cell phones . \" \n",
            "before this movie , sinise played mostly \" good guys , \" first in of mice & men , then in forrest gump , and most recently , in apollo 13 . \n",
            "but he was surprisingly devilish and cold in his portrayal of a cop-gone-bad . \n",
            "gibson , of course , was just being gibson , in an oscar-worthy performance . \n",
            "although most of the scenes were quite predictable , ransom is a very entertaining and suspenseful film . \n",
            " , \n",
            "\n"
          ]
        }
      ],
      "source": [
        "print(movie_reviews.raw(fileids=positive_fileids[20]))"
      ]
    },
    {
      "cell_type": "code",
      "execution_count": null,
      "metadata": {
        "id": "5oSYs_hCtPHH",
        "outputId": "65eb3405-cec2-471a-975b-7ffda83488a9"
      },
      "outputs": [
        {
          "data": {
            "text/plain": [
              "'neg/cv002_17424.txt'"
            ]
          },
          "execution_count": 13,
          "metadata": {},
          "output_type": "execute_result"
        }
      ],
      "source": [
        "negative_fileids[2]"
      ]
    },
    {
      "cell_type": "code",
      "execution_count": null,
      "metadata": {
        "id": "W8Pk7Q95tPHH"
      },
      "outputs": [],
      "source": [
        "negative_features = pd.DataFrame(\n",
        "    {'review':movie_reviews.raw(fileids=[f]),'label': 'neg'} for f in negative_fileids\n",
        ")"
      ]
    },
    {
      "cell_type": "code",
      "execution_count": null,
      "metadata": {
        "id": "rz-54G2dtPHI"
      },
      "outputs": [],
      "source": [
        "positive_features = pd.DataFrame(\n",
        "    {'review':movie_reviews.raw(fileids=[f]),'label': 'pos'} for f in positive_fileids\n",
        ")"
      ]
    },
    {
      "cell_type": "code",
      "execution_count": null,
      "metadata": {
        "id": "an9PeFJNtPHI"
      },
      "outputs": [],
      "source": [
        "data = pd.concat([positive_features, negative_features], ignore_index=True)\n"
      ]
    },
    {
      "cell_type": "code",
      "execution_count": null,
      "metadata": {
        "id": "A6fdT0DHtPHJ",
        "outputId": "1b05f5b5-d8fa-4588-ea5a-102fa81d7a09"
      },
      "outputs": [
        {
          "data": {
            "text/html": [
              "<div>\n",
              "<style scoped>\n",
              "    .dataframe tbody tr th:only-of-type {\n",
              "        vertical-align: middle;\n",
              "    }\n",
              "\n",
              "    .dataframe tbody tr th {\n",
              "        vertical-align: top;\n",
              "    }\n",
              "\n",
              "    .dataframe thead th {\n",
              "        text-align: right;\n",
              "    }\n",
              "</style>\n",
              "<table border=\"1\" class=\"dataframe\">\n",
              "  <thead>\n",
              "    <tr style=\"text-align: right;\">\n",
              "      <th></th>\n",
              "      <th>review</th>\n",
              "      <th>label</th>\n",
              "    </tr>\n",
              "  </thead>\n",
              "  <tbody>\n",
              "    <tr>\n",
              "      <th>0</th>\n",
              "      <td>films adapted from comic books have had plenty...</td>\n",
              "      <td>pos</td>\n",
              "    </tr>\n",
              "    <tr>\n",
              "      <th>1</th>\n",
              "      <td>every now and then a movie comes along from a ...</td>\n",
              "      <td>pos</td>\n",
              "    </tr>\n",
              "    <tr>\n",
              "      <th>2</th>\n",
              "      <td>you've got mail works alot better than it dese...</td>\n",
              "      <td>pos</td>\n",
              "    </tr>\n",
              "    <tr>\n",
              "      <th>3</th>\n",
              "      <td>\" jaws \" is a rare film that grabs your atten...</td>\n",
              "      <td>pos</td>\n",
              "    </tr>\n",
              "    <tr>\n",
              "      <th>4</th>\n",
              "      <td>moviemaking is a lot like being the general ma...</td>\n",
              "      <td>pos</td>\n",
              "    </tr>\n",
              "    <tr>\n",
              "      <th>...</th>\n",
              "      <td>...</td>\n",
              "      <td>...</td>\n",
              "    </tr>\n",
              "    <tr>\n",
              "      <th>1995</th>\n",
              "      <td>if anything , \" stigmata \" should be taken as ...</td>\n",
              "      <td>neg</td>\n",
              "    </tr>\n",
              "    <tr>\n",
              "      <th>1996</th>\n",
              "      <td>john boorman's \" zardoz \" is a goofy cinematic...</td>\n",
              "      <td>neg</td>\n",
              "    </tr>\n",
              "    <tr>\n",
              "      <th>1997</th>\n",
              "      <td>the kids in the hall are an acquired taste . \\...</td>\n",
              "      <td>neg</td>\n",
              "    </tr>\n",
              "    <tr>\n",
              "      <th>1998</th>\n",
              "      <td>there was a time when john carpenter was a gre...</td>\n",
              "      <td>neg</td>\n",
              "    </tr>\n",
              "    <tr>\n",
              "      <th>1999</th>\n",
              "      <td>two party guys bob their heads to haddaway's d...</td>\n",
              "      <td>neg</td>\n",
              "    </tr>\n",
              "  </tbody>\n",
              "</table>\n",
              "<p>2000 rows × 2 columns</p>\n",
              "</div>"
            ],
            "text/plain": [
              "                                                 review label\n",
              "0     films adapted from comic books have had plenty...   pos\n",
              "1     every now and then a movie comes along from a ...   pos\n",
              "2     you've got mail works alot better than it dese...   pos\n",
              "3      \" jaws \" is a rare film that grabs your atten...   pos\n",
              "4     moviemaking is a lot like being the general ma...   pos\n",
              "...                                                 ...   ...\n",
              "1995  if anything , \" stigmata \" should be taken as ...   neg\n",
              "1996  john boorman's \" zardoz \" is a goofy cinematic...   neg\n",
              "1997  the kids in the hall are an acquired taste . \\...   neg\n",
              "1998  there was a time when john carpenter was a gre...   neg\n",
              "1999  two party guys bob their heads to haddaway's d...   neg\n",
              "\n",
              "[2000 rows x 2 columns]"
            ]
          },
          "execution_count": 17,
          "metadata": {},
          "output_type": "execute_result"
        }
      ],
      "source": [
        "data"
      ]
    },
    {
      "cell_type": "code",
      "execution_count": null,
      "metadata": {
        "id": "k2I8FrN-tPHJ",
        "outputId": "c95fbc46-8310-44ea-af86-4740c62e7a5f"
      },
      "outputs": [
        {
          "data": {
            "text/html": [
              "<div>\n",
              "<style scoped>\n",
              "    .dataframe tbody tr th:only-of-type {\n",
              "        vertical-align: middle;\n",
              "    }\n",
              "\n",
              "    .dataframe tbody tr th {\n",
              "        vertical-align: top;\n",
              "    }\n",
              "\n",
              "    .dataframe thead th {\n",
              "        text-align: right;\n",
              "    }\n",
              "</style>\n",
              "<table border=\"1\" class=\"dataframe\">\n",
              "  <thead>\n",
              "    <tr style=\"text-align: right;\">\n",
              "      <th></th>\n",
              "      <th>review</th>\n",
              "      <th>label</th>\n",
              "    </tr>\n",
              "  </thead>\n",
              "  <tbody>\n",
              "    <tr>\n",
              "      <th>0</th>\n",
              "      <td>films adapted from comic books have had plenty...</td>\n",
              "      <td>pos</td>\n",
              "    </tr>\n",
              "    <tr>\n",
              "      <th>1</th>\n",
              "      <td>every now and then a movie comes along from a ...</td>\n",
              "      <td>pos</td>\n",
              "    </tr>\n",
              "    <tr>\n",
              "      <th>2</th>\n",
              "      <td>you've got mail works alot better than it dese...</td>\n",
              "      <td>pos</td>\n",
              "    </tr>\n",
              "    <tr>\n",
              "      <th>3</th>\n",
              "      <td>\" jaws \" is a rare film that grabs your atten...</td>\n",
              "      <td>pos</td>\n",
              "    </tr>\n",
              "    <tr>\n",
              "      <th>4</th>\n",
              "      <td>moviemaking is a lot like being the general ma...</td>\n",
              "      <td>pos</td>\n",
              "    </tr>\n",
              "  </tbody>\n",
              "</table>\n",
              "</div>"
            ],
            "text/plain": [
              "                                              review label\n",
              "0  films adapted from comic books have had plenty...   pos\n",
              "1  every now and then a movie comes along from a ...   pos\n",
              "2  you've got mail works alot better than it dese...   pos\n",
              "3   \" jaws \" is a rare film that grabs your atten...   pos\n",
              "4  moviemaking is a lot like being the general ma...   pos"
            ]
          },
          "execution_count": 18,
          "metadata": {},
          "output_type": "execute_result"
        }
      ],
      "source": [
        "data.head()"
      ]
    },
    {
      "cell_type": "markdown",
      "metadata": {
        "id": "rIWGSXYGtPHK"
      },
      "source": [
        "### Lower casing"
      ]
    },
    {
      "cell_type": "code",
      "execution_count": null,
      "metadata": {
        "id": "i3ec2HBqtPHK"
      },
      "outputs": [],
      "source": [
        "data['review'] = data['review'].str.lower()"
      ]
    },
    {
      "cell_type": "markdown",
      "metadata": {
        "id": "ojdsXjxatPHL"
      },
      "source": [
        "### Remove HTML tags "
      ]
    },
    {
      "cell_type": "code",
      "execution_count": null,
      "metadata": {
        "id": "OAEDp9F9tPHL"
      },
      "outputs": [],
      "source": [
        "import re\n",
        "def remove_html_tags(text):\n",
        "    html_tags = r'<.*?>'\n",
        "    without_html = re.sub(pattern=html_tags, repl=' ', string=text)\n",
        "    return without_html\n",
        "data['review'] = data['review'].apply(lambda x: remove_html_tags(x))"
      ]
    },
    {
      "cell_type": "code",
      "execution_count": null,
      "metadata": {
        "id": "4MEldwmQtPHL",
        "outputId": "a192561a-c931-46c4-c116-5b85ecdbd37b"
      },
      "outputs": [
        {
          "data": {
            "text/plain": [
              "'every now and then a movie comes along from a suspect studio , with every indication that it will be a stinker , and to everybody\\'s surprise ( perhaps even the studio ) the film becomes a critical darling . \\nmtv films\\' _election , a high school comedy starring matthew broderick and reese witherspoon , is a current example . \\ndid anybody know this film existed a week before it opened ? \\nthe plot is deceptively simple . \\ngeorge washington carver high school is having student elections . \\ntracy flick ( reese witherspoon ) is an over-achiever with her hand raised at nearly every question , way , way , high . \\nmr . \" m \" ( matthew broderick ) , sick of the megalomaniac student , encourages paul , a popular-but-slow jock to run . \\nand paul\\'s nihilistic sister jumps in the race as well , for personal reasons . \\nthe dark side of such sleeper success is that , because expectations were so low going in , the fact that this was quality stuff made the reviews even more enthusiastic than they have any right to be . \\nyou can\\'t help going in with the baggage of glowing reviews , which is in contrast to the negative baggage that the reviewers were likely to have . \\n_election , a good film , does not live up to its hype . \\nwhat makes _election_ so disappointing is that it contains significant plot details lifted directly from _rushmore_ , released a few months earlier . \\nthe similarities are staggering : \\ntracy flick ( _election_ ) is the president of an extraordinary number of clubs , and is involved with the school play . \\nmax fischer ( _rushmore_ ) is the president of an extraordinary number of clubs , and is involved with the school play . \\nthe most significant tension of _election_ is the potential relationship between a teacher and his student . \\nthe most significant tension of _rushmore_ is the potential relationship between a teacher and his student . \\ntracy flick is from a single parent home , which has contributed to her drive . \\nmax fischer is from a single parent home , which has contributed to his drive . \\nthe male bumbling adult in _election_ ( matthew broderick ) pursues an extramarital affair , gets caught , and his whole life is ruined . \\nhe even gets a bee sting . \\nthe male bumbling adult in _rushmore_ ( bill murray ) pursues an extramarital affair , gets caught , and his whole life is ruined . \\nhe gets several bee stings . \\nand so on . \\nwhat happened ? \\nhow is it that an individual screenplay ( _rushmore_ ) and a novel ( _election_ ) contain so many significant plot points , and yet both films were probably not even aware of each other , made from two different studios , from a genre ( the high school geeks revenge movie ) that hadn\\'t been fully formed yet ? \\neven so , the strengths of _election_ rely upon its fantastic performances from broderick , witherspoon , and newcomer jessica campbell , as paul\\'s anti-social sister , tammy . \\nbroderick here is playing the mr . rooney role from _ferris bueller_ , and he seems to be having the most fun he\\'s had since then . \\nwitherspoon is a revelation . \\nit\\'s early in the year , it\\'s a comedy , and teenagers have little clout , but for my money , witherspoon deserves an oscar nomination . \\nand once campbell\\'s character gets going , like in her fantastic speech in the gymnasium , then you\\'re won over . \\none thing that\\'s been bothering me since i\\'ve seen it . \\nthere is an extraordinary amount of sexuality in this film . \\ni suppose that , coming from mtv films , i should expect no less . . . \\nbut the film starts off light and airy , like a sitcom . \\nas the screws tighten , and the tensions mount , alexander payne decides to add elements that , frankly , distract from the story . \\nit is bad enough that mr . m doesn\\'t like tracy\\'s determination to win at all costs , but did they have to throw in the student/teacher relationship ? \\neven so , there\\'s no logical reason why mr . m has an affair when he does . \\nthere\\'s a lot to like in _election_ , but the plot similarities to _rushmore_ , and the tonal nosedive it takes as it gets explicitly sex-driven , mark this as a disappointment . \\n'"
            ]
          },
          "execution_count": 34,
          "metadata": {},
          "output_type": "execute_result"
        }
      ],
      "source": [
        "data['review'][1]"
      ]
    },
    {
      "cell_type": "markdown",
      "metadata": {
        "id": "7NrBAoHutPHM"
      },
      "source": [
        "### Remove punctuation"
      ]
    },
    {
      "cell_type": "code",
      "execution_count": null,
      "metadata": {
        "id": "u1smCOyjtPHM",
        "outputId": "a8fc51ba-2f65-4ee1-da8c-9e423c16b589"
      },
      "outputs": [
        {
          "data": {
            "text/plain": [
              "\"you've got mail works alot better than it deserves to . \\nin order to make the film a success , all they had to do was cast two extremely popular and attractive stars , have them share the screen for about two hours and then collect the profits . \\nno real acting was involved and there is not an original or inventive bone in it's body ( it's basically a complete re-shoot of the shop around the corner , only adding a few modern twists ) . \\nessentially , it goes against and defies all concepts of good contemporary filmmaking . \\nit's overly sentimental and at times terribly mushy , not to mention very manipulative . \\nbut oh , how enjoyable that manipulation is . \\nbut there must be something other than the casting and manipulation that makes the movie work as well as it does , because i absolutely hated the previous ryan/hanks teaming , sleepless in seattle . \\nit couldn't have been the directing , because both films were helmed by the same woman . \\ni haven't quite yet figured out what i liked so much about you've got mail , but then again , is that really important ? \\nif you like something so much , why even question it ? \\nagain , the storyline is as cliched as they come . \\ntom hanks plays joe fox , the insanely likeable owner of a discount book chain and meg ryan plays kathleen kelley , the even more insanely likeable proprietor of a family-run children's book shop called , in a nice homage , the shop around the corner . \\nfox and kelley soon become bitter rivals because the new fox books store is opening up right across the block from the small business . \\nlittle do they know , they are already in love with each other over the internet , only neither party knows the other person's true identity . \\nthe rest of the story isn't important because all it does is serve as a mere backdrop for the two stars to share the screen . \\nsure , there are some mildly interesting subplots , but they all fail in comparison to the utter cuteness of the main relationship . \\nall of this , of course , leads up to the predictable climax . \\nbut as foreseeable as the ending is , it's so damn cute and well-done that i doubt any movie in the entire year contains a scene the evokes as much pure joy as this part does . \\nwhen ryan discovers the true identity of her online love , i was filled with such , for lack of a better word , happiness that for the first time all year , i actually left the theater smiling . \\n\""
            ]
          },
          "execution_count": 35,
          "metadata": {},
          "output_type": "execute_result"
        }
      ],
      "source": [
        "data.review[2]"
      ]
    },
    {
      "cell_type": "code",
      "execution_count": null,
      "metadata": {
        "id": "EZfp2sektPHM",
        "outputId": "8a891492-9475-4420-9e9f-e4b8ab34cdf1"
      },
      "outputs": [
        {
          "name": "stdout",
          "output_type": "stream",
          "text": [
            "['!', '\"', '#', '$', '%', '&', \"'\", '(', ')', '*', '+', ',', '-', '.', '/', ':', ';', '<', '=', '>', '?', '@', '[', '\\\\', ']', '^', '_', '`', '{', '|', '}', '~']\n"
          ]
        }
      ],
      "source": [
        "punctuations = list(string.punctuation)\n",
        "print(punctuations)"
      ]
    },
    {
      "cell_type": "code",
      "execution_count": null,
      "metadata": {
        "id": "Qrf5WM7PtPHN"
      },
      "outputs": [],
      "source": [
        "import re\n",
        "data['review'] = data['review'].apply(lambda x: re.sub('[%s]' % re.escape(string.punctuation), '' , x))"
      ]
    },
    {
      "cell_type": "code",
      "execution_count": null,
      "metadata": {
        "scrolled": true,
        "id": "MizO5TVitPHN",
        "outputId": "4a365c6d-71f0-4c97-8186-ee984982d5ae"
      },
      "outputs": [
        {
          "data": {
            "text/plain": [
              "'youve got mail works alot better than it deserves to  \\nin order to make the film a success  all they had to do was cast two extremely popular and attractive stars  have them share the screen for about two hours and then collect the profits  \\nno real acting was involved and there is not an original or inventive bone in its body  its basically a complete reshoot of the shop around the corner  only adding a few modern twists   \\nessentially  it goes against and defies all concepts of good contemporary filmmaking  \\nits overly sentimental and at times terribly mushy  not to mention very manipulative  \\nbut oh  how enjoyable that manipulation is  \\nbut there must be something other than the casting and manipulation that makes the movie work as well as it does  because i absolutely hated the previous ryanhanks teaming  sleepless in seattle  \\nit couldnt have been the directing  because both films were helmed by the same woman  \\ni havent quite yet figured out what i liked so much about youve got mail  but then again  is that really important  \\nif you like something so much  why even question it  \\nagain  the storyline is as cliched as they come  \\ntom hanks plays joe fox  the insanely likeable owner of a discount book chain and meg ryan plays kathleen kelley  the even more insanely likeable proprietor of a familyrun childrens book shop called  in a nice homage  the shop around the corner  \\nfox and kelley soon become bitter rivals because the new fox books store is opening up right across the block from the small business  \\nlittle do they know  they are already in love with each other over the internet  only neither party knows the other persons true identity  \\nthe rest of the story isnt important because all it does is serve as a mere backdrop for the two stars to share the screen  \\nsure  there are some mildly interesting subplots  but they all fail in comparison to the utter cuteness of the main relationship  \\nall of this  of course  leads up to the predictable climax  \\nbut as foreseeable as the ending is  its so damn cute and welldone that i doubt any movie in the entire year contains a scene the evokes as much pure joy as this part does  \\nwhen ryan discovers the true identity of her online love  i was filled with such  for lack of a better word  happiness that for the first time all year  i actually left the theater smiling  \\n'"
            ]
          },
          "execution_count": 38,
          "metadata": {},
          "output_type": "execute_result"
        }
      ],
      "source": [
        "#verification\n",
        "data.review[2]"
      ]
    },
    {
      "cell_type": "markdown",
      "metadata": {
        "id": "HHVu2CIdtPHN"
      },
      "source": [
        "### Remove URLs "
      ]
    },
    {
      "cell_type": "code",
      "execution_count": null,
      "metadata": {
        "id": "T7yzRFuetPHN"
      },
      "outputs": [],
      "source": [
        "def remove_urls(text):\n",
        "    url_staf = r'https?://\\S+|www\\.\\S+'\n",
        "    without_urls = re.sub(pattern=url_staf, repl=' ',string=text)\n",
        "    return without_urls\n",
        "data['review'] = data['review'].apply(lambda x: remove_html_tags(x))"
      ]
    },
    {
      "cell_type": "code",
      "execution_count": null,
      "metadata": {
        "id": "rgvhjxrItPHN",
        "outputId": "a4c4193e-9039-4966-aacc-22013fd9924c"
      },
      "outputs": [
        {
          "data": {
            "text/plain": [
              "'youve got mail works alot better than it deserves to  \\nin order to make the film a success  all they had to do was cast two extremely popular and attractive stars  have them share the screen for about two hours and then collect the profits  \\nno real acting was involved and there is not an original or inventive bone in its body  its basically a complete reshoot of the shop around the corner  only adding a few modern twists   \\nessentially  it goes against and defies all concepts of good contemporary filmmaking  \\nits overly sentimental and at times terribly mushy  not to mention very manipulative  \\nbut oh  how enjoyable that manipulation is  \\nbut there must be something other than the casting and manipulation that makes the movie work as well as it does  because i absolutely hated the previous ryanhanks teaming  sleepless in seattle  \\nit couldnt have been the directing  because both films were helmed by the same woman  \\ni havent quite yet figured out what i liked so much about youve got mail  but then again  is that really important  \\nif you like something so much  why even question it  \\nagain  the storyline is as cliched as they come  \\ntom hanks plays joe fox  the insanely likeable owner of a discount book chain and meg ryan plays kathleen kelley  the even more insanely likeable proprietor of a familyrun childrens book shop called  in a nice homage  the shop around the corner  \\nfox and kelley soon become bitter rivals because the new fox books store is opening up right across the block from the small business  \\nlittle do they know  they are already in love with each other over the internet  only neither party knows the other persons true identity  \\nthe rest of the story isnt important because all it does is serve as a mere backdrop for the two stars to share the screen  \\nsure  there are some mildly interesting subplots  but they all fail in comparison to the utter cuteness of the main relationship  \\nall of this  of course  leads up to the predictable climax  \\nbut as foreseeable as the ending is  its so damn cute and welldone that i doubt any movie in the entire year contains a scene the evokes as much pure joy as this part does  \\nwhen ryan discovers the true identity of her online love  i was filled with such  for lack of a better word  happiness that for the first time all year  i actually left the theater smiling  \\n'"
            ]
          },
          "execution_count": 40,
          "metadata": {},
          "output_type": "execute_result"
        }
      ],
      "source": [
        "data['review'][2]"
      ]
    },
    {
      "cell_type": "markdown",
      "metadata": {
        "id": "YduDia9StPHO"
      },
      "source": [
        "### Converting numbers to words"
      ]
    },
    {
      "cell_type": "code",
      "execution_count": null,
      "metadata": {
        "id": "JYdlw7T9tPHO",
        "outputId": "8f75921a-8586-4f55-877b-d4d987b870f4"
      },
      "outputs": [
        {
          "name": "stdout",
          "output_type": "stream",
          "text": [
            "Collecting num2words\n",
            "  Downloading num2words-0.5.10-py3-none-any.whl (101 kB)\n",
            "Collecting docopt>=0.6.2\n",
            "  Downloading docopt-0.6.2.tar.gz (25 kB)\n",
            "Building wheels for collected packages: docopt\n",
            "  Building wheel for docopt (setup.py): started\n",
            "  Building wheel for docopt (setup.py): finished with status 'done'\n",
            "  Created wheel for docopt: filename=docopt-0.6.2-py2.py3-none-any.whl size=13724 sha256=ae73f3d19a2438fe690dd5471c813e7c246ede5c06ab2cd11ba9aab7546b0753\n",
            "  Stored in directory: c:\\users\\hinnovis\\appdata\\local\\pip\\cache\\wheels\\70\\4a\\46\\1309fc853b8d395e60bafaf1b6df7845bdd82c95fd59dd8d2b\n",
            "Successfully built docopt\n",
            "Installing collected packages: docopt, num2words\n",
            "Successfully installed docopt-0.6.2 num2words-0.5.10\n",
            "Note: you may need to restart the kernel to use updated packages.\n"
          ]
        }
      ],
      "source": [
        "pip install num2words"
      ]
    },
    {
      "cell_type": "code",
      "execution_count": null,
      "metadata": {
        "id": "JOF-cYvTtPHO"
      },
      "outputs": [],
      "source": [
        "from num2words import num2words\n",
        "def num_to_words(text):\n",
        "    after_spliting = text.split()\n",
        "    for index in range(len(after_spliting)):\n",
        "        if after_spliting[index].isdigit():\n",
        "            after_spliting[index] = num2words(after_spliting[index])\n",
        "    numbers_to_words = ' '.join(after_spliting)\n",
        "    return numbers_to_words"
      ]
    },
    {
      "cell_type": "code",
      "execution_count": null,
      "metadata": {
        "id": "XD1mBYkvtPHP"
      },
      "outputs": [],
      "source": [
        "data['review'] = data['review'].apply(lambda x: num_to_words(x))"
      ]
    },
    {
      "cell_type": "code",
      "execution_count": null,
      "metadata": {
        "id": "hvYUt6I0tPHP",
        "outputId": "183db5ca-32fc-4f6a-f15a-9f28c3022f99"
      },
      "outputs": [
        {
          "data": {
            "text/plain": [
              "'jaws is a rare film that grabs your attention before it shows you a single image on screen the movie opens with blackness and only distant alienlike underwater sounds then it comes the first ominous bars of composer john williams now infamous score dahdum from there director steven spielberg wastes no time taking us into the water on a midnight swim with a beautiful girl that turns deadly right away he lets us know how vulnerable we all are floating in the ocean and once jaws has attacked it never relinquishes its grip perhaps what is most outstanding about jaws is how spielberg builds the movie he works it like a theatrical production with a first act and a second act unlike so many modern filmmakers he has a great deal of restraint and refuses to show us the shark until the middle of the second act until then he merely suggests its presence with creepy subjective underwater shots and williams music hes building the tension bit by bit so when it comes time for the climax the sharks arrival is truly terrifying he doesnt let us get bored with the imagery the first act opens with police chief martin brody roy scheider a new york cop who has taken an easy peaceful job running the police station on amity island a fictitious new england resort town where there hasnt been a murder or a gun fired in twenty-five years the island is shaken up by several vicious great white shark attacks right before the fourth of july and the mayor larry vaughn murray hamilton doesnt want to shut down the beaches because the island is reliant on summer tourist money brody is joined by matt hooper richard dreyfuss a young ambitious shark expert from the marine institute hooper is as fascinated by the shark as he is determined to help brody stop it his knowledge about the exact workings of the shark its a perfect engine an eating machine make it that much more terrifying when vaughn finally relents hooper and brody join a crusty old shark killer named quint robert shaw on his decrepit boat the orca to search for the shark the entire second act takes place on the orca as the three men hunt the shark and inevitably are hunted by it jaws is a thriller with a keen sense of humor and an incredible sense of pacing tension and horror it is like ten movies all rolled into one and its no wonder it took america by storm in the summer of one thousand, nine hundred and seventy-five taking in enough money to crown it the box office champ of all time until it was unceremoniously dethroned in one thousand, nine hundred and seventy-seven by star wars even today fascination with this film is on par with hitchcocks psycho and it never seems to age although grand new technology exists that makes the technical sequences including several mechanical sharks obsolete none of it could improve the film because it only would lead to overkill the technical limitations faced by spielberg in one thousand, nine hundred and seventy-five may have actually produced a better film because it forced him to rely on traditional cinematic elements like pacing characterization sharp editing and creative photography instead of simply dousing the audience with digital shark effects scheider dreyfuss and shaw were known actors at the time jaws was made but none of them had the draw of a robert redford or paul newman nevertheless this film guaranteed them all successful careers because each gave an outstanding performance and refused to be overshadowed by the shark scheider hits just the right notes as a sympathetic husband and father caught in the political quagmire of doing whats right and going against the entire town its your first summer here you know mayor vaughn warns him dreyfuss who had previously been seen in american graffiti one thousand, nine hundred and seventy-three and the apprenticeship of duddy kravitz one thousand, nine hundred and seventy-four gives a surprisingly mature complex performance for someone who had literally only played kids and teenagers however most outstanding is the gnarled performance by robert shaw as the movies captain ahab a performance sorely overlooked by the academy awards bordering of parody shaw plays quint as a grizzled old loner whose machismo borders on masochism hes slightly deranged and shaws performance is almost a caricature however there is one scene late in the film when he and brody and hooper are below deck on the orca comparing scars quint is drawn into telling the story of his experiences aboard the u s s indianapolis a navy ship in world war ii that was sunk by the japanese his tale of floating in the water for more than a week with over one zero other men while swarms of sharks slowly devoured them them is actually more hairraising than anything spielberg put on screen shaw delivers the story in one long take and it is the best acting in the film of course we cant leave out the shark itself with its black eyes endless rows of teeth and insatiable urge to eat it is basically the epitome of all mankinds fears about what is unknown and threatening in nature a shark is such a perfect nemesis it is real having survived sinch the dinosaurs great whites do exist they can be as large as the shark in jaws and they are a threat every one of spielbergs subjective underwater shots makes us feel queasy because lets us see how we look to the shark a bunch of writihing dangling completely unprotected legs just ready to be chomped into the shark in jaws was actually a combination of actual footage and five different mechanical sharks all nicknamed bruce by the crew built to be shot from different angles many have forgotten but jaws was a sort of precursor to waterworld one thousand, nine hundred and ninety-five a movies who soggy production and cost overruns had universal studios worried about a bomb but as we can see now spielberg overcame all the obstacles and delivered one of the finest primal scarethrillers ever to come out of hollywood'"
            ]
          },
          "execution_count": 51,
          "metadata": {},
          "output_type": "execute_result"
        }
      ],
      "source": [
        "data['review'][3]"
      ]
    },
    {
      "cell_type": "markdown",
      "metadata": {
        "id": "QenhOK6EtPHP"
      },
      "source": [
        "### Spelling Corrrection"
      ]
    },
    {
      "cell_type": "code",
      "execution_count": null,
      "metadata": {
        "id": "s2hi6kvVtPHP",
        "outputId": "2c0d979c-9d23-4563-db0c-66979861ddb7"
      },
      "outputs": [
        {
          "name": "stdout",
          "output_type": "stream",
          "text": [
            "Collecting pyspellchecker\n",
            "  Downloading pyspellchecker-0.6.3-py3-none-any.whl (2.7 MB)\n",
            "Installing collected packages: pyspellchecker\n",
            "Successfully installed pyspellchecker-0.6.3\n",
            "Note: you may need to restart the kernel to use updated packages.\n"
          ]
        }
      ],
      "source": [
        "pip install pyspellchecker"
      ]
    },
    {
      "cell_type": "code",
      "execution_count": null,
      "metadata": {
        "id": "FP5d0cJxtPHQ"
      },
      "outputs": [],
      "source": [
        "from spellchecker import SpellChecker\n",
        "spell_corrector = SpellChecker()\n",
        "# spelling correction using spellchecker\n",
        "\n",
        "def spell_correction(text):\n",
        "    # initialize empty list to save correct spell words\n",
        "    correct_words = []\n",
        "    # extract spelling incorrect words by using unknown function of spellchecker \n",
        "    misSpelled_words = spell_corrector.unknown(text.split())\n",
        "    for each_word in text.split():\n",
        "        if each_word in misSpelled_words:\n",
        "            right_word = spell_corrector.correction(each_word)\n",
        "            correct_words.append(right_word)\n",
        "        else:\n",
        "            correct_words.append(each_word)\n",
        "     # joining correct_words list into single string\n",
        "    correct_spelling = ' '.join(correct_words)\n",
        "    return correct_spelling\n"
      ]
    },
    {
      "cell_type": "code",
      "execution_count": null,
      "metadata": {
        "id": "ynLpoEXatPHQ"
      },
      "outputs": [],
      "source": [
        "data['review'] = data['review'].apply(lambda x: spell_correction(x))"
      ]
    },
    {
      "cell_type": "markdown",
      "metadata": {
        "id": "iTB93lmqtPHQ"
      },
      "source": [
        "### Convert accented characters to ascii characters"
      ]
    },
    {
      "cell_type": "code",
      "execution_count": null,
      "metadata": {
        "id": "eqOWr9nptPHQ"
      },
      "outputs": [],
      "source": [
        "import unidecode\n",
        "\n",
        "def accented_to_ascii(text):\n",
        "    text = unidecode.unidecode(text)\n",
        "    return text\n"
      ]
    },
    {
      "cell_type": "code",
      "execution_count": null,
      "metadata": {
        "id": "8YV2dGA1tPHR"
      },
      "outputs": [],
      "source": [
        "data['review'] = data['review'].apply(lambda x: accented_to_ascii(x))"
      ]
    },
    {
      "cell_type": "code",
      "execution_count": null,
      "metadata": {
        "id": "xhDq28r9tPHR",
        "outputId": "264bc258-aa47-456d-d824-b84f16d57ea3"
      },
      "outputs": [
        {
          "data": {
            "text/plain": [
              "'every now and then a movie comes along from a suspect studio with every indication that it will be a stinker and to everybodys surprise perhaps even the studio the film becomes a critical darling mav films election a high school comedy starring matthew broderick and reese witherspoon is a current example did anybody know this film existed a week before it opened the plot is deceptively simple george washington carver high school is having student elections tracy flick reese witherspoon is an overachiever with her hand raised at nearly every question way way high my i matthew broderick sick of the megalomaniac student encourages paul a popularbutslow jock to run and pals nihilistic sister jumps in the race as well for personal reasons the dark side of such sleeper success is that because expectations were so low going in the fact that this was quality stuff made the reviews even more enthusiastic than they have any right to be you cant help going in with the baggage of glowing reviews which is in contrast to the negative baggage that the reviewers were likely to have election a good film does not live up to its hype what makes election so disappointing is that it contains significant plot details lifted directly from rushmore released a few months earlier the similarities are staggering tracy flick election is the president of an extraordinary number of clubs and is involved with the school play max fischer rushmore is the president of an extraordinary number of clubs and is involved with the school play the most significant tension of election is the potential relationship between a teacher and his student the most significant tension of rushmore is the potential relationship between a teacher and his student tracy flick is from a single parent home which has contributed to her drive max fischer is from a single parent home which has contributed to his drive the male bumbling adult in election matthew broderick pursues an extramarital affair gets caught and his whole life is ruined he even gets a bee sting the male bumbling adult in rushmore bill murray pursues an extramarital affair gets caught and his whole life is ruined he gets several bee stings and so on what happened how is it that an individual screenplay rushmore and a novel election contain so many significant plot points and yet both films were probably not even aware of each other made from two different studios from a genre the high school geeks revenge movie that hadnt been fully formed yet even so the strengths of election rely upon its fantastic performances from broderick witherspoon and newcomer jessica campbell as pals antisocial sister tammy broderick here is playing the my rooney role from ferris mueller and he seems to be having the most fun hes had since then witherspoon is a revelation its early in the year its a comedy and teenagers have little clout but for my money witherspoon deserves an oscar nomination and once campbells character gets going like in her fantastic speech in the gymnasium then youre won over one thing thats been bothering me since ive seen it there is an extraordinary amount of sexuality in this film i suppose that coming from mav films i should expect no less but the film starts off light and airy like a sitcom as the screws tighten and the tensions mount alexander payne decides to add elements that frankly distract from the story it is bad enough that my i doesnt like tracks determination to win at all costs but did they have to throw in the studentteacher relationship even so theres no logical reason why my i has an affair when he does theres a lot to like in election but the plot similarities to rushmore and the tonal nosedive it takes as it gets explicitly sexdriven mark this as a disappointment'"
            ]
          },
          "execution_count": 61,
          "metadata": {},
          "output_type": "execute_result"
        }
      ],
      "source": [
        "data['review'][1]"
      ]
    },
    {
      "cell_type": "markdown",
      "metadata": {
        "id": "KpZNUwHEtPHR"
      },
      "source": [
        "### Converting chat conversion words to normal words"
      ]
    },
    {
      "cell_type": "code",
      "execution_count": null,
      "metadata": {
        "id": "tLQ1_p2HtPHR",
        "outputId": "8e0f03a6-b28b-45e5-bea0-47233c9aad00"
      },
      "outputs": [
        {
          "name": "stdout",
          "output_type": "stream",
          "text": [
            "Perfecto !! \n",
            "{'AFAIK': 'As Far As I Know', 'AFK': 'Away From Keyboard', 'ASAP': 'As Soon As Possible', 'ATK': 'At The Keyboard', 'ATM': 'At The Moment', 'A3': 'Anytime, Anywhere, Anyplace', 'BAK': 'Back At Keyboard', 'BBL': 'Be Back Later', 'BBS': 'Be Back Soon', 'BFN': 'Bye For Now', 'B4N': 'Bye For Now', 'BRB': 'Be Right Back', 'BRT': 'Be Right There', 'BTW': 'By The Way', 'B4': 'Before', 'CU': 'See You', 'CUL8R': 'See You Later', 'CYA': 'See You', 'FAQ': 'Frequently Asked Questions', 'FC': 'Fingers Crossed', 'FWIW': \"For What It's Worth\", 'FYI': 'For Your Information', 'GAL': 'Get A Life', 'GG': 'Good Game', 'GN': 'Good Night', 'GMTA': 'Great Minds Think Alike', 'GR8': 'Great!', 'G9': 'Genius', 'IC': 'I See', 'ICQ': 'I Seek you (also a chat program)', 'ILU': 'ILU: I Love You', 'IMHO': 'In My Honest/Humble Opinion', 'IMO': 'In My Opinion', 'IOW': 'In Other Words', 'IRL': 'In Real Life', 'KISS': 'Keep It Simple, Stupid', 'LDR': 'Long Distance Relationship', 'LMAO': 'Laugh My A.. Off', 'LOL': 'Laughing Out Loud', 'LTNS': 'Long Time No See', 'L8R': 'Later', 'MTE': 'My Thoughts Exactly', 'M8': 'Mate', 'NRN': 'No Reply Necessary', 'OIC': 'Oh I See', 'PITA': 'Pain In The A..', 'PRT': 'Party', 'PRW': 'Parents Are Watching', 'ROFL': 'Rolling On The Floor Laughing', 'ROFLOL': 'Rolling On The Floor Laughing Out Loud', 'ROTFLMAO': 'Rolling On The Floor Laughing My A.. Off', 'SK8': 'Skate', 'STATS': 'Your sex and age', 'ASL': 'Age, Sex, Location', 'THX': 'Thank You', 'TTFN': 'Ta-Ta For Now!', 'TTYL': 'Talk To You Later', 'U': 'You', 'U2': 'You Too', 'U4E': 'Yours For Ever', 'WB': 'Welcome Back', 'WTF': 'What The F...', 'WTG': 'Way To Go!', 'WUF': 'Where Are You From?', 'W8': 'Wait...'}\n"
          ]
        }
      ],
      "source": [
        "short_form_list = open(r'C:\\Users\\Hinnovis\\Desktop\\translating_words.txt.txt','r')\n",
        "chat_words_str = short_form_list.read()\n",
        "chat_words_map_dict = {}\n",
        "chat_words_list = []\n",
        "for line in chat_words_str.split(\"\\n\"):\n",
        "     if line != \"\":\n",
        "        try:\n",
        "            cw = line.split(\"=\")[0]\n",
        "            cw_expanded = line.split(\"=\")[1]\n",
        "            chat_words_list.append(cw)\n",
        "            chat_words_map_dict[cw] = cw_expanded\n",
        "        except:\n",
        "            print(\"Perfecto !! \")\n",
        "chat_words_list = set(chat_words_list)\n",
        "print(chat_words_map_dict)\n",
        "def short_to_original(text):\n",
        "    new_text = []\n",
        "    for w in text.split():\n",
        "        if w.upper() in chat_words_list:\n",
        "            new_text.append(chat_words_map_dict[w.upper()])\n",
        "        else:\n",
        "            new_text.append(w)\n",
        "    return \" \".join(new_text)\n"
      ]
    },
    {
      "cell_type": "code",
      "execution_count": null,
      "metadata": {
        "id": "zmIlPRPntPHS"
      },
      "outputs": [],
      "source": [
        "data['review'] = data['review'].apply(lambda x: short_to_original(x))"
      ]
    },
    {
      "cell_type": "code",
      "execution_count": null,
      "metadata": {
        "id": "D9bWyLnFtPHS",
        "outputId": "9102264a-3bbe-4ba6-cb47-2c576e994b46"
      },
      "outputs": [
        {
          "data": {
            "text/plain": [
              "'every now and then a movie comes along from a suspect studio with every indication that it will be a stinker and to everybodys surprise perhaps even the studio the film becomes a critical darling mav films election a high school comedy starring matthew broderick and reese witherspoon is a current example did anybody know this film existed a week before it opened the plot is deceptively simple george washington carver high school is having student elections tracy flick reese witherspoon is an overachiever with her hand raised at nearly every question way way high my i matthew broderick sick of the megalomaniac student encourages paul a popularbutslow jock to run and pals nihilistic sister jumps in the race as well for personal reasons the dark side of such sleeper success is that because expectations were so low going in the fact that this was quality stuff made the reviews even more enthusiastic than they have any right to be you cant help going in with the baggage of glowing reviews which is in contrast to the negative baggage that the reviewers were likely to have election a good film does not live up to its hype what makes election so disappointing is that it contains significant plot details lifted directly from rushmore released a few months earlier the similarities are staggering tracy flick election is the president of an extraordinary number of clubs and is involved with the school play max fischer rushmore is the president of an extraordinary number of clubs and is involved with the school play the most significant tension of election is the potential relationship between a teacher and his student the most significant tension of rushmore is the potential relationship between a teacher and his student tracy flick is from a single parent home which has contributed to her drive max fischer is from a single parent home which has contributed to his drive the male bumbling adult in election matthew broderick pursues an extramarital affair gets caught and his whole life is ruined he even gets a bee sting the male bumbling adult in rushmore bill murray pursues an extramarital affair gets caught and his whole life is ruined he gets several bee stings and so on what happened how is it that an individual screenplay rushmore and a novel election contain so many significant plot points and yet both films were probably not even aware of each other made from two different studios from a genre the high school geeks revenge movie that hadnt been fully formed yet even so the strengths of election rely upon its fantastic performances from broderick witherspoon and newcomer jessica campbell as pals antisocial sister tammy broderick here is playing the my rooney role from ferris mueller and he seems to be having the most fun hes had since then witherspoon is a revelation its early in the year its a comedy and teenagers have little clout but for my money witherspoon deserves an oscar nomination and once campbells character gets going like in her fantastic speech in the gymnasium then youre won over one thing thats been bothering me since ive seen it there is an extraordinary amount of sexuality in this film i suppose that coming from mav films i should expect no less but the film starts off light and airy like a sitcom as the screws tighten and the tensions mount alexander payne decides to add elements that frankly distract from the story it is bad enough that my i doesnt like tracks determination to win at all costs but did they have to throw in the studentteacher relationship even so theres no logical reason why my i has an affair when he does theres a lot to like in election but the plot similarities to rushmore and the tonal nosedive it takes as it gets explicitly sexdriven mark this as a disappointment'"
            ]
          },
          "execution_count": 101,
          "metadata": {},
          "output_type": "execute_result"
        }
      ],
      "source": [
        "data['review'][1]"
      ]
    },
    {
      "cell_type": "markdown",
      "metadata": {
        "id": "YxNFPEAftPHS"
      },
      "source": [
        "### Emoticons words"
      ]
    },
    {
      "cell_type": "code",
      "execution_count": null,
      "metadata": {
        "id": "Yo6RyfBQtPHS"
      },
      "outputs": [],
      "source": [
        "EMOTICONS= {\n",
        "    u\":‑)\":\"Happy face or smiley\",\n",
        "    u\":-))\":\"Very Happy face or smiley\",\n",
        "    u\":-)))\":\"Very very Happy face or smiley\",\n",
        "    u\":)\":\"Happy face or smiley\",\n",
        "    u\":))\":\"Very Happy face or smiley\",\n",
        "    u\":)))\":\"Very very Happy face or smiley\",\n",
        "    u\":-]\":\"Happy face or smiley\",\n",
        "    u\":]\":\"Happy face or smiley\",\n",
        "    u\":-3\":\"Happy face smiley\",\n",
        "    u\":3\":\"Happy face smiley\",\n",
        "    u\":->\":\"Happy face smiley\",\n",
        "    u\":>\":\"Happy face smiley\",\n",
        "    u\"8-)\":\"Happy face smiley\",\n",
        "    u\":o)\":\"Happy face smiley\",\n",
        "    u\":-}\":\"Happy face smiley\",\n",
        "    u\":}\":\"Happy face smiley\",\n",
        "    u\":-)\":\"Happy face smiley\",\n",
        "    u\":c)\":\"Happy face smiley\",\n",
        "    u\":^)\":\"Happy face smiley\",\n",
        "    u\"=]\":\"Happy face smiley\",\n",
        "    u\"=)\":\"Happy face smiley\",\n",
        "    u\":‑D\":\"Laughing, big grin or laugh with glasses\",\n",
        "    u\":D\":\"Laughing, big grin or laugh with glasses\",\n",
        "    u\"8‑D\":\"Laughing, big grin or laugh with glasses\",\n",
        "    u\"8D\":\"Laughing, big grin or laugh with glasses\",\n",
        "    u\"X‑D\":\"Laughing, big grin or laugh with glasses\",\n",
        "    u\"XD\":\"Laughing, big grin or laugh with glasses\",\n",
        "    u\"=D\":\"Laughing, big grin or laugh with glasses\",\n",
        "    u\"=3\":\"Laughing, big grin or laugh with glasses\",\n",
        "    u\"B^D\":\"Laughing, big grin or laugh with glasses\",\n",
        "    u\":-))\":\"Very happy\",\n",
        "    u\":-(\":\"Frown, sad, angry or pouting\",\n",
        "    u\":‑(\":\"Frown, sad, angry or pouting\",\n",
        "    u\":(\":\"Frown, sad, angry or pouting\",\n",
        "    u\":‑c\":\"Frown, sad, angry or pouting\",\n",
        "    u\":c\":\"Frown, sad, angry or pouting\",\n",
        "    u\":‑<\":\"Frown, sad, angry or pouting\",\n",
        "    u\":<\":\"Frown, sad, angry or pouting\",\n",
        "    u\":‑[\":\"Frown, sad, angry or pouting\",\n",
        "    u\":[\":\"Frown, sad, angry or pouting\",\n",
        "    u\":-||\":\"Frown, sad, angry or pouting\",\n",
        "    u\">:[\":\"Frown, sad, angry or pouting\",\n",
        "    u\":{\":\"Frown, sad, angry or pouting\",\n",
        "    u\":@\":\"Frown, sad, angry or pouting\",\n",
        "    u\">:(\":\"Frown, sad, angry or pouting\",\n",
        "    u\":'‑(\":\"Crying\",\n",
        "    u\":'(\":\"Crying\",\n",
        "    u\":'‑)\":\"Tears of happiness\",\n",
        "    u\":')\":\"Tears of happiness\",\n",
        "    u\"D‑':\":\"Horror\",\n",
        "    u\"D:<\":\"Disgust\",\n",
        "    u\"D:\":\"Sadness\",\n",
        "    u\"D8\":\"Great dismay\",\n",
        "    u\"D;\":\"Great dismay\",\n",
        "    u\"D=\":\"Great dismay\",\n",
        "    u\"DX\":\"Great dismay\",\n",
        "    u\":‑O\":\"Surprise\",\n",
        "    u\":O\":\"Surprise\",\n",
        "    u\":‑o\":\"Surprise\",\n",
        "    u\":o\":\"Surprise\",\n",
        "    u\":-0\":\"Shock\",\n",
        "    u\"8‑0\":\"Yawn\",\n",
        "    u\">:O\":\"Yawn\",\n",
        "    u\":-*\":\"Kiss\",\n",
        "    u\":*\":\"Kiss\",\n",
        "    u\":X\":\"Kiss\",\n",
        "    u\";‑)\":\"Wink or smirk\",\n",
        "    u\";)\":\"Wink or smirk\",\n",
        "    u\"*-)\":\"Wink or smirk\",\n",
        "    u\"*)\":\"Wink or smirk\",\n",
        "    u\";‑]\":\"Wink or smirk\",\n",
        "    u\";]\":\"Wink or smirk\",\n",
        "    u\";^)\":\"Wink or smirk\",\n",
        "    u\":‑,\":\"Wink or smirk\",\n",
        "    u\";D\":\"Wink or smirk\",\n",
        "    u\":‑P\":\"Tongue sticking out, cheeky, playful or blowing a raspberry\",\n",
        "    u\":P\":\"Tongue sticking out, cheeky, playful or blowing a raspberry\",\n",
        "    u\"X‑P\":\"Tongue sticking out, cheeky, playful or blowing a raspberry\",\n",
        "    u\"XP\":\"Tongue sticking out, cheeky, playful or blowing a raspberry\",\n",
        "    u\":‑Þ\":\"Tongue sticking out, cheeky, playful or blowing a raspberry\",\n",
        "    u\":Þ\":\"Tongue sticking out, cheeky, playful or blowing a raspberry\",\n",
        "    u\":b\":\"Tongue sticking out, cheeky, playful or blowing a raspberry\",\n",
        "    u\"d:\":\"Tongue sticking out, cheeky, playful or blowing a raspberry\",\n",
        "    u\"=p\":\"Tongue sticking out, cheeky, playful or blowing a raspberry\",\n",
        "    u\">:P\":\"Tongue sticking out, cheeky, playful or blowing a raspberry\",\n",
        "    u\":‑/\":\"Skeptical, annoyed, undecided, uneasy or hesitant\",\n",
        "    u\":/\":\"Skeptical, annoyed, undecided, uneasy or hesitant\",\n",
        "    u\":-[.]\":\"Skeptical, annoyed, undecided, uneasy or hesitant\",\n",
        "    u\">:[(\\)]\":\"Skeptical, annoyed, undecided, uneasy or hesitant\",\n",
        "    u\">:/\":\"Skeptical, annoyed, undecided, uneasy or hesitant\",\n",
        "    u\":[(\\)]\":\"Skeptical, annoyed, undecided, uneasy or hesitant\",\n",
        "    u\"=/\":\"Skeptical, annoyed, undecided, uneasy or hesitant\",\n",
        "    u\"=[(\\)]\":\"Skeptical, annoyed, undecided, uneasy or hesitant\",\n",
        "    u\":L\":\"Skeptical, annoyed, undecided, uneasy or hesitant\",\n",
        "    u\"=L\":\"Skeptical, annoyed, undecided, uneasy or hesitant\",\n",
        "    u\":S\":\"Skeptical, annoyed, undecided, uneasy or hesitant\",\n",
        "    u\":‑|\":\"Straight face\",\n",
        "    u\":|\":\"Straight face\",\n",
        "    u\":$\":\"Embarrassed or blushing\",\n",
        "    u\":‑x\":\"Sealed lips or wearing braces or tongue-tied\",\n",
        "    u\":x\":\"Sealed lips or wearing braces or tongue-tied\",\n",
        "    u\":‑#\":\"Sealed lips or wearing braces or tongue-tied\",\n",
        "    u\":#\":\"Sealed lips or wearing braces or tongue-tied\",\n",
        "    u\":‑&\":\"Sealed lips or wearing braces or tongue-tied\",\n",
        "    u\":&\":\"Sealed lips or wearing braces or tongue-tied\",\n",
        "    u\"O:‑)\":\"Angel, saint or innocent\",\n",
        "    u\"O:)\":\"Angel, saint or innocent\",\n",
        "    u\"0:‑3\":\"Angel, saint or innocent\",\n",
        "    u\"0:3\":\"Angel, saint or innocent\",\n",
        "    u\"0:‑)\":\"Angel, saint or innocent\",\n",
        "    u\"0:)\":\"Angel, saint or innocent\",\n",
        "    u\":‑b\":\"Tongue sticking out, cheeky, playful or blowing a raspberry\",\n",
        "    u\"0;^)\":\"Angel, saint or innocent\",\n",
        "    u\">:‑)\":\"Evil or devilish\",\n",
        "    u\">:)\":\"Evil or devilish\",\n",
        "    u\"}:‑)\":\"Evil or devilish\",\n",
        "    u\"}:)\":\"Evil or devilish\",\n",
        "    u\"3:‑)\":\"Evil or devilish\",\n",
        "    u\"3:)\":\"Evil or devilish\",\n",
        "    u\">;)\":\"Evil or devilish\",\n",
        "    u\"|;‑)\":\"Cool\",\n",
        "    u\"|‑O\":\"Bored\",\n",
        "    u\":‑J\":\"Tongue-in-cheek\",\n",
        "    u\"#‑)\":\"Party all night\",\n",
        "    u\"%‑)\":\"Drunk or confused\",\n",
        "    u\"%)\":\"Drunk or confused\",\n",
        "    u\":-###..\":\"Being sick\",\n",
        "    u\":###..\":\"Being sick\",\n",
        "    u\"<:‑|\":\"Dump\",\n",
        "    u\"(>_<)\":\"Troubled\",\n",
        "    u\"(>_<)>\":\"Troubled\",\n",
        "    u\"(';')\":\"Baby\",\n",
        "    u\"(^^>``\":\"Nervous or Embarrassed or Troubled or Shy or Sweat drop\",\n",
        "    u\"(^_^;)\":\"Nervous or Embarrassed or Troubled or Shy or Sweat drop\",\n",
        "    u\"(-_-;)\":\"Nervous or Embarrassed or Troubled or Shy or Sweat drop\",\n",
        "    u\"(~_~;) (・.・;)\":\"Nervous or Embarrassed or Troubled or Shy or Sweat drop\",\n",
        "    u\"(-_-)zzz\":\"Sleeping\",\n",
        "    u\"(^_-)\":\"Wink\",\n",
        "    u\"((+_+))\":\"Confused\",\n",
        "    u\"(+o+)\":\"Confused\",\n",
        "    u\"(o|o)\":\"Ultraman\",\n",
        "    u\"^_^\":\"Joyful\",\n",
        "    u\"(^_^)/\":\"Joyful\",\n",
        "    u\"(^O^)／\":\"Joyful\",\n",
        "    u\"(^o^)／\":\"Joyful\",\n",
        "    u\"(__)\":\"Kowtow as a sign of respect, or dogeza for apology\",\n",
        "    u\"_(._.)_\":\"Kowtow as a sign of respect, or dogeza for apology\",\n",
        "    u\"<(_ _)>\":\"Kowtow as a sign of respect, or dogeza for apology\",\n",
        "    u\"<m(__)m>\":\"Kowtow as a sign of respect, or dogeza for apology\",\n",
        "    u\"m(__)m\":\"Kowtow as a sign of respect, or dogeza for apology\",\n",
        "    u\"m(_ _)m\":\"Kowtow as a sign of respect, or dogeza for apology\",\n",
        "    u\"('_')\":\"Sad or Crying\",\n",
        "    u\"(/_;)\":\"Sad or Crying\",\n",
        "    u\"(T_T) (;_;)\":\"Sad or Crying\",\n",
        "    u\"(;_;\":\"Sad of Crying\",\n",
        "    u\"(;_:)\":\"Sad or Crying\",\n",
        "    u\"(;O;)\":\"Sad or Crying\",\n",
        "    u\"(:_;)\":\"Sad or Crying\",\n",
        "    u\"(ToT)\":\"Sad or Crying\",\n",
        "    u\";_;\":\"Sad or Crying\",\n",
        "    u\";-;\":\"Sad or Crying\",\n",
        "    u\";n;\":\"Sad or Crying\",\n",
        "    u\";;\":\"Sad or Crying\",\n",
        "    u\"Q.Q\":\"Sad or Crying\",\n",
        "    u\"T.T\":\"Sad or Crying\",\n",
        "    u\"QQ\":\"Sad or Crying\",\n",
        "    u\"Q_Q\":\"Sad or Crying\",\n",
        "    u\"(-.-)\":\"Shame\",\n",
        "    u\"(-_-)\":\"Shame\",\n",
        "    u\"(一一)\":\"Shame\",\n",
        "    u\"(；一_一)\":\"Shame\",\n",
        "    u\"(=_=)\":\"Tired\",\n",
        "    u\"(=^·^=)\":\"cat\",\n",
        "    u\"(=^··^=)\":\"cat\",\n",
        "    u\"=_^= \":\"cat\",\n",
        "    u\"(..)\":\"Looking down\",\n",
        "    u\"(._.)\":\"Looking down\",\n",
        "    u\"^m^\":\"Giggling with hand covering mouth\",\n",
        "    u\"(・・?\":\"Confusion\",\n",
        "    u\"(?_?)\":\"Confusion\",\n",
        "    u\">^_^<\":\"Normal Laugh\",\n",
        "    u\"<^!^>\":\"Normal Laugh\",\n",
        "    u\"^/^\":\"Normal Laugh\",\n",
        "    u\"（*^_^*）\" :\"Normal Laugh\",\n",
        "    u\"(^<^) (^.^)\":\"Normal Laugh\",\n",
        "    u\"(^^)\":\"Normal Laugh\",\n",
        "    u\"(^.^)\":\"Normal Laugh\",\n",
        "    u\"(^_^.)\":\"Normal Laugh\",\n",
        "    u\"(^_^)\":\"Normal Laugh\",\n",
        "    u\"(^^)\":\"Normal Laugh\",\n",
        "    u\"(^J^)\":\"Normal Laugh\",\n",
        "    u\"(*^.^*)\":\"Normal Laugh\",\n",
        "    u\"(^—^）\":\"Normal Laugh\",\n",
        "    u\"(#^.^#)\":\"Normal Laugh\",\n",
        "    u\"（^—^）\":\"Waving\",\n",
        "    u\"(;_;)/~~~\":\"Waving\",\n",
        "    u\"(^.^)/~~~\":\"Waving\",\n",
        "    u\"(-_-)/~~~ ($··)/~~~\":\"Waving\",\n",
        "    u\"(T_T)/~~~\":\"Waving\",\n",
        "    u\"(ToT)/~~~\":\"Waving\",\n",
        "    u\"(*^0^*)\":\"Excited\",\n",
        "    u\"(*_*)\":\"Amazed\",\n",
        "    u\"(*_*;\":\"Amazed\",\n",
        "    u\"(+_+) (@_@)\":\"Amazed\",\n",
        "    u\"(*^^)v\":\"Laughing,Cheerful\",\n",
        "    u\"(^_^)v\":\"Laughing,Cheerful\",\n",
        "    u\"((d[-_-]b))\":\"Headphones,Listening to music\",\n",
        "    u'(-\"-)':\"Worried\",\n",
        "    u\"(ーー;)\":\"Worried\",\n",
        "    u\"(^0_0^)\":\"Eyeglasses\",\n",
        "    u\"(＾ｖ＾)\":\"Happy\",\n",
        "    u\"(＾ｕ＾)\":\"Happy\",\n",
        "    u\"(^)o(^)\":\"Happy\",\n",
        "    u\"(^O^)\":\"Happy\",\n",
        "    u\"(^o^)\":\"Happy\",\n",
        "    u\")^o^(\":\"Happy\",\n",
        "    u\":O o_O\":\"Surprised\",\n",
        "    u\"o_0\":\"Surprised\",\n",
        "    u\"o.O\":\"Surpised\",\n",
        "    u\"(o.o)\":\"Surprised\",\n",
        "    u\"oO\":\"Surprised\",\n",
        "    u\"(*￣m￣)\":\"Dissatisfied\",\n",
        "    u\"(‘A`)\":\"Snubbed or Deflated\"\n",
        "\n",
        "}\n"
      ]
    },
    {
      "cell_type": "code",
      "execution_count": null,
      "metadata": {
        "id": "8pXciSgrtPHT"
      },
      "outputs": [],
      "source": [
        "def emoticons_words(text):\n",
        "    for emot in EMOTICONS:\n",
        "        emoticon_pattern=r'('+emot+r')'\n",
        "        emoticon_words = EMOTICONS[emot]\n",
        "        replace_text = emoticon_words.replace(\",\",\"\")\n",
        "        replace_text = replace_text.replace(\":\",\"\")\n",
        "        replace_text_list = replace_text.split()\n",
        "        emoticon_name = '_'.join(replace_text_list)\n",
        "        text = re.sub(emoticon_pattern, emoticon_name, text)\n",
        "    return text"
      ]
    },
    {
      "cell_type": "markdown",
      "metadata": {
        "id": "LJwu0O42tPHU"
      },
      "source": [
        "### Remove frequent words"
      ]
    },
    {
      "cell_type": "code",
      "execution_count": null,
      "metadata": {
        "id": "49PSfPnGtPHU"
      },
      "outputs": [],
      "source": [
        "from collections import Counter\n",
        "def freq_words(text):\n",
        "    FrequentWords = []\n",
        "    tokens = word_tokenize(text)\n",
        "    for word in tokens:\n",
        "        counter[word]+=1\n",
        "# take top 10 frequent words\n",
        "    for (word, word_count) in counter.most_common(10):\n",
        "        FrequentWords.append(word)\n",
        "    return FrequentWords"
      ]
    },
    {
      "cell_type": "code",
      "execution_count": null,
      "metadata": {
        "id": "R4YaB_BJtPHU"
      },
      "outputs": [],
      "source": [
        "def remove_fw(text,FrequentWords):\n",
        "    tokens = word_tokenize(text)\n",
        "    without_fw = []\n",
        "    for word in tokens:\n",
        "        if word not in FrequentWords:\n",
        "            without_fw.append(word)\n",
        "\n",
        "    without_fw = ' '.join(without_fw)\n",
        "    return without_fw"
      ]
    },
    {
      "cell_type": "code",
      "execution_count": null,
      "metadata": {
        "id": "lBIcyhTztPHU",
        "outputId": "f62523f2-69b8-4989-98d7-43447bc72cc1"
      },
      "outputs": [
        {
          "name": "stdout",
          "output_type": "stream",
          "text": [
            "[('plot', 1432), ('could', 1392), ('bad', 1371), ('scene', 1370), ('movies', 1338), ('thousand', 1300), ('doesnt', 1255), ('scenes', 1241), ('dont', 1201), ('know', 1200)]\n"
          ]
        }
      ],
      "source": [
        "counter = Counter()\n",
        "data['review'] = data['review'].apply(lambda x: remove_fw(x,freq_words(x)))\n",
        "print(counter.most_common(10))"
      ]
    },
    {
      "cell_type": "markdown",
      "metadata": {
        "id": "4mIG7icLtPHV"
      },
      "source": [
        "### Remove rare words"
      ]
    },
    {
      "cell_type": "code",
      "execution_count": null,
      "metadata": {
        "id": "EnfFmebetPHV"
      },
      "outputs": [],
      "source": [
        "from collections import Counter\n",
        "def rare_words(text):\n",
        "    # tokenization\n",
        "    tokens = word_tokenize(text)\n",
        "    for word in tokens:\n",
        "        counter[word]+=1\n",
        "    RareWords = []\n",
        "    number_rare_words = 10\n",
        "    # take top 10 frequent words\n",
        "    frequentWords = counter.most_common()\n",
        "    RareWords.append(word)\n",
        "    for (word, word_count) in frequentWords[:-number_rare_words:-1]:\n",
        "        RareWords.append(word)\n",
        "    return RareWords\n",
        "\n",
        "def remove_rw(text, RareWords):\n",
        "    tokens = word_tokenize(text)\n",
        "    without_rw = []\n",
        "    for word in tokens:\n",
        "        if word not in RareWords:\n",
        "            without_rw.append(word)\n",
        "    without_rw =' '.join(without_rw)\n",
        "    return without_rw"
      ]
    },
    {
      "cell_type": "code",
      "execution_count": null,
      "metadata": {
        "id": "9xnCnDqQtPHV",
        "outputId": "8921c2ec-bd0c-4570-ad45-58c280b01092"
      },
      "outputs": [
        {
          "data": {
            "text/plain": [
              "[('howeverthese', 1),\n",
              " ('pelvic', 1),\n",
              " ('buti', 1),\n",
              " ('alreadythin', 1),\n",
              " ('lorne', 1),\n",
              " ('hideaways', 1),\n",
              " ('faring', 1),\n",
              " ('105minute', 1),\n",
              " ('1987s', 1)]"
            ]
          },
          "execution_count": 147,
          "metadata": {},
          "output_type": "execute_result"
        }
      ],
      "source": [
        "counter = Counter()\n",
        "data['review'] = data['review'].apply(lambda x: remove_rw(x,rare_words(x)))\n",
        "counter.most_common()[:-10:-1]"
      ]
    },
    {
      "cell_type": "markdown",
      "metadata": {
        "id": "mJNuVmpTtPHV"
      },
      "source": [
        "### Identifying and Remove Stop Words\n",
        "- A stop word is a commonly used word (such as “the”, “a”, “an”, “in”). \n",
        "- Removal of stopwords is necessary since they add noise without having any informational value in modeling."
      ]
    },
    {
      "cell_type": "markdown",
      "metadata": {
        "id": "iubbm-mQtPHW"
      },
      "source": [
        "__Download and check stopwords from nltk:__"
      ]
    },
    {
      "cell_type": "code",
      "execution_count": null,
      "metadata": {
        "id": "D7KyGH6htPHW",
        "outputId": "7cbd9da7-081f-475c-c0ff-e64fa604ac68"
      },
      "outputs": [
        {
          "name": "stderr",
          "output_type": "stream",
          "text": [
            "[nltk_data] Downloading package stopwords to\n",
            "[nltk_data]     C:\\Users\\Hinnovis\\AppData\\Roaming\\nltk_data...\n",
            "[nltk_data]   Package stopwords is already up-to-date!\n"
          ]
        },
        {
          "data": {
            "text/plain": [
              "True"
            ]
          },
          "execution_count": 148,
          "metadata": {},
          "output_type": "execute_result"
        }
      ],
      "source": [
        "nltk.download('stopwords')"
      ]
    },
    {
      "cell_type": "code",
      "execution_count": null,
      "metadata": {
        "id": "jkP2GcOTtPHW"
      },
      "outputs": [],
      "source": [
        "stop = stopwords.words('english')"
      ]
    },
    {
      "cell_type": "code",
      "execution_count": null,
      "metadata": {
        "id": "auvglqH_tPHW",
        "outputId": "6192bdcf-f009-4102-cbf0-a008566eddf2"
      },
      "outputs": [
        {
          "name": "stdout",
          "output_type": "stream",
          "text": [
            "Total stop words: 179\n"
          ]
        }
      ],
      "source": [
        "print('Total stop words:',len(stop))"
      ]
    },
    {
      "cell_type": "markdown",
      "metadata": {
        "id": "-wkxiG9RtPHW"
      },
      "source": [
        "__Removing stopwords from reviews:__"
      ]
    },
    {
      "cell_type": "code",
      "execution_count": null,
      "metadata": {
        "id": "rvXtCGEItPHW"
      },
      "outputs": [],
      "source": [
        "def remove_stopwords(text):\n",
        "    return \" \".join([word for word in str(text).split() if word not in stop])\n",
        "\n",
        "data['review'] = data['review'].apply(lambda x: remove_stopwords(x))\n"
      ]
    },
    {
      "cell_type": "code",
      "execution_count": null,
      "metadata": {
        "id": "oED8aYurtPHX",
        "outputId": "fb017018-b346-4c70-d911-607739b3ebf2"
      },
      "outputs": [
        {
          "data": {
            "text/plain": [
              "'youve got mail works alot deserves order cast extremely popular attractive stars share screen hours collect profits real acting involved original inventive bone body basically complete reshoot shop around corner adding modern twists essentially goes defies concepts contemporary filmmaking overly sentimental times terribly mushy mention manipulative oh enjoyable manipulation must something casting manipulation makes work absolutely hated previous ryanhanks teaming sleepless seattle couldnt directing helmed woman havent quite yet figured liked youve got mail important something storyline cliched come tom hanks plays joe fox insanely likeable owner discount chain meg ryan plays kathleen kelley insanely likeable proprietor familyrun childrens shop nice homage shop around corner fox kelley soon become bitter rivals fox store opening right across block small business know already internet neither party knows persons true rest story isnt important serve mere backdrop stars share screen sure mildly interesting subplots fail comparison utter cuteness main course leads predictable climax ending year contains ryan true word time year'"
            ]
          },
          "execution_count": 152,
          "metadata": {},
          "output_type": "execute_result"
        }
      ],
      "source": [
        "#verification\n",
        "data.review[2]"
      ]
    },
    {
      "cell_type": "markdown",
      "metadata": {
        "id": "a4yKEEpxtPHX"
      },
      "source": [
        "### Tokenize Text in Words\n",
        "- Tokenizing text is important since text can’t be processed without tokenization. Tokenization process means splitting bigger parts to small parts.\n",
        "- You can tokenize paragraphs to sentences and tokenize sentences to words according to your needs. \n",
        "- NLTK is shipped with sentence tokenizer and word tokenizer.\n",
        "- Non english text can also be tokenized by specifying the language"
      ]
    },
    {
      "cell_type": "code",
      "execution_count": null,
      "metadata": {
        "scrolled": true,
        "id": "SMqhnHWstPHX"
      },
      "outputs": [],
      "source": [
        "#import nltk\n",
        "#nltk.download('punkt')\n",
        "#data[\"review\"] = data[\"review\"].apply(lambda x: word_tokenize(x))\n",
        "#data[\"review\"]"
      ]
    },
    {
      "cell_type": "markdown",
      "metadata": {
        "id": "btjHe8dEtPHX"
      },
      "source": [
        "__Word Tokenizing:__"
      ]
    },
    {
      "cell_type": "markdown",
      "metadata": {
        "id": "W-6ubBmutPHX"
      },
      "source": [
        "### NLTK Word Stemming\n",
        "- Word stemming means removing affixes from words and return the root word. Ex: The stem of the word working => work.\n",
        "- Search engines use this technique when indexing pages, so many people write different versions for the same word and all of them are stemmed to the root word.\n",
        "- There are many algorithms for stemming, but the most used algorithm is Porter stemming algorithm.\n",
        "- NLTK has a class called PorterStemmer which uses Porter stemming algorithm."
      ]
    },
    {
      "cell_type": "markdown",
      "metadata": {
        "id": "0PT1b6KXtPHY"
      },
      "source": [
        "### Lemmatizing Words Using [WordNet](https://wordnet.princeton.edu/)\n",
        "\n",
        "__Wordnet:__\n",
        "- WordNet is a lexical database for the English language.\n",
        "- It groups English words into sets of synonyms called synsets, provides short definitions and usage examples, and records a number of relations among these synonym sets or their members. \n",
        "- WordNet can thus be seen as a combination of dictionary and thesaurus. While it is accessible to human users via a web browser, its primary use is in automatic text analysis and artificial intelligence applications.\n",
        "\n",
        "__Lemmatization:__\n",
        "- Lemmatization is a more effective option than stemming because it converts the word into its root word, rather than just stripping the suffices. \n",
        "- It makes use of the vocabulary and does a morphological analysis to obtain the root word. Therefore, we usually prefer using lemmatization over stemming.\n",
        "- Example: reduce words such as “am”, “are”, and “is” to a common form such as “be”"
      ]
    },
    {
      "cell_type": "code",
      "execution_count": null,
      "metadata": {
        "id": "tC37BCcitPHY"
      },
      "outputs": [],
      "source": [
        "#stemming\n",
        "from nltk.stem import PorterStemmer\n",
        "stemmer = PorterStemmer()\n",
        "def stem_words(text):\n",
        "    return \" \".join([stemmer.stem(word) for word in text.split()])\n",
        "data[\"review\"] = data[\"review\"].apply(lambda x: stem_words(x))"
      ]
    },
    {
      "cell_type": "code",
      "execution_count": null,
      "metadata": {
        "id": "PyXu0kjGtPHY"
      },
      "outputs": [],
      "source": [
        "from nltk.stem import WordNetLemmatizer\n",
        "lemmatizer = WordNetLemmatizer()\n",
        "def lemmatize_words(text):\n",
        "    return \" \".join([lemmatizer.lemmatize(word) for word in text.split()])\n",
        "data[\"review\"] = data[\"review\"].apply(lambda text: lemmatize_words(text))"
      ]
    },
    {
      "cell_type": "markdown",
      "metadata": {
        "id": "IgDJQJoQtPHY"
      },
      "source": [
        "__Bag of Words using CountVectorizer:__\n"
      ]
    },
    {
      "cell_type": "code",
      "execution_count": null,
      "metadata": {
        "scrolled": true,
        "id": "SHOnLrCFtPHY"
      },
      "outputs": [],
      "source": [
        "# Creating the Bag of Words model\n",
        "from sklearn.feature_extraction.text import CountVectorizer\n",
        "corpus=data[\"review\"]\n",
        "count_vector = CountVectorizer() \n",
        "X = count_vector.fit_transform(corpus).toarray()"
      ]
    },
    {
      "cell_type": "code",
      "execution_count": null,
      "metadata": {
        "id": "2z_a7pBbtPHY",
        "outputId": "a492b4e4-f84c-4068-c55b-f6d4ed6ea93e"
      },
      "outputs": [
        {
          "data": {
            "text/plain": [
              "array([[0, 0, 0, ..., 0, 0, 0],\n",
              "       [0, 0, 0, ..., 0, 0, 0],\n",
              "       [0, 0, 0, ..., 0, 0, 0],\n",
              "       ...,\n",
              "       [0, 0, 0, ..., 0, 0, 0],\n",
              "       [0, 0, 0, ..., 0, 0, 0],\n",
              "       [0, 0, 0, ..., 0, 0, 0]], dtype=int64)"
            ]
          },
          "execution_count": 157,
          "metadata": {},
          "output_type": "execute_result"
        }
      ],
      "source": [
        "X"
      ]
    },
    {
      "cell_type": "code",
      "execution_count": null,
      "metadata": {
        "id": "OPV874yLtPHZ",
        "outputId": "af2ed306-d462-45eb-94d5-5f7bec8fbe21"
      },
      "outputs": [
        {
          "name": "stdout",
          "output_type": "stream",
          "text": [
            "['0009f', '000aweek', '000paltri', '100m', '100minut', '101yearold', '11thhour', '150th', '1600', '16x9', '175million', '1800', '1830', '1900', '1930', '1940', '1949', '1950', '1960', '1970', '1971', '1972', '1973', '1975', '1979', '1980', '1981', '1982', '1984', '1985', '1986', '1988', '1989', '1990', '1991', '1992', '1993', '1994', '1995', '1996', '1997', '1997the', '1998', '1999', '19thcenturi', '2000', '2000pound', '200page', '216digit', '21stcenturi', '24thcenturi', '25andund', '600pound', '60s70', '70searli', '777film', 'aaaaaaaaah', 'aaliyah', 'ab', 'abandon', 'abb', 'abba', 'abbi', 'abbott', 'abc', 'abduct', 'abe', 'abel', 'aberdeen', 'abet', 'abhorr', 'abid', 'abigail', 'abil', 'abl', 'abli', 'abnorm', 'aboard', 'abod', 'abolish', 'abolitionist', 'abomin', 'aborigin', 'abort', 'abortionist', 'abound', 'aboveaverag', 'aboveground', 'abovepar', 'abovethetitl', 'abraham', 'abras', 'abroad', 'abrupt', 'abruptli', 'absenc', 'absent', 'absentminded', 'absinth', 'absolut', 'absolutist', 'absolv', 'absorb', 'absorpt', 'abstin', 'abstract', 'absurd', 'absurdist', 'absurdli', 'abu', 'abund', 'abundantli', 'abus', 'abysm', 'abyss', 'academ', 'academi', 'academia', 'academybelov', 'acc', 'acceler', 'accent', 'accentu', 'accept', 'access', 'accessori', 'accid', 'accident', 'acclaim', 'acclimat', 'accolad', 'accommod', 'accompani', 'accomplic', 'accomplish', 'accord', 'accordingli', 'accordion', 'accost', 'account', 'accumul', 'accur', 'accuraci', 'accus', 'accustom', 'ace', 'acerb', 'aceton', 'ach', 'achiev', 'achil', 'achingli', 'acid', 'acideaten', 'ackman', 'acknowledg', 'acm', 'acquaint', 'acquir', 'acquit', 'acr', 'acrimoni', 'acrobat', 'acronym', 'across', 'acryl', 'act', 'actingmusiceffect', 'actingrel', 'action', 'actionadventur', 'actionanim', 'actioncomedi', 'actionfest', 'actionhorrorparanoia', 'actionmovi', 'actionpack', 'actionsuspens', 'actionthril', 'activ', 'activist', 'activit', 'actor', 'actorsactress', 'actorstunt', 'actorturneddirector', 'actress', 'actual', 'acuiti', 'acumen', 'acupunctur', 'acut', 'ad', 'adag', 'adam', 'adapt', 'aday', 'add', 'addam', 'addi', 'addict', 'addit', 'addl', 'address', 'ade', 'adelaid', 'adept', 'adeptli', 'adequ', 'adher', 'aditi', 'adject', 'adjoin', 'adjust', 'adlab', 'administ', 'administr', 'admir', 'admiss', 'admit', 'admitt', 'admittedli', 'admonit', 'ado', 'adolesc', 'adolescentmind', 'adopt', 'ador', 'adorn', 'adrenalin', 'adrian', 'adriana', 'adrien', 'adrienmarc', 'adrienn', 'adrift', 'adroitli', 'adult', 'adultdavid', 'adulter', 'adulteri', 'adulthelfgott', 'adulthood', 'adultori', 'advanc', 'advantag', 'advent', 'adventur', 'advers', 'adversari', 'advertis', 'advic', 'advis', 'advisor', 'advoc', 'aerial', 'aerosmith', 'aerospac', 'aesthet', 'afar', 'afer', 'affabl', 'affair', 'affect', 'affection', 'affili', 'affin', 'affirm', 'affleck', 'afflict', 'afford', 'affraid', 'affront', 'aficionado', 'afield', 'afir', 'afloat', 'afoot', 'aforement', 'aforethought', 'afoul', 'afraid', 'africa', 'african', 'africanamerican', 'afro', 'aftereffect', 'afterglow', 'afterlif', 'aftermath', 'afternoon', 'afterward', 'againthes', 'agap', 'agatha', 'age', 'agenc', 'agenda', 'agent', 'agentassassin', 'agentincharg', 'aggrav', 'aggress', 'aggriev', 'agil', 'agit', 'agn', 'ago', 'agon', 'agoni', 'agre', 'agreeabl', 'agreement', 'aguilar', 'aguirresarob', 'ah', 'aha', 'ahab', 'ahead', 'ahem', 'ahm', 'ahold', 'aid', 'aida', 'aidan', 'aidsafflict', 'aidscautionari', 'aikidovers', 'ail', 'aim', 'aime', 'aimless', 'aimlessli', 'aint', 'air', 'airbrush', 'aircraft', 'airforceon', 'airi', 'airlin', 'airplan', 'airplay', 'airport', 'airtim', 'airwav', 'airwolf', 'aisl', 'aka', 'aki', 'akiko', 'akin', 'akira', 'al', 'ala', 'alabama', 'aladdin', 'alain', 'alamo', 'alani', 'alarm', 'alaska', 'albani', 'albania', 'albanian', 'albeit', 'albert', 'alberta', 'alberto', 'albino', 'albrecht', 'album', 'alc', 'alchemi', 'alcohol', 'alcoholbas', 'alda', 'alderaan', 'alderman', 'aldou', 'alea', 'alec', 'aleck', 'alek', 'alert', 'alessandro', 'alex', 'alexa', 'alexand', 'alexandr', 'alexandra', 'aleximal', 'alf', 'alfr', 'alfredo', 'algeria', 'ali', 'alia', 'alias', 'alibi', 'alic', 'alicia', 'alien', 'alienhuman', 'alienlik', 'aliensashuman', 'alienstitan', 'align', 'alik', 'alison', 'aliv', 'all', 'alla', 'allah', 'allamerica', 'allamerican', 'allan', 'allbutdead', 'allbutilleg', 'allconsum', 'alleg', 'allegedli', 'allegi', 'allegori', 'allegra', 'allen', 'allencompass', 'allevi', 'alley', 'allgirl', 'allgrownup', 'alli', 'allianc', 'allig', 'allimport', 'allison', 'allnight', 'alloc', 'allornoth', 'allout', 'allow', 'allpow', 'alltoobrief', 'alltootru', 'allud', 'allur', 'allus', 'allwhit', 'alma', 'almond', 'almost', 'almostasstun', 'almostcameo', 'almostforgotten', 'almostwitti', 'aloft', 'alon', 'along', 'alongsid', 'aloof', 'alot', 'aloud', 'alpha', 'alreadi', 'alreadychaot', 'alreadyexist', 'alright', 'also', 'altar', 'alter', 'alteran', 'alterc', 'altern', 'althea', 'although', 'altitud', 'altman', 'alto', 'altogeth', 'altough', 'altruist', 'alum', 'alumnu', 'alvarado', 'alvin', 'alway', 'alwaysstrik', 'alwayswoozi', 'alyssa', 'alzheim', 'amalgam', 'amanda', 'amarcord', 'amarillo', 'amass', 'amateur', 'amateurish', 'amaz', 'amazingli', 'amazon', 'ambassador', 'amber', 'ambianc', 'ambienc', 'ambient', 'ambigu', 'ambit', 'ambiti', 'ambival', 'ambl', 'ambros', 'ambul', 'ambulancechas', 'ambush', 'ame', 'amen', 'amend', 'america', 'american', 'americanitalian', 'ami', 'amiabl', 'amic', 'amid', 'amidala', 'amidst', 'amir', 'amish', 'amiss', 'amistad', 'amiti', 'ammunit', 'amnesia', 'amnesiac', 'amo', 'amok', 'amon', 'among', 'amongst', 'amor', 'amort', 'amount', 'amourlast', 'amphetamin', 'amphibi', 'amphibian', 'ampl', 'ampli', 'amplifi', 'amput', 'amundsen', 'amus', 'amusingli', 'ana', 'anachron', 'anaconda', 'anakin', 'anal', 'analog', 'analogu', 'analys', 'analysi', 'analyst', 'analyz', 'anand', 'anarch', 'anarchi', 'anastasia', 'anatom', 'anatomi', 'ancestor', 'ancestr', 'ancestri', 'anchor', 'ancient', 'ander', 'andersen', 'anderson', 'andi', 'ando', 'andr', 'andrea', 'andrew', 'androgyni', 'android', 'andromeda', 'andrzej', 'anecdot', 'anem', 'anew', 'ang', 'angel', 'angela', 'angelica', 'angelina', 'angelo', 'angelrel', 'anger', 'angi', 'angl', 'anglican', 'anglo', 'angri', 'angrili', 'angst', 'angstfil', 'angsti', 'angu', 'anguish', 'angular', 'anh', 'ani', 'anightattheroxburi', 'anim', 'animalhat', 'animallov', 'animatron', 'animos', 'aniston', 'anita', 'anjali', 'ann', 'anna', 'annabella', 'annabeth', 'annett', 'anni', 'annihil', 'anniversari', 'announc', 'annoy', 'annoyingli', 'annual', 'anomali', 'anonym', 'anoth', 'anout', 'ansel', 'answer', 'ant', 'antagon', 'antagonist', 'antarct', 'antarctica', 'antenna', 'antennaelik', 'anthem', 'antholog', 'anthoni', 'anthrax', 'anthropologist', 'anthropomorph', 'anti', 'antic', 'antichrist', 'anticip', 'anticlimact', 'anticlimax', 'anticorpor', 'antidot', 'antifamili', 'antigovern', 'antihero', 'antimovi', 'antioch', 'antiphantom', 'antipillpoppingcasualtantricsexcarchaseattemptedmurd', 'antiqu', 'antisemit', 'antisept', 'antishark', 'antislaveri', 'antisoci', 'antitheft', 'antithesi', 'antivoyeurist', 'antiwar', 'antoin', 'anton', 'antonia', 'antonio', 'antonioni', 'antwerp', 'anvil', 'anxieti', 'anxiou', 'anxious', 'anybodi', 'anyhow', 'anymor', 'anyon', 'anyth', 'anytim', 'anyway', 'anywher', 'aoki', 'apart', 'apathi', 'ape', 'apelik', 'apex', 'aphrodiasiat', 'aphrodit', 'aplenti', 'aplomb', 'apocalyps', 'apocalypt', 'apollo', 'apollonian', 'apolog', 'apologet', 'apoplect', 'apostl', 'appal', 'appalachian', 'appallingli', 'appar', 'apparantli', 'apparatu', 'apparel', 'apparit', 'apparitionlik', 'appeal', 'appear', 'appel', 'appendag', 'appertain', 'appet', 'appetit', 'appl', 'applaud', 'applaus', 'applecheek', 'appleg', 'appli', 'applianc', 'applic', 'appoint', 'appreci', 'apprehend', 'apprehens', 'apprentic', 'apprenticeship', 'approach', 'appropri', 'approv', 'approxim', 'april', 'apron', 'apt', 'aptitud', 'aptli', 'aptlytitl', 'aquamarin', 'aquarium', 'aquat', 'ar', 'arab', 'arabamerican', 'arabella', 'arabia', 'arabl', 'arachnid', 'arachnidtyp', 'aram', 'arbitrari', 'arbitrarili', 'arbogast', 'arc', 'arcad', 'arcan', 'arch', 'archaeolog', 'archaic', 'archbishop', 'archenemi', 'archer', 'archetyp', 'archi', 'architect', 'architectur', 'archiv', 'archnemesi', 'archriv', 'arctic', 'arden', 'ardent', 'arduou', 'area', 'arena', 'arent', 'aretha', 'argent', 'argentina', 'argentinian', 'argo', 'argonautica', 'argu', 'arguabl', 'argument', 'ari', 'aria', 'arid', 'ariel', 'aris', 'aristocraci', 'aristocrat', 'arizona', 'ark', 'arkham', 'arkonian', 'arlen', 'arlington', 'arliss', 'arlo', 'arm', 'armada', 'armageddon', 'armand', 'armando', 'armani', 'armi', 'armin', 'arminarm', 'armor', 'armour', 'armpit', 'armstrong', 'armwrestl', 'arn', 'arni', 'arnold', 'aronofski', 'around', 'arous', 'arraki', 'arrang', 'array', 'arrest', 'arriv', 'arrog', 'arrow', 'arsen', 'art', 'artagnan', 'artemu', 'arthur', 'arthurian', 'arti', 'articl', 'articul', 'artifact', 'artific', 'artifici', 'artilleri', 'artimitateslif', 'artist', 'artistri', 'artsi', 'artwork', 'aryan', 'as', 'asbesto', 'asburi', 'ascend', 'ascens', 'ascrib', 'asexu', 'ash', 'asham', 'ashbi', 'ashbrook', 'ashcan', 'ashley', 'ashman', 'ashton', 'asia', 'asian', 'asianamerican', 'asid', 'asinin', 'ask', 'askew', 'asleep', 'aslonga', 'aso', 'aspect', 'asperg', 'aspir', 'ass', 'assail', 'assang', 'assasin', 'assassin', 'assassinop', 'assault', 'assay', 'assembl', 'assemblag', 'assent', 'assert', 'asset', 'asshol', 'assidu', 'assign', 'assimil', 'assist', 'asskick', 'associ', 'assort', 'assum', 'assumpt', 'assur', 'assuredli', 'asteroid', 'aston', 'astonish', 'astonishingli', 'astor', 'astound', 'astoundingli', 'astrid', 'astrolog', 'astronaut', 'astronom', 'astronomerwrit', 'astronomi', 'astrophysicist', 'astrosbrav', 'astut', 'asuka', 'aswel', 'asylum', 'at', 'ate', 'ateam', 'atf', 'atheism', 'atheist', 'athlet', 'atho', 'atkin', 'atlant', 'atlanta', 'atlanti', 'atmospher', 'atol', 'atom', 'atop', 'atreid', 'atroc', 'atroci', 'atrophi', 'att', 'attach', 'attack', 'attain', 'attanasio', 'attar', 'attatch', 'attempt', 'attenborough', 'attend', 'attent', 'attenu', 'attest', 'atthi', 'attic', 'attir', 'attitud', 'attorney', 'attract', 'attractiveseem', 'attribut', 'attun', 'atv', 'atwood', 'atyp', 'auberjonoi', 'auction', 'audac', 'audaci', 'audibl', 'audienc', 'audiencefriendli', 'audio', 'audit', 'audrey', 'aughta', 'augment', 'auguri', 'august', 'augustu', 'aukoukoula', 'aunjanu', 'aunt', 'aunti', 'aura', 'aural', 'aureu', 'aurora', 'auschwitz', 'auspici', 'aussi', 'austen', 'austin', 'australia', 'australian', 'austrian', 'auteuil', 'auteur', 'authent', 'author', 'authori', 'authorit', 'authoritarian', 'autism', 'autist', 'auto', 'autobiograph', 'autobiographi', 'autom', 'automat', 'automaton', 'automobil', 'autonom', 'autopilot', 'autopsi', 'aux', 'auxiliari', 'ava', 'avail', 'avalon', 'avantgard', 'aveng', 'avenu', 'averag', 'averagejo', 'averi', 'avers', 'avi', 'aviat', 'avid', 'avidli', 'avoc', 'avoid', 'aw', 'await', 'awak', 'awaken', 'awar', 'award', 'awardcalibr', 'awardwin', 'awash', 'away', 'awe', 'aweinspir', 'awesom', 'awestruck', 'awhil', 'awk', 'awkward', 'awkwardli', 'awok', 'awri', 'awright', 'aww', 'axe', 'axel', 'axiomat', 'aye', 'aykroyd', 'ayla', 'azazel', 'baadasssss', 'baaramew', 'bab', 'babbl', 'babe', 'babi', 'baboon', 'babyboom', 'babylon', 'babysit', 'babysitt', 'bac', 'bach', 'bachelor', 'back', 'backbon', 'backdoor', 'backdraft', 'backdrop', 'backend', 'backer', 'backfir', 'background', 'backhand', 'backlash', 'backped', 'backseat', 'backsid', 'backstab', 'backstori', 'backstreet', 'backtrack', 'backup', 'backward', 'backwat', 'backwith', 'backwood', 'backyard', 'bacon', 'bacteria', 'bad', 'badass', 'baddi', 'badg', 'badland', 'badli', 'badlywritten', 'baffl', 'bag', 'baggag', 'bagwel', 'bahama', 'bai', 'bail', 'bailey', 'baileyg', 'baio', 'bait', 'bake', 'baker', 'baku', 'bala', 'balanc', 'balconi', 'bald', 'balderdash', 'baldwin', 'bale', 'balinski', 'balk', 'ball', 'ballad', 'ballard', 'ballbounc', 'ballerina', 'ballet', 'ballettyp', 'ballist', 'balloon', 'ballroom', 'ballyhoo', 'balm', 'balthazar', 'baltimor', 'balto', 'bamboo', 'ban', 'banal', 'banana', 'bancroft', 'band', 'bandag', 'bandera', 'bandit', 'bandstand', 'bandwagon', 'bane', 'bang', 'bangalor', 'bangi', 'banish', 'banjopick', 'bank', 'bankabl', 'banker', 'bankol', 'bankrupt', 'bankruptci', 'banner', 'banquet', 'banter', 'banti', 'banzai', 'baptist', 'bar', 'baranski', 'barb', 'barbar', 'barbara', 'barbarian', 'barbecu', 'barbel', 'barber', 'barbi', 'barcelona', 'barcod', 'bard', 'bardem', 'bare', 'bareknuckl', 'barf', 'barg', 'bargain', 'bargirl', 'bark', 'barksdal', 'barley', 'barlow', 'barmaid', 'barn', 'barney', 'barnyard', 'baron', 'baroni', 'baroqu', 'barr', 'barrag', 'barrel', 'barren', 'barri', 'barrier', 'barrist', 'barroom', 'barrymor', 'bart', 'bartend', 'bartkowiak', 'bartlett', 'barton', 'base', 'basebal', 'basehead', 'baseketbal', 'baseless', 'baseman', 'basement', 'baser', 'bash', 'basi', 'basic', 'basil', 'bask', 'basket', 'basketbal', 'basquiat', 'bass', 'basset', 'bastard', 'bastil', 'bastion', 'bat', 'batallion', 'batcav', 'batch', 'bate', 'bath', 'bathrob', 'bathroom', 'bathtub', 'bathwat', 'batman', 'batter', 'batterycharg', 'battl', 'battledamag', 'battlefield', 'battleship', 'battlestar', 'baubl', 'bauer', 'bavarian', 'bawdi', 'baxter', 'bay', 'bayberri', 'baylor', 'bayou', 'baywatch', 'baz', 'bazaar', 'bazooka', 'be', 'bea', 'beach', 'beachyang', 'beacon', 'bead', 'beaker', 'beal', 'beam', 'bean', 'beancurd', 'bear', 'bearabl', 'beard', 'bearish', 'beast', 'beasti', 'beat', 'beaten', 'beater', 'beatl', 'beatnik', 'beatric', 'beatti', 'beau', 'beauden', 'beaumarchai', 'beauti', 'beautician', 'beautifullyconstruct', 'bebe', 'becam', 'beck', 'becker', 'becki', 'beckinsal', 'beckman', 'beckon', 'becom', 'bed', 'bedazzl', 'bedfellow', 'bedford', 'bedridden', 'bedrock', 'bedroom', 'bedsid', 'bedtim', 'bee', 'beef', 'beek', 'beelzubab', 'beem', 'beer', 'beethoven', 'beetl', 'beetlejuic', 'befal', 'befit', 'beforehand', 'befriend', 'befuddl', 'beg', 'began', 'begin', 'beginningwhil', 'begotten', 'begrudgingli', 'beguil', 'begun', 'behalf', 'behav', 'behavior', 'behaviour', 'behead', 'behemoth', 'behind', 'behindthescen', 'behold', 'behoov', 'beignet', 'beij', 'bejesu', 'beknown', 'bela', 'belat', 'belch', 'beleagu', 'belfast', 'belgian', 'belgianown', 'belgium', 'beli', 'belief', 'beliefseloqu', 'believ', 'belinda', 'belittl', 'bell', 'bella', 'bellboy', 'bellhop', 'belli', 'belliger', 'bellman', 'bello', 'bellow', 'bellylaugh', 'belong', 'belov', 'belowaverag', 'belowbelt', 'belowground', 'belt', 'bemus', 'ben', 'bench', 'bend', 'bender', 'bene', 'beneath', 'benefactor', 'benefit', 'benevol', 'benicio', 'benign', 'benito', 'benjamin', 'bennett', 'benni', 'bennington', 'benson', 'bent', 'bentley', 'benton', 'benz', 'berardinelli', 'berat', 'bereav', 'bereft', 'beresford', 'berg', 'berger', 'bergman', 'bering', 'berkeley', 'berlin', 'berman', 'bernard', 'bernhard', 'berni', 'berri', 'berserk', 'berth', 'bertha', 'bertram', 'beset', 'besid', 'besieg', 'bespectacl', 'best', 'bestexecut', 'bestfriend', 'bestial', 'bestlook', 'bestow', 'bestsel', 'bet', 'beta', 'betcha', 'beth', 'bethani', 'bether', 'bethlehem', 'betray', 'betsi', 'bett', 'better', 'betti', 'betwixt', 'beverli', 'bevi', 'bewar', 'bewild', 'bewilder', 'bewitch', 'beyond', 'bia', 'bian', 'bianca', 'bias', 'bibl', 'bibletot', 'biblic', 'bicentenni', 'bicep', 'bicker', 'bicycl', 'bid', 'bidder', 'bidet', 'biederman', 'bien', 'bier', 'big', 'bigbudget', 'bigelow', 'bigfoot', 'bigg', 'bigger', 'biggest', 'bighair', 'bigleagu', 'bigot', 'bigscreen', 'bigshot', 'bigtim', 'bigwig', 'bijou', 'bike', 'biker', 'bikini', 'bilal', 'bilbo', 'bilinguallysubtitl', 'biliou', 'bill', 'billboard', 'billi', 'billiard', 'billingsley', 'billion', 'billionair', 'bimbo', 'bimini', 'bin', 'bind', 'bing', 'bingo', 'bink', 'bio', 'biochemist', 'biograph', 'biographi', 'biolog', 'biologist', 'biomolecular', 'bionic', 'biopic', 'birch', 'bird', 'birdcag', 'birdcal', 'birdi', 'birkhoff', 'birnbaum', 'birth', 'birthday', 'bisexu', 'bishop', 'bit', 'bitch', 'bitchi', 'bite', 'bitten', 'bitter', 'bitterli', 'bittersweet', 'biz', 'bizarr', 'blab', 'black', 'blackandwhit', 'blackboard', 'blacker', 'blackhead', 'blacki', 'blackmail', 'blackmarket', 'blackout', 'blackwood', 'bladder', 'blade', 'blah', 'blain', 'blair', 'blake', 'blame', 'blanch', 'bland', 'blanderthanbland', 'blandest', 'blandli', 'blank', 'blanket', 'blare', 'blast', 'blaster', 'blatant', 'blatantli', 'blather', 'blaxploit', 'blaxploitationera', 'blaze', 'blazingli', 'bleach', 'bleachblond', 'bleacher', 'bleak', 'blech', 'bleed', 'bleep', 'bleibtreu', 'blemheim', 'blemish', 'blemishfre', 'blend', 'bless', 'blessedli', 'blether', 'blew', 'blight', 'blimp', 'blind', 'blindfold', 'blindingli', 'blindli', 'blindsid', 'blink', 'blip', 'bliss', 'blister', 'blitz', 'bloat', 'blob', 'block', 'blockad', 'blockbust', 'blockhead', 'blond', 'blood', 'bloodbath', 'bloodi', 'bloodier', 'bloodless', 'bloodr', 'bloodsh', 'bloodsoak', 'bloodspatt', 'bloodsuck', 'bloodsuckerand', 'bloodthirsti', 'bloom', 'bloopersflub', 'blossom', 'blot', 'blotter', 'blous', 'blow', 'blowhard', 'blown', 'blowout', 'blue', 'blueblood', 'bluecollar', 'bluegrass', 'blueprint', 'bluer', 'bluescreen', 'blueskin', 'blunder', 'blunt', 'bluntli', 'blur', 'blurb', 'blurri', 'blurt', 'blush', 'bluto', 'blyth', 'bo', 'board', 'boarder', 'boardroom', 'boardwalk', 'boast', 'boat', 'boathous', 'boatload', 'boatwright', 'bob', 'boba', 'bobbi', 'bobbl', 'bodi', 'bodili', 'bodyguard', 'bodythem', 'boehner', 'bof', 'bog', 'bogan', 'bogart', 'bogeyman', 'bogg', 'bogi', 'bogmen', 'bogu', 'bohemian', 'boil', 'boiler', 'boister', 'bold', 'boldli', 'bolin', 'bolling', 'bollock', 'bolster', 'bolt', 'bomb', 'bombard', 'bombast', 'bombastorama', 'bombay', 'bomber', 'bombshel', 'bon', 'bona', 'bonafid', 'bond', 'bondag', 'bondsman', 'bone', 'bonehead', 'boneless', 'boney', 'bonfir', 'bong', 'bonghit', 'bongo', 'bonifac', 'bonker', 'bonni', 'bonu', 'boo', 'boob', 'boobi', 'boogi', 'boogieman', 'bookend', 'booker', 'bookfilm', 'booki', 'booksel', 'bookshelv', 'bookstor', 'boom', 'boomer', 'boon', 'boop', 'boorish', 'boost', 'boot', 'booth', 'booti', 'bootleg', 'bootsi', 'booz', 'boozedout', 'bop', 'border', 'borderlin', 'borderlineabysm', 'borderlinepsychot', 'bore', 'boreali', 'boredom', 'borg', 'bori', 'born', 'borrow', 'bos', 'bosnian', 'bosom', 'bosomi', 'bossa', 'boston', 'bosworth', 'botch', 'bother', 'bothersom', 'bottl', 'bottom', 'bottomofthebarrel', 'bottomofthedrugfoodchain', 'bouajila', 'bought', 'boul', 'boulder', 'boulevard', 'boum', 'bounc', 'bouncer', 'bounci', 'bound', 'boundari', 'bounti', 'bouquet', 'bourgeoi', 'bourgeoisi', 'bout', 'bow', 'bowel', 'bowen', 'bower', 'bowfing', 'bowi', 'bowl', 'bowler', 'bowman', 'box', 'boxer', 'boxoffic', 'boy', 'boyc', 'boyd', 'boyfriend', 'boyhood', 'boyish', 'boyishli', 'boyl', 'boymeetsfishandsavesenviron', 'boymeetsgirl', 'bra', 'brace', 'bracesport', 'brackett', 'brad', 'bradi', 'bradley', 'bradshaw', 'brag', 'braga', 'bragg', 'brahma', 'braid', 'brain', 'brainchild', 'braindamag', 'braindead', 'brainer', 'braini', 'brainiac', 'brainless', 'brainscomedi', 'brainstorm', 'brais', 'brake', 'bram', 'branagh', 'brancato', 'branch', 'brand', 'brandi', 'brandish', 'brando', 'brandon', 'brannagh', 'brannigan', 'brash', 'brashli', 'brass', 'brassi', 'brat', 'bratti', 'bravado', 'brave', 'braveheart', 'braveri', 'bravest', 'bravura', 'brawl', 'brawn', 'braxton', 'brazen', 'brazenli', 'brazil', 'brazilian', 'bread', 'breadandbutt', 'break', 'breakag', 'breakdanc', 'breakdown', 'breakfast', 'breakfastofchampion', 'breakin', 'breakneck', 'breakout', 'breakthrough', 'breakup', 'breast', 'breath', 'breathabl', 'breather', 'breathi', 'breathless', 'breathlessli', 'breathtak', 'breathtakingli', 'breech', 'breed', 'breen', 'breezi', 'breillat', 'bremer', 'brenda', 'brendan', 'brenna', 'brennan', 'brenner', 'brent', 'bressler', 'brest', 'bret', 'brett', 'brew', 'brewster', 'brian', 'briar', 'bribe', 'brick', 'bride', 'bridg', 'bridget', 'bridgett', 'bridgeup', 'brief', 'briefcas', 'briefli', 'brien', 'brier', 'brigant', 'brigantin', 'brigg', 'bright', 'brighten', 'brighter', 'brightest', 'brightli', 'brill', 'brillant', 'brillianc', 'brilliant', 'brilliantli', 'brim', 'brimston', 'bring', 'brink', 'brisk', 'brit', 'britain', 'british', 'brittani', 'brittl', 'bro', 'broach', 'broad', 'broadband', 'broadcast', 'broaden', 'broader', 'broadli', 'broadstrok', 'broadway', 'brock', 'broderick', 'brodi', 'brogu', 'broke', 'brokedown', 'broken', 'brokendown', 'broker', 'brokerag', 'bromley', 'broncobust', 'bronson', 'bronx', 'bronz', 'brood', 'broodwarrior', 'brook', 'brooklyn', 'brothel', 'brother', 'brotherhood', 'brotherli', 'brothermanag', 'brow', 'brown', 'browni', 'brownout', 'bruce', 'bruckheim', 'bruis', 'bruklin', 'brunett', 'bruno', 'brunt', 'brush', 'bruskott', 'brussel', 'brutal', 'brute', 'brutish', 'bryan', 'bu', 'bubbi', 'bubbl', 'bubblebath', 'bubblegum', 'buchenwald', 'buck', 'bucket', 'buckl', 'buckley', 'bucktooth', 'bud', 'buddhism', 'buddi', 'buddyact', 'budg', 'budget', 'budgetwis', 'budweis', 'bueno', 'buf', 'buff', 'buffalo', 'buffi', 'buffoon', 'buffoonish', 'bug', 'bugger', 'bugsi', 'build', 'builder', 'buildup', 'built', 'bulb', 'bulg', 'bulimia', 'bulk', 'bulki', 'bull', 'bulldoz', 'bullet', 'bulletin', 'bulletproof', 'bulletriddl', 'bullhead', 'bullhorn', 'bulli', 'bullion', 'bullock', 'bullsey', 'bullshit', 'bulworth', 'bum', 'bumbl', 'bumfuck', 'bummer', 'bump', 'bumper', 'bumpi', 'bun', 'bunch', 'bundl', 'bungalow', 'bunge', 'bungeejump', 'bungl', 'bunker', 'bunni', 'bunyan', 'buoy', 'buoyant', 'burbank', 'burden', 'burdock', 'bureau', 'bureaucraci', 'bureaucrat', 'burgeon', 'burger', 'burgess', 'burglar', 'burglari', 'burgrav', 'buri', 'burial', 'burk', 'burkettsvil', 'burkhardt', 'burli', 'burlier', 'burma', 'burn', 'burner', 'burnham', 'burnin', 'burnout', 'burnt', 'burp', 'burrel', 'burrough', 'burrow', 'burst', 'burt', 'burton', 'busbi', 'busboy', 'buscemi', 'bush', 'bushmast', 'busi', 'businesslik', 'businessman', 'businessmen', 'businessori', 'businesswoman', 'busload', 'bust', 'buster', 'busti', 'bustier', 'bustl', 'busybodi', 'butch', 'butcher', 'butler', 'butt', 'butter', 'butterfli', 'butterworth', 'butthead', 'buttock', 'button', 'buxom', 'buy', 'buyer', 'buzz', 'buzzsaw', 'bye', 'bygon', 'bylin', 'byrn', 'byron', 'bystand', 'bystanderextra', 'bythenumb', 'ca', 'cab', 'cabal', 'cabaret', 'cabbi', 'cabin', 'cabinet', 'cabinetlevel', 'cabl', 'cabo', 'cabot', 'cach', 'cachet', 'cackl', 'cad', 'caddyshack', 'cadr', 'caesar', 'caf', 'cafe', 'cafeteria', 'caffein', 'cage', 'cahoot', 'cain', 'cajun', 'cake', 'cal', 'calai', 'calamari', 'calamit', 'calcin', 'calcul', 'calculatedli', 'calder', 'cale', 'caleb', 'calendar', 'calf', 'calhoun', 'calib', 'calibr', 'california', 'caligula', 'calisthen', 'call', 'callahan', 'caller', 'callou', 'callous', 'callwait', 'calm', 'calmer', 'calmli', 'calrissian', 'caltran', 'calvert', 'calvin', 'calypsostyl', 'cam', 'camaraderi', 'cambodia', 'camcord', 'came', 'camel', 'camelot', 'camembert', 'cameo', 'camera', 'cameraman', 'camerawork', 'cameron', 'camest', 'camil', 'camino', 'camp', 'campaign', 'campbel', 'camper', 'campfir', 'campi', 'campion', 'campu', 'can', 'canaan', 'canada', 'canadian', 'canal', 'canari', 'cancel', 'cancer', 'canceremascul', 'canderday', 'candi', 'candid', 'candidatedirector', 'candl', 'candlelight', 'candor', 'candour', 'candyman', 'cane', 'canin', 'canist', 'cann', 'cannib', 'canning', 'cannon', 'canon', 'cant', 'canter', 'cantones', 'canva', 'canyon', 'cap', 'capabl', 'capac', 'cape', 'caper', 'capit', 'capitalis', 'capitalist', 'capitol', 'capitul', 'capo', 'capon', 'capper', 'cappi', 'cappuccino', 'capra', 'capraesqu', 'capshaw', 'capsul', 'capt', 'captain', 'caption', 'captiv', 'captor', 'captur', 'capulet', 'caput', 'car', 'cara', 'carabao', 'carat', 'caravan', 'carbon', 'carcass', 'card', 'cardboard', 'cardiac', 'cardin', 'cardsharp', 'care', 'careen', 'career', 'careerdefin', 'careermind', 'carefre', 'carefullyconstruct', 'carefullystack', 'careless', 'carelessli', 'caress', 'caretak', 'carey', 'cargo', 'cari', 'caribbean', 'caricatur', 'carjack', 'carl', 'carla', 'carli', 'carlito', 'carlo', 'carlotta', 'carlyl', 'carmel', 'carmen', 'carnag', 'carnal', 'carnegi', 'carniv', 'caro', 'carojeanpierr', 'carol', 'carolin', 'carolina', 'carolyn', 'carom', 'carpent', 'carpet', 'carr', 'carradin', 'carrera', 'carreyannoy', 'carri', 'carriag', 'carrieann', 'carrier', 'carrion', 'carrol', 'carrot', 'carrotcolor', 'carryon', 'carson', 'cart', 'carter', 'carterwhos', 'cartman', 'carton', 'cartoon', 'cartooni', 'cartoonish', 'cartoonist', 'cartwright', 'caruso', 'carv', 'carver', 'casablanca', 'casanova', 'case', 'casey', 'cash', 'cashier', 'casino', 'cassand', 'cassandra', 'cassanova', 'cassavet', 'casserol', 'cassidi', 'cassiu', 'cast', 'castel', 'castig', 'castingagainsttyp', 'castl', 'castleroy', 'castrat', 'castro', 'casual', 'casualti', 'cat', 'catacomb', 'catalog', 'catalogu', 'catalyst', 'catalyz', 'catandmous', 'catapult', 'catastroph', 'cataton', 'catatonia', 'catch', 'catchal', 'catcher', 'catchi', 'catchphras', 'cate', 'categor', 'categori', 'cater', 'caterpillar', 'catfight', 'catharsi', 'cathart', 'catherin', 'cathi', 'cathol', 'catholic', 'catlik', 'catsuitclad', 'catti', 'cattl', 'catwoman', 'caucasian', 'caught', 'cauldron', 'caus', 'caustic', 'cauter', 'caution', 'cautionari', 'cautiou', 'cavalri', 'cavanaugh', 'cave', 'caveman', 'cavern', 'caviezel', 'cavort', 'cayman', 'ceas', 'ceasefir', 'ceaseless', 'ceaselessli', 'cecil', 'cecilia', 'cedar', 'ceil', 'celeb', 'celebr', 'celesti', 'celia', 'celibaci', 'celin', 'cell', 'cellar', 'cellist', 'cellmat', 'cello', 'cellophan', 'cellular', 'celluloid', 'cement', 'cemetari', 'cemeteri', 'censor', 'censorship', 'cent', 'centenni', 'center', 'centerfold', 'centerpiec', 'centr', 'central', 'centrestag', 'centuri', 'ceo', 'cereal', 'cerebellum', 'cerebr', 'ceremoni', 'certain', 'certainli', 'certif', 'certifi', 'cesar', 'cessat', 'cgi', 'chad', 'chafe', 'chaga', 'chagrin', 'chain', 'chainsaw', 'chainsmok', 'chair', 'chairman', 'chaka', 'chalk', 'challeng', 'challengenot', 'chamber', 'chameleon', 'champ', 'champagn', 'champion', 'championship', 'chan', 'chanc', 'chancellor', 'chandeli', 'chandler', 'chandra', 'chaney', 'chang', 'changeofpac', 'channel', 'chant', 'chanteus', 'chao', 'chaotic', 'chap', 'chapel', 'chaperon', 'chaplain', 'chaplin', 'chapman', 'chappel', 'chapter', 'charact', 'character', 'characterdefin', 'characterdriven', 'characteris', 'characterist', 'characterori', 'charad', 'charg', 'chariot', 'charisma', 'charismat', 'charit', 'chariti', 'charl', 'charleston', 'charli', 'charliz', 'charlott', 'charlton', 'charm', 'charmer', 'charmingli', 'charmless', 'charnel', 'charon', 'chart', 'charter', 'chase', 'chasefightshootout', 'chaser', 'chast', 'chastiti', 'chat', 'chateau', 'chatter', 'chauffeur', 'chauvinist', 'chaz', 'cheap', 'cheaper', 'cheapi', 'cheapjack', 'cheapli', 'cheaplook', 'cheapskat', 'cheat', 'cheater', 'chechik', 'check', 'checkmat', 'checkout', 'checkpoint', 'cheddar', 'cheech', 'cheek', 'cheeki', 'cheer', 'cheeri', 'cheerili', 'cheerlead', 'chees', 'cheesebal', 'cheesi', 'cheesiest', 'cheesylook', 'cheetah', 'chef', 'chelsea', 'chemic', 'chemistri', 'chen', 'cheng', 'cher', 'cherbourg', 'chere', 'cheri', 'cherish', 'chernobyl', 'cheroke', 'cherri', 'cherryr', 'cherub', 'cheryl', 'chess', 'chesslik', 'chest', 'chester', 'chestnut', 'cheung', 'chevali', 'chevi', 'chew', 'chewbacca', 'chi', 'chic', 'chicago', 'chicaneryrunneth', 'chick', 'chicken', 'chickenbash', 'chidduck', 'chide', 'chief', 'chiefli', 'chihuahua', 'child', 'childbear', 'childer', 'childgeniu', 'childhood', 'childish', 'childlik', 'childsupport', 'chili', 'chill', 'chilli', 'chillingli', 'chime', 'chimera', 'chimp', 'chimpanze', 'chin', 'china', 'chinatown', 'chine', 'chineseamerican', 'chino', 'chintzi', 'chip', 'chisel', 'chisolm', 'chivalr', 'chivalri', 'chloe', 'chock', 'chockful', 'chocol', 'chocolat', 'choderlo', 'choic', 'choir', 'choke', 'cholera', 'cholodenko', 'chomp', 'chomper', 'chon', 'chong', 'choos', 'chop', 'chopper', 'choppi', 'chopsocki', 'chopstick', 'chord', 'chore', 'choreograph', 'choreographi', 'choru', 'chose', 'chosen', 'chow', 'chri', 'chrissi', 'christ', 'christen', 'christi', 'christian', 'christin', 'christina', 'christma', 'christo', 'christofbut', 'christoff', 'christoph', 'chronic', 'chronicl', 'chrono', 'chronolog', 'chrysler', 'chubbi', 'chuck', 'chucki', 'chuckl', 'chucklesom', 'chuckleworthi', 'chum', 'chummi', 'chump', 'chunk', 'church', 'churchth', 'churn', 'chute', 'chutzpah', 'cia', 'ciali', 'ciara', 'cicero', 'cider', 'cigar', 'cigarett', 'cigarsmok', 'cincinnati', 'cinderella', 'cindi', 'cinema', 'cinemascop', 'cinemat', 'cinematicallysavvi', 'cinematograph', 'cinematographi', 'cinemax', 'cinephil', 'cineplex', 'cinnamon', 'cinqu', 'cipher', 'circa', 'circl', 'circu', 'circuit', 'circuitri', 'circul', 'circular', 'circumcis', 'circumst', 'cisco', 'cite', 'citi', 'citifi', 'citizen', 'citybr', 'cityscap', 'civic', 'civil', 'civilian', 'civilis', 'clack', 'clad', 'claim', 'clair', 'clairvoy', 'clamor', 'clan', 'clanci', 'clapetth', 'clapton', 'claptrap', 'clara', 'clarenc', 'claret', 'claric', 'clarifi', 'clariti', 'clark', 'clarkson', 'clash', 'class', 'classi', 'classic', 'classier', 'classif', 'classifi', 'classist', 'classmat', 'classroom', 'clau', 'claud', 'claudia', 'claudiu', 'claus', 'claustrophob', 'claustrophobia', 'claw', 'clay', 'claybourn', 'claymat', 'clayton', 'clea', 'clean', 'cleaner', 'cleanshaven', 'cleanup', 'clear', 'clearcut', 'clearer', 'clearli', 'cleav', 'cleavag', 'cleavagebust', 'cleaver', 'clees', 'clemen', 'clement', 'clench', 'cleopatra', 'cleric', 'clerk', 'cleveland', 'clever', 'cleverli', 'clich', 'click', 'client', 'clientel', 'cliff', 'cliffhang', 'clifford', 'climact', 'climat', 'climax', 'climb', 'cling', 'clinic', 'clint', 'clinton', 'clip', 'cliqu', 'cliquey', 'clive', 'cloak', 'clock', 'clockwatch', 'clockwork', 'clodhop', 'clone', 'clooney', 'clori', 'close', 'closeknit', 'closemind', 'closer', 'closest', 'closet', 'closeup', 'closur', 'cloth', 'cloud', 'cloudi', 'clout', 'clown', 'cloy', 'club', 'clubber', 'clue', 'clueless', 'clumsi', 'clumsili', 'clunk', 'clunker', 'clunki', 'clutch', 'clutter', 'clyde', 'cmon', 'co', 'coach', 'coachman', 'coal', 'coalfield', 'coalit', 'coalwood', 'coast', 'coastal', 'coaster', 'coastlin', 'coat', 'coattail', 'coax', 'cobbl', 'cobra', 'coburn', 'cocain', 'cochon', 'cochran', 'cocker', 'cocki', 'cockney', 'cockroach', 'cockroachlik', 'cocktail', 'coconspir', 'cocoon', 'cocoontyp', 'cod', 'coda', 'coddl', 'code', 'codenam', 'codepend', 'codger', 'codi', 'codif', 'coen', 'coenesqu', 'coerc', 'coercion', 'coeur', 'coexist', 'coffe', 'coffey', 'coffin', 'cog', 'cogent', 'coggin', 'cogliostro', 'cognac', 'cohaagen', 'cohen', 'coher', 'cohes', 'cohort', 'cohost', 'coif', 'coin', 'coinag', 'coincid', 'coincident', 'coitu', 'coke', 'cokeaddict', 'cokeaddl', 'cokehead', 'col', 'cold', 'coldblood', 'coldheart', 'coldli', 'cole', 'coleman', 'colett', 'coli', 'colin', 'coliseum', 'collabor', 'collag', 'collaps', 'collar', 'collat', 'collater', 'colleagu', 'collect', 'collector', 'colleen', 'colleg', 'collegetown', 'collett', 'collid', 'collin', 'collis', 'colloss', 'colm', 'colombia', 'colombian', 'colon', 'colonel', 'coloni', 'colonialist', 'colonis', 'colonist', 'color', 'colorado', 'colorless', 'coloss', 'colour', 'colqhoun', 'colton', 'columbia', 'columbian', 'columbiasoni', 'columbin', 'columbo', 'columbu', 'column', 'columnist', 'com', 'coma', 'comatos', 'comb', 'combat', 'combin', 'combo', 'comcoronafilmsdetailssw4', 'come', 'comeback', 'comed', 'comedi', 'comedian', 'comedienn', 'comedyadventur', 'comedydrama', 'comedymysteri', 'comedythril', 'comer', 'comet', 'cometdisast', 'comeupp', 'comfort', 'comic', 'comicallynam', 'comicbook', 'comicgeek', 'comicpanel', 'comicrelief', 'comingofag', 'comm', 'command', 'commando', 'commemor', 'commenc', 'commend', 'commensur', 'comment', 'commentari', 'commerc', 'commerci', 'commi', 'commiss', 'commission', 'commit', 'committe', 'commod', 'commodu', 'common', 'commonli', 'commonplac', 'commun', 'communist', 'commut', 'compact', 'compadr', 'compani', 'companion', 'compar', 'comparison', 'compart', 'compass', 'compassion', 'compat', 'compel', 'compendium', 'compens', 'compet', 'competit', 'competitor', 'compil', 'complac', 'complain', 'complaint', 'complement', 'complementari', 'complet', 'completli', 'complex', 'complexion', 'compli', 'complic', 'compliment', 'compon', 'compos', 'composerlyricist', 'composit', 'compound', 'comprehend', 'comprehens', 'compress', 'compris', 'compromis', 'compuls', 'compulsori', 'comput', 'computer', 'computeranim', 'computerdriven', 'computerenhanc', 'computergener', 'computerpart', 'comrad', 'con', 'conan', 'conceal', 'conced', 'conceit', 'conceiv', 'concentr', 'concept', 'conceptu', 'concern', 'concert', 'concerto', 'concis', 'conclud', 'conclus', 'conclusionth', 'concoct', 'concord', 'concret', 'concur', 'concurr', 'concuss', 'condemn', 'condens', 'condescend', 'condit', 'conditionnonstudio', 'condo', 'condom', 'condomina', 'condominium', 'condon', 'condor', 'conduct', 'conductor', 'conduit', 'coney', 'confect', 'confer', 'confess', 'confession', 'confid', 'confidenti', 'confin', 'confirm', 'confisc', 'conflict', 'conform', 'confound', 'confront', 'confrontatori', 'confus', 'confusingli', 'cong', 'congeni', 'conglomer', 'conglomerateshav', 'congo', 'congoles', 'congratul', 'congreg', 'congress', 'congression', 'congressman', 'conjug', 'conjunct', 'conjur', 'conman', 'conn', 'connect', 'connecticut', 'connectthedot', 'connel', 'connelli', 'conner', 'conneri', 'conni', 'connipt', 'conniv', 'connoisseur', 'connor', 'connot', 'conor', 'conquer', 'conquest', 'conrad', 'conscienc', 'consciencedepriv', 'consciencestricken', 'conscienti', 'consciou', 'conscious', 'conscript', 'consecut', 'consensu', 'consent', 'consequ', 'consequenti', 'conserv', 'consid', 'consider', 'consist', 'consol', 'conspicu', 'conspir', 'conspiraci', 'constabl', 'constanc', 'constant', 'constantli', 'constel', 'constitut', 'constitution', 'constrain', 'constraint', 'constrict', 'constru', 'construct', 'constructedharri', 'consul', 'consult', 'consum', 'consumatori', 'consumer', 'consumm', 'consumpt', 'contact', 'contagi', 'contagion', 'contain', 'contamin', 'contempl', 'contempor', 'contemporari', 'contempt', 'contemptu', 'contend', 'content', 'contenti', 'contest', 'context', 'contextu', 'conti', 'contin', 'continu', 'contort', 'contracept', 'contract', 'contractor', 'contractuallyoblig', 'contradict', 'contradictori', 'contrapt', 'contrari', 'contraryaccord', 'contrast', 'contribut', 'contributor', 'contriv', 'control', 'controlfreak', 'controversi', 'conundrum', 'convalesc', 'conveni', 'convent', 'convention', 'converg', 'convers', 'conversationheavi', 'convert', 'convey', 'convict', 'convinc', 'convincingli', 'convolut', 'convuls', 'conway', 'coo', 'cook', 'cooki', 'cookiecutt', 'cool', 'coolashel', 'cooler', 'coolest', 'cooli', 'coolidg', 'coolio', 'cooper', 'coordin', 'cop', 'cope', 'copeland', 'cophuntingkil', 'copi', 'copiou', 'copkil', 'copper', 'coppola', 'coproduc', 'copul', 'copybook', 'copycat', 'copyright', 'coquett', 'cora', 'coraghessan', 'corbin', 'cord', 'cordon', 'core', 'corey', 'corinthian', 'cork', 'corki', 'corleon', 'corman', 'cormangrad', 'cormanwannab', 'corn', 'cornbal', 'cornel', 'corner', 'cornfield', 'cornflak', 'corni', 'cornucopia', 'corolla', 'corp', 'corpor', 'corpul', 'corral', 'correct', 'correctli', 'correl', 'correspond', 'corridor', 'corrobor', 'corrod', 'corrupt', 'corruptor', 'cort', 'cortez', 'corusc', 'cosbi', 'cosett', 'cosmic', 'cosmo', 'cosmopolitan', 'cost', 'costa', 'costanza', 'costar', 'costli', 'costner', 'costum', 'cottag', 'cotteril', 'cotton', 'couch', 'cough', 'coughlan', 'could', 'coulda', 'couldnt', 'couldv', 'council', 'councilman', 'counsel', 'counselor', 'count', 'countdown', 'counten', 'counter', 'counterattack', 'counterbalanc', 'countercultur', 'counterexampl', 'counterfeit', 'countermeasur', 'counterpart', 'counterpoint', 'counti', 'countless', 'countri', 'countryman', 'countrysid', 'coup', 'coupl', 'couplet', 'courag', 'courier', 'cours', 'court', 'courteou', 'courtesan', 'courtesi', 'courtney', 'courtroom', 'courtship', 'cousin', 'coutur', 'coven', 'cover', 'coverag', 'covert', 'covertur', 'coverup', 'covet', 'cow', 'cowan', 'coward', 'cowardic', 'cowardli', 'cowboy', 'cowel', 'cower', 'cowgirl', 'cowork', 'cowri', 'cowritten', 'cowrot', 'cox', 'coy', 'coyl', 'coyot', 'cozi', 'crab', 'crabbi', 'crack', 'crackl', 'cradl', 'craft', 'craftednot', 'crafti', 'craftsman', 'craftsmanship', 'craggi', 'craig', 'cram', 'cramp', 'crane', 'cranium', 'crank', 'cranki', 'crap', 'crappi', 'crash', 'crass', 'crate', 'crave', 'craven', 'crawford', 'crawl', 'craze', 'crazi', 'craziest', 'crazybeauti', 'creaki', 'cream', 'creat', 'creation', 'creativ', 'creator', 'creatur', 'credenti', 'credibl', 'credit', 'credo', 'credul', 'creed', 'creek', 'creep', 'creeper', 'creepi', 'creepier', 'creepili', 'creepsand', 'creepylook', 'cremat', 'creme', 'crescendo', 'crest', 'cretac', 'crevillen', 'crew', 'crewman', 'crewmat', 'crewmemb', 'cri', 'crib', 'crichton', 'cricket', 'crime', 'crimegonewrong', 'crimin', 'crimson', 'cring', 'cringeinduc', 'cringeworthi', 'crippl', 'crise', 'crisi', 'crisp', 'crispin', 'cristal', 'criterion', 'critic', 'criticallyacclaim', 'criticmod', 'critiqu', 'critter', 'croatia', 'croatian', 'croc', 'crochet', 'crock', 'crocodil', 'croft', 'cromagnon', 'cromwel', 'cronenberg', 'cronenbergesqu', 'croni', 'crook', 'crooksposedasphotograph', 'croon', 'crop', 'croquett', 'crosbi', 'cross', 'crosscountri', 'crosscultur', 'crosscut', 'crossdress', 'crossexamin', 'crossgat', 'crossov', 'crossroad', 'crosssect', 'crossword', 'crotch', 'crotcheti', 'crouch', 'croupier', 'crow', 'crowbar', 'crowd', 'crowdpleas', 'crown', 'cru', 'crucial', 'crucibl', 'crucifi', 'crucifixion', 'crud', 'crude', 'crue', 'cruel', 'cruella', 'cruelli', 'cruelti', 'cruis', 'cruiser', 'crumb', 'crumbl', 'crummi', 'crump', 'crumpl', 'crunch', 'crunchabl', 'crusad', 'crush', 'crusher', 'crust', 'crusti', 'crutchcarri', 'crux', 'cruz', 'cryofreez', 'cryogen', 'cryotub', 'cryptic', 'crystal', 'cub', 'cuba', 'cuban', 'cube', 'cubicl', 'cubism', 'cuckold', 'cuckoo', 'cuddi', 'cuddl', 'cuddli', 'cue', 'cuesta', 'cui', 'cuisin', 'culinari', 'cull', 'cullen', 'culmin', 'culpabl', 'culprit', 'cult', 'cultish', 'cultist', 'cultur', 'cultureclash', 'culturespecif', 'cum', 'cumberland', 'cumbersom', 'cumin', 'cumul', 'cun', 'cunningham', 'cup', 'cur', 'curb', 'curdl', 'cure', 'curio', 'curiou', 'curious', 'curl', 'curli', 'curmudgeon', 'current', 'currentfilm', 'curri', 'currysp', 'cursori', 'curt', 'curtail', 'curtain', 'curtal', 'curti', 'curtli', 'curv', 'curvebal', 'cusp', 'cuss', 'cussword', 'custodi', 'custodian', 'custom', 'customari', 'cut', 'cutback', 'cute', 'cutesi', 'cutest', 'cuti', 'cutout', 'cutter', 'cutthroat', 'cuttingandpast', 'cuttingedg', 'cuz', 'cy', 'cybernet', 'cyborg', 'cycl', 'cyclop', 'cylind', 'cyndi', 'cynic', 'cynthia', 'cyril', 'cyru', 'cystic', 'czech', 'czechoslovakia', 'da', 'dab', 'dabbl', 'dabo', 'dad', 'daddi', 'dadgum', 'dagger', 'daggeredg', 'dahl', 'daili', 'daimon', 'dainti', 'dairi', 'daisi', 'dalai', 'dale', 'dalek', 'daley', 'dali', 'dall', 'dalla', 'dalmatian', 'dalton', 'dam', 'damag', 'dame', 'damm', 'dammit', 'damn', 'damnat', 'damnedest', 'damnedifyoudo', 'damnedifyoudont', 'damnit', 'damon', 'damp', 'dampen', 'damper', 'damsel', 'dan', 'dana', 'danc', 'dancer', 'dancesong', 'dandi', 'dane', 'dang', 'danger', 'dangereus', 'dangerfield', 'dangl', 'danica', 'daniel', 'danish', 'dank', 'danni', 'dant', 'danver', 'daphn', 'dar', 'darbi', 'darci', 'dare', 'daredevil', 'daresay', 'dario', 'dariu', 'dark', 'darken', 'darker', 'darkest', 'darkli', 'darl', 'darlen', 'darn', 'darnedest', 'darnel', 'darrel', 'darren', 'darrow', 'darryl', 'dart', 'darth', 'dartmoor', 'daryl', 'dash', 'dashboard', 'dastardli', 'data', 'databas', 'datalink', 'date', 'dateunsound', 'daugher', 'daughter', 'daughterinlaw', 'daunt', 'dave', 'davi', 'david', 'davidovich', 'davidson', 'daw', 'dawkin', 'dawn', 'dawson', 'day', 'daydream', 'dayglo', 'daylewi', 'daylight', 'daytim', 'dayton', 'daytona', 'daze', 'dazzl', 'dazzlingli', 'de', 'dea', 'deacon', 'dead', 'deadbangon', 'deadbeat', 'deaden', 'deadend', 'deadli', 'deadlin', 'deadmanoncampu', 'deadpan', 'deadset', 'deaf', 'deaki', 'deakin', 'deal', 'dealer', 'dealt', 'dean', 'deanna', 'dear', 'dearest', 'dearli', 'dearth', 'death', 'deathaspitt', 'deathb', 'deathdefi', 'deathless', 'deathli', 'debacl', 'debas', 'debat', 'debaucheri', 'debbi', 'debilit', 'debonair', 'deborah', 'debra', 'debri', 'debt', 'debut', 'debutant', 'decad', 'decalogu', 'decapit', 'decay', 'deceas', 'deceit', 'deceiv', 'decemb', 'decenc', 'decent', 'decept', 'decid', 'decidedli', 'decil', 'decim', 'deciph', 'decis', 'deck', 'declan', 'declar', 'declin', 'decod', 'deconstruct', 'decor', 'decorum', 'decre', 'decreas', 'decrepit', 'decrimin', 'dedic', 'deduct', 'dee', 'deed', 'deede', 'deedl', 'deejay', 'deem', 'deep', 'deepa', 'deepcor', 'deepen', 'deeper', 'deepest', 'deepli', 'deepspac', 'deepvoic', 'deer', 'default', 'defeat', 'defec', 'defect', 'defend', 'defens', 'defer', 'defi', 'defianc', 'defiantli', 'defici', 'deficit', 'defil', 'defin', 'definit', 'deflow', 'deft', 'deftli', 'defunct', 'defus', 'degen', 'degener', 'deglamor', 'degrad', 'degre', 'dehuman', 'deidr', 'deirdr', 'deiti', 'deja', 'dekinai', 'del', 'delacroix', 'delaney', 'delawar', 'delay', 'delect', 'deleg', 'delet', 'delgado', 'delhi', 'delia', 'deliber', 'delic', 'delicaci', 'delicatessen', 'delici', 'delight', 'delilah', 'delin', 'deliri', 'delirium', 'deliv', 'deliver', 'deliveri', 'delko', 'dell', 'della', 'delmar', 'delta', 'delud', 'delug', 'delus', 'delusion', 'delv', 'demand', 'demarco', 'demean', 'demeanor', 'demeanour', 'dement', 'dementia', 'demi', 'demis', 'demo', 'democraci', 'democrat', 'demograph', 'demolit', 'demon', 'demoni', 'demonstr', 'demornaylik', 'demot', 'den', 'deni', 'denial', 'denigr', 'denis', 'denizen', 'denmark', 'denni', 'denomin', 'denot', 'denouement', 'denounc', 'denser', 'dent', 'dental', 'dentist', 'denton', 'dentro', 'denver', 'denzel', 'depardieu', 'depart', 'departur', 'depend', 'depict', 'deplet', 'deplor', 'deploy', 'depo', 'deport', 'deporte', 'deposit', 'depp', 'deprav', 'depress', 'depressingli', 'depriv', 'depth', 'deputi', 'der', 'derail', 'derang', 'derek', 'derelict', 'derid', 'deris', 'deriv', 'dern', 'dero', 'derogatori', 'derring', 'descend', 'descent', 'deschanel', 'describ', 'descript', 'desensit', 'desert', 'deserv', 'deservedli', 'desi', 'design', 'desir', 'desire', 'desk', 'desmond', 'desol', 'desouza', 'despair', 'desper', 'desperado', 'despic', 'despis', 'despit', 'despond', 'dessert', 'destin', 'destini', 'destroy', 'destruct', 'detach', 'detail', 'detect', 'detector', 'deter', 'deterg', 'deterior', 'determin', 'detest', 'dethron', 'deton', 'detour', 'detox', 'detract', 'detractor', 'detriment', 'detritu', 'detroit', 'deu', 'deuc', 'deux', 'devant', 'devarimyom', 'devast', 'devastatingli', 'develop', 'devereaux', 'devi', 'devianc', 'deviant', 'deviat', 'devic', 'devil', 'devilish', 'devin', 'deviou', 'devious', 'devlin', 'devoid', 'devolv', 'devon', 'devot', 'devote', 'devotedli', 'devour', 'devout', 'dew', 'dewey', 'dewitt', 'dewyey', 'dex', 'dexter', 'dey', 'dharma', 'di', 'diabol', 'diaboliqu', 'diagnos', 'dial', 'dialect', 'dialog', 'dialogu', 'dialogueless', 'diamond', 'dian', 'diana', 'diann', 'diaphragm', 'diari', 'diarrhea', 'diatrib', 'diaz', 'dicaprio', 'dice', 'dichotomi', 'dicillo', 'dick', 'dicken', 'dickinson', 'dickson', 'dictat', 'diction', 'dictionari', 'didact', 'diddli', 'didi', 'didnt', 'die', 'diego', 'diehard', 'dien', 'diesel', 'diet', 'differ', 'differenti', 'difficult', 'difficulti', 'dig', 'digest', 'digestgumpian', 'digg', 'digger', 'digit', 'dignifi', 'dignitari', 'digniti', 'digress', 'dil', 'dilapid', 'dilemma', 'dilig', 'dillon', 'dim', 'dime', 'dimens', 'dimension', 'diminish', 'diminut', 'dimitri', 'dimlylit', 'dimwit', 'din', 'dina', 'dine', 'diner', 'dingi', 'dingwal', 'dinki', 'dinner', 'dino', 'dinosaur', 'dinosaurlik', 'dinsmoor', 'dionesqu', 'dionysian', 'dip', 'diplomat', 'dire', 'direct', 'directli', 'director', 'directoractorcowrit', 'directorexecut', 'directori', 'directorscreenwrit', 'directorwrit', 'directtovideo', 'dirk', 'dirt', 'dirti', 'dirtiest', 'dirtytrick', 'disabl', 'disadvantag', 'disaffect', 'disagre', 'disallow', 'disappear', 'disappoint', 'disappointingli', 'disapprov', 'disarm', 'disarmingli', 'disarray', 'disast', 'disastr', 'disbelief', 'disburs', 'disc', 'discard', 'discern', 'discipl', 'disciplin', 'disclaim', 'disclos', 'disclosur', 'disco', 'discombobul', 'discomfort', 'disconcert', 'disconnect', 'discont', 'discord', 'discothequ', 'discount', 'discourag', 'discov', 'discoveri', 'discredit', 'discrimin', 'discus', 'disdain', 'diseas', 'disembodi', 'disembowel', 'disench', 'disenfranchis', 'disengag', 'disfigur', 'disgrac', 'disgruntl', 'disguis', 'disgust', 'disgustingli', 'dish', 'dishearten', 'dishevel', 'dishmold', 'dishwash', 'disillus', 'disillusion', 'disintegr', 'disinterest', 'disinvit', 'disjoint', 'disk', 'dislik', 'disloc', 'dismal', 'dismay', 'dismemb', 'dismiss', 'disney', 'disneycut', 'disneyesqu', 'disneyfi', 'disneyland', 'disobedi', 'disobey', 'disord', 'disori', 'disorient', 'disown', 'dispair', 'dispar', 'dispatch', 'dispens', 'dispers', 'displac', 'display', 'displeasur', 'dispos', 'disposit', 'disput', 'disquiet', 'disregard', 'disrespect', 'disrupt', 'dissapoint', 'dissatisfact', 'dissatisfi', 'dissect', 'dissembl', 'dissert', 'dissimilar', 'dissip', 'dissolv', 'dissuad', 'distanc', 'distant', 'distast', 'distil', 'distinct', 'distinctli', 'distinguish', 'distort', 'distract', 'distractingli', 'distraught', 'distress', 'distribut', 'distributor', 'district', 'distrust', 'disturb', 'disturbingbehavior', 'disturbingli', 'ditch', 'ditti', 'ditto', 'ditzi', 'diva', 'dive', 'diver', 'diverg', 'divert', 'divest', 'divid', 'divin', 'divis', 'divorc', 'divulg', 'divvi', 'dixon', 'dizzi', 'dizzyingli', 'dmitri', 'dna', 'dobey', 'dobi', 'dobson', 'doc', 'dock', 'docket', 'doctor', 'doctrin', 'docudrama', 'document', 'documentari', 'documentarian', 'dodg', 'doe', 'doer', 'doesnt', 'dog', 'dogcatch', 'dogi', 'doglik', 'dogma', 'dogmat', 'doin', 'dolbi', 'dolc', 'dole', 'dolittl', 'doll', 'dollar', 'dollhous', 'dolli', 'dollop', 'dolor', 'dolph', 'dolphin', 'dom', 'domain', 'dome', 'domest', 'domicil', 'domin', 'domingo', 'dominion', 'dominiqu', 'don', 'donahu', 'donald', 'donaldson', 'donat', 'done', 'donkey', 'donn', 'donna', 'donnel', 'donnelli', 'donner', 'donni', 'donofrio', 'donor', 'donovan', 'dont', 'donthatemeforbeingasimpleton', 'donut', 'doo', 'doodl', 'doodoo', 'doofu', 'doogi', 'doom', 'doomandgloom', 'doomsay', 'door', 'doorman', 'doorstep', 'doorway', 'doozi', 'dope', 'dopedouteyeview', 'dopey', 'doppelgang', 'dor', 'dora', 'dorado', 'dorft', 'dori', 'dorian', 'dork', 'dorki', 'dorm', 'dormant', 'dorn', 'dornack', 'dorothi', 'dos', 'dosag', 'dose', 'dosent', 'dossier', 'dostoevski', 'dot', 'dotcom', 'dote', 'dotti', 'doubl', 'doublebil', 'doublecamera', 'doublecross', 'doubleduti', 'doubleedg', 'doubleentendr', 'doubleexposur', 'doubleperson', 'doubleprong', 'doubleteam', 'doublewhammi', 'doublewid', 'doubli', 'doubt', 'doubtfir', 'doubtlessli', 'doug', 'dough', 'dougherti', 'dougla', 'dour', 'douriff', 'dous', 'dove', 'dovetail', 'dow', 'dowd', 'down', 'downanddirti', 'downandout', 'downatheel', 'downbeat', 'downer', 'downey', 'downfal', 'downgrad', 'downhil', 'downi', 'download', 'downonherluck', 'downplay', 'downpour', 'downright', 'downsid', 'downsiz', 'downstair', 'downtim', 'downtoearth', 'downtown', 'downtrodden', 'downward', 'doyl', 'doze', 'dozen', 'drab', 'draco', 'dracula', 'draft', 'drag', 'dragnet', 'dragon', 'dragonfli', 'dragonheart', 'dragonlik', 'dragonprotect', 'drain', 'drainag', 'drake', 'drama', 'dramat', 'drank', 'drape', 'drapehang', 'draper', 'drastic', 'draw', 'drawback', 'drawbridg', 'drawer', 'drawl', 'drawn', 'dread', 'dream', 'dreamcatch', 'dreami', 'dreamlik', 'dreamrosaleen', 'dreamscap', 'dreamwork', 'dreamworld', 'dreari', 'dreck', 'dredd', 'drench', 'dress', 'dresser', 'dressmak', 'drew', 'dreyfu', 'dreyfus', 'dri', 'drift', 'drifter', 'drill', 'driller', 'drink', 'drip', 'drippi', 'driscol', 'drive', 'drivel', 'driven', 'driver', 'driversrapist', 'driveway', 'drivin', 'drixenol', 'drizzl', 'droid', 'droll', 'drone', 'drool', 'drop', 'dropoff', 'dropout', 'drove', 'drown', 'drug', 'drugaddict', 'druggedout', 'druggi', 'druginduc', 'drugstor', 'drum', 'drumlin', 'drummer', 'drunk', 'drunkard', 'drunken', 'drunkenstyl', 'dryer', 'dryland', 'du', 'dual', 'dualiti', 'duan', 'dub', 'dubiou', 'duboi', 'dubya', 'duc', 'duchovni', 'duck', 'duckl', 'duct', 'dud', 'duddi', 'dude', 'dudley', 'due', 'duel', 'duet', 'duffel', 'duffl', 'dug', 'dugan', 'duguay', 'duh', 'dukaki', 'duke', 'dull', 'duller', 'dullest', 'duma', 'dumb', 'dumbass', 'dumbeddown', 'dumber', 'dumbest', 'dumbfound', 'dummi', 'dumont', 'dump', 'duncan', 'dune', 'duneesqu', 'dung', 'dungeon', 'dunham', 'dunk', 'dunn', 'dunno', 'duo', 'dupe', 'duplic', 'duplicit', 'duquett', 'durabl', 'durat', 'durham', 'durn', 'dushkin', 'dusk', 'dussandermuch', 'dussolli', 'dust', 'dusti', 'dustin', 'dutch', 'duti', 'dutton', 'duval', 'dvdrip', 'dwarf', 'dwarv', 'dwayn', 'dwell', 'dweller', 'dwindl', 'dy', 'dyer', 'dykstra', 'dylan', 'dynam', 'dynamit', 'dynasti', 'dysfunct', 'dysfunction', 'dystop', 'dzundza', 'ea', 'eachoth', 'eager', 'eagerli', 'eagl', 'eamon', 'ear', 'earl', 'earli', 'earlier', 'earliest', 'earmark', 'earn', 'earnest', 'earnestli', 'earp', 'earth', 'eartha', 'earthi', 'earthl', 'earthli', 'earthlik', 'earthorbit', 'earthquak', 'earthshatt', 'earthward', 'earthworm', 'easi', 'easier', 'easiest', 'easili', 'east', 'easter', 'eastern', 'eastward', 'eastwick', 'eastwood', 'easygo', 'easylisten', 'eat', 'eaten', 'eater', 'ebenez', 'ebola', 'ebouaney', 'eccentr', 'eccleston', 'echelon', 'echo', 'eckhart', 'eclect', 'eclips', 'eclmtcts1', 'ecologist', 'econ', 'econom', 'economi', 'ecstasi', 'ecstat', 'eczema', 'ed', 'eddard', 'eddi', 'eddiedirk', 'eden', 'edg', 'edgar', 'edgecomb', 'edgefield', 'edgemont', 'edgi', 'edi', 'edict', 'edif', 'edison', 'edit', 'edith', 'editor', 'editori', 'edmund', 'edna', 'edu', 'eduard', 'eduardo', 'educ', 'edvard', 'edward', 'edwin', 'ee', 'eech', 'eek', 'eeri', 'eerili', 'eet', 'effac', 'effect', 'effectivecontribut', 'effectsfil', 'effectsladen', 'effectsload', 'effectu', 'effemin', 'effervesc', 'effici', 'effort', 'effortless', 'effortlessli', 'eg', 'egan', 'egg', 'egger', 'egghead', 'eggsel', 'ego', 'egocentr', 'egotist', 'egypt', 'egyptian', 'egyptologist', 'eh', 'eiffel', 'eight', 'eighteen', 'eighteenth', 'eighteenwheel', 'eighth', 'eighti', 'eighttrack', 'eighty', 'eightyear', 'eightyearold', 'eileen', 'eilonwi', 'einer', 'einstein', 'eisenhow', 'eitel', 'either', 'el', 'elabor', 'elain', 'elbow', 'elder', 'elderli', 'elderman', 'eldest', 'eleanor', 'elect', 'elector', 'electr', 'electrifi', 'electro', 'electrocut', 'electrogreen', 'electron', 'eleg', 'elegantli', 'elegi', 'element', 'elementari', 'elementsearth', 'elena', 'eleph', 'elev', 'eleven', 'elevenyearold', 'elgin', 'eli', 'elia', 'elicit', 'elig', 'elijah', 'elimin', 'elis', 'elisa', 'elisabeth', 'elit', 'elitist', 'elixir', 'eliza', 'elizabeth', 'elizando', 'elk', 'ell', 'ella', 'ellen', 'elli', 'elliot', 'elliott', 'elm', 'elmer', 'elmo', 'elmor', 'elois', 'eloqu', 'elroy', 'elsewher', 'elsewheretheir', 'elspeth', 'elton', 'elucid', 'elud', 'elus', 'elv', 'elvi', 'elvis', 'elwood', 'em', 'email', 'emascul', 'embarass', 'embark', 'embarrass', 'embarrassingli', 'embassi', 'embed', 'embellish', 'ember', 'embezzl', 'embitt', 'emblazon', 'emblemat', 'embodi', 'emboss', 'embrac', 'embri', 'embroid', 'embroil', 'emce', 'emer', 'emerald', 'emerg', 'emerson', 'emigr', 'emil', 'emili', 'emilio', 'emin', 'emir', 'emiss', 'emissari', 'emma', 'emmanuel', 'emmerich', 'emmet', 'emmi', 'emmon', 'emo', 'emot', 'emotionless', 'empath', 'empathet', 'empathi', 'emperor', 'emphas', 'emphasi', 'emphasis', 'emphat', 'empir', 'employ', 'employe', 'empor', 'empti', 'emptyhead', 'emshwil', 'emul', 'en', 'enabl', 'enact', 'enamor', 'encapsul', 'encas', 'enchant', 'enclav', 'enclos', 'encompass', 'encor', 'encount', 'encourag', 'encroach', 'encyclopedia', 'end', 'endang', 'endear', 'endearingli', 'endeavor', 'endless', 'endlessli', 'endo', 'endora', 'endow', 'endsfreud', 'endup', 'endur', 'enemi', 'energ', 'energet', 'energi', 'enforc', 'eng', 'engag', 'engelbrecht', 'engin', 'england', 'english', 'englishdub', 'englishman', 'englishspeak', 'englishwoman', 'engrav', 'engross', 'engulf', 'enhanc', 'enigma', 'enigmat', 'enjoy', 'enlighten', 'enlist', 'enliven', 'enmiti', 'ennio', 'eno', 'enola', 'enorm', 'enough', 'enquir', 'enrag', 'enraptur', 'enrich', 'enrol', 'ensembl', 'enshrin', 'enshroud', 'enslav', 'ensu', 'ensur', 'ent', 'entail', 'entangl', 'entendr', 'enter', 'enterpris', 'enterprisecommand', 'entertain', 'entertainingli', 'entertainmentbuck', 'enthral', 'enthus', 'enthusiasm', 'enthusiast', 'entic', 'entir', 'entireti', 'entiti', 'entitl', 'entomb', 'entourag', 'entrail', 'entraillook', 'entranc', 'entrap', 'entrench', 'entrepreneur', 'entrepreneuri', 'entri', 'entrust', 'entrylevel', 'envelop', 'envi', 'enviou', 'environ', 'environment', 'environmentalist', 'envis', 'epa', 'ephesian', 'epic', 'epicent', 'epichandsom', 'epicwannab', 'epidem', 'epigraph', 'epilepsi', 'epilogu', 'epiphani', 'episod', 'episodespatlabor', 'epitom', 'eponym', 'epp', 'epsicokhan', 'epstein', 'equal', 'equallyinnov', 'equalopportun', 'equat', 'equidist', 'equin', 'equinox', 'equip', 'equival', 'er', 'era', 'eraserhead', 'ere', 'eri', 'eric', 'erica', 'erich', 'eriksen', 'erin', 'ern', 'ernest', 'erni', 'ernst', 'erod', 'erot', 'erotic', 'erotica', 'err', 'errand', 'errant', 'errat', 'errol', 'error', 'ershon', 'erstwhil', 'erudit', 'erupt', 'escal', 'escap', 'escapad', 'escape', 'escapist', 'eschew', 'escobar', 'escort', 'esmeralda', 'especi', 'espionag', 'esposito', 'espous', 'esquir', 'essay', 'essenc', 'essenti', 'est', 'establish', 'estat', 'esteem', 'estella', 'estevez', 'esther', 'estim', 'estrang', 'eszterha', 'eszterhasish', 'et', 'etat', 'etc', 'etch', 'etern', 'ethan', 'ethel', 'ether', 'ethic', 'ethnic', 'ethnocentr', 'etymolog', 'eugen', 'eugenio', 'eulog', 'eunuch', 'euphegenia', 'euphor', 'euphoria', 'europ', 'european', 'eurovamp', 'ev', 'eva', 'evac', 'evacu', 'evad', 'evalu', 'evan', 'evangel', 'evangelist', 'evas', 'eve', 'evelyn', 'even', 'evenhand', 'evenli', 'evennumb', 'event', 'eventemp', 'eventu', 'ever', 'everattent', 'everawkward', 'everclear', 'evercontrari', 'everett', 'everglad', 'evergrow', 'everi', 'everlast', 'everparti', 'everpopular', 'everpres', 'everreli', 'everybodi', 'everyday', 'everyman', 'everyon', 'everyonesgoingtogo', 'everyth', 'everythingandthekitchensink', 'everytim', 'everyweek', 'everywher', 'evict', 'evid', 'evidenc', 'evil', 'evoc', 'evok', 'evolut', 'evolv', 'ewan', 'ewel', 'ewok', 'ex', 'exacerb', 'exact', 'exactli', 'exagger', 'exaggeratedthi', 'exalt', 'exam', 'examin', 'exampl', 'exasper', 'excalibur', 'excav', 'exce', 'exceed', 'exceedingli', 'exceedinglyprofession', 'excel', 'except', 'excerpt', 'excess', 'exchang', 'excit', 'exclaim', 'exclam', 'exclud', 'exclus', 'excom', 'excruci', 'excruciatingli', 'excurs', 'excus', 'exec', 'execr', 'execut', 'execution', 'exemplari', 'exemplifi', 'exercis', 'exert', 'exfil', 'exhal', 'exhaust', 'exhibit', 'exhilar', 'exil', 'exist', 'existenti', 'existenz', 'exit', 'exley', 'exminingmaximum', 'exodu', 'exoner', 'exorcis', 'exorcist', 'exot', 'expand', 'expans', 'expansionist', 'expat', 'expatri', 'expect', 'expectantli', 'expedi', 'expedit', 'expel', 'expend', 'expens', 'experi', 'experienc', 'experiment', 'expert', 'expertis', 'expertli', 'expir', 'explain', 'explan', 'explet', 'explicit', 'explicitli', 'explod', 'exploit', 'explor', 'exploratori', 'explos', 'expo', 'exponenti', 'export', 'exposit', 'exposur', 'expound', 'express', 'expressionless', 'expressli', 'expuls', 'expurg', 'exquisit', 'exsqueez', 'extend', 'extens', 'extent', 'exterior', 'extermin', 'extern', 'extinct', 'extinguish', 'extort', 'extra', 'extract', 'extracurricular', 'extramarit', 'extran', 'extraordinair', 'extraordinari', 'extraordinarili', 'extrapol', 'extraterrestri', 'extravag', 'extravaganza', 'extrem', 'extremist', 'exuber', 'exud', 'exwif', 'exxon', 'eye', 'eyebal', 'eyebrow', 'eyecandi', 'eyecatch', 'eyegrab', 'eyelash', 'eyelevel', 'eyeopen', 'eyepop', 'ez', 'ezekiel', 'fa', 'fab', 'faber', 'fabl', 'fablelik', 'fabric', 'fabul', 'facad', 'face', 'facebook', 'facehugg', 'faceless', 'facelift', 'facet', 'faceti', 'facetofac', 'facial', 'facil', 'facilit', 'facinelli', 'fact', 'faction', 'facto', 'factor', 'factori', 'factual', 'faculti', 'fad', 'fade', 'faggot', 'fahrenheit', 'fail', 'failsaf', 'failur', 'faint', 'faintest', 'fair', 'fairer', 'fairfolk', 'fairi', 'fairli', 'fairytal', 'fairytalelik', 'faith', 'faithheal', 'faithless', 'fake', 'faker', 'fakey', 'falcon', 'falk', 'fall', 'fallaci', 'fallen', 'fallibl', 'falloff', 'fallon', 'fallout', 'fals', 'falsehood', 'falter', 'fame', 'familar', 'famili', 'familiar', 'familyand', 'familyfriend', 'familyfriendli', 'familyori', 'familyrun', 'famou', 'famous', 'fan', 'fanat', 'fanatic', 'fanbas', 'fanboy', 'fanci', 'fandom', 'fanfar', 'fang', 'fanni', 'fantas', 'fantasi', 'fantasia', 'fantast', 'fanzin', 'far', 'farbissina', 'farc', 'farcic', 'fare', 'farewel', 'farfetch', 'fargo', 'farina', 'farley', 'farm', 'farmboy', 'farmer', 'farmerwizard', 'farmhous', 'farquaad', 'farrah', 'farrel', 'fart', 'farther', 'fascial', 'fascin', 'fascism', 'fascist', 'fashion', 'fassbind', 'fast', 'fastempti', 'fasten', 'faster', 'fasterthan', 'fasterthanlight', 'fastest', 'fastforward', 'fastidi', 'fastmot', 'fastmov', 'fastpac', 'fasttalk', 'fat', 'fatal', 'fatboy', 'fate', 'father', 'fatherinlaw', 'fatherknowsbest', 'fatherless', 'fatherli', 'fathom', 'fatter', 'fatti', 'fatuou', 'faucet', 'fault', 'faux', 'favor', 'favorit', 'favour', 'favourit', 'fawcett', 'fawn', 'fax', 'fay', 'fbi', 'fe', 'fealti', 'fear', 'fearless', 'feasibl', 'feast', 'feat', 'feather', 'featherhat', 'featheri', 'featherston', 'featherweight', 'featur', 'featurelength', 'featurett', 'februari', 'fed', 'feder', 'federico', 'fedora', 'fee', 'feebl', 'feebli', 'feed', 'feeder', 'feel', 'feelgood', 'feihong', 'feinberg', 'feint', 'feisti', 'feldman', 'felic', 'felin', 'felix', 'fell', 'fella', 'fellat', 'fellatio', 'fellini', 'felliti', 'fellow', 'felon', 'felt', 'femal', 'femin', 'feminin', 'feminist', 'femm', 'femmebutchfemm', 'fenc', 'fend', 'feral', 'ferdinand', 'fergu', 'ferguson', 'fern', 'fernanda', 'fernando', 'feroc', 'feroci', 'ferrari', 'ferrault', 'ferrel', 'ferret', 'ferri', 'fertil', 'fervent', 'fervor', 'fes', 'fest', 'fester', 'festiv', 'fetch', 'fete', 'fetish', 'fetishist', 'feud', 'feudal', 'fever', 'feverish', 'feverishli', 'fewer', 'fflewdurr', 'fianc', 'fiance', 'fiasco', 'fibr', 'fibrosi', 'fickl', 'fiction', 'fictionesqu', 'fictiti', 'fiddl', 'fide', 'fidel', 'fiefdom', 'field', 'fiendish', 'fierc', 'fieri', 'fierstein', 'fieryhair', 'fiesti', 'fifteen', 'fifth', 'fifti', 'fiftieth', 'fifty', 'fiftyon', 'fiftythre', 'figaro', 'figgi', 'fight', 'fighter', 'figueroa', 'figur', 'figurewatch', 'fiji', 'file', 'filipino', 'filiu', 'fill', 'filler', 'fillinginthegap', 'fillmor', 'film', 'filmcrit', 'filmfeihong', 'filmfreakcentr', 'filmgoer', 'filmhannib', 'filmi', 'filmic', 'filmmak', 'filmnoir', 'filmographi', 'filmor', 'filmtwic', 'filmwithinafilm', 'filter', 'filth', 'filthi', 'final', 'financ', 'financi', 'financiallystrap', 'finch', 'find', 'fine', 'finelook', 'finelycraft', 'finelyr', 'finer', 'finest', 'finger', 'fingernail', 'fingerprint', 'fingertip', 'fini', 'finish', 'fink', 'finland', 'finn', 'finnegan', 'finney', 'finski', 'fiona', 'fire', 'firearm', 'firebal', 'firebird', 'firebreath', 'firecrack', 'firefight', 'fireman', 'fireplac', 'firepow', 'firestorm', 'firework', 'firkin', 'firm', 'firmer', 'firmli', 'first', 'firstclass', 'firstev', 'firsthand', 'firstli', 'firstproduc', 'firsttim', 'firth', 'fischer', 'fish', 'fishbon', 'fisher', 'fisherman', 'fishi', 'fishnet', 'fishnetstock', 'fishoutofwat', 'fist', 'fistfight', 'fit', 'fitzgerald', 'fitzpatrick', 'five', 'fiveminut', 'fiveyear', 'fix', 'fixtur', 'fizz', 'fizzl', 'fla', 'flabbi', 'flag', 'flail', 'flair', 'flake', 'flaki', 'flamboy', 'flamboyantli', 'flame', 'flamingo', 'flanagan', 'flander', 'flank', 'flanneri', 'flap', 'flare', 'flash', 'flashback', 'flashbang', 'flashcard', 'flashdanc', 'flasher', 'flashi', 'flashiest', 'flashynewth', 'flat', 'flatland', 'flatli', 'flatlin', 'flatlywritten', 'flatter', 'flatul', 'flaunt', 'flavor', 'flavour', 'flaw', 'flawless', 'flawlessli', 'flea', 'fleabag', 'fled', 'fledgl', 'flee', 'fleet', 'fleeth', 'fleetingli', 'fleme', 'flemish', 'flesh', 'fleshandblood', 'flesheat', 'fleshedout', 'fletch', 'fletcher', 'fletcherchannel', 'flew', 'flex', 'flexibl', 'fli', 'flick', 'flight', 'flighti', 'flik', 'flimsi', 'fling', 'flint', 'flintston', 'flip', 'flippant', 'flipper', 'flirt', 'flirtat', 'flirtati', 'flit', 'float', 'flock', 'flood', 'floodwat', 'floor', 'floorboard', 'flop', 'floppi', 'flore', 'florenc', 'florentino', 'florida', 'floridaset', 'florist', 'flounder', 'flourish', 'flow', 'flower', 'flowershop', 'flowerstear', 'flown', 'floyd', 'flu', 'flubber', 'fluff', 'fluffi', 'fluid', 'fluidli', 'fluke', 'fluro', 'flurri', 'flush', 'fluster', 'flute', 'flutist', 'flutter', 'flyblown', 'flynn', 'flyover', 'foam', 'focal', 'focu', 'focus', 'fodder', 'foe', 'fog', 'foggi', 'foggiest', 'fogi', 'foibl', 'foil', 'foist', 'fold', 'foley', 'folk', 'folklor', 'folli', 'follow', 'followup', 'fond', 'fondest', 'fondl', 'fong', 'font', 'fontain', 'foo', 'food', 'fool', 'foolish', 'foolishli', 'foot', 'footag', 'footbal', 'footloos', 'footmassag', 'footnot', 'footprint', 'footstep', 'fop', 'foppish', 'foran', 'foray', 'forb', 'forbid', 'forbidden', 'forc', 'forcibl', 'forcook', 'ford', 'fore', 'forebod', 'forecast', 'foredoom', 'forefront', 'forego', 'foreground', 'forehead', 'foreign', 'foreknowledg', 'foreman', 'foremost', 'forens', 'foreplay', 'forese', 'foreshadow', 'foresight', 'forest', 'foretast', 'forev', 'forewarn', 'forfiv', 'forg', 'forget', 'forgett', 'forgiv', 'forgiven', 'forgot', 'forgotten', 'fork', 'form', 'formal', 'forman', 'format', 'former', 'formerli', 'formid', 'formul', 'formula', 'formulawis', 'forrest', 'forster', 'forsyt', 'forsyth', 'fort', 'forth', 'forthcom', 'forthright', 'forti', 'fortitud', 'fortnight', 'fortress', 'fortun', 'forty', 'forum', 'forward', 'foster', 'fought', 'foul', 'foulmouth', 'foultemp', 'found', 'foundat', 'founder', 'foundri', 'fountain', 'four', 'fourlett', 'foursom', 'fourteen', 'fourteenth', 'fourth', 'fowl', 'fox', 'foxi', 'foxx', 'foyer', 'fozzi', 'fraction', 'fractur', 'fragil', 'fragment', 'fragmentari', 'frail', 'frake', 'frame', 'framework', 'fran', 'franc', 'francesca', 'franchis', 'franci', 'francin', 'francisco', 'franciscobas', 'franco', 'francoi', 'frank', 'franken', 'frankenheim', 'frankenstein', 'frankensteinfilm', 'frankfurt', 'franki', 'frankli', 'franklin', 'frantic', 'franz', 'franzin', 'fraser', 'frasier', 'frat', 'fratern', 'frau', 'fraud', 'fraught', 'fray', 'freak', 'freaki', 'freakish', 'fred', 'freddi', 'freder', 'frederick', 'free', 'freed', 'freedom', 'freelanc', 'freeli', 'freeman', 'freespirit', 'freeway', 'freewheel', 'freez', 'freighter', 'fremen', 'french', 'frenchcanadian', 'frenchi', 'frenchman', 'frenet', 'frenzi', 'frequenc', 'frequent', 'fresh', 'fresher', 'freshest', 'freshfac', 'freshfromjersey', 'freshli', 'freshman', 'fret', 'freud', 'fri', 'frick', 'frickin', 'friction', 'friday', 'fridg', 'friedman', 'friend', 'friendli', 'friendship', 'frigginnobi', 'fright', 'frighten', 'frighteningli', 'frightfre', 'frigid', 'frill', 'fring', 'frisco', 'friski', 'fritz', 'frivol', 'frizzi', 'fro', 'frock', 'frog', 'frolic', 'frolick', 'front', 'frontag', 'frontal', 'frontier', 'frost', 'froth', 'frothi', 'frown', 'frozen', 'fruit', 'fruitcak', 'fruition', 'fruitless', 'frumpi', 'frustrat', 'fu', 'fuck', 'fuckin', 'fuckyou', 'fuddyduddi', 'fuel', 'fuent', 'fugit', 'fugli', 'fuhrer', 'fulcrum', 'fulfil', 'full', 'fullcircl', 'fuller', 'fullest', 'fullfil', 'fullfledg', 'fullforc', 'fullfront', 'fulli', 'fulllength', 'fullspe', 'fulltim', 'fullyanim', 'fullycloth', 'fullyr', 'fumbl', 'fume', 'fun', 'function', 'fund', 'fundament', 'fundamentalist', 'fundrais', 'funer', 'fungu', 'funhous', 'funk', 'funki', 'funkiest', 'funlov', 'funnel', 'funner', 'funnest', 'funni', 'funnier', 'funniest', 'funnyman', 'funnyth', 'fur', 'furi', 'furiou', 'furious', 'furlong', 'furnac', 'furnish', 'furnitur', 'furri', 'furrow', 'further', 'furthermor', 'furtwangl', 'fury161', 'fuse', 'fusion', 'fuss', 'fussi', 'futil', 'futileattempt', 'futur', 'futurist', 'futuristiclook', 'fuzzi', 'ga', 'gab', 'gabbi', 'gabe', 'gabi', 'gabl', 'gabriel', 'gabriela', 'gabriella', 'gadget', 'gadgetfil', 'gadgetri', 'gaelic', 'gaeta', 'gaff', 'gag', 'gaga', 'gail', 'gain', 'gait', 'gal', 'gala', 'galact', 'galactica', 'galaxi', 'gale', 'galileo', 'gallagh', 'gallantri', 'galleri', 'gallian', 'gallon', 'gallop', 'gallow', 'galor', 'galosh', 'galvan', 'gambit', 'gambl', 'gambler', 'gambol', 'game', 'gamesmanship', 'gamut', 'gandolfini', 'gang', 'gangbang', 'gangbust', 'gangland', 'gangsta', 'gangster', 'gangsterflick', 'gantri', 'ganz', 'gap', 'gape', 'gara', 'garafolo', 'garag', 'garb', 'garbag', 'garbageman', 'garbl', 'garcia', 'garden', 'gardner', 'garfield', 'garfunkel', 'gargantuan', 'gargoyl', 'gari', 'garish', 'garland', 'garlic', 'garment', 'garner', 'garofalo', 'garofolo', 'garrett', 'garri', 'garrison', 'garter', 'garth', 'gas', 'gase', 'gaskel', 'gasmask', 'gasolin', 'gasolinefil', 'gasp', 'gate', 'gateway', 'gather', 'gator', 'gatorwrestl', 'gaudi', 'gaudier', 'gaug', 'gaulthier', 'gave', 'gavin', 'gawker', 'gawki', 'gay', 'gaz', 'gaze', 'gazel', 'gazer', 'gazillion', 'gazillionair', 'gbatokai', 'gear', 'gecko', 'gedda', 'gee', 'geek', 'geeki', 'geena', 'geez', 'geezer', 'geisha', 'gel', 'gelfl', 'gellar', 'geller', 'gem', 'gen', 'gena', 'gender', 'genderbend', 'gene', 'gener', 'genesi', 'genet', 'geneticist', 'geneva', 'geneviev', 'geni', 'genial', 'genit', 'geniu', 'genius', 'genr', 'genreiknowwhatyoudidlastsumm', 'gent', 'gentil', 'gentl', 'gentleman', 'gentler', 'gentlewoman', 'gentli', 'genu', 'genuin', 'genus', 'geoff', 'geoffrey', 'geograph', 'geographi', 'geolog', 'geordi', 'georg', 'georgia', 'georgina', 'gerald', 'geraldo', 'gerard', 'gerber', 'gere', 'geri', 'geriatr', 'germ', 'german', 'germani', 'germanwest', 'germaphob', 'gerri', 'gershwin', 'gertrud', 'gestat', 'gestur', 'get', 'getaway', 'getout', 'getthrough', 'getti', 'gettin', 'getto', 'gettogeth', 'getup', 'gevedon', 'geyser', 'ghastli', 'ghetto', 'ghettoiz', 'ghost', 'ghostbust', 'ghostfac', 'ghostli', 'ghostlik', 'ghoul', 'ghoulish', 'gi', 'giacomo', 'giallo', 'giamatti', 'giancarlo', 'giant', 'giantscreen', 'gibb', 'gibberish', 'gibbon', 'gibson', 'giddi', 'giddili', 'gielgud', 'gif', 'gift', 'gig', 'gigabyt', 'gigant', 'giggl', 'gigi', 'gigolo', 'gil', 'gila', 'gilbert', 'gile', 'gilfoyl', 'gill', 'gillian', 'gilligan', 'gilmor', 'gilroy', 'gimmick', 'gimmicki', 'gina', 'ginger', 'gingerbread', 'gingerli', 'gingrich', 'ginseng', 'giorgio', 'giosue9', 'giovanni', 'girl', 'girlaspir', 'girlcrazi', 'girlfriend', 'girlish', 'girlongirl', 'gish', 'gist', 'git', 'giusepp', 'give', 'giveaway', 'given', 'gizmo', 'gizzard', 'glad', 'gladi', 'gladiat', 'gladli', 'gladston', 'glam', 'glamor', 'glamour', 'glanc', 'glare', 'glaringli', 'glass', 'glassyey', 'glaze', 'gleam', 'glean', 'glee', 'gleeful', 'gleefulli', 'glen', 'glenda', 'glengarri', 'glenglenda', 'glenn', 'glib', 'glide', 'glimmer', 'glimps', 'glisten', 'glitter', 'glitz', 'glitzi', 'global', 'globe', 'globetrot', 'gloom', 'gloomi', 'glori', 'gloria', 'glorifi', 'gloriou', 'glorious', 'glorystar', 'gloss', 'glossi', 'glove', 'glover', 'glow', 'glu', 'glue', 'glum', 'glut', 'gluttoni', 'gnarl', 'gnome', 'go', 'goad', 'goal', 'goat', 'goate', 'gob', 'gobbl', 'gobbledegook', 'gobbledygook', 'goblin', 'god', 'godard', 'godaw', 'goddam', 'goddamn', 'goddard', 'goddaught', 'goddess', 'godfath', 'godfathertrilog', 'godforsaken', 'godfrey', 'godless', 'godli', 'godlik', 'godzilla', 'goe', 'goer', 'goggl', 'gogo', 'goingon', 'goir', 'gold', 'goldberg', 'goldblum', 'golden', 'goldeney', 'goldenrod', 'goldens', 'goldi', 'goldman', 'goldmin', 'goldsmith', 'goldstarv', 'goldstein', 'goldthwait', 'golf', 'golfer', 'golli', 'gollum', 'gomorrah', 'gon', 'gone', 'gong', 'gonzo', 'goo', 'good', 'goodal', 'goodbi', 'goodby', 'gooder', 'goodfella', 'goodheart', 'goodi', 'goodlook', 'goodman', 'goodnatur', 'goodnight', 'goodnotgreat', 'goodspirit', 'gooey', 'goof', 'goofbal', 'goofi', 'goofier', 'goofybutlov', 'googli', 'googoo', 'goombah', 'goon', 'goop', 'goran', 'gorbachev', 'gord', 'gordi', 'gordo', 'gordon', 'gordonlevitt', 'gore', 'gorgeou', 'gori', 'goriest', 'gorilla', 'gorman', 'goro', 'gosh', 'gospel', 'gossip', 'gossipi', 'got', 'gotcha', 'goth', 'gotham', 'gothic', 'gotten', 'goug', 'gould', 'gourmet', 'govern', 'government', 'governor', 'gra', 'grab', 'grabthar', 'grace', 'gracious', 'grad', 'grade', 'grader', 'gradeschool', 'gradi', 'gradient', 'gradisca', 'gradual', 'graduat', 'graduationspecif', 'graem', 'graffiti', 'graft', 'graham', 'grail', 'grain', 'graini', 'grammar', 'grammer', 'grammi', 'grand', 'grandchild', 'granddaddi', 'granddaught', 'grander', 'grandest', 'grandeur', 'grandfath', 'grandios', 'grandma', 'grandmoth', 'grandpa', 'grandpar', 'grandson', 'granger', 'granit', 'granni', 'grant', 'grape', 'graph', 'graphic', 'grappl', 'grasp', 'grass', 'grasshopp', 'grassroot', 'grate', 'gratifi', 'gratuit', 'gratuiti', 'grave', 'gravedigg', 'graveston', 'graveyard', 'graviti', 'gray', 'grayscal', 'grayston', 'graze', 'graziella', 'greas', 'greaser', 'greasi', 'great', 'greater', 'greatest', 'greatli', 'greatlook', 'greed', 'greedi', 'green', 'greener', 'greeneri', 'greenfing', 'greenhous', 'greenleaf', 'greenlight', 'greenlit', 'greenway', 'greenwood', 'greer', 'greeson', 'greet', 'greg', 'gregg', 'gregor', 'gregori', 'gregorio', 'gremlin', 'grenad', 'grenkowitz', 'greta', 'gretchen', 'gretel', 'gretest', 'grew', 'grey', 'greyhound', 'gridlock', 'grief', 'griefstricken', 'grier', 'griev', 'grievanc', 'grievou', 'griffin', 'griffith', 'grifter', 'grill', 'grim', 'grimac', 'grimi', 'grimli', 'grimmest', 'grin', 'grinch', 'grind', 'grinder', 'grindhous', 'grip', 'gripe', 'grisli', 'grissom', 'griswold', 'grit', 'gritti', 'grittier', 'grizzl', 'grizzli', 'groan', 'groceri', 'groeteschel', 'grogan', 'groin', 'gromit', 'groom', 'groomtob', 'groov', 'groovi', 'gross', 'grossest', 'grossli', 'grotesqu', 'grouch', 'grouchi', 'grouchland', 'ground', 'groundbreak', 'groundhog', 'groundwork', 'group', 'grouptherapi', 'grous', 'grove', 'grovel', 'grow', 'growl', 'grown', 'grownup', 'grownupsthi', 'growth', 'grubbi', 'grudg', 'grudgingli', 'gruesom', 'gruff', 'grufftalk', 'gruffudd', 'grumbl', 'grump', 'grumpi', 'grumpier', 'grungi', 'grunt', 'gu', 'guarante', 'guard', 'guardian', 'guaspari', 'gucci', 'guerilla', 'guerra', 'guerrilla', 'guess', 'guest', 'guffaw', 'guggenheim', 'gui', 'guid', 'guidanc', 'guidelin', 'guido', 'guil', 'guild', 'guildenstern', 'guilderian', 'guildmand', 'guillermo', 'guillotin', 'guilt', 'guilti', 'guiltili', 'guiltypleasur', 'guin', 'guinea', 'guinever', 'guitar', 'guitarist', 'guitarplay', 'gulf', 'gullet', 'gullibl', 'gulliv', 'gulp', 'gum', 'gump', 'gumption', 'gun', 'gundeal', 'gunfight', 'gunfir', 'gunga', 'gungan', 'gunk', 'gunman', 'gunneri', 'gunplay', 'gunpoint', 'gunrun', 'gunrunn', 'gunshot', 'gunston', 'guru', 'gush', 'gustav', 'gusto', 'gut', 'gutbust', 'gutierrez', 'gutsi', 'guttenberg', 'guttur', 'gutwrench', 'guy', 'guzman', 'gwen', 'gwyneth', 'gwythant', 'gyllenha', 'gym', 'gymnasium', 'gymnast', 'gynecologist', 'gynecomastia', 'gypsi', 'gyrat', 'ha', 'haa', 'habanero', 'habit', 'habitat', 'hachi', 'hack', 'hacker', 'hackett', 'hackmod', 'hackney', 'hadda', 'hade', 'hadnt', 'hagakur', 'haggard', 'haha', 'hai', 'hail', 'hailstorm', 'hair', 'hairbrush', 'haircut', 'hairdo', 'hairdress', 'hairi', 'hairlik', 'hairobsess', 'hairstyl', 'hairstylist', 'haissam', 'hal', 'haley', 'half', 'halfa', 'halfalien', 'halfasleep', 'halfback', 'halfbak', 'halfbroth', 'halfdecad', 'halfdigest', 'halfdozen', 'halfempti', 'halfexpect', 'halfgrab', 'halfheart', 'halfheartedli', 'halfhour', 'halfjokingli', 'halfman', 'halfmillion', 'halfnak', 'halford', 'halfpaid', 'halfsist', 'halfstar', 'halfstarv', 'halfvampir', 'halfway', 'halfwit', 'hall', 'halli', 'halliwel', 'hallmark', 'halloway', 'halloween', 'halloweentown', 'hallucin', 'hallucinatori', 'hallucinogen', 'hallucinogenfuel', 'hallway', 'halosian', 'halpern', 'halt', 'halv', 'ham', 'hamburg', 'hamhand', 'hamilton', 'hamlet', 'hamm', 'hammer', 'hammi', 'hammond', 'hamper', 'hampshir', 'hamradio', 'hamster', 'han', 'hancock', 'hand', 'handblown', 'handbook', 'handcuf', 'handcuff', 'handdeliv', 'handdrawn', 'handed', 'handel', 'handful', 'handgun', 'handheld', 'handi', 'handicap', 'handili', 'handinhand', 'handl', 'handler', 'handphon', 'handsom', 'handsomest', 'handswash', 'handtohand', 'handyman', 'hang', 'hangar', 'hanger', 'hangman', 'hangout', 'hanim', 'hank', 'hanksryan', 'hannah', 'hannib', 'hanoi', 'hanov', 'hansel', 'hanson', 'haphazard', 'hapless', 'happen', 'happi', 'happier', 'happiest', 'happili', 'happygolucki', 'happyyet', 'har', 'hara', 'harass', 'harbor', 'hard', 'hardass', 'hardback', 'hardbal', 'hardboil', 'hardcor', 'harden', 'harder', 'hardest', 'hardfor', 'hardhead', 'hardhit', 'hardi', 'hardli', 'hardman', 'hardnos', 'hardpress', 'hardriv', 'hardship', 'hardtack', 'hardtocategor', 'hardtofind', 'hardtoget', 'hardwar', 'hardwork', 'harebrain', 'harford', 'hark', 'harken', 'harker', 'harkonnen', 'harland', 'harlem', 'harm', 'harmless', 'harmon', 'harmoni', 'harmonica', 'harold', 'harp', 'harper', 'harrass', 'harri', 'harridan', 'harrier', 'harriet', 'harrington', 'harrisburg', 'harrison', 'harrow', 'harsh', 'harsher', 'harshest', 'harshli', 'harshseem', 'hart', 'hartley', 'hartleyian', 'hartman', 'harvard', 'harvest', 'harvey', 'hasan', 'hasbeen', 'hashbrown', 'hashish', 'hasid', 'hasnt', 'hassl', 'hast', 'hasta', 'hasten', 'hastili', 'hat', 'hatch', 'hatcher', 'hatchet', 'hate', 'hater', 'hath', 'hatr', 'hatti', 'haughti', 'haul', 'haunt', 'hauntingli', 'hauser', 'haut', 'hauteur', 'havent', 'havilland', 'havisham', 'havoc', 'hawaii', 'hawala', 'hawk', 'hawkin', 'hawthorn', 'hay', 'hayakawa', 'hayashi', 'hayley', 'hayn', 'haysbert', 'haywir', 'hazard', 'haze', 'hazel', 'hazi', 'hbo', 'he', 'head', 'headach', 'headacheinduc', 'headandshould', 'headbang', 'headbop', 'headcount', 'headdress', 'header', 'headhunt', 'headi', 'headin', 'headingbut', 'headless', 'headlin', 'headlong', 'headphon', 'headquart', 'headscratch', 'headstrong', 'headtohead', 'heal', 'heali', 'health', 'healthi', 'healyloui', 'heap', 'hear', 'heard', 'hearken', 'heart', 'heartach', 'heartbreak', 'heartbroken', 'heartfelt', 'hearti', 'heartili', 'heartless', 'heartpound', 'heartstr', 'heartthrob', 'heartwarm', 'heartwrench', 'heartwrenchingli', 'heat', 'heath', 'heather', 'heav', 'heaven', 'heavenli', 'heavi', 'heavier', 'heavili', 'heavilyarm', 'heavilybespectacl', 'heavyhand', 'heavyhanded', 'heavymet', 'heavyweight', 'hebrew', 'heck', 'heckerl', 'heckl', 'hectic', 'hector', 'hed', 'hedg', 'hedon', 'hedonist', 'hedwig', 'hee', 'heebiejeebi', 'heed', 'heede', 'heel', 'heer', 'heft', 'hefti', 'heh', 'heifer', 'heigh', 'height', 'heighten', 'heil', 'heimlich', 'heinlein', 'heinou', 'heir', 'heiress', 'heisenberg', 'heist', 'held', 'helen', 'helena', 'helfgott', 'helgeland', 'helgenberg', 'helicopt', 'helium', 'helix', 'hell', 'hellbent', 'hellish', 'hello', 'hellrais', 'helluva', 'helm', 'helmer', 'helmerscript', 'helmet', 'help', 'helper', 'helpless', 'hemant', 'hemispher', 'hen', 'henc', 'henceforth', 'henchman', 'henderson', 'hendrix', 'henley', 'henna', 'hennessey', 'henri', 'henrickson', 'hensleigh', 'henslow', 'henson', 'henstridg', 'her', 'herald', 'herb', 'herbal', 'herbert', 'herbi', 'herc', 'hercul', 'herd', 'here', 'hereaft', 'herein', 'herel', 'heresi', 'heret', 'heretofor', 'herfor', 'heritag', 'herkyjerki', 'herman', 'hermaphrodit', 'hermet', 'hermit', 'hermitlik', 'hermosa', 'hernandez', 'herniat', 'hero', 'heroic', 'heroin', 'heroinaddict', 'heroinesariel', 'heroism', 'heron', 'hershey', 'hershman', 'herskovitz', 'hertz', 'hertzfeld', 'herwith', 'herzog', 'hese', 'hesit', 'hesitantli', 'hess', 'hessian', 'hester', 'heston', 'heterosexu', 'hewitt', 'hey', 'heyday', 'hi', 'hiatu', 'hick', 'hickey', 'hid', 'hidden', 'hide', 'hideaway', 'hideo', 'hideou', 'hideous', 'hideout', 'hierarchi', 'hieroglyph', 'higgin', 'high', 'highcalori', 'highconcept', 'highcultur', 'highenergi', 'higher', 'highest', 'highestgross', 'highfli', 'highgross', 'highheel', 'highland', 'highlevel', 'highli', 'highlight', 'highlin', 'highlyanticip', 'highlypopul', 'highlyr', 'highpitch', 'highpow', 'highpric', 'highpriest', 'highprofil', 'highschool', 'highsocieti', 'highspirit', 'highstak', 'highstrung', 'hightech', 'highway', 'hijack', 'hijink', 'hike', 'hilar', 'hilari', 'hill', 'hillari', 'hillbilli', 'hilt', 'himherself', 'himl', 'hinder', 'hindranc', 'hindu', 'hinein', 'hing', 'hinki', 'hint', 'hinterland', 'hip', 'hiphop', 'hipper', 'hippest', 'hippi', 'hippo', 'hipster', 'hire', 'hirono', 'hiroshi', 'hiroshima', 'hirschfeld', 'hishertheir', 'hispan', 'hiss', 'histor', 'histori', 'historian', 'histrion', 'hit', 'hitandmiss', 'hitch', 'hitchcock', 'hitchcockian', 'hitchhik', 'hither', 'hitler', 'hitman', 'hitmencisco', 'hitter', 'hiv', 'hive', 'ho', 'hoari', 'hoax', 'hobb', 'hobbi', 'hobbit', 'hobbl', 'hobbyist', 'hockey', 'hodg', 'hodgepodg', 'hoenick', 'hoffman', 'hog', 'hogan', 'hogarth', 'hognos', 'hoh', 'hoist', 'hoke', 'hokey', 'hokeylook', 'hokum', 'holbrook', 'hold', 'holden', 'holder', 'holdsbar', 'holdup', 'hole', 'holeinthewal', 'holi', 'holiday', 'holidaygo', 'holidaymak', 'holland', 'holler', 'holli', 'holliday', 'hollow', 'holloway', 'hollywood', 'holm', 'holocaust', 'holograph', 'homag', 'home', 'homeboy', 'homecom', 'homeland', 'homeless', 'homemad', 'homemak', 'homer', 'homeroom', 'homestead', 'hometown', 'homework', 'homeworld', 'homey', 'homi', 'homicid', 'homili', 'homoerot', 'homogen', 'homophob', 'homosexu', 'honcho', 'honda', 'hone', 'honest', 'honesti', 'honestli', 'honestpoliticianrar', 'honey', 'honeymoon', 'honeymustard', 'hong', 'honk', 'honor', 'honorari', 'honour', 'hontou', 'hoo', 'hood', 'hoodlum', 'hook', 'hooker', 'hookey', 'hookladen', 'hooligan', 'hoop', 'hooper', 'hoopla', 'hoosier', 'hoot', 'hootworthi', 'hoov', 'hoover', 'hop', 'hope', 'hopeless', 'hopelessli', 'hopkin', 'hopper', 'hor', 'horatio', 'hord', 'horizon', 'horizont', 'hormon', 'hormonallyadvantag', 'horn', 'horndog', 'horni', 'horrend', 'horribl', 'horrid', 'horrif', 'horrifi', 'horrifyingli', 'horrock', 'horror', 'horrorcomedi', 'horrordrama', 'horrorfan', 'hors', 'horseback', 'horsedrawn', 'horseman', 'horseshit', 'hortens', 'hosanna', 'hose', 'hoshii', 'hoskin', 'hospit', 'host', 'hostag', 'hostagehold', 'hostess', 'hostil', 'hot', 'hotandcold', 'hotb', 'hotblood', 'hotcak', 'hotchner', 'hotel', 'hotenoughtomeltrubb', 'hotfudgerockin', 'hotlin', 'hotmail', 'hotpant', 'hotshot', 'hottemp', 'hotter', 'hottest', 'hotti', 'hou', 'hound', 'hour', 'hourandahalf', 'hous', 'houseboat', 'houseguest', 'household', 'housekeep', 'houseman', 'housewif', 'housewivesthat', 'houston', 'houyhnhnm', 'hover', 'how', 'howard', 'howev', 'howi', 'howitz', 'howl', 'howler', 'howser', 'hoyl', 'hsiaohsien', 'hsuehwei', 'hu', 'hubbard', 'hubbi', 'hubbub', 'hubert', 'hubot', 'huckster', 'huddl', 'huddleston', 'hudson', 'hudsuck', 'hue', 'huevelman', 'huf', 'huff', 'hug', 'huge', 'huggabl', 'hugger', 'hugh', 'hugo', 'huh', 'hulk', 'hull', 'hum', 'human', 'humanalien', 'humanist', 'humanitarian', 'humankind', 'humanli', 'humanlik', 'humanoid', 'humbl', 'humdrum', 'humid', 'humili', 'humong', 'humor', 'humorist', 'humorless', 'humour', 'humourless', 'hump', 'humpback', 'humphrey', 'humphri', 'humve', 'hun', 'hunch', 'hunchback', 'hundr', 'hundredyearold', 'hung', 'hungari', 'hungarian', 'hunger', 'hungri', 'hunk', 'hunkahunka', 'hunki', 'hunt', 'hunter', 'huntingburg', 'huntington', 'hurdl', 'huri', 'hurl', 'hurley', 'hurlyburli', 'hurray', 'hurri', 'hurrican', 'hurt', 'hurtl', 'husband', 'hush', 'hustl', 'hustler', 'hutchinson', 'hutt', 'hutton', 'huxley', 'hy', 'hyberborean', 'hyberboreansw', 'hybrid', 'hyde', 'hydepierc', 'hydra', 'hydraul', 'hydrophobia', 'hyena', 'hygien', 'hymn', 'hyne', 'hype', 'hyper', 'hyperact', 'hyperbol', 'hypercolor', 'hyperdr', 'hyperkinet', 'hypersleep', 'hyperspe', 'hypertens', 'hypnot', 'hypnotis', 'hypochondriac', 'hypocrisi', 'hypocrit', 'hypoderm', 'hypothesi', 'hypothet', 'hyster', 'hysteria', 'iambic', 'ian', 'ibi', 'ibn', 'ice', 'iceberg', 'icebound', 'icecor', 'icecream', 'ichabod', 'ici', 'icki', 'icon', 'iconoclast', 'iconographi', 'id', 'idaho', 'idea', 'ideal', 'idealist', 'ideia', 'ident', 'identif', 'identifi', 'ideolog', 'idioci', 'idiom', 'idiosyncrasi', 'idiosyncrat', 'idiot', 'idl', 'idler', 'idli', 'idol', 'idontknowwhen', 'idyl', 'ie', 'iffi', 'ifl', 'ig', 'iggi', 'iggyesuq', 'iglesia', 'ignit', 'ignor', 'ignorantli', 'igor', 'iguana', 'ihr', 'ii', 'iii', 'iiithough', 'ike', 'ikea', 'iknow', 'ilk', 'ill', 'illadvis', 'illconceiv', 'illeg', 'illegitim', 'illicit', 'illicitli', 'illinoi', 'illiter', 'illiteraci', 'illnatur', 'illog', 'illtemp', 'illtim', 'illumin', 'illus', 'illustr', 'illustri', 'ilona', 'ilsa', 'ilya', 'im', 'imag', 'imageri', 'imagethat', 'imagin', 'imaginari', 'imaginationand', 'imam', 'imbecil', 'imbu', 'imdb', 'imf', 'imhavingamidlifecrisi', 'imhotep', 'imit', 'immacul', 'immaculatelywhit', 'immatur', 'immeasur', 'immedi', 'immens', 'immers', 'immigr', 'immin', 'immor', 'immort', 'immun', 'impact', 'impair', 'impal', 'impart', 'impass', 'impati', 'impecc', 'impedi', 'impend', 'impenetr', 'imperfect', 'imperi', 'imperson', 'impertin', 'impetu', 'impish', 'implac', 'implant', 'implaus', 'implement', 'impli', 'implic', 'implicit', 'implicitli', 'implod', 'implor', 'impolit', 'imponder', 'import', 'importantli', 'impos', 'imposs', 'impot', 'impoverish', 'imprec', 'impregn', 'impresario', 'impress', 'impression', 'impressionist', 'imprison', 'improb', 'impromptu', 'improp', 'improv', 'improvis', 'impuls', 'impun', 'in', 'inabl', 'inaccur', 'inact', 'inadequ', 'inadequaci', 'inadvert', 'inan', 'inanim', 'inappropri', 'inargu', 'inauspici', 'inbetween', 'inbr', 'inc', 'incalcul', 'incap', 'incapacit', 'incarcer', 'incarn', 'incarnationsgraph', 'incendiari', 'incens', 'incent', 'incept', 'incess', 'incessantli', 'incest', 'incestu', 'inch', 'incid', 'incident', 'incis', 'incit', 'inclement', 'inclin', 'includ', 'includedwish', 'inclus', 'incognito', 'incoher', 'incom', 'incompar', 'incompet', 'incomplet', 'incomprehens', 'incongru', 'inconsequenti', 'inconsist', 'inconspicu', 'incorpor', 'incorrect', 'incorrectli', 'increas', 'increasingli', 'increasinglyflimsi', 'increasinglyflust', 'incred', 'incredul', 'incrimin', 'incumb', 'incur', 'inde', 'indec', 'indecipher', 'indefinantli', 'indel', 'independ', 'independentmind', 'indescrib', 'indestruct', 'indetermin', 'index', 'indi', 'india', 'indian', 'indiana', 'indianapoli', 'indic', 'indict', 'indiffer', 'indigen', 'indigest', 'indign', 'indignantli', 'indistinct', 'indistinguish', 'individu', 'individualunderdog', 'indoctrin', 'indol', 'indoor', 'induc', 'induct', 'indulg', 'industri', 'industrialist', 'inebri', 'ineff', 'ineffect', 'ineffectu', 'inelegantli', 'inept', 'ineptitud', 'inevit', 'inexcus', 'inexor', 'inexpens', 'inexperi', 'inexperienc', 'inexplic', 'inextric', 'infal', 'infam', 'infami', 'infanc', 'infant', 'infantil', 'infantri', 'infatu', 'infect', 'infecti', 'infer', 'inferior', 'inferno', 'infertil', 'infest', 'infidel', 'infiltr', 'infinit', 'infinitum', 'infirm', 'inflat', 'inflect', 'inflict', 'influenc', 'influenti', 'info', 'infomerci', 'inform', 'infrar', 'infrequ', 'infuri', 'infus', 'ing', 'ingeni', 'ingenu', 'ingest', 'ingmar', 'ingolstadt', 'ingrain', 'ingredi', 'ingrid', 'inhabit', 'inhal', 'inher', 'inherit', 'inhibit', 'inhuman', 'inimit', 'init', 'initi', 'inject', 'injur', 'injuri', 'injustic', 'inkeep', 'inki', 'inkl', 'inkpot', 'inland', 'inlaw', 'inmat', 'inn', 'innat', 'inner', 'inning', 'innoc', 'innocentlook', 'innocu', 'innocuousenoughonthesurfac', 'innov', 'innuendo', 'innumer', 'inoffens', 'inopportun', 'input', 'inquir', 'inquiri', 'inquisit', 'insan', 'insati', 'inscrib', 'inscrut', 'insect', 'insectopia', 'insecur', 'insensit', 'insepar', 'insert', 'inset', 'insid', 'insidi', 'insight', 'insignific', 'insincer', 'insinu', 'insipid', 'insist', 'insomnia', 'insomniac', 'insouci', 'inspect', 'inspector', 'inspir', 'instal', 'instanc', 'instant', 'instantan', 'instantli', 'instead', 'instig', 'instil', 'instinct', 'institut', 'instruct', 'instructor', 'instrument', 'insubstanti', 'insuffer', 'insuffici', 'insul', 'insular', 'insult', 'insultingli', 'insur', 'insurmount', 'insurrect', 'intact', 'intang', 'integr', 'intellect', 'intellectu', 'intellectuallychalleng', 'intellig', 'intend', 'intens', 'intensifi', 'intent', 'inter', 'interact', 'interc', 'intercept', 'interchang', 'interconnected', 'intercours', 'intercut', 'interdimension', 'interest', 'interestingli', 'interf', 'interfac', 'interfer', 'intergalact', 'interior', 'interlink', 'interlud', 'intermediari', 'intermin', 'intermingl', 'intermiss', 'intermitt', 'intern', 'internet', 'internetlik', 'internett', 'interperson', 'interplay', 'interpol', 'interpret', 'interraci', 'interrel', 'interrog', 'interrotron', 'interrupt', 'interschool', 'intersect', 'interspeci', 'interspers', 'interstellar', 'interstiti', 'intertwin', 'interv', 'interven', 'intervent', 'interview', 'interviewe', 'interweav', 'intestin', 'intim', 'intimaci', 'intimid', 'intoler', 'intox', 'intrepid', 'intrest', 'intric', 'intricaci', 'intrigu', 'intriguingli', 'intrins', 'intro', 'introduc', 'introduct', 'introductori', 'introspect', 'introvers', 'introvert', 'introvertboyfallsforextrovertgirl', 'intrud', 'intrus', 'intuit', 'inund', 'invad', 'invalid', 'invari', 'invas', 'invent', 'inventor', 'invest', 'investig', 'investor', 'invigor', 'invinc', 'invis', 'invit', 'invoc', 'invok', 'involuntari', 'involv', 'ioan', 'iodin', 'ion', 'iota', 'iowa', 'iowan', 'ipo', 'iq', 'ir', 'ira', 'iran', 'iranian', 'iraq', 'iraqi', 'irat', 'ire', 'ireland', 'iren', 'iri', 'iridesc', 'irish', 'irishitalian', 'irishman', 'irk', 'iron', 'ironclad', 'ironfist', 'ironi', 'ironsid', 'irrat', 'irration', 'irrelev', 'irrepar', 'irrepress', 'irresist', 'irrespons', 'irrever', 'irrevoc', 'irrit', 'irritatingli', 'irv', 'irvin', 'irwin', 'isaac', 'isaacman', 'isabel', 'isabella', 'isaiah', 'ishibashi', 'ishmael', 'isl', 'isla', 'islam', 'island', 'isnt', 'isol', 'isolation', 'isolationist', 'isra', 'israel', 'issu', 'issuesnam', 'issuether', 'istvan', 'it', 'itali', 'italian', 'italoamerican', 'itami', 'itch', 'itchi', 'itd', 'item', 'ith', 'itiner', 'itll', 'ito', 'itsaholocaustfilm', 'itsaspielbergfilm', 'itselfbox', 'itselfwhat', 'iv', 'ivan', 'ivana', 'ive', 'ivi', 'ivori', 'ja', 'jab', 'jabba', 'jack', 'jackal', 'jackalbas', 'jackass', 'jacket', 'jackhol', 'jacki', 'jackinthebox', 'jackman', 'jackoff', 'jackpot', 'jackson', 'jackstyl', 'jacob', 'jacobi', 'jacqu', 'jacquelin', 'jada', 'jade', 'jag', 'jagger', 'jah', 'jai', 'jail', 'jailbreak', 'jailer', 'jailhous', 'jak', 'jake', 'jakob', 'jam', 'jamaica', 'jamaican', 'jamal', 'jame', 'jamey', 'jami', 'jampack', 'jan', 'jane', 'janet', 'janett', 'janevski', 'janey', 'jani', 'janin', 'janitor', 'janitori', 'jansen', 'januari', 'japan', 'japanes', 'japanesespecif', 'jar', 'jare', 'jareau', 'jarmusch', 'jarvi', 'jasmin', 'jason', 'jaunt', 'javert', 'javier', 'jaw', 'jawbreak', 'jawdrop', 'jawdroppingli', 'jax', 'jay', 'jazz', 'jazzi', 'jealou', 'jealous', 'jealousi', 'jean', 'jeanclaud', 'jeanett', 'jeanhugu', 'jeanluc', 'jeanluk', 'jeanmarc', 'jeann', 'jeanpaul', 'jeanpierr', 'jeb', 'jedi', 'jee', 'jeep', 'jeeper', 'jeer', 'jeez', 'jeff', 'jefferson', 'jeffrey', 'jeffri', 'jekyl', 'jelli', 'jello', 'jen', 'jena', 'jenkin', 'jenna', 'jenni', 'jennif', 'jensen', 'jeopard', 'jeopardi', 'jeopardis', 'jeremi', 'jeremiah', 'jericho', 'jerk', 'jerki', 'jerom', 'jerri', 'jersey', 'jerusalem', 'jess', 'jessi', 'jessica', 'jester', 'jesu', 'jet', 'jeter', 'jetlin', 'jetpack', 'jettison', 'jeun', 'jew', 'jewel', 'jewelri', 'jewish', 'jiff', 'jiggl', 'jill', 'jillian', 'jilt', 'jim', 'jimi', 'jimmi', 'jing', 'jingl', 'jingoalltheway', 'jink', 'jinni', 'jiro', 'jitter', 'jitteri', 'jive', 'jivetalk', 'jo', 'joan', 'joann', 'joanna', 'joaquin', 'job', 'jobless', 'jobto', 'jocelyn', 'jock', 'jockey', 'jocki', 'jocular', 'jodi', 'joe', 'joel', 'joeli', 'joey', 'joff', 'jog', 'johanssen', 'john', 'johnathan', 'johnni', 'johnson', 'johnsongreg', 'johnston', 'join', 'joint', 'jojo', 'joke', 'joker', 'jokey', 'jokingli', 'joli', 'jolli', 'jolt', 'jon', 'jona', 'jonathan', 'jone', 'jonesi', 'jonni', 'joon', 'joplin', 'jordan', 'jordana', 'josef', 'joseph', 'josh', 'joshua', 'josi', 'joss', 'jour', 'journal', 'journalist', 'journey', 'joust', 'jovi', 'jovial', 'joy', 'joyless', 'joyou', 'joyrid', 'joystick', 'juan', 'juba', 'jubile', 'juda', 'judd', 'jude', 'judg', 'judgejuryand', 'judgement', 'judgeship', 'judgment', 'judi', 'judith', 'judo', 'judson', 'jug', 'juggernaut', 'juggl', 'juic', 'juici', 'jukebox', 'jule', 'juli', 'julia', 'julialoui', 'julian', 'juliann', 'juliet', 'juliett', 'julio', 'juliu', 'julliardtrain', 'jumanji', 'jumbl', 'jumbo', 'jump', 'jumpi', 'jumprop', 'jun', 'junction', 'junctur', 'june', 'jungian', 'jungl', 'juni', 'junior', 'junk', 'junket', 'junki', 'junkyard', 'jupit', 'jurass', 'jurgi', 'juri', 'jurisdict', 'juror', 'justic', 'justif', 'justifi', 'justin', 'justino', 'justli', 'justreleas', 'juvenil', 'juxtapos', 'juxtaposit', 'kafka', 'kafkaesqu', 'kahlan', 'kahn', 'kahuna', 'kai', 'kak', 'kala', 'kamen', 'kamikaz', 'kamil', 'kamp', 'kane', 'kaneshiro', 'kang', 'kangsheng', 'kanin', 'kansa', 'kaplan', 'kara', 'karaok', 'karaokebas', 'karaszewski', 'karat', 'karatechop', 'karelian', 'karen', 'kari', 'karin', 'karl', 'karla', 'karloff', 'karma', 'karo', 'kasa', 'kasi', 'kat', 'katana', 'katarina', 'kate', 'katherin', 'kathi', 'kathleen', 'kathryn', 'kati', 'katrina', 'katzenberg', 'kaufman', 'kay', 'kaya', 'kayla', 'kazantzaki', 'ke', 'kean', 'keanu', 'keat', 'keaton', 'keebler', 'keegan', 'keel', 'keeli', 'keen', 'keener', 'keenli', 'keep', 'keeper', 'keiko', 'keith', 'kel', 'keller', 'kelley', 'kelli', 'kellogg', 'kelsey', 'kemp', 'ken', 'kendal', 'kennedi', 'kennesaw', 'kenneth', 'kenni', 'kensington', 'kent', 'kentucki', 'kept', 'kerchak', 'kermit', 'kernel', 'kerr', 'kerri', 'kershner', 'kessler', 'ketchum', 'ketchup', 'kettl', 'kev', 'kevin', 'kevlar', 'kewl', 'kewpi', 'key', 'keyboard', 'keyser', 'khan', 'khanna', 'khondji', 'ki', 'kibosh', 'kick', 'kickass', 'kickbox', 'kicker', 'kickin', 'kickoff', 'kickthealiensass', 'kid', 'kidd', 'kiddi', 'kiddiefriendli', 'kiddieori', 'kiddieporn', 'kidin', 'kidnap', 'kidnapp', 'kidnapransom', 'kidney', 'kiefer', 'kieran', 'kieslowski', 'kihlstedt', 'kiki', 'kilgor', 'kill', 'killer', 'killerswithheart', 'killorbekil', 'kilometr', 'kilrathi', 'kilronan', 'kim', 'kimbap', 'kimberli', 'kimbl', 'kimmi', 'kin', 'kincaid', 'kind', 'kinda', 'kinder', 'kindergarten', 'kindest', 'kindheart', 'kindli', 'kindr', 'kinet', 'king', 'kingdom', 'kinginspir', 'kingpin', 'kingsley', 'kingston', 'kink', 'kinki', 'kinkier', 'kinsella', 'kinship', 'kip', 'kira', 'kirbi', 'kirk', 'kirkland', 'kirkpatrick', 'kirsten', 'kiss', 'kisser', 'kit', 'kitchen', 'kite', 'kitsch', 'kitschi', 'kitt', 'kitten', 'kitti', 'klan', 'klau', 'klein', 'kleiner', 'kleinfeld', 'klendathu', 'klingon', 'klitorski', 'klutz', 'klutzi', 'klux', 'knack', 'knee', 'kneejerk', 'knell', 'knew', 'knick', 'knife', 'knifewield', 'knight', 'knive', 'knob', 'knock', 'knockoff', 'knockout', 'knot', 'know', 'knowingli', 'knowledg', 'known', 'knox', 'knuckl', 'knucklehead', 'kob', 'koch', 'koenig', 'koji', 'komo', 'kong', 'kongbas', 'kooki', 'korea', 'korean', 'korngold', 'korra', 'kosher', 'kosovo', 'kosta', 'koufax', 'kowtow', 'kraft', 'kraftwerk', 'krajeski', 'kramer', 'kretschmann', 'kri', 'kringl', 'krippendorf', 'kris', 'kristen', 'kristi', 'kristin', 'kristofferson', 'kristopherson', 'krone', 'kronor', 'krueger', 'kruger', 'krumholtz', 'krypton', 'krzysztof', 'ku', 'kuan', 'kubrick', 'kudo', 'kueimei', 'kung', 'kungfu', 'kuosmanen', 'kuraishi', 'kurosawa', 'kurt', 'kurtz', 'kusari', 'kuzco', 'kwan', 'kwietniowski', 'kyle', 'kyzynskistyl', 'la', 'lab', 'label', 'labor', 'laboratori', 'labori', 'laborsinclud', 'labour', 'labourintens', 'labyrinth', 'labyrinthian', 'labyrinthin', 'lace', 'lacey', 'lachlan', 'lack', 'lackadais', 'lackey', 'lacklust', 'lacklustr', 'lacomb', 'lacon', 'lacross', 'lad', 'ladder', 'ladeedah', 'laden', 'ladi', 'ladybug', 'laert', 'laforg', 'lag', 'lagoon', 'lagravenes', 'laguna', 'lahor', 'laid', 'lair', 'lake', 'lakesid', 'lam', 'lama', 'lamb', 'lambda', 'lambert', 'lame', 'lamebrain', 'lament', 'lamest', 'lamp', 'lampoon', 'lanai', 'lanc', 'lancelot', 'land', 'landau', 'landfil', 'landi', 'landladi', 'landlord', 'landmark', 'lando', 'landon', 'landscap', 'lane', 'lang', 'langdon', 'languag', 'languid', 'languidli', 'lanki', 'lansburyssh', 'lansdal', 'lansquenet', 'lap', 'lapaglia', 'lapd', 'laptop', 'lar', 'lara', 'larch', 'larg', 'largebreast', 'larger', 'largerthanlif', 'largerthem', 'largest', 'larissa', 'lark', 'larri', 'larsen', 'larson', 'lasagna', 'laser', 'laserdisc', 'laserfilm', 'lash', 'lass', 'last', 'lastditch', 'lastli', 'lastminut', 'lastnight', 'lastyear', 'laszlo', 'latalant', 'latch', 'late', 'latefath', 'latemoth', 'latent', 'later', 'latest', 'latex', 'latin', 'latina', 'latitud', 'latrin', 'latter', 'latterli', 'laud', 'laudabl', 'laugh', 'laughabl', 'laughandgrossfest', 'laugher', 'laughless', 'laughomet', 'laughoutloud', 'laught', 'laughter', 'launch', 'laundri', 'lauper', 'laura', 'lauranc', 'lauren', 'laurenc', 'laurensylvia', 'lauri', 'lava', 'lavend', 'lavish', 'lavishlydecor', 'law', 'lawman', 'lawn', 'lawnmow', 'lawrenc', 'lawsuit', 'lawton', 'lawyer', 'lawyerfix', 'lawyerintrain', 'lawyerli', 'lax', 'laxativeinduc', 'lay', 'layer', 'layman', 'layoff', 'layout', 'lazard', 'lazer', 'lazi', 'laziest', 'lbenez', 'le', 'lea', 'lead', 'leaden', 'leader', 'leadership', 'leaf', 'leagu', 'leaguer', 'leak', 'lean', 'leann', 'leap', 'leapfrog', 'leari', 'learn', 'least', 'leasur', 'leather', 'leatherfac', 'leatherhead', 'leav', 'leavin', 'lebanes', 'lebesco', 'leblanc', 'lebowski', 'lech', 'lecher', 'lecheri', 'lecter', 'lectur', 'led', 'ledger', 'lee', 'leech', 'leela', 'leep', 'leer', 'leeri', 'leeway', 'left', 'lefti', 'leftist', 'leftov', 'leg', 'legaci', 'legal', 'legend', 'legendari', 'legendsthos', 'legion', 'legisl', 'legitim', 'legitimaci', 'legless', 'leguizamo', 'leguiziamo', 'lehman', 'leia', 'leigh', 'leila', 'leisur', 'lela', 'leland', 'lem', 'lemay', 'lemon', 'len', 'lena', 'lend', 'lender', 'length', 'lengthen', 'lengthi', 'leni', 'lenient', 'lenni', 'lennox', 'lens', 'lent', 'leo', 'leon', 'leonard', 'leonardo', 'leonetti', 'leonid', 'leopard', 'leplastri', 'leppenraub', 'lept', 'lerner', 'lesbian', 'lesbo', 'lesli', 'lesqu', 'lessen', 'lesser', 'lessexperienc', 'lesson', 'lessthan', 'lessthangratifi', 'lessthanlacklust', 'lessthanstellar', 'lest', 'lestat', 'lester', 'lestercorp', 'let', 'letdown', 'lethal', 'letharg', 'lether', 'letsputonashow', 'letter', 'letterbox', 'letterman', 'letterperfect', 'leukemia', 'levar', 'level', 'lever', 'leverag', 'levi', 'leviathan', 'levin', 'levinson', 'levinsondustin', 'leviti', 'lewi', 'lex', 'lez', 'lfe', 'lhren', 'li', 'lia', 'liabl', 'liaison', 'liam', 'lian', 'liao', 'liar', 'lib', 'libbi', 'liber', 'liberti', 'libido', 'librari', 'librarian', 'licenc', 'licens', 'lick', 'lid', 'lie', 'liebchen', 'lieberman', 'lien', 'lieu', 'lieuten', 'life', 'lifeaffirm', 'lifeboat', 'lifeform', 'lifeless', 'lifelik', 'lifelin', 'lifelong', 'lifeordeath', 'lifer', 'lifesav', 'lifespan', 'lifestyl', 'lifethreaten', 'lifetim', 'lift', 'liftedunauthorizedfrom', 'light', 'lighten', 'lighter', 'lightest', 'lightheart', 'lightli', 'lightn', 'lightsab', 'lightweight', 'lightyear', 'likabl', 'like', 'likeabl', 'likeit', 'likelihood', 'liken', 'likewis', 'likingdislik', 'lil', 'lili', 'lilian', 'lilith', 'lillian', 'limb', 'limbo', 'limbtwist', 'limecolor', 'limelight', 'limey', 'limit', 'limitless', 'limo', 'limousin', 'limp', 'limpwrist', 'lin', 'linc', 'lincoln', 'linda', 'lindbergh', 'linden', 'lindo', 'lindsay', 'lindsey', 'line', 'linear', 'lineback', 'liner', 'lineup', 'ling', 'linger', 'lingeri', 'link', 'linklat', 'linnet', 'linoleum', 'linwood', 'lion', 'lionel', 'lionheart', 'lioniz', 'lip', 'lipnicki', 'lipstick', 'lipsynch', 'lipton', 'liquefi', 'liquid', 'liquor', 'lisa', 'lisbon', 'liscinski', 'lisp', 'list', 'listen', 'listless', 'lit', 'litani', 'lite', 'liter', 'literaci', 'literari', 'literati', 'literatur', 'litho', 'litter', 'littl', 'littlebit', 'littleknown', 'littleseen', 'littlest', 'liu', 'liv', 'live', 'liveact', 'liveactiondisney', 'livein', 'liveli', 'livelihood', 'liven', 'liverpool', 'livestock', 'livingston', 'liz', 'lizard', 'lizzi', 'll', 'llama', 'llena', 'llewelyn', 'lloyd', 'lo', 'loach', 'load', 'loaf', 'loan', 'loanshark', 'loath', 'loathsom', 'lob', 'lobbi', 'lobbyist', 'lobotomi', 'lobster', 'local', 'locat', 'lock', 'locker', 'locket', 'lockstep', 'lockup', 'locust', 'lodg', 'lodger', 'loeb', 'loft', 'lofti', 'log', 'logan', 'loggia', 'logic', 'logo', 'lohan', 'loi', 'loiter', 'loki', 'lola', 'lolita', 'lollipop', 'loman', 'lomax', 'lombard', 'lon', 'london', 'lone', 'loneli', 'loner', 'lonesom', 'long', 'longabandon', 'longawait', 'longbaugh', 'longdist', 'longer', 'longest', 'longev', 'longhair', 'longhamp', 'longingli', 'longoverdu', 'longrun', 'longshank', 'longstand', 'longstreet', 'longsuff', 'longsuppress', 'longterm', 'longtim', 'longvanish', 'longwind', 'loo', 'look', 'lookalik', 'looker', 'lookey', 'looklik', 'lookout', 'loom', 'loomi', 'looney', 'looni', 'loop', 'loophol', 'loopi', 'loosecannon', 'loot', 'looter', 'lope', 'lopez', 'lopsid', 'loquaci', 'lord', 'lore', 'loren', 'lorenz', 'lorenzo', 'loretta', 'lori', 'lorrain', 'lorri', 'lose', 'loser', 'losin', 'loss', 'lost', 'lot', 'lott', 'lotta', 'lotteri', 'lotto', 'lotu', 'lou', 'loud', 'louder', 'loudest', 'loudli', 'loudmouth', 'loui', 'louie', 'louis', 'louisa', 'louisiana', 'loung', 'louse', 'lousi', 'lout', 'loutish', 'louuuudd', 'lovabl', 'love', 'loveabl', 'lovehewitt', 'loveinterest', 'lovejoy', 'lovel', 'loveless', 'loveli', 'loveliest', 'lovelorn', 'lovemak', 'lover', 'lovesick', 'lovesmitten', 'lovestruck', 'lovett', 'lovin', 'lovingli', 'low', 'lowbrow', 'lowbudget', 'lowdown', 'lowel', 'lower', 'lowercas', 'lowermiddl', 'lowest', 'lowland', 'lowli', 'lowlif', 'lowliv', 'lowqual', 'lowtech', 'loyal', 'loyalti', 'lsland', 'lu', 'luc', 'luca', 'lucasfilm', 'luchino', 'luci', 'luciano', 'lucid', 'lucilla', 'lucinda', 'lucio', 'luck', 'lucki', 'luckili', 'lucr', 'lude', 'ludicr', 'ludwig', 'luedek', 'luggag', 'lugosi', 'luhrmann', 'lui', 'luka', 'luke', 'lukewarm', 'lull', 'lumber', 'lumen', 'lumin', 'lump', 'lumpi', 'lumumba', 'lunaci', 'lunat', 'lunch', 'luncheon', 'lund', 'lundgren', 'lung', 'lungi', 'lurch', 'lure', 'lurid', 'lurk', 'lusciou', 'lush', 'lusitanian', 'lust', 'luster', 'lusti', 'luther', 'lutz', 'luxuri', 'lv426', 'ly', 'lydia', 'lyle', 'lynch', 'lyndon', 'lyndsey', 'lynn', 'lyric', 'lyricist', 'lysterin', 'maa', 'mabe', 'mabel', 'mac', 'macabr', 'macaulay', 'macaw', 'macdonald', 'macdowel', 'macelli', 'macfadyen', 'macgowan', 'macguffin', 'mach', 'machet', 'machin', 'machina', 'machinegun', 'machinelik', 'machineri', 'machismo', 'macho', 'macht', 'maci', 'mack', 'mackenzi', 'mackey', 'maclachlan', 'maclean', 'macleod', 'macpherson', 'mad', 'mada', 'madam', 'madcap', 'maddalena', 'madden', 'maddeningli', 'maddi', 'maddog', 'maddox', 'made', 'madefortv', 'madeforvideo', 'madeira', 'madelein', 'madelin', 'mademoisel', 'madeup', 'madigan', 'madison', 'madli', 'madman', 'madmancumdetect', 'madonna', 'madrid', 'madscientistinbavariancastl', 'mae', 'maelstrom', 'maestro', 'mafia', 'mafioso', 'magadi', 'magazin', 'magda', 'magdalen', 'magenta', 'maggi', 'magherini', 'magic', 'magician', 'magma', 'magnat', 'magnet', 'magnifi', 'magnific', 'magnitud', 'magnolia', 'magnu', 'magnum', 'magoo', 'magrud', 'maguir', 'mah', 'mahal', 'mahoney', 'mahou', 'mai', 'maid', 'maiden', 'maidserv', 'mail', 'mailer', 'mailman', 'main', 'mainland', 'mainli', 'mainstay', 'mainstream', 'maintain', 'mainten', 'maior', 'maj', 'majest', 'major', 'maka', 'make', 'makeout', 'makeov', 'maker', 'makeshift', 'makeup', 'makin', 'mala', 'malachi', 'maladjust', 'malais', 'malaysia', 'malcolm', 'malcom', 'malcovich', 'male', 'malevol', 'malform', 'malfunct', 'malibu', 'malic', 'malici', 'malick', 'malintent', 'malkovich', 'mall', 'malleabl', 'mallori', 'malloy', 'mallrat', 'malnourish', 'malon', 'malori', 'malroux', 'malt', 'maltliquor', 'mama', 'mame', 'mammoth', 'mamoru', 'man', 'manag', 'manchurian', 'mandala', 'mandat', 'mandatori', 'mandel', 'mandela', 'mandi', 'mandibl', 'mandingo', 'mandolin', 'mandrak', 'maneuv', 'manga', 'mangina', 'mangl', 'manhattan', 'manhol', 'manhood', 'manhunt', 'mani', 'mania', 'maniac', 'manic', 'manicdepress', 'manicur', 'manifest', 'manifold', 'manilow', 'manipul', 'mankiewicz', 'mankind', 'manli', 'manmad', 'mann', 'mannequin', 'manner', 'manni', 'manoetmano', 'manor', 'mansfield', 'mansion', 'manslaught', 'manson', 'mantel', 'mantelpiec', 'manti', 'mantl', 'mantra', 'mantralik', 'manual', 'manufactur', 'manuscript', 'mao', 'map', 'mapl', 'mapplethorp', 'mar', 'mara', 'marabout', 'marathon', 'marc', 'marceau', 'marcel', 'marcello', 'marcellu', 'march', 'marci', 'marcia', 'marco', 'marcu', 'margaret', 'margin', 'mari', 'maria', 'mariah', 'marian', 'mariann', 'marielaur', 'marienbadm', 'marienth', 'marietta', 'marijuana', 'marilyn', 'marin', 'marina', 'mario', 'marion', 'marisa', 'marisol', 'marit', 'marita', 'mariu', 'mark', 'markedli', 'marker', 'market', 'marketplac', 'markham', 'marki', 'markov', 'marla', 'marley', 'marlin', 'marlo', 'marlon', 'marlow', 'maroney', 'maroon', 'marque', 'marqui', 'marrakech', 'marri', 'marriag', 'marron', 'marrow', 'marsden', 'marseil', 'marsellu', 'marsha', 'marshal', 'marshmallow', 'martha', 'marti', 'martial', 'martialart', 'martian', 'martin', 'martinez', 'martyr', 'marvel', 'marvin', 'marx', 'marxist', 'maryann', 'maryland', 'masahitko', 'masala', 'mascara', 'mascot', 'masculin', 'mask', 'masoch', 'masochist', 'mason', 'masquerad', 'mass', 'massachusett', 'massacr', 'massag', 'massaron', 'masseur', 'masseus', 'massiv', 'massmarket', 'mast', 'master', 'masteri', 'mastermind', 'masterpiec', 'masterwork', 'masturb', 'masturbatori', 'matador', 'match', 'matchmak', 'mate', 'materi', 'materialist', 'matern', 'math', 'mathemat', 'mathematician', 'matheson', 'mathew', 'mathild', 'mathilda', 'matilda', 'matine', 'matriarch', 'matrimoni', 'matrix', 'matron', 'matronli', 'matsumoto', 'matt', 'matter', 'matteroffact', 'matteroffactli', 'matthew', 'matti', 'matur', 'matzo', 'maud', 'maudlin', 'maul', 'maura', 'maureen', 'mauri', 'mauric', 'mav', 'maverick', 'mawkish', 'max', 'maxi', 'maxim', 'maximilian', 'maximillian', 'maximu', 'maximum', 'maxin', 'maxwel', 'maxx', 'may', 'maya', 'mayb', 'mayergoodman', 'mayfielddirect', 'mayhem', 'mayhew', 'maynard', 'mayo', 'mayor', 'maze', 'mcallist', 'mcbride', 'mccabe', 'mccall', 'mccallist', 'mccann', 'mccarthi', 'mcclane', 'mcclellan', 'mcclure', 'mcconaughey', 'mccormick', 'mccoy', 'mccracken', 'mcdermott', 'mcdiarmid', 'mcdonald', 'mcdonnough', 'mcdonough', 'mcdormand', 'mcellon', 'mcfarlan', 'mcgee', 'mcgill', 'mcgoohan', 'mcgowan', 'mcgraw', 'mcgregor', 'mcguir', 'mckellan', 'mckenna', 'mckinley', 'mckinney', 'mcmanu', 'mcmullenstyl', 'mcnamara', 'mcnaughton', 'mcneal', 'mcneil', 'mcquarri', 'mcqueen', 'mcteer', 'mctiernan', 'mea', 'mead', 'meager', 'meal', 'mean', 'meander', 'meaner', 'meanest', 'meani', 'meaning', 'meaningless', 'meanspirit', 'meanspirited', 'meant', 'meantemp', 'meantim', 'meanwhil', 'measli', 'measur', 'measureless', 'meat', 'meati', 'meatier', 'meatloaf', 'mecca', 'mech', 'mechan', 'med', 'medal', 'meddl', 'mediajunki', 'mediamanipul', 'mediasatur', 'medic', 'medicalgrossout', 'medicin', 'mediev', 'mediocr', 'medit', 'medium', 'medley', 'meek', 'meet', 'meg', 'mega', 'megaadvertis', 'megabuck', 'megabudget', 'megalith', 'megalomaniac', 'megalopoli', 'megan', 'megastar', 'megaton', 'megatron', 'mehrjui', 'meier', 'mein', 'mel', 'melanchol', 'melancholi', 'melang', 'melani', 'meld', 'mele', 'melinda', 'melissa', 'mellish', 'mellow', 'melodi', 'melodrama', 'melodramat', 'melon', 'melros', 'melt', 'melvin', 'member', 'membership', 'memento', 'memoir', 'memor', 'memorabilia', 'memori', 'memphi', 'men', 'mena', 'menac', 'menacelabor', 'menacingli', 'menag', 'menageatroi', 'menageri', 'mend', 'mendoza', 'menial', 'menkendavid', 'ment', 'mental', 'mentallychalleng', 'mentalpati', 'mention', 'mento', 'mentor', 'mentorship', 'menu', 'merced', 'mercenari', 'merchandis', 'merchant', 'merci', 'merciless', 'mercilessli', 'mercuri', 'mere', 'merg', 'merick', 'merienbad', 'merit', 'meritori', 'merl', 'merlin', 'mermaid', 'merman', 'merri', 'merrier', 'merril', 'merriment', 'merritt', 'merteuil', 'merton', 'meryl', 'mesa', 'mescalin', 'mesh', 'mesmer', 'mess', 'messag', 'messeng', 'messi', 'messiah', 'messian', 'messier', 'messili', 'met', 'meta', 'metal', 'metamorphosi', 'metaphas', 'metaphor', 'metaphys', 'metcalf', 'mete', 'meteor', 'meteorit', 'meter', 'meth', 'methan', 'methi', 'method', 'meticul', 'metro', 'metropoli', 'metropolitan', 'metsoriol', 'mettl', 'mew', 'mewhat', 'mexican', 'mexicanamerican', 'mexico', 'meyer', 'mezzo', 'mi', 'mia', 'miami', 'mib', 'mic', 'michael', 'micheal', 'michel', 'michelangelo', 'michigan', 'mickey', 'microchip', 'microcosm', 'micromanag', 'microsoft', 'microwav', 'mid1500', 'mid1800', 'mid1960', 'mida', 'midair', 'midaugust', 'middl', 'middleag', 'middleclass', 'middleoftheroad', 'middleweight', 'mideighti', 'midfield', 'midget', 'midland', 'midlevel', 'midlif', 'midnight', 'midpoint', 'midst', 'midway', 'midwestern', 'might', 'mighti', 'mightili', 'migrain', 'migrant', 'migrat', 'miguel', 'miho', 'mika', 'mikael', 'mike', 'mikey', 'mikhail', 'miko', 'mil', 'milano', 'mild', 'mildli', 'mildmann', 'mile', 'mileag', 'mileaminut', 'mileston', 'milieu', 'milit', 'militar', 'militari', 'militarycia', 'militia', 'milk', 'mill', 'milla', 'millar', 'millenium', 'millennium', 'miller', 'milli', 'millimet', 'million', 'millionair', 'millionplu', 'milo', 'milquetoast', 'milton', 'mime', 'mimi', 'mimic', 'mimick', 'min', 'mincemeat', 'mind', 'mindblow', 'mindcharli', 'mindfuck', 'mindi', 'mindless', 'mindnumb', 'mindnumbingli', 'mindread', 'mindset', 'mine', 'minefield', 'miner', 'ming', 'mingl', 'mini', 'miniatur', 'minim', 'minimalist', 'minimart', 'minimum', 'minion', 'miniplot', 'miniplotswithinplot', 'miniscul', 'miniseri', 'minist', 'ministri', 'minisub', 'minivan', 'minna', 'minnesota', 'minni', 'minor', 'minorleagu', 'minstrel', 'minu', 'minut', 'minutelong', 'minuteman', 'mir', 'mira', 'miracl', 'miracul', 'mirai', 'miramax', 'miranda', 'mire', 'miriam', 'mirkovich', 'mirror', 'mirrorpanel', 'mirthless', 'misadventur', 'misanthropi', 'miscalcul', 'miscarri', 'miscast', 'mischief', 'mischiev', 'mischievi', 'miscommun', 'misconceiv', 'misconstru', 'miscu', 'misde', 'misdemeanor', 'misdirect', 'miseenscen', 'miser', 'miseri', 'miserli', 'misfir', 'misfit', 'misfortun', 'misgiv', 'misguid', 'misha', 'mishandl', 'mishap', 'mishmash', 'misinterpret', 'misl', 'mislead', 'mismatch', 'mismatchedbuddi', 'misogyni', 'misogynist', 'misplac', 'misquot', 'misrepres', 'miss', 'missi', 'missil', 'mission', 'mississippi', 'missiv', 'missouri', 'misspel', 'misstep', 'mist', 'mistak', 'mistaken', 'mistakenli', 'mistakenlysuspect', 'mister', 'misti', 'mistress', 'mistrust', 'misunderstand', 'misunderstood', 'misus', 'mit', 'mitai', 'mitch', 'mitchel', 'mitchum', 'mite', 'mitig', 'mix', 'mixandmatch', 'mixedcoffin', 'mixer', 'mixtur', 'mixup', 'miyamoto', 'mizrahi', 'mnemon', 'mo', 'moan', 'moat', 'moatfil', 'mob', 'mobi', 'mobil', 'mobster', 'mobutu', 'mock', 'mockeri', 'mod', 'mode', 'model', 'modelcitizen', 'modelwif', 'moder', 'modern', 'modernist', 'modest', 'modesti', 'modestli', 'modicum', 'modifi', 'modu', 'modul', 'mogul', 'mogulpsychot', 'moisten', 'mojo', 'mold', 'moldi', 'mole', 'molecul', 'molest', 'molina', 'moll', 'molli', 'molten', 'mom', 'moment', 'momentari', 'momentarili', 'momentum', 'momma', 'mommi', 'mon', 'mona', 'monahan', 'monarch', 'monasteri', 'monday', 'mone', 'monet', 'monetari', 'money', 'moneygrub', 'moneymak', 'monger', 'mongkut', 'mongo', 'monica', 'monik', 'monitor', 'monk', 'monkey', 'mono', 'monogami', 'monolith', 'monologu', 'monomaniac', 'monopoli', 'monosyl', 'monoton', 'monotoni', 'monro', 'monsieur', 'monsoon', 'monster', 'monstrou', 'monstrous', 'montag', 'montageback', 'montagu', 'montana', 'montenegro', 'monterey', 'montero', 'montgomeri', 'month', 'monthli', 'monthlong', 'monti', 'montoya', 'montreal', 'monument', 'mood', 'moodi', 'moon', 'mooncrawl', 'mooney', 'moonlight', 'moonlit', 'moonshin', 'moor', 'moot', 'mope', 'mopey', 'mora', 'moral', 'moralist', 'morallydepriv', 'moran', 'morass', 'morbid', 'moreau', 'moreov', 'moreso', 'moretti', 'morgan', 'morgu', 'moriarti', 'morissett', 'morlock', 'mormon', 'morn', 'moro', 'moroccan', 'morocco', 'moron', 'morph', 'morpheu', 'morphin', 'morri', 'morricon', 'morrison', 'morrissey', 'morrow', 'mors', 'morsel', 'mort', 'mortal', 'mortallythreaten', 'mortar', 'mortgag', 'mortician', 'morton', 'mosaffa', 'mosaic', 'moscow', 'mose', 'moslem', 'mosquito', 'moss', 'mostli', 'mostlystraightforward', 'motel', 'mother', 'motherdaught', 'motherhood', 'motherinlaw', 'motherlandon', 'motherli', 'motherofallstorm', 'mothersurrog', 'motif', 'motion', 'motiv', 'motley', 'motor', 'motorbik', 'motorcycl', 'motorist', 'motormouth', 'motta', 'motto', 'mould', 'moulin', 'mound', 'mount', 'mountain', 'mountainsid', 'mountaintop', 'mourn', 'mous', 'mouse', 'mousi', 'moustach', 'mouth', 'mouthpiec', 'move', 'movement', 'mover', 'moveth', 'movi', 'movieani', 'moviecould', 'moviego', 'moviehous', 'moviejacki', 'moviemak', 'movieplotridicul', 'moviereview', 'moviestar', 'moviewithinamovi', 'movingli', 'mox', 'mozambiqu', 'mozart', 'mtvinfluenc', 'much', 'muchadmir', 'muchherald', 'muchloath', 'muchneed', 'mucho', 'muchpriz', 'muchpublic', 'muchshroudedinsecreci', 'muchtalkedabout', 'muck', 'mucu', 'mud', 'muddi', 'muddl', 'mudslid', 'mueller', 'muellerstahl', 'muff', 'muffin', 'mufti', 'mug', 'mughal', 'muhammad', 'mui', 'mulan', 'mulder', 'muldoon', 'mule', 'mulholland', 'mullah', 'mulligan', 'multi', 'multibillion', 'multicharact', 'multicolor', 'multidimension', 'multifacet', 'multilay', 'multilevelmarket', 'multimillion', 'multimillionair', 'multin', 'multipl', 'multiplex', 'multipli', 'multitud', 'mum', 'mumbl', 'mumbo', 'mumbojumbo', 'mummi', 'mummifi', 'munch', 'munchesqu', 'munchi', 'munchkin', 'mundan', 'muntz', 'muppet', 'mural', 'murder', 'murderess', 'murdermysteri', 'murdoch', 'murdochesqu', 'muriel', 'murki', 'murphi', 'murray', 'murrow', 'murtaugh', 'murugan', 'muscl', 'musclebound', 'muscular', 'muse', 'museum', 'mush', 'mushi', 'mushroom', 'mushu', 'music', 'musician', 'musicologist', 'musket', 'muslim', 'muslimar', 'mussolini', 'must', 'mustach', 'mustafa', 'mustang', 'muster', 'musti', 'mustv', 'mutant', 'mutat', 'mute', 'mutil', 'mutini', 'mutter', 'muttonchop', 'mutual', 'myer', 'myheart', 'mynah', 'myra', 'myriad', 'myselt', 'mysteri', 'mystic', 'mystif', 'mystiqu', 'myth', 'mythic', 'mytho', 'mytholog', 'na', 'naaaaaaah', 'nab', 'nacho', 'nadia', 'nadja', 'nag', 'nagl', 'nah', 'nail', 'nair', 'naiv', 'naivet', 'nake', 'name', 'nameless', 'namerecognit', 'namesak', 'nan', 'nanci', 'nanika', 'nanimo', 'nanita', 'nanni', 'nanook', 'naoko', 'naomi', 'nap', 'narc', 'narcissist', 'narcolepsi', 'narcolept', 'narcot', 'nari', 'narr', 'narrat', 'narrow', 'narrowli', 'narrowmind', 'narrowminded', 'narrowwaist', 'nasa', 'nashvil', 'nastassja', 'nasti', 'nastier', 'nastytemp', 'natali', 'natasha', 'nathan', 'nathaniel', 'nation', 'nationst', 'nationstyp', 'nationwid', 'nativ', 'nato', 'natti', 'natur', 'naturalist', 'naturelov', 'naught', 'naughti', 'nausea', 'nauseam', 'nauseat', 'nauseou', 'naval', 'navi', 'navig', 'nay', 'naysay', 'nazareth', 'nazi', 'nazicollabor', 'naziesqu', 'nazism', 'nba', 'nci', 'neal', 'neanderth', 'near', 'nearbi', 'nearconst', 'nearer', 'nearest', 'nearflawless', 'nearfutur', 'neargreat', 'neari', 'nearimposs', 'nearli', 'nearlyfars', 'nearlyperfect', 'nearmasterpiec', 'nearpornograph', 'nearruin', 'neat', 'neatli', 'nebbish', 'nebul', 'necess', 'necessari', 'necessarili', 'necessit', 'neck', 'neckdeep', 'necklac', 'necrophilia', 'ned', 'need', 'needi', 'needl', 'needle', 'needlessli', 'nefari', 'neg', 'negat', 'neglect', 'neglig', 'negoti', 'neic', 'neidermey', 'neighbor', 'neighborhood', 'neighbour', 'neighbourhood', 'neil', 'neither', 'nell', 'nelson', 'nemesi', 'nen', 'neo', 'neoclass', 'neolith', 'neon', 'neonat', 'neonazi', 'neonazidom', 'neonoir', 'neophyt', 'nephew', 'neptun', 'nerd', 'nerdi', 'nerdiest', 'neri', 'nero', 'nerv', 'nervou', 'nervous', 'ness', 'nest', 'net', 'nether', 'netherrealm', 'netherworld', 'network', 'networkaffili', 'neuros', 'neurot', 'neuroticlook', 'neutral', 'neuwirth', 'nevada', 'neve', 'neverbeforeseen', 'neverceas', 'neverend', 'neverheard', 'neverland', 'nevertheless', 'nevil', 'newark', 'newborn', 'newcom', 'newer', 'newest', 'newfound', 'newfoundland', 'newli', 'newlyassign', 'newlyfre', 'newlyrestor', 'newlyw', 'newman', 'news', 'newsgroup', 'newslett', 'newsmagazin', 'newsman', 'newspap', 'newsreel', 'newsweek', 'newt', 'newton', 'newtonjohn', 'next', 'ngo', 'nguyen', 'nhu', 'nia', 'niagara', 'nic', 'niccolo', 'nice', 'nicelytitl', 'nicer', 'nicest', 'nich', 'nichol', 'nichola', 'nicholson', 'nick', 'nickelodeon', 'nicki', 'nicknam', 'nicol', 'nicola', 'nicoletta', 'niebaum', 'niec', 'nielsen', 'nietzsch', 'niflheim', 'nifti', 'nigel', 'niger', 'nigeria', 'nigga', 'nigger', 'night', 'nightclub', 'nightingal', 'nightli', 'nightmar', 'nightmarish', 'nighttim', 'nihil', 'nihilist', 'nikita', 'nikki', 'niko', 'nil', 'nimbl', 'nimmo', 'nin', 'nina', 'nincompoop', 'nine', 'ninemonthold', 'nineteen', 'nineteenth', 'nineti', 'ninety', 'ninetyminut', 'nineyear', 'nineyearold', 'ninja', 'ninjaman', 'nino', 'ninth', 'nippl', 'niro', 'nishi', 'nit', 'nite', 'nitro', 'nittygritti', 'nixon', 'nntphub', 'noah', 'nob', 'nobi', 'nobil', 'nobl', 'nobleman', 'nobler', 'noblest', 'nobli', 'nobodi', 'nobu', 'nocti', 'nocturn', 'nod', 'nodam', 'noel', 'noggin', 'nogoodnik', 'noholdsbar', 'noir', 'noiresqu', 'noirish', 'nois', 'noisi', 'noisili', 'nolan', 'nom', 'nomi', 'nomin', 'nomine', 'non', 'nonactor', 'nonanim', 'nonbritish', 'nonchal', 'nonchalantli', 'noncommitt', 'nondescript', 'nondisney', 'none', 'nonent', 'nonetheless', 'nonetooobvi', 'nonetoopleas', 'nonetoosubtl', 'nonexist', 'nonfat', 'nonfict', 'nong', 'nongoate', 'nonhuman', 'nonintrus', 'nonjudgment', 'nonlinear', 'nono', 'nonpluss', 'nonreligi', 'nonsens', 'nonspecif', 'nonstop', 'nonthreaten', 'nontradit', 'nontriplex', 'nonunion', 'nonverb', 'nonviol', 'nonwedlock', 'noodl', 'noodlehead', 'nook', 'noon', 'noot', 'nope', 'nora', 'norad', 'noraruthaol', 'nordoffhal', 'norfolk', 'norm', 'norma', 'normal', 'normalci', 'norman', 'normandi', 'normi', 'norri', 'norristown', 'nors', 'north', 'northern', 'northman', 'northward', 'northwest', 'northwestern', 'norton', 'norway', 'norwood', 'nose', 'noseble', 'nosebleed', 'nosed', 'nosferatu', 'nosi', 'nostalg', 'nostalgia', 'nostalig', 'nostrum', 'not', 'notabl', 'notableand', 'notch', 'note', 'notebook', 'noteperfect', 'noteworthi', 'notgood', 'noth', 'nother', 'nothing', 'notic', 'notifi', 'notinahurri', 'notinconsider', 'notion', 'notori', 'notorieti', 'notquitehalfbak', 'notquitesubtl', 'notquitethril', 'notr', 'notsohappilymarri', 'notsonic', 'notsosecretli', 'notsotyp', 'notsowis', 'notwithstand', 'noun', 'nouvel', 'nov', 'nova', 'novak', 'novel', 'novelis', 'novelist', 'novella', 'novelti', 'novemb', 'novic', 'novicorp', 'novo', 'nowaday', 'nowfam', 'nowher', 'nowheresvil', 'nowin', 'nowoutd', 'noxiou', 'nsa', 'nu', 'nuanc', 'nubil', 'nuclear', 'nude', 'nudg', 'nudi', 'nuditi', 'nuff', 'nugent', 'nuisanc', 'nuke', 'nullifi', 'numb', 'number', 'numbingli', 'numer', 'nun', 'nunez', 'nuptial', 'nurs', 'nurseri', 'nurtur', 'nut', 'nutcas', 'nutcrack', 'nutshel', 'nutter', 'nutti', 'nuttiest', 'nuzzl', 'ny', 'ny152', 'nyah', 'nymphomaniac', 'nypd', 'nyu', 'oaf', 'oakley', 'oakwood', 'oasi', 'oat', 'ob', 'obi', 'object', 'oblig', 'obligatori', 'obligingli', 'obliqu', 'obliter', 'oblivi', 'oblivion', 'obnoxi', 'obscen', 'obscur', 'observ', 'obsession', 'obsessivecompuls', 'obsolet', 'obstacl', 'obstetr', 'obstetrician', 'obtain', 'obtus', 'obviou', 'obvious', 'occas', 'occasion', 'occasionallyhumor', 'occult', 'occup', 'occupi', 'occur', 'occurr', 'ocean', 'oceango', 'oceanscap', 'oclock', 'ocp', 'octob', 'octogenarian', 'octopu', 'oday', 'odd', 'oddbal', 'oddest', 'odditi', 'oddli', 'ode', 'odessa', 'odett', 'odil', 'odin', 'odiou', 'odyssey', 'oedip', 'oeuvr', 'of', 'ofa', 'off', 'offagain', 'offat', 'offbeat', 'offbroadway', 'offcamera', 'offenc', 'offend', 'offens', 'offer', 'offhand', 'offic', 'offici', 'offkilt', 'offlimit', 'offscreen', 'offset', 'offshoot', 'offspr', 'offstag', 'offthewal', 'offtrack', 'ofmoney', 'ofput', 'oft', 'often', 'oftenincongru', 'oftentim', 'ofthemo', 'ogl', 'ogr', 'ogrewitch', 'oh', 'ohalloran', 'oherlihi', 'ohio', 'ohlmyer', 'ohneggin', 'ohsonic', 'ohsowis', 'oil', 'oildril', 'oilguycumastronaut', 'oili', 'ok', 'okay', 'oklahoma', 'ol', 'old', 'older', 'oldest', 'oldfashion', 'oldhollywood', 'oldman', 'oldschool', 'oldstyl', 'ole', 'oleynik', 'olga', 'olin', 'oliv', 'olivi', 'olivia', 'olli', 'olmstead', 'olsen', 'olymp', 'olympia', 'olympian', 'omaha', 'omar', 'omega', 'omegahedron', 'omelet', 'omen', 'omin', 'omiss', 'omit', 'omnipot', 'omnipres', 'omnisci', 'on', 'onboard', 'oncegreat', 'onceprofit', 'oncom', 'one', 'onecan', 'oneday', 'onedimension', 'onefourth', 'onehundr', 'onehundreddollar', 'onein', 'onemanwoman', 'onemor', 'oneofakind', 'oneonon', 'oner', 'oneself', 'onesyl', 'onetim', 'oneto', 'onetwopunch', 'oneup', 'oneupmanship', 'ongo', 'onlin', 'onlook', 'onlyon', 'onlyreason', 'onscreen', 'onset', 'onshor', 'onslaught', 'onto', 'onward', 'onz', 'ooh', 'ooki', 'oomph', 'oontz', 'oooh', 'ooooh', 'oop', 'ooz', 'opaqu', 'ope', 'open', 'openandshut', 'openheart', 'openli', 'openmind', 'oper', 'opera', 'operandi', 'operat', 'ophelia', 'opinion', 'opium', 'oppa', 'oppo', 'oppon', 'opportun', 'opportunist', 'oppos', 'opposit', 'oppress', 'oprah', 'opt', 'optim', 'optimist', 'optimum', 'option', 'optometrist', 'opu', 'opul', 'oral', 'oralsexprostitut', 'orang', 'orat', 'orbit', 'orc', 'orca', 'orchard', 'orchestr', 'orchestra', 'ord', 'ordain', 'ordeal', 'ordel', 'order', 'orderli', 'ordinari', 'ordinarili', 'ordinaryyet', 'ore', 'oregon', 'oreomunch', 'org', 'organ', 'organgrind', 'organis', 'organplay', 'orgasm', 'orgi', 'orgin', 'orient', 'orific', 'origin', 'orion', 'orlando', 'orlean', 'ornament', 'orneri', 'orphan', 'orphanag', 'orphang', 'orson', 'orth', 'orthodox', 'orvil', 'orwel', 'orwellian', 'osborn', 'osbourn', 'oscar', 'oscarbait', 'oscarcalib', 'oscarhungri', 'oscarnomin', 'oscarwin', 'oscarwinn', 'oscarworthi', 'oseranski', 'osiri', 'osmond', 'osmosi', 'osso', 'ostens', 'ostentati', 'ostertag', 'other', 'otherssikh', 'otherwis', 'otherworldli', 'oti', 'otter', 'otto', 'ottoman', 'ouch', 'ought', 'ouija', 'ounc', 'oust', 'out', 'outa', 'outback', 'outboard', 'outbreak', 'outburst', 'outcast', 'outcom', 'outdat', 'outdid', 'outdo', 'outdon', 'outdoor', 'outer', 'outfac', 'outfield', 'outfit', 'outgo', 'outgrown', 'outing', 'outland', 'outlandish', 'outlast', 'outlaw', 'outlet', 'outlin', 'outlook', 'outnumb', 'outofbal', 'outofbodi', 'outofcharact', 'outofcontrol', 'outofplac', 'outofprint', 'outofshap', 'outoftheirmind', 'outperform', 'outpost', 'output', 'outrag', 'outright', 'outrun', 'outset', 'outshin', 'outsid', 'outskirt', 'outsmart', 'outspoken', 'outstand', 'outstandingli', 'outstretch', 'outstrip', 'outta', 'outtak', 'outward', 'outwardli', 'outwit', 'outwork', 'oval', 'ovat', 'oven', 'over', 'overabund', 'overachiev', 'overact', 'overal', 'overarch', 'overbear', 'overbearingli', 'overblown', 'overboard', 'overcam', 'overcoat', 'overcom', 'overconceiv', 'overcrowd', 'overdecor', 'overdirect', 'overdo', 'overdon', 'overdos', 'overdr', 'overdramat', 'overdramatic', 'overdrawn', 'overdu', 'overeag', 'overexplain', 'overexpos', 'overexposur', 'overextend', 'overfli', 'overflow', 'overfriendli', 'overgrown', 'overh', 'overhead', 'overhear', 'overhyp', 'overjoy', 'overkil', 'overlaid', 'overlap', 'overlay', 'overli', 'overload', 'overlook', 'overlynoisi', 'overmed', 'overnight', 'overpaid', 'overplay', 'overplot', 'overpopul', 'overpow', 'overpr', 'overprais', 'overproduc', 'overprotect', 'overr', 'overrid', 'overrun', 'overse', 'oversea', 'overseen', 'oversex', 'overshadow', 'oversight', 'oversimplif', 'oversimplifi', 'overst', 'overstat', 'overstay', 'overstyl', 'overt', 'overtak', 'overthetop', 'overthrow', 'overtim', 'overtli', 'overton', 'overturn', 'overunderwritten', 'overus', 'overview', 'overweight', 'overwhelm', 'overwhelmingli', 'overwork', 'overwritten', 'overwrought', 'overzeal', 'ovul', 'ovular', 'owe', 'owen', 'own', 'owner', 'ownerpublish', 'ownership', 'ownerturnedpaint', 'ownerveteran', 'oxford', 'oxnard', 'oxymoron', 'oz', 'ozon', 'ozzi', 'pa', 'pace', 'pacif', 'pacino', 'pack', 'packag', 'packard', 'packer', 'packet', 'pact', 'pad', 'padawan', 'paddl', 'paddock', 'padlock', 'padr', 'padua', 'paean', 'pagan', 'page', 'pageant', 'paid', 'paig', 'paillard', 'pain', 'painless', 'painstak', 'painstakingli', 'paint', 'paintbynumb', 'painter', 'pair', 'paisa', 'pakistani', 'pakistanthey', 'pal', 'palac', 'palat', 'pale', 'palefac', 'paleontologist', 'palestinian', 'palett', 'palisad', 'palladium', 'pallid', 'palm', 'palma', 'palmer', 'palmetto', 'palminteri', 'palpabl', 'palpatin', 'paltri', 'pam', 'pamela', 'pamper', 'pan', 'panach', 'panama', 'panamanian', 'panandscan', 'panavis', 'pancak', 'pandemonium', 'pander', 'pandora', 'pane', 'pang', 'panic', 'panick', 'panicki', 'panoram', 'panorama', 'panslav', 'pant', 'panther', 'panti', 'pantoliano', 'pantswet', 'paola', 'paolo', 'papa', 'paparazzo', 'papaya', 'paper', 'paperback', 'paperwork', 'paprika', 'par', 'parabl', 'parachut', 'parad', 'paradigm', 'paradin', 'paradis', 'paradiseprison', 'paradox', 'paragon', 'paragraph', 'paral', 'parallax', 'parallel', 'paralys', 'paralyz', 'paramed', 'paramount', 'paranoia', 'paranoid', 'paranorm', 'paraphernalia', 'paraphras', 'parasail', 'parasit', 'paratroop', 'pardon', 'pare', 'parent', 'parenthet', 'pari', 'parisian', 'pariti', 'park', 'parka', 'parker', 'parkman', 'parlay', 'parliamentari', 'parlor', 'parma', 'parodi', 'parol', 'parole', 'parrish', 'parrot', 'parson', 'part', 'partak', 'partcomedi', 'parti', 'partial', 'particip', 'particular', 'particularli', 'partit', 'partli', 'partner', 'partnerincrim', 'partnership', 'partnerwif', 'partridg', 'parttim', 'partygo', 'pas', 'pasadena', 'pascal', 'passabl', 'passag', 'passel', 'passeng', 'passion', 'passiondeni', 'passionless', 'passiv', 'passport', 'passwordprotect', 'past', 'pastel', 'pasti', 'pastich', 'pastim', 'pastor', 'pastorelli', 'pastur', 'pat', 'patach', 'patch', 'patchi', 'patchwork', 'pate', 'patent', 'patern', 'paternalist', 'path', 'pathet', 'patho', 'patholog', 'patienc', 'patient', 'patio', 'patlabor', 'patrasch', 'patriarch', 'patriarchi', 'patric', 'patricia', 'patrick', 'patriot', 'patrol', 'patrolman', 'patron', 'patsi', 'pattern', 'patterson', 'patti', 'patton', 'paul', 'paula', 'pauli', 'paulin', 'paus', 'paw', 'pawn', 'paxton', 'pay', 'payback', 'paycheck', 'payload', 'payment', 'payn', 'payoff', 'payperview', 'payrol', 'pea', 'peac', 'peaceabl', 'peacemak', 'peach', 'peak', 'peanut', 'pear', 'pearc', 'pearl', 'pearli', 'peasant', 'pebbl', 'pecan', 'peck', 'pecker', 'peckinpah', 'peculiar', 'pedant', 'peddl', 'pedest', 'pedestrian', 'pediatrician', 'pedigre', 'pedlar', 'pedophil', 'pedophilia', 'pedro', 'pee', 'peebl', 'peek', 'peel', 'peep', 'peepshow', 'peer', 'peerless', 'peet', 'peewe', 'peg', 'peggi', 'pejor', 'pelican', 'pellet', 'pelt', 'pen', 'penalti', 'penanc', 'penchant', 'pencil', 'pender', 'pendleton', 'penelop', 'penetr', 'penguin', 'peni', 'penitentiari', 'penn', 'pennebak', 'penni', 'penniless', 'pennsylvania', 'pensacola', 'pensiv', 'pentagon', 'pentamet', 'pentecost', 'penthous', 'penultim', 'penuri', 'peopl', 'peoplewould', 'pep', 'pepe', 'pepper', 'peppi', 'pepsi', 'per', 'perceiv', 'percent', 'percentag', 'percept', 'perch', 'perci', 'perenni', 'perez', 'perf', 'perfect', 'perfectionist', 'perfectli', 'perfectlygroom', 'perform', 'perfum', 'perfumedrench', 'perfunctori', 'perhap', 'pericl', 'peril', 'period', 'periodpiec', 'peripher', 'peripheri', 'perk', 'perki', 'perkin', 'perman', 'permeat', 'permiss', 'permit', 'permut', 'pernilla', 'perpetr', 'perpetu', 'perpetualmot', 'perplex', 'perri', 'perrier', 'perrin', 'persecut', 'persever', 'persia', 'persist', 'person', 'persona', 'personalityimpair', 'personif', 'personifi', 'personnel', 'perspect', 'persuad', 'persuas', 'pertain', 'pertin', 'pervad', 'pervas', 'pervers', 'pervert', 'perviou', 'peski', 'pessim', 'pessimist', 'pest', 'pester', 'pesticid', 'pet', 'petal', 'petaluma', 'pete', 'peter', 'petersburg', 'petersen', 'peterson', 'petri', 'petrifi', 'petter', 'petti', 'petul', 'peyot', 'pfarrer', 'pfeiffer', 'pfferpot', 'pga', 'phantom', 'pharaoh', 'pharmaceut', 'pharoah', 'phase', 'phelp', 'phenomen', 'phenomenon', 'phew', 'phi', 'phil', 'philadelphia', 'philand', 'philanthropist', 'philia', 'philip', 'philipp', 'phillip', 'phillotson', 'philosoph', 'philosophi', 'phobia', 'phobic', 'phoeb', 'phoenix', 'phone', 'phonepitch', 'phoni', 'phonograph', 'photo', 'photocopi', 'photogen', 'photograph', 'photographi', 'phrase', 'phylli', 'physic', 'physician', 'physicist', 'physiolog', 'pi', 'pia', 'pianist', 'piano', 'pic', 'picard', 'picaresqu', 'picasso', 'pick', 'picker', 'picket', 'pickett', 'picki', 'pickl', 'pickup', 'pictur', 'picturesqu', 'pidgeon', 'pie', 'piec', 'pier', 'pierc', 'pierr', 'pierreaugustin', 'pierreloup', 'piet', 'pig', 'pigeon', 'pigeonhol', 'piggi', 'pighead', 'pike', 'pile', 'pileggi', 'pileup', 'pilgrim', 'pilgrimag', 'pill', 'pillag', 'pillow', 'pillpop', 'pillpoppin', 'pillsburi', 'pilot', 'pimp', 'pimpernel', 'pimpl', 'pin', 'pinch', 'pindar', 'pine', 'pinewood', 'ping', 'pink', 'pinkerton', 'pinki', 'pinnacl', 'pinocchio', 'pinon', 'pinpoint', 'pint', 'pinter', 'pinto', 'pintsiz', 'pinup', 'pioneer', 'pip', 'pipe', 'pipelin', 'piper', 'piraci', 'piranha', 'pirat', 'piss', 'pisser', 'pisspoor', 'pistol', 'piston', 'pit', 'pitch', 'pitchblack', 'pitcher', 'pitchfork', 'pitfal', 'piti', 'pitt', 'pittsburgh', 'pivot', 'pixar', 'pixot', 'pizza', 'pizzazz', 'placard', 'place', 'placement', 'placer', 'placid', 'plagiar', 'plagu', 'plain', 'plainchees', 'plainli', 'plan', 'plane', 'planet', 'planetari', 'plank', 'planner', 'plant', 'plantat', 'plaster', 'plastic', 'plate', 'platform', 'platitud', 'plato', 'platoon', 'platt', 'platter', 'plaudit', 'plausibl', 'play', 'playact', 'playbook', 'playboy', 'playbyplay', 'player', 'playground', 'playmat', 'playstat', 'playth', 'playwright', 'plaza', 'plea', 'plead', 'pleasant', 'pleasantli', 'pleasantri', 'pleasantvil', 'pleaser', 'pleasur', 'pledg', 'plenari', 'plenti', 'plethora', 'plexu', 'pli', 'plight', 'plod', 'plot', 'plotdriven', 'plotless', 'plotwis', 'ploy', 'plu', 'pluck', 'plucki', 'plug', 'plumb', 'plumber', 'plummer', 'plummet', 'plump', 'plunder', 'plung', 'plunk', 'plus', 'plush', 'pneumonia', 'po', 'poacher', 'pocahonta', 'pocket', 'pod', 'poe', 'poem', 'poet', 'poetic', 'poetri', 'pogu', 'poi', 'poignanc', 'poignant', 'poignantli', 'point', 'pointblank', 'pointedli', 'pointer', 'pointi', 'pointless', 'pointofview', 'pointybreast', 'pointyear', 'poison', 'poitier', 'poke', 'pokemon', 'poker', 'poland', 'polar', 'pole', 'polem', 'polic', 'policeman', 'policest', 'policewoman', 'polici', 'polish', 'polishwed', 'polit', 'politicallycharg', 'politicallycorrect', 'politician', 'poll', 'pollack', 'pollen', 'pollock', 'poloniu', 'poltergeist', 'polyest', 'polygami', 'polymorph', 'polynesian', 'pomegran', 'pomfret', 'pomp', 'pompou', 'pond', 'ponder', 'pongo', 'pontif', 'ponytail', 'ponzi', 'poobah', 'pooch', 'poof', 'pool', 'poolsid', 'poon', 'poop', 'poor', 'poorer', 'poorhous', 'poorli', 'poorlystag', 'poorlywritten', 'pop', 'popcorn', 'popcultur', 'pope', 'popey', 'popovich', 'poppsycholog', 'popstar', 'popul', 'populac', 'popular', 'popularbutslow', 'popularli', 'porcelain', 'porch', 'porcin', 'pore', 'pork', 'porn', 'pornactressturnedpornproduc', 'porno', 'pornograph', 'pornographi', 'pornographyrel', 'porpois', 'port', 'portabl', 'portal', 'portent', 'porter', 'portho', 'portia', 'portion', 'portland', 'portli', 'portman', 'portopotti', 'portrait', 'portray', 'portsmouth', 'portugues', 'pose', 'poseidon', 'poseur', 'posey', 'posh', 'posit', 'posse', 'possibilit', 'possibl', 'post', 'posta', 'postag', 'postal', 'postapocalyps', 'postapocalypt', 'postcard', 'poster', 'postfeminist', 'postforens', 'posthum', 'postman', 'postmodern', 'postop', 'postpon', 'postproduct', 'postprologu', 'postsalari', 'postscream', 'postsecondari', 'posttraumat', 'postur', 'postwar', 'postwaterg', 'postworld', 'postwwii', 'pot', 'potato', 'potboil', 'potemkin', 'potenc', 'potent', 'potenti', 'potentialromanticinterest', 'pothead', 'pothol', 'potion', 'potter', 'pound', 'pounder', 'pour', 'pout', 'pouti', 'pov', 'poverti', 'povertystricken', 'pow', 'powder', 'powel', 'power', 'powerfulbutanonym', 'powerhungri', 'powerless', 'powerlessth', 'powermong', 'powerori', 'powersof10', 'powerto', 'powertrip', 'pox', 'practic', 'practicaljok', 'practicemargaret', 'practis', 'practition', 'prado', 'pragmat', 'pragu', 'prairi', 'prais', 'pranc', 'prank', 'pratfal', 'pratt', 'pray', 'prayer', 'pre', 'preach', 'preacher', 'preachi', 'preaidsscar', 'precari', 'preced', 'precept', 'precinct', 'preciou', 'precious', 'precipic', 'precipit', 'precis', 'preciso', 'preclud', 'precoci', 'preconceiv', 'preconcept', 'precursor', 'predat', 'predatori', 'predecessor', 'predestin', 'predetermin', 'predic', 'predica', 'predict', 'predilect', 'predomin', 'predominantli', 'preempt', 'preen', 'preexist', 'prefabr', 'prefac', 'prefectur', 'prefeminist', 'prefer', 'prefix', 'pregnanc', 'pregnant', 'prehistor', 'preintellectu', 'prejudg', 'prejudic', 'preliminari', 'prelud', 'premarit', 'prematur', 'premier', 'premis', 'premisekafka', 'premium', 'premonit', 'prentic', 'preoccup', 'preoccupi', 'prep', 'prepar', 'preposter', 'preppi', 'preproduct', 'preprogram', 'prepubesc', 'prequel', 'prereleas', 'prerog', 'preschool', 'prescott', 'prescrib', 'presel', 'presenc', 'present', 'presenttim', 'preserv', 'presid', 'presidenti', 'presley', 'press', 'pressur', 'prestig', 'prestigi', 'presto', 'preston', 'presum', 'preteen', 'pretend', 'pretens', 'pretenti', 'pretext', 'pretti', 'prettiest', 'prettyboy', 'prevail', 'preval', 'prevent', 'preview', 'previou', 'previous', 'prewar', 'prey', 'priam', 'price', 'priceless', 'prick', 'pride', 'priest', 'priestess', 'priestli', 'prim', 'prima', 'primal', 'primari', 'primarili', 'primat', 'prime', 'primetim', 'primit', 'primordi', 'princ', 'princel', 'princess', 'princessguard', 'princeton', 'princip', 'principl', 'print', 'prior', 'prioriti', 'priscilla', 'prison', 'prisonbound', 'prisonersofwar', 'pristin', 'privaci', 'privat', 'privetsculpt', 'privi', 'priviledg', 'privileg', 'prize', 'pro', 'probabl', 'probat', 'probe', 'problem', 'problemat', 'problemclon', 'proce', 'procedur', 'proceed', 'process', 'processor', 'proclaim', 'procliv', 'procrastin', 'procreat', 'proctor', 'procur', 'prod', 'prodigi', 'produc', 'product', 'prof', 'profan', 'profess', 'profession', 'professionalsmiramax', 'professor', 'professorarcheologist', 'professorship', 'professorstud', 'proffer', 'profici', 'profil', 'profit', 'profound', 'profoundest', 'profoundli', 'profund', 'profundi', 'progeni', 'progenitor', 'program', 'programm', 'progress', 'prohibit', 'prohibitionera', 'project', 'projectionist', 'projector', 'proletarian', 'prolif', 'prolifer', 'prologu', 'prolong', 'prom', 'promenad', 'promin', 'promis', 'promiscu', 'promiss', 'promot', 'prompt', 'prompter', 'promptli', 'prone', 'pronoun', 'pronounc', 'pronuclear', 'proof', 'prop', 'propaganda', 'propel', 'propens', 'proper', 'properli', 'properti', 'propheci', 'prophes', 'prophesi', 'prophet', 'propon', 'proport', 'propos', 'proposesdemandsthat', 'proposit', 'proprieti', 'proprietor', 'propuls', 'prosaic', 'prose', 'prosecut', 'prosecutor', 'proselyt', 'prospect', 'prospector', 'prosper', 'prosthet', 'prostitut', 'prostrat', 'prot', 'protagonist', 'protect', 'protector', 'proteg', 'protein', 'protest', 'protestor', 'prototyp', 'protract', 'protrud', 'proud', 'proudli', 'prove', 'proven', 'proverb', 'proverbi', 'provid', 'provinc', 'provis', 'provoc', 'provok', 'prowess', 'prowl', 'proxi', 'proximo', 'prozac', 'prudent', 'pruitt', 'pryce', 'pryor', 'pseudo', 'pseudoasian', 'pseudoclimax', 'pseudodocumentari', 'pseudofeminist', 'pseudointellectu', 'pseudonym', 'pseudoplaym', 'pseudosafeti', 'pseudosci', 'pseudosophist', 'pseudosuspens', 'pseudoworld', 'psych', 'psychedel', 'psychiatr', 'psychiatrist', 'psychic', 'psycho', 'psychoanalyst', 'psychobabbl', 'psychodrama', 'psycholog', 'psychologist', 'psychologyresearch', 'psychopath', 'psychosexu', 'psychosi', 'psychot', 'psychotherapi', 'pub', 'puberti', 'public', 'publicdomain', 'publicist', 'publicityseek', 'publicli', 'publish', 'pudgi', 'pueril', 'puerto', 'puf', 'puff', 'puffi', 'pugilist', 'pugnaci', 'puke', 'pul', 'pulitz', 'pulitzerpr', 'pull', 'pullman', 'pulp', 'pulpi', 'pulpit', 'pulsat', 'pulsepound', 'pulver', 'pummel', 'pump', 'pumpkin', 'pun', 'punch', 'punchdrunk', 'punchi', 'punchlin', 'punctuat', 'punctur', 'punish', 'punk', 'punkinthemak', 'punknoir', 'pup', 'pupil', 'puppet', 'puppetri', 'puppi', 'puppydog', 'pur', 'purchas', 'pure', 'purer', 'purg', 'purgatori', 'purist', 'puritan', 'puriti', 'purpl', 'purplesequin', 'purplish', 'purport', 'purportedli', 'purpos', 'purr', 'purs', 'pursu', 'pursuer', 'pursuit', 'pusateri', 'push', 'pushi', 'put', 'putdown', 'putit', 'puto', 'putrid', 'putti', 'puzzl', 'pygmalion', 'pyle', 'pyramid', 'pyre', 'pyromanc', 'pyrotechn', 'python', 'qigong', 'qin', 'quad', 'quadrupl', 'quagmir', 'quaid', 'quaint', 'quak', 'qualifi', 'qualiti', 'qualm', 'quan', 'quandari', 'quant', 'quantiti', 'quantum', 'quarantin', 'quarri', 'quart', 'quarter', 'quarterback', 'quartercenturi', 'quartet', 'quash', 'quasilandmark', 'quasipopular', 'quasisadist', 'quaternari', 'queasi', 'quebec', 'queen', 'quell', 'quench', 'quentin', 'queri', 'quest', 'question', 'queue', 'qui', 'quibbl', 'quick', 'quickdraw', 'quicker', 'quickest', 'quickflash', 'quicki', 'quickli', 'quicktemp', 'quiet', 'quieter', 'quietli', 'quill', 'quilt', 'quinci', 'quinlan', 'quinn', 'quint', 'quintana', 'quintessenti', 'quip', 'quir', 'quirk', 'quirki', 'quit', 'quiver', 'quiz', 'quizz', 'quizzic', 'quo', 'quot', 'quota', 'quotabl', 'quotient', 'ra', 'rabb', 'rabbi', 'rabbit', 'rabi', 'rabid', 'rabidli', 'race', 'racer', 'racerel', 'rachel', 'raci', 'racial', 'racialgend', 'racism', 'racist', 'rack', 'racoon', 'radar', 'rade', 'rader', 'radha', 'radianc', 'radiant', 'radiantli', 'radiat', 'radiationinduc', 'radiationrich', 'radic', 'radio', 'radioact', 'radish', 'radiu', 'rafael', 'raft', 'rag', 'rage', 'ragstorich', 'ragtag', 'ragtop', 'raheem', 'rahul', 'raid', 'raider', 'rail', 'railroad', 'railway', 'raim', 'raiment', 'rain', 'rainbow', 'raindrop', 'rainforest', 'raini', 'rainier', 'rainmak', 'rainslick', 'rainsoak', 'rainstorm', 'raintre', 'rais', 'raison', 'raj', 'raja', 'rake', 'raki', 'raleigh', 'ralli', 'ralph', 'ralphi', 'ram', 'rambaldi', 'rambl', 'rambo', 'rambuncti', 'ramen', 'rames', 'ramif', 'ramirez', 'ramon', 'ramona', 'ramp', 'rampag', 'rampant', 'ramsey', 'ramshackl', 'ramus', 'ran', 'ranad', 'ranch', 'rancher', 'rancor', 'randal', 'randi', 'randolph', 'random', 'randomli', 'rang', 'ranger', 'rank', 'rannian', 'ransom', 'rant', 'raoul', 'rap', 'rapaci', 'rape', 'rapid', 'rapidfir', 'rapidli', 'rapidlychang', 'rapist', 'rapistkil', 'rapper', 'rapport', 'raptor', 'raquel', 'rare', 'rarest', 'rariti', 'rascal', 'rash', 'rashomon', 'rasp', 'rat', 'ratchet', 'rate', 'rather', 'ratio', 'ration', 'rational', 'rattan', 'ratti', 'rattl', 'rattler', 'ratzenberg', 'raucou', 'raul', 'raunchi', 'ravag', 'rave', 'ravel', 'raven', 'ravish', 'raw', 'ray', 'rayden', 'raymond', 'razor', 'razorsharp', 'razzl', 'razzledazzl', 're', 'rea', 'reach', 'reachabl', 'reacquaint', 'react', 'reaction', 'reactionari', 'reactor', 'read', 'reader', 'readi', 'readili', 'readmit', 'readymad', 'reagan', 'reaganera', 'reagent', 'real', 'realis', 'realism', 'realismbut', 'realist', 'realiti', 'realitybas', 'realiz', 'reallook', 'reallythey', 'realm', 'realtim', 'reap', 'reaper', 'reappear', 'rear', 'rearrang', 'reason', 'reasonsomehow', 'reassum', 'reassur', 'rebecca', 'rebel', 'rebelli', 'rebellion', 'rebirth', 'reborn', 'rebound', 'rebrand', 'rebuf', 'rebuff', 'rebuild', 'rec', 'recal', 'recap', 'recaptur', 'receipt', 'receiv', 'recent', 'recept', 'receptionist', 'receptor', 'recip', 'recipi', 'recit', 'reckless', 'recklessli', 'reclaim', 'reclam', 'reclus', 'recogn', 'recognis', 'recognit', 'recogniz', 'recollect', 'recommend', 'recon', 'reconcil', 'reconcili', 'reconnaiss', 'reconstruct', 'record', 'recount', 'recoup', 'recours', 'recov', 'recoveri', 'recreat', 'recruit', 'recuper', 'recur', 'recurr', 'recut', 'recycl', 'red', 'redcap', 'redcoat', 'reddick', 'redeem', 'redefin', 'redempt', 'redevelop', 'redey', 'redhead', 'rediscoveri', 'redistribut', 'redneck', 'redprofondo', 'reduc', 'reduction', 'redund', 'redux', 'reec', 'reed', 'reef', 'reek', 'reel', 'reelect', 'reenact', 'reenter', 'rees', 'reev', 'reevalu', 'reexamin', 'ref', 'refer', 'refere', 'referenc', 'refil', 'refin', 'refineri', 'reflect', 'reflex', 'reform', 'refrain', 'refresh', 'refreshingand', 'refreshingli', 'refriger', 'refug', 'refuge', 'refund', 'refus', 'regain', 'regal', 'regan', 'regard', 'regardless', 'regener', 'regga', 'regi', 'regicid', 'regim', 'regimen', 'regiment', 'regina', 'region', 'regist', 'registr', 'regret', 'regrett', 'regroup', 'regul', 'regular', 'regularli', 'regurgit', 'rehab', 'rehabilit', 'rehash', 'rehears', 'reich', 'reid', 'reign', 'reilli', 'rein', 'reindeer', 'reiner', 'reinforc', 'reinhold', 'reinsert', 'reinterpret', 'reintroduc', 'reinvent', 'reissu', 'reject', 'rejoic', 'rejoin', 'rejuven', 'rekal', 'rekindl', 'rel', 'relat', 'relationship', 'relax', 'relay', 'releas', 'releasejohn', 'releg', 'relent', 'relentless', 'relentlessli', 'relev', 'reli', 'reliabl', 'relianc', 'reliant', 'relic', 'relief', 'reliev', 'religi', 'religion', 'relinquish', 'relish', 'reliv', 'rell', 'reload', 'reloc', 'reluct', 'reluctantli', 'remad', 'remain', 'remaind', 'remak', 'reman', 'remand', 'remark', 'remast', 'remedi', 'rememb', 'remembersand', 'remi', 'remind', 'remington', 'reminisc', 'remnant', 'remodel', 'remors', 'remot', 'remov', 'renaiss', 'renaldo', 'renam', 'renard', 'renault', 'render', 'rendezv', 'rendit', 'rene', 'renegad', 'renew', 'renni', 'reno', 'renoir', 'renounc', 'renov', 'renown', 'rent', 'rental', 'reoccur', 'reopen', 'rep', 'repaint', 'repair', 'repairman', 'reparte', 'repay', 'repeat', 'repeatedli', 'repel', 'repent', 'repercuss', 'repertoir', 'repetit', 'repetiti', 'replac', 'replay', 'replet', 'repli', 'replica', 'report', 'reportag', 'reportedli', 'reprehens', 'repres', 'represent', 'repress', 'repriev', 'repris', 'reproduct', 'reptil', 'reptilian', 'republ', 'republican', 'repugn', 'repuls', 'reput', 'reputedli', 'request', 'requiem', 'requir', 'requisit', 'rereleas', 'rerun', 'rescu', 'rescuer', 'research', 'resel', 'resembl', 'resent', 'reserv', 'reservoir', 'reset', 'reshoot', 'resid', 'resign', 'resigni', 'resili', 'resin', 'resist', 'resnaiss', 'resolut', 'resolv', 'reson', 'resort', 'resound', 'resoundingli', 'resourc', 'respect', 'respectivelythi', 'respighi', 'respit', 'resplend', 'respond', 'respons', 'ressurect', 'rest', 'restart', 'restaur', 'restaurateur', 'restless', 'restlessli', 'reston', 'restor', 'restrain', 'restraint', 'restrict', 'resubmit', 'result', 'resum', 'resurfac', 'resurg', 'resurrect', 'resuscit', 'retail', 'retain', 'retak', 'retali', 'retard', 'retel', 'retent', 'rethink', 'retic', 'retin', 'retir', 'retold', 'retool', 'retort', 'retract', 'retread', 'retreat', 'retribut', 'retriev', 'retro', 'retroact', 'retrocomedi', 'retrofuturist', 'retrospect', 'retrostyl', 'return', 'returne', 'retyp', 'reuben', 'reunion', 'reunit', 'rev', 'revamp', 'reveal', 'revel', 'reveng', 'revengedriven', 'revenu', 'rever', 'reverend', 'revers', 'revert', 'review', 'revis', 'revisionist', 'revisit', 'revit', 'revitalis', 'reviv', 'revolt', 'revoltingli', 'revolut', 'revolutionari', 'revolv', 'revuls', 'reward', 'rewatch', 'rewind', 'rework', 'rewrit', 'rex', 'reynold', 'reza', 'rhapsodi', 'rhe', 'rhea', 'rhetor', 'rhett', 'rhi', 'rhode', 'rhyme', 'rhythm', 'rib', 'ribald', 'ribbon', 'ribtickl', 'rica', 'rican', 'ricardo', 'ricci', 'riccion', 'rice', 'rich', 'richard', 'richardson', 'richelieu', 'richer', 'richest', 'richi', 'richli', 'richter', 'rick', 'ricki', 'rickl', 'rico', 'rid', 'ridden', 'riddick', 'riddl', 'riddler', 'ride', 'rider', 'ridicul', 'ridley', 'rienfenst', 'rif', 'rife', 'riff', 'riffraff', 'rifkin', 'rifl', 'riflecamera', 'rifleri', 'rig', 'rigg', 'right', 'righteou', 'rightfrighteningli', 'righthand', 'rightist', 'rightli', 'rightw', 'rigid', 'rigor', 'rigormorti', 'rigour', 'rika', 'riker', 'rile', 'riley', 'ring', 'ringedplanet', 'ringer', 'ringlead', 'ringo', 'ringwald', 'rintintin', 'rio', 'riot', 'rioter', 'riotou', 'rip', 'ripe', 'ripley', 'ripoff', 'ripper', 'riproar', 'riproarin', 'risa', 'rise', 'risen', 'riser', 'risibl', 'risk', 'riskadvers', 'riski', 'risqu', 'rita', 'ritchi', 'rite', 'ritter', 'ritual', 'ritualist', 'ritzi', 'rival', 'rivalri', 'river', 'rivera', 'rivet', 'rizzo', 'rko', 'roach', 'road', 'roadblock', 'roadrunn', 'roadsid', 'roam', 'roamer', 'roar', 'roast', 'rob', 'robard', 'robber', 'robberi', 'robbi', 'robbin', 'robe', 'robert', 'roberta', 'roberto', 'robertson', 'robertswhos', 'robespierr', 'robicheaux', 'robin', 'robinson', 'robocop', 'robot', 'robust', 'rocco', 'rochefort', 'rochel', 'rock', 'rocker', 'rocket', 'rocketri', 'rocketship', 'rockhound', 'rocki', 'rockin', 'rockmusicianturnedpavementartist', 'rocksactu', 'rockslid', 'rockwel', 'rococo', 'rod', 'roddenberri', 'roddi', 'rodent', 'rodger', 'rodman', 'rodney', 'rodriguez', 'roger', 'rogu', 'roguish', 'roland', 'role', 'rolesded', 'roleshift', 'rolf', 'roll', 'roller', 'rollerblad', 'rollercoast', 'rollergirl', 'rollick', 'rollin', 'roman', 'romanc', 'romania', 'romano', 'romant', 'romantic', 'romanticcomedi', 'romanticizedhemingway', 'rome', 'romeo', 'romero', 'romi', 'romp', 'romper', 'romulu', 'ron', 'ronald', 'rong', 'rongguang', 'ronin', 'ronni', 'roof', 'rooftop', 'rooki', 'room', 'roomer', 'roommat', 'rooney', 'rooster', 'root', 'rope', 'roper', 'rosaleen', 'rosalia', 'rosalind', 'rosari', 'rosco', 'rose', 'rosebud', 'rosemari', 'rosenbaum', 'rosencrantz', 'rosenth', 'roshomonlik', 'rosi', 'ross', 'rossellini', 'rossi', 'roswel', 'rot', 'rota', 'rotat', 'rote', 'roth', 'rothhaar', 'rothschild', 'rotten', 'rotterdam', 'rotund', 'roug', 'rough', 'rougher', 'roughest', 'roughli', 'roughneck', 'roulett', 'round', 'rounder', 'roundli', 'roundtheworld', 'roundtrip', 'roundup', 'rourk', 'rous', 'rousselot', 'rout', 'routin', 'rove', 'rover', 'row', 'rowan', 'rowdi', 'roxann', 'roxburgh', 'roy', 'royal', 'royalti', 'royc', 'royercollard', 'rub', 'rubber', 'rubbish', 'rubbl', 'rube', 'rubella', 'ruben', 'rubi', 'rubin', 'rubinvega', 'rudd', 'rudderless', 'ruddi', 'rude', 'rudi', 'rudimentari', 'rudnick', 'rudolph', 'ruffian', 'rufu', 'rug', 'ruggedli', 'ruin', 'ruiz', 'rule', 'ruler', 'rum', 'rumba', 'rumbl', 'rumin', 'rummag', 'rumor', 'rumour', 'rump', 'rumpl', 'run', 'runaway', 'rundown', 'rung', 'runner', 'runneth', 'runofthemil', 'runway', 'rupert', 'rural', 'rus', 'ruse', 'rush', 'rushmor', 'rusnak', 'russel', 'russia', 'russian', 'russianamerican', 'russiansound', 'russo', 'rusti', 'rustic', 'rustier', 'rustler', 'rut', 'ruth', 'rutherford', 'ruthless', 'rutland', 'ryan', 'ryanhank', 'ryder', 'rye', 'sabbat', 'sabian', 'sabina', 'sabor', 'sabotag', 'sabrina', 'saccharin', 'sach', 'sachet', 'sack', 'sacr', 'sacrament', 'sacrif', 'sacrific', 'sacrifici', 'sacrilegi', 'sad', 'saddam', 'sadden', 'sadder', 'saddl', 'sade', 'sadi', 'sadist', 'sadli', 'sadomasoch', 'sadsack', 'safari', 'safe', 'safecrack', 'safest', 'safeti', 'saffron', 'saga', 'sage', 'sagebrush', 'sagemil', 'sahara', 'said', 'saigon', 'sail', 'sailboat', 'sailor', 'saint', 'saintsaen', 'saito', 'sake', 'sal', 'salaam', 'salaci', 'salami', 'salari', 'sale', 'salem', 'salesman', 'salesperson', 'salin', 'saling', 'salli', 'salma', 'salman', 'salon', 'salsa', 'salt', 'salti', 'saltoftheearth', 'salut', 'salvag', 'salvat', 'sam', 'samantha', 'samanthacharli', 'samara', 'samaritan', 'sami', 'sammi', 'sammo', 'samo', 'samoan', 'sampl', 'sampson', 'samuel', 'samurai', 'san', 'sancho', 'sanctimoni', 'sanction', 'sanctuari', 'sand', 'sandal', 'sandbox', 'sander', 'sandi', 'sandler', 'sandlerannoy', 'sandra', 'sandworm', 'sane', 'sang', 'sanit', 'sanitari', 'sanitarium', 'saniti', 'sanjay', 'sank', 'sant', 'santa', 'santiago', 'santo', 'santoro', 'sap', 'sappi', 'sara', 'sarah', 'sarajevo', 'sarcasm', 'sarcast', 'sardon', 'sare', 'sarong', 'sasayaki', 'sasha', 'sassi', 'sat', 'satan', 'sate', 'satellit', 'satin', 'satinski', 'satir', 'satisfact', 'satisfactori', 'satisfactorili', 'satisfi', 'satoshi', 'satur', 'saturday', 'saturdaynightl', 'saturn', 'sauc', 'saucer', 'sauci', 'saul', 'sauna', 'saunder', 'sausag', 'savag', 'savageri', 'savannah', 'savant', 'save', 'savetheworldfromaliensorenviron', 'savil', 'savior', 'savor', 'savoy', 'savvi', 'saw', 'sawa', 'saxon', 'saxophonist', 'say', 'scaffold', 'scale', 'scaleddown', 'scalis', 'scam', 'scamartist', 'scamper', 'scan', 'scandal', 'scandalridden', 'scanner', 'scant', 'scantili', 'scantilyclad', 'scar', 'scarab', 'scarc', 'scare', 'scarfac', 'scari', 'scarier', 'scariest', 'scarlet', 'scarlett', 'scarylook', 'scath', 'scatolog', 'scatter', 'scatterbrain', 'scattershot', 'scav', 'scenario', 'scene', 'sceneri', 'scenerymunch', 'scenest', 'scenesteal', 'scenesth', 'scenic', 'scent', 'schedul', 'schellenberg', 'schema', 'schemat', 'scheme', 'schemer', 'schiffer', 'schill', 'schindler', 'schintziu', 'schizophren', 'schizophrenia', 'schlesing', 'schlictman', 'schlock', 'schlockfest', 'schlocki', 'schlondorff', 'schlumpi', 'schmaltz', 'schmaltzi', 'schmeer', 'schmidt', 'schmuck', 'schneider', 'schnitzel', 'scholar', 'scholarli', 'scholarship', 'schomberg', 'school', 'schoolboy', 'schoolchild', 'schoolchildren', 'schooler', 'schoolgirl', 'schoolmarm', 'schoolteach', 'schoolwork', 'schrader', 'schreck', 'schroeder', 'schtick', 'schumach', 'schumann', 'schwalbach', 'schwartz', 'schwartzman', 'schwartznag', 'schwarzenegg', 'schweiber', 'scienc', 'sciencefict', 'scientif', 'scientist', 'scientolog', 'scifi', 'scifihorror', 'scifikungfushootemup', 'scissorhand', 'scof', 'scoff', 'scoobi', 'scoop', 'scope', 'scorch', 'score', 'scorn', 'scorpion', 'scorses', 'scot', 'scotchinduc', 'scotland', 'scotsirish', 'scott', 'scotti', 'scottish', 'scottthoma', 'scoundrel', 'scour', 'scout', 'scovil', 'scowl', 'scram', 'scrambl', 'scrap', 'scrapbook', 'scrape', 'scrappi', 'scratch', 'scream', 'screamer', 'screamingli', 'screech', 'screed', 'screen', 'screenplay', 'screenplayand', 'screenplaywith', 'screentim', 'screenwrit', 'screenwriternovelist', 'screw', 'screwbal', 'screwer', 'screwi', 'screwup', 'scribbl', 'scribe', 'script', 'scriptur', 'scriptwrit', 'scroll', 'scroog', 'scrub', 'scrubber', 'scruffi', 'scrumptiou', 'scrunch', 'scrutin', 'scrutini', 'scuba', 'scuffl', 'sculli', 'sculpt', 'sculptor', 'sculptress', 'sculptur', 'scum', 'scumbag', 'scumbal', 'scummi', 'scurri', 'scuzzi', 'se', 'sea', 'seafar', 'seal', 'seam', 'seaman', 'seami', 'seamless', 'seamlessli', 'sean', 'seanc', 'seaport', 'sear', 'search', 'searchlight', 'seasick', 'seasid', 'season', 'seat', 'seatofthep', 'seattl', 'seattlebas', 'seawal', 'sebastian', 'sec', 'secess', 'seclud', 'seclus', 'second', 'secondari', 'secondfiddl', 'secondincommand', 'secondli', 'secondr', 'secondstori', 'secondstr', 'secreci', 'secret', 'secretari', 'secretli', 'sect', 'section', 'sector', 'secular', 'secur', 'sedat', 'sedit', 'seduc', 'seduct', 'seductress', 'see', 'seed', 'seedi', 'seek', 'seeker', 'seem', 'seemedthough', 'seemingli', 'seeminglyharmless', 'seeminglyheartless', 'seeminglyimpregn', 'seeminglyperfect', 'seeminglystrang', 'seen', 'seenlittl', 'seep', 'seesaw', 'seeth', 'segal', 'segment', 'segonzac', 'segreg', 'segu', 'seig', 'seinfeld', 'seismic', 'seiz', 'sela', 'selbi', 'seldom', 'select', 'selena', 'self', 'selfabsorb', 'selfabsorpt', 'selfaccept', 'selfacknowledg', 'selfassur', 'selfassured', 'selfawar', 'selfcent', 'selfcomposur', 'selfconfid', 'selfcongratulatori', 'selfconsci', 'selfcontain', 'selfdefens', 'selfdeprec', 'selfdepreci', 'selfdestruct', 'selfdon', 'selfeffac', 'selfesteem', 'selffulfil', 'selfheal', 'selfhelp', 'selfhypnosi', 'selfimport', 'selfimpos', 'selfindulg', 'selfinflict', 'selfish', 'selfishli', 'selfjustif', 'selflearn', 'selfloath', 'selfmock', 'selfparodi', 'selfpiti', 'selfpossess', 'selfproclaim', 'selfrearrang', 'selfrefer', 'selfreferenti', 'selfrepl', 'selfrespect', 'selfright', 'selfsam', 'selfserv', 'selfstag', 'selfsustain', 'selftalk', 'selftaught', 'selftranc', 'selftreat', 'selfworth', 'sell', 'sellar', 'seller', 'selloff', 'sellout', 'selma', 'seltzer', 'selv', 'semblanc', 'semblenc', 'semen', 'semest', 'semi', 'semiarticul', 'semiautobiograph', 'semidramat', 'semiintrospect', 'semin', 'seminak', 'seminar', 'seminari', 'semipromis', 'semislum', 'semistal', 'semistarmak', 'sen', 'senat', 'send', 'sender', 'sendoff', 'senil', 'senior', 'senora', 'sensat', 'sensei', 'senseless', 'sensibl', 'sensit', 'sensori', 'sensual', 'sensuou', 'sent', 'sentenc', 'sentient', 'sentiment', 'separ', 'separatist', 'seper', 'sepia', 'septemb', 'septic', 'sequel', 'sequelspinoff', 'sequenc', 'sequencesthey', 'serb', 'serbedzija', 'seren', 'serena', 'serenad', 'serendip', 'sergeant', 'sergio', 'serial', 'serialis', 'seriou', 'serious', 'seriouslyit', 'serl', 'serlingish', 'sermon', 'serou', 'serpentin', 'serpico', 'serra', 'serrano', 'serum', 'serv', 'servant', 'servic', 'servo', 'sesam', 'session', 'set', 'setback', 'seth', 'seti', 'setpiec', 'settl', 'settlement', 'settler', 'setup', 'seung', 'seven', 'sevenight', 'seventeen', 'seventh', 'seventi', 'seventy', 'seventyf', 'sever', 'sevigni', 'sevil', 'sew', 'sewag', 'sewer', 'sewn', 'sex', 'sexcraz', 'sexi', 'sexist', 'sexploit', 'sexpot', 'sexstarv', 'sexton', 'sexual', 'sexuallyfrustr', 'seymour', 'shabbi', 'shack', 'shackl', 'shackleton', 'shade', 'shadi', 'shadow', 'shadowi', 'shaft', 'shaftinafrica', 'shaftsbigscor', 'shag', 'shagadel', 'shaggi', 'shah', 'shake', 'shakedown', 'shaken', 'shaker', 'shakespear', 'shakespearean', 'shakespeareantrain', 'shakespearian', 'shaki', 'shakier', 'shale', 'shall', 'shallow', 'sham', 'shaman', 'shame', 'shameless', 'shamelessli', 'shampoolik', 'shamrock', 'shane', 'shang', 'shanghai', 'shanhou', 'shannon', 'shao', 'shaolin', 'shape', 'shapechang', 'shapeless', 'shard', 'share', 'shark', 'sharon', 'sharp', 'sharpen', 'sharper', 'sharpest', 'sharpli', 'shatter', 'shaun', 'shave', 'shaven', 'shaw', 'shawn', 'shawshank', 'she', 'shea', 'shear', 'shearer', 'shed', 'sheen', 'sheep', 'sheer', 'sheet', 'sheffield', 'sheik', 'sheikh', 'sheila', 'shelbi', 'sheldon', 'shelf', 'shell', 'shelley', 'shelli', 'shellshock', 'shelmikedmu', 'shelter', 'shelton', 'shelv', 'shen', 'shenanigan', 'shepard', 'sheperd', 'sheppard', 'sherbedgia', 'sheridan', 'sheriff', 'sherlock', 'sherman', 'sherri', 'sheryl', 'shi', 'shield', 'shift', 'shifti', 'shimmer', 'shindig', 'shine', 'shini', 'shinohara', 'ship', 'shipboard', 'shipment', 'shirley', 'shiro', 'shirt', 'shirtless', 'shit', 'shite', 'shitheel', 'shitkick', 'shoal', 'shock', 'shocker', 'shockingli', 'shockwav', 'shoddi', 'shoe', 'shoeless', 'shoestr', 'shogun', 'shoo', 'shook', 'shoot', 'shootemup', 'shooter', 'shootout', 'shop', 'shopper', 'shor', 'shore', 'shorelin', 'short', 'shortag', 'shortcom', 'shortcrop', 'shortcut', 'shorten', 'shorter', 'shortest', 'shortfal', 'shorthand', 'shorti', 'shortlast', 'shortli', 'shortlist', 'shostakovich', 'shot', 'shotgun', 'shou', 'shouldabeennomin', 'shoulder', 'shoulderlength', 'shouldnt', 'shouldv', 'shout', 'shove', 'shovel', 'show', 'showbiz', 'showcas', 'showdown', 'shower', 'showgirl', 'showi', 'showman', 'showmanship', 'shown', 'showstop', 'showtim', 'shred', 'shrek', 'shrew', 'shrewd', 'shrewish', 'shriek', 'shrift', 'shrimp', 'shrink', 'shroud', 'shrug', 'shtick', 'shuck', 'shudder', 'shue', 'shuffl', 'shun', 'shunt', 'shut', 'shuttl', 'shyamalan', 'shyer', 'sibirski', 'sibl', 'sicili', 'sick', 'sickandtwist', 'sickbay', 'sicken', 'sickeningli', 'sickli', 'sid', 'side', 'sideburn', 'sideeffect', 'sidekick', 'sidekicksidekick', 'sidelin', 'sideplot', 'sideshow', 'sidesplittingli', 'sidetrack', 'sidewalk', 'sidiou', 'sidney', 'sieg', 'siegel', 'sierra', 'sift', 'sigh', 'sight', 'sightless', 'sightse', 'sigil', 'sigmund', 'sign', 'signal', 'signatur', 'signifi', 'signific', 'significantli', 'sigourney', 'sikh', 'sil', 'silenc', 'silent', 'silhouet', 'silicon', 'silk', 'silki', 'silli', 'silliest', 'sillylook', 'sillysound', 'silva', 'silver', 'silverado', 'silveri', 'silverman', 'silverston', 'silverwar', 'silvi', 'silvio', 'sim', 'simian', 'similar', 'similarli', 'similarlyf', 'similarlystructur', 'similarlythem', 'simmer', 'simmon', 'simon', 'simonesqu', 'simper', 'simpl', 'simplemind', 'simpler', 'simplest', 'simpleton', 'simpli', 'simplic', 'simplifi', 'simplist', 'simpson', 'simul', 'simultan', 'sin', 'sinatra', 'sinc', 'sincer', 'sinceth', 'sinclair', 'sinewi', 'sing', 'singapor', 'singer', 'singersthey', 'singh', 'singin', 'singl', 'singlehandedli', 'singleton', 'singsong', 'singular', 'singularli', 'sinist', 'sink', 'siouxsi', 'sip', 'sir', 'sire', 'siren', 'sirocco', 'sissi', 'sister', 'sisterinlaw', 'sit', 'sitch', 'sitcom', 'site', 'sith', 'sitter', 'sittingduck', 'situat', 'siva', 'six', 'sixmonth', 'sixpackwield', 'sixstr', 'sixteen', 'sixteenth', 'sixth', 'sixti', 'sixty', 'sixtyish', 'sixyear', 'sixyearold', 'sizabl', 'size', 'sizeabl', 'sizemor', 'skarsgard', 'skate', 'skateboard', 'skater', 'skeet', 'skeksi', 'skelet', 'skeleton', 'skellington', 'skeptic', 'sketch', 'sketchi', 'skew', 'skewer', 'ski', 'skid', 'skil', 'skill', 'skim', 'skimp', 'skimpi', 'skin', 'skinhead', 'skinner', 'skinni', 'skintight', 'skip', 'skipper', 'skirmish', 'skirt', 'skit', 'skitlength', 'skittish', 'skull', 'skullfac', 'skunk', 'sky', 'skye', 'skylar', 'skylin', 'skyrocket', 'skyscrap', 'skywalk', 'skyway', 'slack', 'slacker', 'slackerhood', 'slackjaw', 'slade', 'sladewild', 'slain', 'slam', 'slander', 'slang', 'slap', 'slapdash', 'slappedtogeth', 'slapstick', 'slash', 'slasher', 'slashermovi', 'slate', 'slater', 'slatteri', 'slaughter', 'slave', 'slaver', 'slaveri', 'slavessteerag', 'slay', 'slayer', 'sleaz', 'sleazebal', 'sleazi', 'sledgehamm', 'sleek', 'sleep', 'sleeper', 'sleepi', 'sleepless', 'sleepwalk', 'sleev', 'sleight', 'sleightofhand', 'slept', 'sleuth', 'slew', 'sli', 'slice', 'sliceanddic', 'sliceoflif', 'slick', 'slicker', 'slickest', 'slide', 'slight', 'slightest', 'slightli', 'slightlyless', 'slim', 'slime', 'slimebal', 'slimi', 'sling', 'slink', 'slinki', 'slip', 'slipperi', 'slipperysmooth', 'slitheri', 'slo', 'slob', 'slobber', 'slog', 'slogan', 'slomo', 'slop', 'slope', 'sloppi', 'sloppili', 'slosh', 'slot', 'slouch', 'slovenli', 'slow', 'slower', 'slowli', 'slowmot', 'slowmov', 'slowpac', 'sludg', 'slug', 'sluggish', 'slum', 'slumber', 'slur', 'slut', 'slutti', 'slyli', 'smack', 'small', 'smaller', 'smallest', 'smallscreen', 'smalltim', 'smalltown', 'smarmi', 'smart', 'smarta', 'smartalec', 'smarter', 'smartest', 'smartli', 'smartmouth', 'smash', 'smatter', 'smear', 'smell', 'smelli', 'smile', 'smiley', 'smirk', 'smith', 'smitten', 'smoke', 'smokejump', 'smoker', 'smolder', 'smooth', 'smoothli', 'smorgasbord', 'smother', 'smug', 'smuggl', 'smuggler', 'smugli', 'smuglook', 'smut', 'smutti', 'snack', 'snag', 'snaggletooth', 'snail', 'snake', 'snap', 'snappi', 'snapshot', 'snarl', 'snatch', 'snatcher', 'snazzi', 'sneak', 'sneaker', 'sneaki', 'sneer', 'sneez', 'snicker', 'snickerworthi', 'snide', 'sniff', 'snip', 'snipe', 'sniper', 'snippet', 'snitch', 'snivel', 'snob', 'snobberi', 'snobbi', 'snobbish', 'snoop', 'snooti', 'snore', 'snort', 'snot', 'snow', 'snowbal', 'snowbound', 'snowcov', 'snowfal', 'snowi', 'snowiest', 'snowsho', 'snowstorm', 'snub', 'snuf', 'snuff', 'soak', 'soap', 'soar', 'soav', 'sob', 'sobchak', 'sober', 'sobrieti', 'soc', 'socal', 'soccer', 'social', 'socialist', 'socialit', 'sociallyaccept', 'societ', 'societi', 'sociolog', 'sociologist', 'sociopath', 'sock', 'socket', 'soda', 'soderbergh', 'sofia', 'soft', 'softcor', 'soften', 'softi', 'softli', 'softtoss', 'softwar', 'soggi', 'soho', 'soil', 'soilwhich', 'soire', 'sol', 'solac', 'solar', 'sold', 'soldier', 'sole', 'solemn', 'solemnli', 'solicit', 'solid', 'solidar', 'solidifi', 'solidli', 'soliloqui', 'soliloquy', 'solitari', 'solitud', 'solo', 'soloflight', 'solomon', 'solon', 'solut', 'solv', 'solvent', 'solver', 'somalia', 'somber', 'somebodi', 'someday', 'somehow', 'someon', 'someplac', 'somerset', 'somet', 'someth', 'sometim', 'sometimesodi', 'somewhat', 'somewher', 'sommeli', 'sommer', 'son', 'sona', 'sondra', 'song', 'songandd', 'songwrit', 'soni', 'sonnenfeld', 'sonni', 'sonora', 'sonya', 'sonyloew', 'soon', 'sooner', 'soontob', 'soontobeclass', 'soooo', 'sooooo', 'sooth', 'soothingli', 'sooti', 'sophi', 'sophia', 'sophist', 'sophomor', 'soppi', 'sopranalik', 'soprano', 'sora', 'sorcer', 'sorceri', 'sordid', 'sore', 'soror', 'sorri', 'sorrow', 'sort', 'sorta', 'soso', 'souca', 'sought', 'soughtaft', 'soul', 'soulcollect', 'soulless', 'soulmat', 'sound', 'soundbit', 'soundli', 'soundlik', 'soundman', 'soundstag', 'soundtrack', 'soundwav', 'soup', 'soupi', 'sour', 'sourc', 'south', 'southampton', 'southern', 'southerndrawl', 'southland', 'southward', 'southwest', 'souvenir', 'soviet', 'soy', 'space', 'spacebal', 'spacecraft', 'spacefar', 'spaceport', 'spaceship', 'spacey', 'spaciou', 'spade', 'spaghetti', 'spain', 'spam', 'span', 'spaniard', 'spanish', 'spank', 'spar', 'spare', 'spark', 'sparki', 'sparkl', 'spartacu', 'spasmod', 'spastic', 'spasticbutfriendli', 'spat', 'spate', 'spatial', 'spawn', 'speak', 'speakeasytyp', 'speaker', 'spear', 'speci', 'special', 'specialeffect', 'specialis', 'specialist', 'specif', 'spectacl', 'spectacular', 'spectacularli', 'spectat', 'specter', 'spector', 'spectrum', 'specul', 'sped', 'speech', 'speechless', 'speed', 'speedboat', 'speedi', 'spell', 'spencer', 'spend', 'spent', 'sperm', 'spew', 'sphere', 'spheric', 'spi', 'spice', 'spici', 'spicoli', 'spider', 'spiderman', 'spiel', 'spielberg', 'spielberginspir', 'spier', 'spiffi', 'spike', 'spill', 'spin', 'spindli', 'spine', 'spinechil', 'spinella', 'spinetingl', 'spinoff', 'spinster', 'spiral', 'spirit', 'spiritless', 'spiritu', 'spiritualist', 'spit', 'spite', 'splash', 'splashi', 'splat', 'splatter', 'spleen', 'splendid', 'splendidli', 'splendor', 'splendour', 'splenetik', 'splice', 'split', 'splitsecond', 'spock', 'spoil', 'spoiler', 'spoilerfil', 'spoke', 'spoken', 'spokesman', 'spong', 'sponsor', 'spontan', 'spoof', 'spook', 'spooki', 'spoon', 'sporad', 'sport', 'sporti', 'sportscast', 'spot', 'spotless', 'spotlight', 'spotter', 'spotti', 'spous', 'spousal', 'spout', 'sprang', 'sprawl', 'spray', 'spraypaint', 'spread', 'spree', 'spri', 'spring', 'springboard', 'springer', 'springsteen', 'sprinkl', 'sprint', 'sprite', 'sprocket', 'spruce', 'sprung', 'spud', 'spunk', 'spunki', 'spur', 'spurt', 'sputnik', 'sputter', 'spyglass', 'squabbl', 'squad', 'squaddi', 'squadron', 'squalid', 'squalor', 'squander', 'squar', 'squarejaw', 'squaresoft', 'squash', 'squeaki', 'squeakyclean', 'squeal', 'squeamish', 'squeez', 'squib', 'squid', 'squiggli', 'squint', 'squirm', 'squirminduc', 'squirrel', 'squish', 'stab', 'stabil', 'stabl', 'staccato', 'stacey', 'staci', 'stack', 'stadium', 'staff', 'staffer', 'stag', 'stage', 'stagger', 'stagnant', 'stahl', 'stain', 'stainedglass', 'stair', 'stake', 'stalag', 'stale', 'stalk', 'stalkandslash', 'stalker', 'stall', 'stallon', 'stalwart', 'stamen', 'stammer', 'stamp', 'stamped', 'stamper', 'stan', 'stanc', 'stand', 'standard', 'standardis', 'standbi', 'standin', 'standoff', 'standoffish', 'standout', 'standpoint', 'standup', 'stanford', 'stanislav', 'stanley', 'stanleyvil', 'stanton', 'stapl', 'stapleton', 'star', 'starbuck', 'starcross', 'stardom', 'stardust', 'stare', 'stargat', 'stargher', 'stark', 'starkli', 'starl', 'starlet', 'starship', 'starstruck', 'starstud', 'start', 'startl', 'startlingli', 'startpollock', 'starv', 'stash', 'state', 'statehood', 'statement', 'statementmak', 'staten', 'stateoftheart', 'statesanct', 'statesid', 'static', 'station', 'stationari', 'statist', 'statu', 'statur', 'stavro', 'stay', 'stayin', 'stead', 'steadfast', 'steadi', 'steadicam', 'steadili', 'steadyd', 'steak', 'steal', 'stealer', 'stealth', 'stealthi', 'steam', 'steami', 'steed', 'steel', 'steelfactori', 'steelgray', 'steelyey', 'steen', 'steenburgen', 'steep', 'steer', 'steerag', 'stefano', 'stein', 'steinberg', 'steiner', 'stella', 'stellar', 'stem', 'stempl', 'stendahl', 'stendhal', 'stentorian', 'step', 'stepchild', 'stepdaught', 'stepfath', 'stephan', 'stephen', 'stepmom', 'stepmoth', 'stereo', 'stereotyp', 'steril', 'sterl', 'stern', 'sternli', 'steroid', 'stetson', 'steve', 'steven', 'stevenson', 'stevi', 'stew', 'stewardess', 'stewart', 'stick', 'sticki', 'stickler', 'stickman', 'stickup', 'stiff', 'stifl', 'stifler', 'stiger', 'stigma', 'stile', 'still', 'stiller', 'stillliv', 'stillman', 'stilt', 'stimul', 'sting', 'stink', 'stinker', 'stinki', 'stinkiest', 'stint', 'stipul', 'stir', 'stirl', 'stirrup', 'stitch', 'stivaletti', 'stock', 'stockwel', 'stockyard', 'stoddard', 'stogi', 'stoic', 'stoical', 'stoicism', 'stoke', 'stoker', 'stole', 'stolen', 'stoli', 'stoltz', 'stomach', 'stomp', 'stone', 'stonecutt', 'stoner', 'stonework', 'stood', 'stoog', 'stooli', 'stoop', 'stop', 'stopanim', 'stopper', 'storag', 'store', 'stori', 'stork', 'storm', 'stormi', 'storyboard', 'storybook', 'storylin', 'storytel', 'stout', 'stove', 'stowaway', 'straight', 'straighten', 'straightest', 'straightfac', 'straightforward', 'straightforwardli', 'straighttothecutoutbin', 'straighttovideo', 'strain', 'strait', 'straitjacket', 'straitlac', 'strand', 'strang', 'strangelov', 'stranger', 'strangest', 'strangl', 'stranglehold', 'strap', 'strass', 'strateg', 'strategi', 'strategist', 'strathairn', 'stratospher', 'stratum', 'stravinski', 'straw', 'strawberri', 'stray', 'streak', 'stream', 'streep', 'street', 'streetcar', 'streetsmart', 'streetwis', 'streisand', 'strength', 'strengthen', 'stress', 'stressedout', 'stressinduc', 'stretch', 'strewn', 'stricken', 'strickler', 'strict', 'stricter', 'strictli', 'stride', 'strident', 'strife', 'strike', 'strikeout', 'striker', 'strikingli', 'string', 'stringi', 'strip', 'stripe', 'stripper', 'stripteas', 'strive', 'strobe', 'stroke', 'stroll', 'stroller', 'strong', 'stronger', 'strongest', 'strongli', 'strongman', 'strongwil', 'struck', 'structur', 'structurewis', 'struggl', 'strum', 'strung', 'strut', 'struther', 'strychninelac', 'stu', 'stuart', 'stubbi', 'stubborn', 'stubbornli', 'stuck', 'stud', 'student', 'studi', 'studio', 'studioimpos', 'studli', 'stuf', 'stuff', 'stuffexcept', 'stuffi', 'stultifi', 'stumbl', 'stump', 'stun', 'stung', 'stunner', 'stunningli', 'stunt', 'stuntman', 'stupefi', 'stupefyingli', 'stupend', 'stupid', 'stupidest', 'stupidli', 'stupor', 'sturdi', 'stutter', 'stuyves', 'style', 'stylish', 'stylishli', 'stylist', 'styliz', 'stymi', 'su', 'suav', 'sub', 'subconsci', 'subcontin', 'subcultur', 'subdesarrollo', 'subdu', 'subgeniu', 'subgenr', 'subject', 'subjectmatt', 'subjug', 'sublead', 'sublim', 'submarin', 'submerg', 'submiss', 'submissionth', 'submit', 'subordin', 'subpar', 'subplot', 'subscrib', 'subsequ', 'subservi', 'subsidi', 'subsidiari', 'substanc', 'substandard', 'substant', 'substanti', 'substitut', 'subsum', 'subterfug', 'subtext', 'subthem', 'subtitl', 'subtl', 'subtler', 'subtleti', 'subtli', 'subtract', 'suburb', 'suburban', 'suburbia', 'subvers', 'subvert', 'subway', 'succe', 'succeed', 'success', 'successor', 'succinct', 'succumb', 'suck', 'sucker', 'sudden', 'suddenli', 'sue', 'suffer', 'suffic', 'suffici', 'suffoc', 'sufi', 'sugar', 'sugarcoat', 'sugari', 'sugarplum', 'suggest', 'sugiyama', 'sugiyana', 'sui', 'suicid', 'suit', 'suitabl', 'suitandti', 'suitcas', 'suitor', 'sulcus', 'sulfur', 'sulk', 'sullen', 'sulli', 'sullivan', 'sultan', 'sultri', 'sum', 'sumbitch', 'summa', 'summar', 'summari', 'summat', 'summer', 'summon', 'sumo', 'sumptuou', 'sun', 'sunbath', 'sunda', 'sundanc', 'sunday', 'sunder', 'sung', 'sunglass', 'sunk', 'sunken', 'sunlight', 'sunni', 'sunniest', 'sunris', 'sunset', 'sunshin', 'suo', 'super', 'superador', 'superag', 'superb', 'superbl', 'supercharg', 'supercili', 'supercomput', 'supercop', 'superfici', 'superflu', 'supergeniu', 'supergirl', 'superhero', 'superhuman', 'superhyp', 'superimpos', 'superintellig', 'superior', 'superjudgment', 'superl', 'supermarket', 'supermasochist', 'supermodel', 'supermom', 'supernatur', 'superpow', 'supersecret', 'supersed', 'superseventi', 'superstar', 'superstit', 'superstructur', 'supertechnolog', 'supervis', 'supervisor', 'superweapon', 'supplant', 'supplement', 'suppli', 'supplic', 'supplier', 'supplytrad', 'support', 'suppos', 'supposedli', 'suppress', 'suprem', 'supremaci', 'supremebozo', 'supress', 'supris', 'sure', 'surefir', 'surf', 'surfac', 'surfeit', 'surfer', 'surg', 'surgeon', 'surgeri', 'surgic', 'surmis', 'surpass', 'surpris', 'surprisingli', 'surreal', 'surrealist', 'surrend', 'surreptiti', 'surrog', 'surround', 'surveil', 'survey', 'surviv', 'survivor', 'susan', 'suscept', 'suspect', 'suspend', 'suspens', 'suspenseless', 'suspensesci', 'suspici', 'suspicion', 'suspiria', 'sustain', 'susten', 'sutherland', 'sutton', 'sutur', 'suvarov', 'suzann', 'suzi', 'sven', 'svu', 'swagger', 'swain', 'swallow', 'swamp', 'swan', 'swank', 'swanson', 'swap', 'swarm', 'swashbuckl', 'swastika', 'swastikawear', 'swat', 'sway', 'swayz', 'swear', 'sweargruntblast', 'sweat', 'sweater', 'sweati', 'sweatshirt', 'sweatshop', 'sweden', 'swedish', 'sweeney', 'sweep', 'sweepstak', 'sweet', 'sweetback', 'sweeteeri', 'sweeten', 'sweetest', 'sweetfac', 'sweetheart', 'sweetli', 'sweetnatur', 'swell', 'swept', 'swift', 'swiftli', 'swill', 'swim', 'swimmer', 'swindler', 'swing', 'swingdanc', 'swinger', 'swingin', 'swinton', 'swipe', 'swirl', 'swiss', 'switch', 'switchback', 'switzerland', 'swoon', 'swoop', 'sword', 'swordplay', 'swordsman', 'swordwield', 'swore', 'sworn', 'syd', 'sydney', 'syke', 'syllabl', 'sylvest', 'sylvi', 'sylvia', 'symbiosi', 'symbol', 'symbolis', 'symmetri', 'sympath', 'sympathet', 'sympathi', 'sympathis', 'symphoni', 'symptom', 'symptomat', 'synaps', 'sync', 'synchron', 'syndic', 'syndrom', 'syndromelik', 'synonym', 'synopsi', 'synthes', 'synthesi', 'synthet', 'synthheavi', 'syring', 'syrup', 'syrupi', 'system', 'systemat', 'szubanski', 'ta', 'tabasco', 'tabl', 'tabloid', 'taboo', 'taboosmash', 'tachi', 'tacitli', 'taciturn', 'tack', 'tacki', 'tackl', 'taco', 'tact', 'tactic', 'tactil', 'tad', 'tael', 'tag', 'tagalong', 'taggart', 'tagger', 'taglin', 'tahiti', 'taho', 'tai', 'tail', 'tailor', 'taint', 'taipan', 'taiwan', 'taiwanes', 'takaku', 'take', 'takedown', 'takeitorleaveit', 'taken', 'takenocrap', 'takenoprison', 'takeoff', 'takeov', 'takeshi', 'tale', 'talent', 'talentless', 'talk', 'talker', 'talki', 'talkin', 'talkingdirectlyintothecameraschtick', 'talkinghead', 'talkshow', 'tall', 'taller', 'talli', 'talmud', 'tam', 'tamara', 'tame', 'tamino', 'tammi', 'tamper', 'tampon', 'tan', 'tanaka', 'tandi', 'tang', 'tangent', 'tangenti', 'tangibl', 'tangl', 'tango', 'tank', 'tanker', 'tankprison', 'tanner', 'tantal', 'tantamount', 'tanto', 'tantric', 'tantrum', 'tap', 'tape', 'tapestri', 'tapeworship', 'tapioca', 'tara', 'taran', 'tarantino', 'tarantula', 'tardi', 'target', 'tariq', 'tarnish', 'tarout', 'tarp', 'tart', 'tartar', 'tartli', 'tarzan', 'tasha', 'task', 'tassel', 'tast', 'tasteless', 'tasti', 'tatami', 'tate', 'tatoo', 'tatooin', 'tatopoulo', 'tatopouloss', 'tatter', 'tattoo', 'tatum', 'tatyana', 'taught', 'taunt', 'taut', 'tawdri', 'tax', 'taxat', 'taxi', 'taxpay', 'tay', 'taylor', 'taylorgordon', 'tea', 'teach', 'teacher', 'teacherstud', 'team', 'teammat', 'teapot', 'tear', 'teari', 'tearjerk', 'tearoom', 'teaseathon', 'teaser', 'tech', 'techi', 'technic', 'technician', 'technicolor', 'techniqu', 'techno', 'technobabbl', 'technolog', 'technothril', 'tecton', 'ted', 'teddi', 'tediou', 'tedious', 'tedium', 'tee', 'teen', 'teenag', 'teenagedavid', 'teenorient', 'teenspeak', 'teentarget', 'teeshirt', 'teeter', 'teetertott', 'teeth', 'telecast', 'teleconferenc', 'telegram', 'telegraph', 'telekinet', 'telepath', 'telephon', 'teleplay', 'teleport', 'teleprompt', 'telescop', 'televis', 'tell', 'teller', 'telli', 'tellingli', 'tellitlik', 'telltal', 'temer', 'temp', 'temper', 'temperatur', 'tempest', 'tempestu', 'templ', 'templar', 'templeton', 'tempo', 'temporari', 'temporarili', 'tempt', 'temptat', 'temptress', 'ten', 'tenaci', 'tenant', 'tend', 'tendenc', 'tender', 'tenderli', 'tenebra', 'tenet', 'tennant', 'tennesse', 'tenni', 'tenor', 'tension', 'tent', 'tentacl', 'tenth', 'tenuou', 'tenur', 'tepid', 'tequila', 'terenc', 'teresa', 'teri', 'terk', 'term', 'termin', 'terminolog', 'terminu', 'termit', 'terra', 'terrac', 'terrain', 'terrarium', 'terrenc', 'terrestri', 'terri', 'terrian', 'terribl', 'terrif', 'terrifi', 'terrifyingli', 'territori', 'terror', 'terroris', 'terrorist', 'tertiari', 'test', 'testament', 'testi', 'testicl', 'testicular', 'testifi', 'testimoni', 'testosteron', 'testosteronedriven', 'texa', 'texan', 'text', 'textbook', 'textual', 'textur', 'thaddeu', 'thade', 'thai', 'thaiborn', 'thailand', 'thank', 'thankless', 'thanksgiv', 'that', 'that8216', 'thatd', 'thatll', 'the', 'theater', 'theatr', 'theatric', 'thebook', 'thebroadwaymus', 'thee', 'theend', 'theft', 'thefugit', 'thejob', 'thelionk', 'themat', 'theme', 'themself', 'thenfootag', 'thentechnolog', 'thenunknown', 'theo', 'theodor', 'theolog', 'theologian', 'theorem', 'theoret', 'theoretician', 'theori', 'theorist', 'theoriz', 'therapi', 'therapist', 'there', 'thereaft', 'therebi', 'therefor', 'therein', 'theremindriven', 'thereof', 'thereofthreaten', 'theresa', 'thermian', 'thermit', 'thermoelectr', 'thermonuclear', 'these', 'thesi', 'thespian', 'theyd', 'theyll', 'theymightbecaught', 'theyv', 'thi', 'thick', 'thicken', 'thicker', 'thickhead', 'thief', 'thierri', 'thiev', 'thigh', 'thin', 'thine', 'thing', 'thingi', 'thingsgoneawri', 'thingsthat', 'think', 'thinker', 'thinkth', 'thinli', 'thinnest', 'third', 'thirdclass', 'thirdli', 'thirdrat', 'thirst', 'thirteen', 'thirteenth', 'thirti', 'thirty', 'thirtyf', 'thirtysometh', 'thirtytoo', 'thirtyyear', 'thirtyyearold', 'thisobviouslycostalotsoyouknow', 'thivisol', 'tho', 'tholian', 'thom', 'thoma', 'thompson', 'thorax', 'thorn', 'thorni', 'thornton', 'thoron', 'thorough', 'thoroughbr', 'thoroughlymodern', 'thou', 'though', 'thought', 'thoughtless', 'thoughtprovok', 'thousand', 'thrash', 'thre', 'thread', 'threadeach', 'threadi', 'threat', 'threaten', 'three', 'threebe', 'threedimension', 'threefold', 'threehour', 'threehourtearfest', 'threeminut', 'threeperson', 'threeplu', 'threequart', 'threesom', 'threestar', 'threethousand', 'threeyear', 'threw', 'thrift', 'thrill', 'thriller', 'thrillrid', 'thrive', 'throat', 'throb', 'throe', 'throne', 'throttl', 'throug', 'throughandthrough', 'throughout', 'throughouteras', 'throughthesight', 'throw', 'throwaway', 'throwback', 'thrown', 'throwtogeth', 'thru', 'thrust', 'thu', 'thud', 'thug', 'thuggish', 'thumb', 'thump', 'thunder', 'thurman', 'thusli', 'thwart', 'thyself', 'ti', 'tian', 'tibb', 'tiberiu', 'tibet', 'tibetan', 'tic', 'tick', 'ticker', 'ticket', 'tickl', 'tidal', 'tidbit', 'tide', 'tideyman', 'tidi', 'tie', 'tien', 'tier', 'tierney', 'tiff', 'tiffani', 'tiger', 'tight', 'tighten', 'tighter', 'tightfit', 'tightknit', 'tightli', 'til', 'tilda', 'tile', 'till', 'tilli', 'tillman', 'tim', 'timberland', 'time', 'timeconserv', 'timeconstrain', 'timefram', 'timehonor', 'timekil', 'timeless', 'timeli', 'timelin', 'timemachin', 'timer', 'timescal', 'timetotim', 'timetravel', 'timid', 'timmon', 'timo', 'timon', 'timor', 'timothi', 'tin', 'tina', 'tinder', 'ting', 'tingl', 'tini', 'tinier', 'tinker', 'tinkl', 'tinseltown', 'tint', 'tip', 'tipsi', 'tipto', 'tirad', 'tire', 'tirelessli', 'tiresom', 'tisdal', 'tish', 'tissu', 'tit', 'titan', 'titanicfev', 'titil', 'titl', 'titleist', 'titt', 'titti', 'titu', 'titular', 'toad', 'toast', 'toaster', 'tobacco', 'tobey', 'tobi', 'tod', 'today', 'todd', 'toddler', 'todiefor', 'toe', 'togeth', 'toho', 'toil', 'toilet', 'token', 'tokyo', 'told', 'toler', 'tolkien', 'toll', 'tollbooth', 'toller', 'tom', 'toma', 'tomahawk', 'tomato', 'tomb', 'tomboy', 'tomboyish', 'tombston', 'tome', 'tommi', 'tomorrow', 'ton', 'tone', 'toneddown', 'tong', 'tongu', 'tongueincheek', 'tongueti', 'toni', 'tonight', 'tonino', 'tonya', 'tooforgiv', 'took', 'tool', 'toontown', 'tooobviou', 'tooth', 'toothi', 'toothpick', 'tootsi', 'top', 'topbil', 'topflight', 'topiari', 'topic', 'topless', 'topnotch', 'topo', 'toppl', 'topsecret', 'topsyturvi', 'toptobottom', 'torah', 'torben', 'torch', 'tore', 'torino', 'torment', 'torn', 'tornado', 'tornadocaus', 'toro', 'toronto', 'torpedo', 'torpor', 'torranc', 'torrent', 'torrenti', 'torrid', 'torso', 'tortilla', 'tortur', 'torus', 'toshiyuki', 'toss', 'tot', 'total', 'totalitarian', 'tote', 'toto', 'totopoulo', 'totoro', 'touch', 'toucha', 'touchi', 'touchingli', 'touchston', 'touchyfe', 'tough', 'toughasnail', 'toughen', 'tougher', 'toughest', 'toughguy', 'toughtalk', 'toulouselautrec', 'tour', 'tourdeforc', 'tourett', 'tourism', 'tourist', 'tournament', 'toursdeforc', 'tout', 'tow', 'toward', 'towel', 'tower', 'towhead', 'towlin', 'town', 'townfolk', 'towni', 'townsfolk', 'townsgirl', 'townspeopl', 'toxic', 'toy', 'toyour', 'trace', 'trachtenberg', 'traci', 'track', 'tracker', 'tract', 'trade', 'trademark', 'trader', 'tradit', 'traffic', 'traffick', 'tragedi', 'trager', 'tragic', 'tragicom', 'trail', 'trailer', 'train', 'traine', 'trainer', 'trait', 'traitor', 'trajectori', 'tram', 'tramp', 'tran', 'tranc', 'tranquil', 'transact', 'transatlant', 'transcend', 'transcendent', 'transcript', 'transfer', 'transfix', 'transform', 'transgress', 'transit', 'transitori', 'translat', 'transmiss', 'transmit', 'transmitt', 'transpar', 'transpir', 'transplant', 'transport', 'transpos', 'transsexu', 'transvestit', 'transylvania', 'transylvanian', 'trap', 'trapez', 'trapper', 'trash', 'trashi', 'trask', 'trauma', 'traumat', 'traumatis', 'traumnovel', 'travail', 'travel', 'travelbookstor', 'travelogu', 'traver', 'travers', 'travesti', 'travi', 'travolta', 'tray', 'treacher', 'treacheri', 'treacli', 'tread', 'treasur', 'treasuretrov', 'treasuri', 'treat', 'treati', 'treatment', 'tree', 'treehorn', 'treehous', 'treelin', 'trek', 'trekker', 'trekki', 'tremend', 'tremor', 'trench', 'trenchcoat', 'trend', 'trendi', 'trendsett', 'trent', 'trepid', 'tretiak', 'trevor', 'trey', 'tri', 'triad', 'trial', 'triangl', 'tribal', 'tribe', 'tribul', 'tribun', 'tribut', 'tricia', 'trick', 'trickeri', 'tricki', 'trickiest', 'triedandtru', 'trifl', 'trigger', 'trillian', 'trilog', 'trim', 'trinidad', 'triniti', 'trio', 'trip', 'tripe', 'tripl', 'triplecross', 'tripledigit', 'tripp', 'trippi', 'tripplehorn', 'trish', 'tristan', 'tristen', 'trite', 'triton', 'triumph', 'triumphant', 'triumphantli', 'trivia', 'trivial', 'troi', 'trojan', 'trollop', 'troop', 'trooper', 'trophi', 'tropic', 'trot', 'troubl', 'troublesom', 'trough', 'troup', 'trouser', 'trout', 'troy', 'truce', 'truck', 'trucker', 'truckload', 'trudg', 'true', 'truer', 'truest', 'truethre', 'truetolif', 'truffaut', 'truli', 'truman', 'trump', 'trumpet', 'trumpetplay', 'truncat', 'trunchbul', 'trunk', 'trust', 'trusti', 'trustworthi', 'truth', 'tryst', 'tsai', 'tschomb', 'tshomb', 'tso', 'tsubasa', 'tsui', 'tsutomu', 'tub', 'tubbi', 'tube', 'tucci', 'tuck', 'tucker', 'tudeski', 'tuesday', 'tug', 'tuition', 'tulip', 'tullymor', 'tumbl', 'tumblewe', 'tumbleweedlik', 'tumor', 'tumultu', 'tumultuos', 'tuna', 'tune', 'tunesand', 'tunesbut', 'tunnel', 'tunney', 'tupac', 'turbo', 'turbul', 'turf', 'turgid', 'turgidson', 'turin', 'turk', 'turkey', 'turkish', 'turmoil', 'turn', 'turnaround', 'turner', 'turnerown', 'turnoff', 'turnpik', 'turnstil', 'turret', 'turtl', 'turtleneck', 'turturro', 'tuscan', 'tussl', 'tutelag', 'tutor', 'tux', 'tvmovieoftheweek', 'twang', 'tweak', 'tweed', 'tweedi', 'twelv', 'twenti', 'twentieth', 'twenty', 'twentyeight', 'twentyf', 'twentyfoottal', 'twentyfour', 'twentynin', 'twentysometh', 'twentytwo', 'twice', 'twigsculptur', 'twilight', 'twin', 'twinki', 'twinkleto', 'twirl', 'twist', 'twister', 'twisteroccurr', 'twisti', 'twistpeopl', 'twit', 'twitch', 'two', 'twoandahalf', 'twocenturi', 'twodimension', 'twofold', 'twosom', 'twothird', 'twotim', 'twoyearold', 'tycoon', 'tyke', 'tylenol', 'tyler', 'type', 'typecast', 'typewrit', 'typhoon', 'typic', 'typifi', 'typo', 'tyra', 'tyrann', 'tyranni', 'tyrant', 'tyrel', 'tyron', 'tyson', 'u571', 'uber', 'ubertemptress', 'ubiqu', 'ubiquit', 'ucla', 'ufo', 'ugg', 'ugh', 'ugli', 'ugliest', 'uh', 'uhf', 'uhhmm', 'uk', 'ulrich', 'ulterior', 'ultim', 'ultra', 'ultraconfid', 'ultraconserv', 'ultracool', 'ultrahigh', 'ultralow', 'ultraman', 'ultranationalist', 'ultranaturalist', 'ultraorthodox', 'ultrareligi', 'ultrasecret', 'ultraviolet', 'ulyss', 'um', 'uma', 'umbrella', 'umm', 'ummm', 'umpteenth', 'un', 'unab', 'unabash', 'unabashedli', 'unabl', 'unabomb', 'unaccept', 'unadulter', 'unafraid', 'unambigu', 'unambiti', 'unamus', 'unanim', 'unannounc', 'unansw', 'unapologet', 'unapp', 'unarm', 'unasham', 'unashamedli', 'unassail', 'unassum', 'unattain', 'unattract', 'unauthor', 'unavoid', 'unawar', 'unbalanc', 'unbear', 'unbeknownst', 'unbeliev', 'unbias', 'unblink', 'unborn', 'unbreak', 'unbridl', 'unbroken', 'unburi', 'uncanni', 'uncar', 'unceremoni', 'uncertain', 'uncertainti', 'unchalleng', 'unchang', 'uncharacterist', 'uncheck', 'uncl', 'unclear', 'uncomfort', 'uncommon', 'uncommonli', 'uncommun', 'uncompromis', 'uncondit', 'unconnect', 'unconsci', 'uncontrol', 'unconvent', 'unconvinc', 'uncoop', 'uncork', 'uncount', 'uncouth', 'uncov', 'uncredit', 'uncrit', 'unctuou', 'uncut', 'undaunt', 'undead', 'undecid', 'undefin', 'undemand', 'undeni', 'underachiev', 'underag', 'underappreci', 'underbelli', 'underclass', 'undercov', 'undercurr', 'undercut', 'underdevelop', 'underdog', 'underestim', 'undergo', 'undergon', 'underground', 'underhand', 'underl', 'underli', 'underlin', 'undermin', 'underneath', 'underperform', 'underpin', 'underplay', 'underpopul', 'underr', 'underscor', 'undersid', 'underst', 'understand', 'understat', 'understood', 'undertak', 'underton', 'underus', 'underutil', 'underwat', 'underway', 'underwear', 'underwhelm', 'underwhelmingand', 'underwood', 'underworld', 'underwritten', 'undeserv', 'undet', 'undevelop', 'undi', 'undirect', 'undisclos', 'undiscov', 'undisneyish', 'undisput', 'undistinguish', 'undo', 'undocu', 'undon', 'undoubtedli', 'undress', 'undu', 'undul', 'unearth', 'uneasi', 'uneasili', 'uneduc', 'unemot', 'unemploy', 'unendur', 'unenthusiast', 'unenvi', 'unequip', 'unequivoc', 'unerringli', 'unev', 'uneven', 'unexcept', 'unexcit', 'unexpect', 'unexpectedli', 'unexplain', 'unexplor', 'unfair', 'unfairli', 'unfaith', 'unfamiliar', 'unfathom', 'unfeas', 'unfeel', 'unfinish', 'unfit', 'unflag', 'unflatt', 'unflinch', 'unfocus', 'unfold', 'unforc', 'unforgett', 'unforgiv', 'unfortun', 'unfriendli', 'unfulfil', 'unfunni', 'unger', 'unhappi', 'unhappili', 'unharm', 'unhealthi', 'unheard', 'unhing', 'unhip', 'unholi', 'unhurri', 'uni', 'unidentifi', 'unifi', 'uniform', 'uniformli', 'unimagin', 'unimport', 'unimpress', 'uninform', 'uninhabit', 'uninhibit', 'uniniti', 'uninspir', 'unintellig', 'unintend', 'unintent', 'uninterest', 'union', 'uniqu', 'unison', 'unit', 'uniti', 'univers', 'unjust', 'unjustifi', 'unjustli', 'unkempt', 'unkind', 'unknow', 'unknowingli', 'unknown', 'unlaw', 'unleash', 'unless', 'unlicens', 'unlik', 'unlimit', 'unlock', 'unlucki', 'unmask', 'unmatch', 'unmerci', 'unmistak', 'unmitig', 'unmov', 'unnam', 'unnatur', 'unnecessari', 'unnecessarili', 'unneed', 'unnerv', 'unnot', 'unnotic', 'unoffici', 'unorigin', 'unorthodox', 'unparallel', 'unpav', 'unperturb', 'unpleas', 'unpleasantli', 'unplug', 'unpolish', 'unpopular', 'unpreced', 'unpredict', 'unprepar', 'unpretenti', 'unproduc', 'unprofession', 'unpromis', 'unprotect', 'unpublish', 'unpur', 'unquest', 'unquestion', 'unrat', 'unravel', 'unreal', 'unrealist', 'unreason', 'unrecept', 'unrecogniz', 'unrel', 'unrelentingli', 'unreli', 'unremark', 'unremittingli', 'unrequit', 'unresolv', 'unrest', 'unrestrain', 'unreward', 'unromant', 'unruli', 'unsatisfactori', 'unsatisfi', 'unsavori', 'unscath', 'unscrupul', 'unseen', 'unselfconsci', 'unsentiment', 'unsettl', 'unshaven', 'unsheath', 'unsink', 'unsoci', 'unsophist', 'unspeak', 'unspecifi', 'unspectacular', 'unspoken', 'unspool', 'unstabl', 'unstopp', 'unstructur', 'unsubtl', 'unsuccess', 'unsuit', 'unsung', 'unsur', 'unsurpris', 'unsurprisingfashion', 'unsurprisingli', 'unsuspect', 'unsympathet', 'untal', 'untam', 'unthink', 'unti', 'untim', 'unto', 'untold', 'untouch', 'untru', 'unusu', 'unveil', 'unviabl', 'unw', 'unwant', 'unwarr', 'unwatch', 'unwav', 'unweav', 'unwelcom', 'unwil', 'unwilling', 'unwind', 'unwit', 'unwittingli', 'unworthi', 'unwritten', 'up', 'upandcom', 'upbeat', 'upbring', 'upcom', 'updat', 'updraft', 'upfront', 'upheav', 'uphil', 'uphold', 'upholst', 'uplift', 'upon', 'upper', 'uppercut', 'uppiti', 'upright', 'upris', 'uproar', 'uproari', 'upscal', 'upset', 'upsid', 'upsidedown', 'upstag', 'upstair', 'upstart', 'upstat', 'uptight', 'upward', 'upwardli', 'upwardlymobil', 'urban', 'urbanit', 'urbanlegend', 'urg', 'urgenc', 'urgent', 'urin', 'urinari', 'ursula', 'us100', 'usa', 'usag', 'use', 'useless', 'user', 'usher', 'ussr', 'ustinov', 'usual', 'usuallysplendid', 'usurp', 'utah', 'ute', 'util', 'utmost', 'utopia', 'utopian', 'utter', 'utterli', 'vacanc', 'vacant', 'vacat', 'vaccaro', 'vacuou', 'vacuum', 'vader', 'vagu', 'vaguest', 'vai', 'vain', 'val', 'valdez', 'valencia', 'valentin', 'valeri', 'valeria', 'valet', 'valiant', 'valid', 'valjean', 'vallejo', 'valley', 'valor', 'valu', 'valuabl', 'vamp', 'vampi', 'vampir', 'vampirefest', 'vampirefilm', 'vampyr', 'van', 'vancouv', 'vandal', 'vandernoot', 'vanessa', 'vanish', 'vaniti', 'vanquish', 'vapid', 'var', 'vari', 'variabl', 'variant', 'variat', 'varieti', 'variou', 'varsiti', 'vasquez', 'vassili', 'vast', 'vastli', 'vat', 'vatican', 'vaughn', 'vault', 've', 'veer', 'vega', 'vegan', 'vegasbas', 'veget', 'vegetablesoften', 'vegetarian', 'vehem', 'vehicl', 'veil', 'vein', 'veini', 'velma', 'veloc', 'velociraptor', 'velvet', 'vend', 'vendetta', 'vendor', 'veneer', 'vener', 'venetian', 'veng', 'vengeanc', 'venic', 'venom', 'vent', 'ventur', 'ventura', 'venu', 'ver', 'vera', 'verac', 'verbal', 'verbos', 'verboten', 'verdant', 'verdict', 'verg', 'verger', 'verhoeven', 'verifi', 'verisimilitud', 'verit', 'veriti', 'verma', 'vermin', 'vern', 'verna', 'vernacular', 'vernier', 'vernon', 'verona', 'veronica', 'verplanck', 'vers', 'versa', 'versatil', 'version', 'versu', 'vertic', 'vertigo', 'verv', 'verysmal', 'vessel', 'vest', 'vestig', 'vet', 'veteran', 'veterinarian', 'vey', 'vh1vogu', 'vi', 'via', 'viabl', 'vibe', 'vibranc', 'vibrant', 'vibrantlyact', 'vibrat', 'vic', 'vicar', 'vicari', 'vice', 'vicel', 'vicepresid', 'viceroy', 'viceversa', 'vichi', 'viciou', 'vicious', 'vicki', 'victim', 'victoir', 'victor', 'victori', 'victoria', 'victorian', 'victorianera', 'video', 'videocamera', 'videocassett', 'videodrom', 'videogam', 'videotap', 'vienna', 'viet', 'vietnam', 'vietnames', 'vieux', 'view', 'viewer', 'viewpoint', 'vig', 'viggo', 'vigil', 'vigilant', 'vignett', 'vigo', 'vigor', 'vii', 'vike', 'vikram', 'vile', 'vilifi', 'vill', 'villa', 'villag', 'villain', 'villainbatman', 'villaini', 'villian', 'vin', 'vinc', 'vincenn', 'vincent', 'vincentjerom', 'vincenzo', 'vinci', 'vindic', 'vindict', 'vine', 'vinegar', 'vineyard', 'ving', 'vinni', 'vintag', 'vinyl', 'viola', 'violat', 'violenc', 'violencegor', 'violent', 'violet', 'violin', 'violinist', 'vip', 'viper', 'virgil', 'virgin', 'virginia', 'virginian', 'viril', 'virtu', 'virtual', 'virtuos', 'virtuoso', 'virtuou', 'viru', 'viruslik', 'visa', 'visag', 'viscer', 'vishnu', 'visibl', 'vision', 'visionari', 'visit', 'visitor', 'visitorsfriend', 'visnjic', 'visor', 'vista', 'visual', 'vita', 'vital', 'vitello', 'viterelli', 'vito', 'vitriol', 'vitti', 'viv', 'vivaci', 'vivaldi', 'vivian', 'vivid', 'vividli', 'vivien', 'vixen', 'vizard', 'vladimir', 'vo', 'vocabulari', 'vocal', 'vocat', 'vodka', 'vogu', 'voic', 'voicechang', 'voiceov', 'void', 'voight', 'voil', 'volatil', 'volcan', 'volcano', 'volcanologist', 'volker', 'volkswagen', 'volley', 'voltag', 'volum', 'volunt', 'voluntari', 'vomit', 'von', 'vonnegut', 'voodoo', 'voraci', 'vortex', 'vote', 'voter', 'vow', 'voyag', 'voyeur', 'voyeurist', 'vrooshka', 'vu', 'vulcan', 'vulgar', 'vulner', 'vultur', 'vulturelik', 'vy', 'wa', 'waaaay', 'wachowski', 'wacki', 'wacko', 'wade', 'wafflemovi', 'wag', 'wage', 'wager', 'wagner', 'wagnerian', 'wagon', 'wah', 'wahlbergform', 'wai', 'waikiki', 'wail', 'wainwright', 'waist', 'wait', 'waiter', 'waitress', 'wake', 'wakefield', 'walcott', 'waldo', 'waldorf', 'wale', 'walk', 'walkaround', 'walken', 'walker', 'walkin', 'walkway', 'wall', 'wallac', 'wallenberg', 'wallet', 'walli', 'wallop', 'wallow', 'wallpap', 'walltowal', 'walmart', 'walnut', 'walnutsexcept', 'walsh', 'walsingham', 'walt', 'walter', 'walther', 'walton', 'waltz', 'wan', 'wand', 'wanda', 'wander', 'wanderlust', 'wane', 'wang', 'wangenhein', 'wangl', 'wanker', 'wannab', 'want', 'wanton', 'war', 'warbl', 'warburton', 'warcraft', 'ward', 'warden', 'wardrob', 'ware', 'warehous', 'warfar', 'wargam', 'warhead', 'warhol', 'wari', 'warlik', 'warlock', 'warlord', 'warm', 'warmandfuzzi', 'warmer', 'warmest', 'warmheart', 'warmth', 'warmup', 'warn', 'warner', 'warnerbrotherscoyotefalloffthecliff', 'warp', 'warrant', 'warren', 'warrior', 'warship', 'wart', 'wartim', 'wartsandal', 'warwick', 'wash', 'washington', 'washout', 'wasnt', 'wasp', 'waspi', 'wast', 'wasteland', 'wasth', 'watanab', 'watch', 'watchabl', 'watchdog', 'watcher', 'water', 'waterb', 'waterboy', 'watercolor', 'watereddown', 'waterfal', 'waterg', 'wateri', 'waterlog', 'watersh', 'waterunit', 'waterway', 'waterwork', 'watson', 'watt', 'wave', 'waver', 'wax', 'way', 'wayan', 'wayback', 'waylaid', 'wayn', 'waysid', 'wayward', 'wazoo', 'we', 'weak', 'weaken', 'weaker', 'weakest', 'weakl', 'weakli', 'weakwil', 'wealth', 'wealthi', 'weapon', 'weaponri', 'wear', 'weari', 'wearisom', 'weas', 'weather', 'weatherman', 'weav', 'weaver', 'web', 'webb', 'webber', 'webcam', 'webpag', 'websit', 'webster', 'wed', 'weddingobsess', 'wedg', 'wedlock', 'wednesday', 'wee', 'weed', 'week', 'weeken', 'weekend', 'weekli', 'weeklyread', 'weeni', 'weep', 'weepi', 'wei', 'weigh', 'weight', 'weighti', 'weil', 'weinstein', 'weir', 'weird', 'weirdest', 'weirdli', 'weirdo', 'weit', 'welch', 'welcom', 'weld', 'welfar', 'weli', 'well', 'wellb', 'wellbar', 'wellborn', 'wellchoreograph', 'wellchosen', 'wellcom', 'wellconstruct', 'wellcraft', 'welldefin', 'welldeserv', 'welldesign', 'welldevelop', 'welldocu', 'welldrawn', 'welleduc', 'weller', 'wellexecut', 'wellington', 'wellintent', 'wellkept', 'wellknown', 'welllik', 'wellmean', 'wellmeant', 'wellmodul', 'wellpac', 'wellpaid', 'wellplan', 'wellreceiv', 'wellrespect', 'wellround', 'wellselect', 'wellspent', 'wellstag', 'wellstructur', 'welltim', 'welltodo', 'welltold', 'welltravel', 'wellvil', 'wellwritten', 'welsh', 'welshman', 'wen', 'wench', 'wendel', 'wender', 'wendi', 'wendigo', 'went', 'wentworth', 'werent', 'werewolf', 'werewolv', 'werner', 'wesley', 'wesleyan', 'wessex', 'west', 'western', 'westlak', 'westward', 'wet', 'wetbehindtheear', 'wether', 'wetmor', 'wetsuit', 'weve', 'whack', 'whackedout', 'whacko', 'whalberg', 'whale', 'wharton', 'what', 'whatev', 'whatnot', 'whatsoev', 'wheel', 'wheelchair', 'wheelchairbound', 'wheeler', 'wheez', 'wheezi', 'whenev', 'where', 'wherea', 'whereabout', 'wherebi', 'wherein', 'whereupon', 'wherev', 'whew', 'whic', 'whichev', 'whiff', 'whilst', 'whim', 'whimsi', 'whimsic', 'whine', 'whini', 'whip', 'whiplash', 'whirlpool', 'whirlwind', 'whisk', 'whiskey', 'whisper', 'whistl', 'whit', 'whitak', 'white', 'whitecollar', 'whitefac', 'whitest', 'whitewat', 'whitey', 'whitman', 'whitmor', 'whitney', 'whittl', 'whiz', 'whizz', 'who', 'whoa', 'whod', 'whodunit', 'whoever', 'whogaspi', 'wholeheartedli', 'wholesom', 'wholli', 'whomev', 'whoop', 'whoope', 'whoopi', 'whop', 'whore', 'whorehous', 'whose', 'wicca', 'wiccan', 'wichita', 'wick', 'wicked', 'wickedli', 'wide', 'wideangl', 'widen', 'wideopen', 'wider', 'widereleas', 'widescreen', 'widespread', 'widmor', 'widow', 'wie', 'wield', 'wierd', 'wife', 'wifetob', 'wig', 'wigger', 'wilbur', 'wilcox', 'wild', 'wilder', 'wildest', 'wildfir', 'wildli', 'wildlif', 'wilford', 'wilhelm', 'wili', 'wilk', 'wilkinson', 'will', 'willa', 'willard', 'willem', 'willi', 'william', 'williamshakespearesromeojuliet', 'williamson', 'williamsonesqu', 'williamsonless', 'willing', 'willingli', 'willpow', 'wilmingtonasdetroit', 'wilson', 'wim', 'wimp', 'wimpi', 'win', 'winbush', 'winc', 'wind', 'windbag', 'windmil', 'window', 'windshield', 'windsor', 'windswept', 'windtunnel', 'windup', 'wine', 'winfr', 'wing', 'winger', 'winglet', 'wink', 'winkandaconcussivenudg', 'winkl', 'winnabl', 'winner', 'winni', 'wino', 'winona', 'winslow', 'winsom', 'winston', 'wint', 'winter', 'winterbottom', 'wipe', 'wire', 'wirehair', 'wisconsin', 'wisdom', 'wise', 'wiseass', 'wisecrack', 'wiseguy', 'wiser', 'wish', 'wispi', 'wist', 'wit', 'witch', 'witchcraft', 'witchwannab', 'withdraw', 'withdrawn', 'witherspoon', 'withheld', 'withhold', 'within', 'without', 'withoutshock', 'withstand', 'witt', 'witti', 'wittili', 'wive', 'wizard', 'wizardri', 'wizen', 'wlodkowski', 'wo', 'wobbl', 'woe', 'woeful', 'woefulli', 'woke', 'wolcott', 'wolf', 'wolfgang', 'wolv', 'woman', 'womanhood', 'womanli', 'womb', 'wonder', 'wonderland', 'wondrou', 'wondrous', 'wong', 'wonka', 'wont', 'woo', 'wood', 'woodbin', 'wooden', 'woodi', 'woodman', 'woodsboro', 'woodstock', 'woodward', 'woof', 'wool', 'woolli', 'woolsey', 'woostyl', 'word', 'wordi', 'wordjazz', 'wordless', 'wordlessli', 'wordli', 'wordofmouth', 'wore', 'worf', 'work', 'workaday', 'workahol', 'worker', 'workerjanitor', 'workhors', 'workin', 'workingclass', 'workload', 'workman', 'workmanlik', 'workmat', 'workout', 'workplac', 'workshop', 'world', 'worldassum', 'worldclass', 'worldli', 'worldlywis', 'worldreknown', 'worldrenown', 'worldview', 'worldweari', 'worldwid', 'worm', 'wormhol', 'wormwood', 'worn', 'worri', 'worriedli', 'wors', 'worsen', 'worship', 'worst', 'worth', 'worthi', 'worthless', 'worthwhil', 'would', 'wouldb', 'wouldbeahab', 'wouldnt', 'wouldv', 'wound', 'woven', 'wow', 'wowi', 'wowinspir', 'wrack', 'wrap', 'wrapper', 'wrath', 'wreak', 'wreck', 'wreckag', 'wren', 'wrench', 'wrestl', 'wrestler', 'wretch', 'wri', 'wright', 'wring', 'wrinkl', 'wrist', 'wristwatch', 'write', 'writer', 'writerdirector', 'writerdirectorproduc', 'writerdirectorstar', 'writerli', 'writerperform', 'writersdirector', 'writh', 'writingdirect', 'writinghenri', 'written', 'wrong', 'wrongdo', 'wronghead', 'wrongi', 'wrongli', 'wrongperhap', 'wrote', 'wrought', 'wryli', 'wu', 'wunderbar', 'wunderkind', 'wwe', 'wwii', 'wyatt', 'wynn', 'wyom', 'xander', 'xavier', 'xenophob', 'xiao', 'xindi', 'xing', 'xiong', 'xma', 'xmozillastatu', 'xray', 'xu', 'xusia', 'xvi', 'ya', 'yacht', 'yahoo', 'yak', 'yakov', 'yakusho', 'yakuza', 'yale', 'yam', 'yamazaki', 'yang', 'yangjung', 'yank', 'yanke', 'yankov', 'yanni', 'yao', 'yap', 'yar', 'yard', 'yarn', 'yasmin', 'yasuko', 'yavin', 'yawn', 'yaz', 'ye', 'yea', 'yeager', 'yeah', 'year', 'yearbook', 'yeareveri', 'yearn', 'yearold', 'yearsgonebi', 'yearsold', 'yee', 'yeesh', 'yell', 'yeller', 'yellow', 'yellowston', 'yelp', 'yemen', 'yen', 'yeoman', 'yep', 'yeri', 'yeshiva', 'yesterday', 'yesteryear', 'yet', 'yeti', 'yeung', 'yg', 'yield', 'yim', 'yin', 'yip', 'yo', 'yoda', 'yojimbo', 'yoland', 'yom', 'yon', 'yong', 'york', 'yorker', 'yoshikawa', 'yoshio', 'yost', 'you', 'youat', 'youd', 'youknowwher', 'youll', 'young', 'younger', 'youngest', 'youngster', 'your', 'yourfac', 'youth', 'youthrestor', 'youv', 'yoyo', 'yu', 'yuck', 'yucki', 'yuen', 'yugo', 'yugoslavia', 'yugoslavian', 'yuji', 'yuk', 'yulia', 'yum', 'yun', 'yunkish', 'yup', 'yuppi', 'yussef', 'yvett', 'yzma', 'zach', 'zack', 'zag', 'zair', 'zak', 'zane', 'zani', 'zap', 'zappa', 'zar', 'zavitz', 'ze', 'zeal', 'zealot', 'zealous', 'zed', 'zeek', 'zeffirelli', 'zellweg', 'zemecki', 'zemeckiss', 'zen', 'zero', 'zest', 'zeta', 'zetajon', 'zeu', 'zhan', 'zhang', 'zhou', 'zhuangzhuang', 'ziembicki', 'zig', 'ziggi', 'zilch', 'zillion', 'zimbabw', 'zimmer', 'zinger', 'zinnemman', 'zinnia', 'zip', 'zipper', 'zippi', 'ziti', 'zoe', 'zombi', 'zombielik', 'zombifi', 'zone', 'zoo', 'zookeep', 'zooland', 'zoologist', 'zoom', 'zoot', 'zorro', 'zuko', 'zweibel', 'zwigoff']\n"
          ]
        }
      ],
      "source": [
        "word_count = count_vector.get_feature_names()\n",
        "print(word_count)"
      ]
    },
    {
      "cell_type": "code",
      "execution_count": null,
      "metadata": {
        "id": "s-SLeHBbtPHZ",
        "outputId": "a1e8bc46-56b8-4225-a07a-94cca74ed6cc"
      },
      "outputs": [
        {
          "data": {
            "text/html": [
              "<div>\n",
              "<style scoped>\n",
              "    .dataframe tbody tr th:only-of-type {\n",
              "        vertical-align: middle;\n",
              "    }\n",
              "\n",
              "    .dataframe tbody tr th {\n",
              "        vertical-align: top;\n",
              "    }\n",
              "\n",
              "    .dataframe thead th {\n",
              "        text-align: right;\n",
              "    }\n",
              "</style>\n",
              "<table border=\"1\" class=\"dataframe\">\n",
              "  <thead>\n",
              "    <tr style=\"text-align: right;\">\n",
              "      <th></th>\n",
              "      <th>0009f</th>\n",
              "      <th>000aweek</th>\n",
              "      <th>000paltri</th>\n",
              "      <th>100m</th>\n",
              "      <th>100minut</th>\n",
              "      <th>101yearold</th>\n",
              "      <th>11thhour</th>\n",
              "      <th>150th</th>\n",
              "      <th>1600</th>\n",
              "      <th>16x9</th>\n",
              "      <th>...</th>\n",
              "      <th>zoo</th>\n",
              "      <th>zookeep</th>\n",
              "      <th>zooland</th>\n",
              "      <th>zoologist</th>\n",
              "      <th>zoom</th>\n",
              "      <th>zoot</th>\n",
              "      <th>zorro</th>\n",
              "      <th>zuko</th>\n",
              "      <th>zweibel</th>\n",
              "      <th>zwigoff</th>\n",
              "    </tr>\n",
              "  </thead>\n",
              "  <tbody>\n",
              "    <tr>\n",
              "      <th>0</th>\n",
              "      <td>0</td>\n",
              "      <td>0</td>\n",
              "      <td>0</td>\n",
              "      <td>0</td>\n",
              "      <td>0</td>\n",
              "      <td>0</td>\n",
              "      <td>0</td>\n",
              "      <td>0</td>\n",
              "      <td>0</td>\n",
              "      <td>0</td>\n",
              "      <td>...</td>\n",
              "      <td>0</td>\n",
              "      <td>0</td>\n",
              "      <td>0</td>\n",
              "      <td>0</td>\n",
              "      <td>0</td>\n",
              "      <td>0</td>\n",
              "      <td>0</td>\n",
              "      <td>0</td>\n",
              "      <td>0</td>\n",
              "      <td>0</td>\n",
              "    </tr>\n",
              "    <tr>\n",
              "      <th>1</th>\n",
              "      <td>0</td>\n",
              "      <td>0</td>\n",
              "      <td>0</td>\n",
              "      <td>0</td>\n",
              "      <td>0</td>\n",
              "      <td>0</td>\n",
              "      <td>0</td>\n",
              "      <td>0</td>\n",
              "      <td>0</td>\n",
              "      <td>0</td>\n",
              "      <td>...</td>\n",
              "      <td>0</td>\n",
              "      <td>0</td>\n",
              "      <td>0</td>\n",
              "      <td>0</td>\n",
              "      <td>0</td>\n",
              "      <td>0</td>\n",
              "      <td>0</td>\n",
              "      <td>0</td>\n",
              "      <td>0</td>\n",
              "      <td>0</td>\n",
              "    </tr>\n",
              "    <tr>\n",
              "      <th>2</th>\n",
              "      <td>0</td>\n",
              "      <td>0</td>\n",
              "      <td>0</td>\n",
              "      <td>0</td>\n",
              "      <td>0</td>\n",
              "      <td>0</td>\n",
              "      <td>0</td>\n",
              "      <td>0</td>\n",
              "      <td>0</td>\n",
              "      <td>0</td>\n",
              "      <td>...</td>\n",
              "      <td>0</td>\n",
              "      <td>0</td>\n",
              "      <td>0</td>\n",
              "      <td>0</td>\n",
              "      <td>0</td>\n",
              "      <td>0</td>\n",
              "      <td>0</td>\n",
              "      <td>0</td>\n",
              "      <td>0</td>\n",
              "      <td>0</td>\n",
              "    </tr>\n",
              "    <tr>\n",
              "      <th>3</th>\n",
              "      <td>0</td>\n",
              "      <td>0</td>\n",
              "      <td>0</td>\n",
              "      <td>0</td>\n",
              "      <td>0</td>\n",
              "      <td>0</td>\n",
              "      <td>0</td>\n",
              "      <td>0</td>\n",
              "      <td>0</td>\n",
              "      <td>0</td>\n",
              "      <td>...</td>\n",
              "      <td>0</td>\n",
              "      <td>0</td>\n",
              "      <td>0</td>\n",
              "      <td>0</td>\n",
              "      <td>0</td>\n",
              "      <td>0</td>\n",
              "      <td>0</td>\n",
              "      <td>0</td>\n",
              "      <td>0</td>\n",
              "      <td>0</td>\n",
              "    </tr>\n",
              "    <tr>\n",
              "      <th>4</th>\n",
              "      <td>0</td>\n",
              "      <td>0</td>\n",
              "      <td>0</td>\n",
              "      <td>0</td>\n",
              "      <td>0</td>\n",
              "      <td>0</td>\n",
              "      <td>0</td>\n",
              "      <td>0</td>\n",
              "      <td>0</td>\n",
              "      <td>0</td>\n",
              "      <td>...</td>\n",
              "      <td>0</td>\n",
              "      <td>0</td>\n",
              "      <td>0</td>\n",
              "      <td>0</td>\n",
              "      <td>0</td>\n",
              "      <td>0</td>\n",
              "      <td>0</td>\n",
              "      <td>0</td>\n",
              "      <td>0</td>\n",
              "      <td>0</td>\n",
              "    </tr>\n",
              "    <tr>\n",
              "      <th>...</th>\n",
              "      <td>...</td>\n",
              "      <td>...</td>\n",
              "      <td>...</td>\n",
              "      <td>...</td>\n",
              "      <td>...</td>\n",
              "      <td>...</td>\n",
              "      <td>...</td>\n",
              "      <td>...</td>\n",
              "      <td>...</td>\n",
              "      <td>...</td>\n",
              "      <td>...</td>\n",
              "      <td>...</td>\n",
              "      <td>...</td>\n",
              "      <td>...</td>\n",
              "      <td>...</td>\n",
              "      <td>...</td>\n",
              "      <td>...</td>\n",
              "      <td>...</td>\n",
              "      <td>...</td>\n",
              "      <td>...</td>\n",
              "      <td>...</td>\n",
              "    </tr>\n",
              "    <tr>\n",
              "      <th>1995</th>\n",
              "      <td>0</td>\n",
              "      <td>0</td>\n",
              "      <td>0</td>\n",
              "      <td>0</td>\n",
              "      <td>0</td>\n",
              "      <td>0</td>\n",
              "      <td>0</td>\n",
              "      <td>0</td>\n",
              "      <td>0</td>\n",
              "      <td>0</td>\n",
              "      <td>...</td>\n",
              "      <td>0</td>\n",
              "      <td>0</td>\n",
              "      <td>0</td>\n",
              "      <td>0</td>\n",
              "      <td>0</td>\n",
              "      <td>0</td>\n",
              "      <td>0</td>\n",
              "      <td>0</td>\n",
              "      <td>0</td>\n",
              "      <td>0</td>\n",
              "    </tr>\n",
              "    <tr>\n",
              "      <th>1996</th>\n",
              "      <td>0</td>\n",
              "      <td>0</td>\n",
              "      <td>0</td>\n",
              "      <td>0</td>\n",
              "      <td>0</td>\n",
              "      <td>0</td>\n",
              "      <td>0</td>\n",
              "      <td>0</td>\n",
              "      <td>0</td>\n",
              "      <td>0</td>\n",
              "      <td>...</td>\n",
              "      <td>0</td>\n",
              "      <td>0</td>\n",
              "      <td>0</td>\n",
              "      <td>0</td>\n",
              "      <td>0</td>\n",
              "      <td>0</td>\n",
              "      <td>0</td>\n",
              "      <td>0</td>\n",
              "      <td>0</td>\n",
              "      <td>0</td>\n",
              "    </tr>\n",
              "    <tr>\n",
              "      <th>1997</th>\n",
              "      <td>0</td>\n",
              "      <td>0</td>\n",
              "      <td>0</td>\n",
              "      <td>0</td>\n",
              "      <td>0</td>\n",
              "      <td>0</td>\n",
              "      <td>0</td>\n",
              "      <td>0</td>\n",
              "      <td>0</td>\n",
              "      <td>0</td>\n",
              "      <td>...</td>\n",
              "      <td>0</td>\n",
              "      <td>0</td>\n",
              "      <td>0</td>\n",
              "      <td>0</td>\n",
              "      <td>0</td>\n",
              "      <td>0</td>\n",
              "      <td>0</td>\n",
              "      <td>0</td>\n",
              "      <td>0</td>\n",
              "      <td>0</td>\n",
              "    </tr>\n",
              "    <tr>\n",
              "      <th>1998</th>\n",
              "      <td>0</td>\n",
              "      <td>0</td>\n",
              "      <td>0</td>\n",
              "      <td>0</td>\n",
              "      <td>0</td>\n",
              "      <td>0</td>\n",
              "      <td>0</td>\n",
              "      <td>0</td>\n",
              "      <td>0</td>\n",
              "      <td>0</td>\n",
              "      <td>...</td>\n",
              "      <td>0</td>\n",
              "      <td>0</td>\n",
              "      <td>0</td>\n",
              "      <td>0</td>\n",
              "      <td>0</td>\n",
              "      <td>0</td>\n",
              "      <td>0</td>\n",
              "      <td>0</td>\n",
              "      <td>0</td>\n",
              "      <td>0</td>\n",
              "    </tr>\n",
              "    <tr>\n",
              "      <th>1999</th>\n",
              "      <td>0</td>\n",
              "      <td>0</td>\n",
              "      <td>0</td>\n",
              "      <td>0</td>\n",
              "      <td>0</td>\n",
              "      <td>0</td>\n",
              "      <td>0</td>\n",
              "      <td>0</td>\n",
              "      <td>0</td>\n",
              "      <td>0</td>\n",
              "      <td>...</td>\n",
              "      <td>0</td>\n",
              "      <td>0</td>\n",
              "      <td>0</td>\n",
              "      <td>0</td>\n",
              "      <td>0</td>\n",
              "      <td>0</td>\n",
              "      <td>0</td>\n",
              "      <td>0</td>\n",
              "      <td>0</td>\n",
              "      <td>0</td>\n",
              "    </tr>\n",
              "  </tbody>\n",
              "</table>\n",
              "<p>2000 rows × 18318 columns</p>\n",
              "</div>"
            ],
            "text/plain": [
              "      0009f  000aweek  000paltri  100m  100minut  101yearold  11thhour  150th  \\\n",
              "0         0         0          0     0         0           0         0      0   \n",
              "1         0         0          0     0         0           0         0      0   \n",
              "2         0         0          0     0         0           0         0      0   \n",
              "3         0         0          0     0         0           0         0      0   \n",
              "4         0         0          0     0         0           0         0      0   \n",
              "...     ...       ...        ...   ...       ...         ...       ...    ...   \n",
              "1995      0         0          0     0         0           0         0      0   \n",
              "1996      0         0          0     0         0           0         0      0   \n",
              "1997      0         0          0     0         0           0         0      0   \n",
              "1998      0         0          0     0         0           0         0      0   \n",
              "1999      0         0          0     0         0           0         0      0   \n",
              "\n",
              "      1600  16x9  ...  zoo  zookeep  zooland  zoologist  zoom  zoot  zorro  \\\n",
              "0        0     0  ...    0        0        0          0     0     0      0   \n",
              "1        0     0  ...    0        0        0          0     0     0      0   \n",
              "2        0     0  ...    0        0        0          0     0     0      0   \n",
              "3        0     0  ...    0        0        0          0     0     0      0   \n",
              "4        0     0  ...    0        0        0          0     0     0      0   \n",
              "...    ...   ...  ...  ...      ...      ...        ...   ...   ...    ...   \n",
              "1995     0     0  ...    0        0        0          0     0     0      0   \n",
              "1996     0     0  ...    0        0        0          0     0     0      0   \n",
              "1997     0     0  ...    0        0        0          0     0     0      0   \n",
              "1998     0     0  ...    0        0        0          0     0     0      0   \n",
              "1999     0     0  ...    0        0        0          0     0     0      0   \n",
              "\n",
              "      zuko  zweibel  zwigoff  \n",
              "0        0        0        0  \n",
              "1        0        0        0  \n",
              "2        0        0        0  \n",
              "3        0        0        0  \n",
              "4        0        0        0  \n",
              "...    ...      ...      ...  \n",
              "1995     0        0        0  \n",
              "1996     0        0        0  \n",
              "1997     0        0        0  \n",
              "1998     0        0        0  \n",
              "1999     0        0        0  \n",
              "\n",
              "[2000 rows x 18318 columns]"
            ]
          },
          "execution_count": 159,
          "metadata": {},
          "output_type": "execute_result"
        }
      ],
      "source": [
        "frequency_matrix = pd.DataFrame(X,columns=count_vector.get_feature_names())\n",
        "frequency_matrix"
      ]
    },
    {
      "cell_type": "markdown",
      "metadata": {
        "id": "z9P-5x7ktPHZ"
      },
      "source": [
        "### Term Frequency and Inverse Document Frequency\n",
        "- Term Frequency measures how frequently a term occurs in a document.\n",
        "- Since every document is different in length, it is possible that a term would appear much more times in long documents than shorter ones. Thus, the term frequency is often divided by the document length (aka. the total number of terms in the document) as a way of normalization: \n",
        "\n",
        "        TF(t) = (Number of times term t appears in a document)\n",
        "\n",
        "- Inverse Document Frequency measures how important a term is. While computing TF, all terms are considered equally important. \n",
        "- However it is known that certain terms, such as \"is\", \"of\", and \"that\", may appear a lot of times but have little importance. Thus we need to weigh down the frequent terms while scale up the rare ones, by computing the following: \n",
        "\n",
        "        IDF(t) = log_e(Total number of documents / Number of documents with term t in it)."
      ]
    },
    {
      "cell_type": "code",
      "execution_count": null,
      "metadata": {
        "id": "D7v-Yv2_tPHZ"
      },
      "outputs": [],
      "source": [
        "from sklearn.feature_extraction.text import TfidfVectorizer"
      ]
    },
    {
      "cell_type": "code",
      "execution_count": null,
      "metadata": {
        "id": "B6si4BrftPHZ",
        "outputId": "5a184a4d-15bd-44b3-b4c2-79109c02dc84"
      },
      "outputs": [
        {
          "name": "stdout",
          "output_type": "stream",
          "text": [
            "Tfidf ponderations\n"
          ]
        },
        {
          "data": {
            "text/html": [
              "<div>\n",
              "<style scoped>\n",
              "    .dataframe tbody tr th:only-of-type {\n",
              "        vertical-align: middle;\n",
              "    }\n",
              "\n",
              "    .dataframe tbody tr th {\n",
              "        vertical-align: top;\n",
              "    }\n",
              "\n",
              "    .dataframe thead th {\n",
              "        text-align: right;\n",
              "    }\n",
              "</style>\n",
              "<table border=\"1\" class=\"dataframe\">\n",
              "  <thead>\n",
              "    <tr style=\"text-align: right;\">\n",
              "      <th></th>\n",
              "      <th>0009f</th>\n",
              "      <th>000aweek</th>\n",
              "      <th>000paltri</th>\n",
              "      <th>100m</th>\n",
              "      <th>100minut</th>\n",
              "      <th>101yearold</th>\n",
              "      <th>11thhour</th>\n",
              "      <th>150th</th>\n",
              "      <th>1600</th>\n",
              "      <th>16x9</th>\n",
              "      <th>...</th>\n",
              "      <th>zoo</th>\n",
              "      <th>zookeep</th>\n",
              "      <th>zooland</th>\n",
              "      <th>zoologist</th>\n",
              "      <th>zoom</th>\n",
              "      <th>zoot</th>\n",
              "      <th>zorro</th>\n",
              "      <th>zuko</th>\n",
              "      <th>zweibel</th>\n",
              "      <th>zwigoff</th>\n",
              "    </tr>\n",
              "  </thead>\n",
              "  <tbody>\n",
              "    <tr>\n",
              "      <th>0</th>\n",
              "      <td>0.0</td>\n",
              "      <td>0.0</td>\n",
              "      <td>0.0</td>\n",
              "      <td>0.0</td>\n",
              "      <td>0.0</td>\n",
              "      <td>0.0</td>\n",
              "      <td>0.0</td>\n",
              "      <td>0.0</td>\n",
              "      <td>0.0</td>\n",
              "      <td>0.0</td>\n",
              "      <td>...</td>\n",
              "      <td>0.0</td>\n",
              "      <td>0.0</td>\n",
              "      <td>0.0</td>\n",
              "      <td>0.0</td>\n",
              "      <td>0.0</td>\n",
              "      <td>0.0</td>\n",
              "      <td>0.0</td>\n",
              "      <td>0.0</td>\n",
              "      <td>0.0</td>\n",
              "      <td>0.0</td>\n",
              "    </tr>\n",
              "    <tr>\n",
              "      <th>1</th>\n",
              "      <td>0.0</td>\n",
              "      <td>0.0</td>\n",
              "      <td>0.0</td>\n",
              "      <td>0.0</td>\n",
              "      <td>0.0</td>\n",
              "      <td>0.0</td>\n",
              "      <td>0.0</td>\n",
              "      <td>0.0</td>\n",
              "      <td>0.0</td>\n",
              "      <td>0.0</td>\n",
              "      <td>...</td>\n",
              "      <td>0.0</td>\n",
              "      <td>0.0</td>\n",
              "      <td>0.0</td>\n",
              "      <td>0.0</td>\n",
              "      <td>0.0</td>\n",
              "      <td>0.0</td>\n",
              "      <td>0.0</td>\n",
              "      <td>0.0</td>\n",
              "      <td>0.0</td>\n",
              "      <td>0.0</td>\n",
              "    </tr>\n",
              "    <tr>\n",
              "      <th>2</th>\n",
              "      <td>0.0</td>\n",
              "      <td>0.0</td>\n",
              "      <td>0.0</td>\n",
              "      <td>0.0</td>\n",
              "      <td>0.0</td>\n",
              "      <td>0.0</td>\n",
              "      <td>0.0</td>\n",
              "      <td>0.0</td>\n",
              "      <td>0.0</td>\n",
              "      <td>0.0</td>\n",
              "      <td>...</td>\n",
              "      <td>0.0</td>\n",
              "      <td>0.0</td>\n",
              "      <td>0.0</td>\n",
              "      <td>0.0</td>\n",
              "      <td>0.0</td>\n",
              "      <td>0.0</td>\n",
              "      <td>0.0</td>\n",
              "      <td>0.0</td>\n",
              "      <td>0.0</td>\n",
              "      <td>0.0</td>\n",
              "    </tr>\n",
              "    <tr>\n",
              "      <th>3</th>\n",
              "      <td>0.0</td>\n",
              "      <td>0.0</td>\n",
              "      <td>0.0</td>\n",
              "      <td>0.0</td>\n",
              "      <td>0.0</td>\n",
              "      <td>0.0</td>\n",
              "      <td>0.0</td>\n",
              "      <td>0.0</td>\n",
              "      <td>0.0</td>\n",
              "      <td>0.0</td>\n",
              "      <td>...</td>\n",
              "      <td>0.0</td>\n",
              "      <td>0.0</td>\n",
              "      <td>0.0</td>\n",
              "      <td>0.0</td>\n",
              "      <td>0.0</td>\n",
              "      <td>0.0</td>\n",
              "      <td>0.0</td>\n",
              "      <td>0.0</td>\n",
              "      <td>0.0</td>\n",
              "      <td>0.0</td>\n",
              "    </tr>\n",
              "    <tr>\n",
              "      <th>4</th>\n",
              "      <td>0.0</td>\n",
              "      <td>0.0</td>\n",
              "      <td>0.0</td>\n",
              "      <td>0.0</td>\n",
              "      <td>0.0</td>\n",
              "      <td>0.0</td>\n",
              "      <td>0.0</td>\n",
              "      <td>0.0</td>\n",
              "      <td>0.0</td>\n",
              "      <td>0.0</td>\n",
              "      <td>...</td>\n",
              "      <td>0.0</td>\n",
              "      <td>0.0</td>\n",
              "      <td>0.0</td>\n",
              "      <td>0.0</td>\n",
              "      <td>0.0</td>\n",
              "      <td>0.0</td>\n",
              "      <td>0.0</td>\n",
              "      <td>0.0</td>\n",
              "      <td>0.0</td>\n",
              "      <td>0.0</td>\n",
              "    </tr>\n",
              "    <tr>\n",
              "      <th>...</th>\n",
              "      <td>...</td>\n",
              "      <td>...</td>\n",
              "      <td>...</td>\n",
              "      <td>...</td>\n",
              "      <td>...</td>\n",
              "      <td>...</td>\n",
              "      <td>...</td>\n",
              "      <td>...</td>\n",
              "      <td>...</td>\n",
              "      <td>...</td>\n",
              "      <td>...</td>\n",
              "      <td>...</td>\n",
              "      <td>...</td>\n",
              "      <td>...</td>\n",
              "      <td>...</td>\n",
              "      <td>...</td>\n",
              "      <td>...</td>\n",
              "      <td>...</td>\n",
              "      <td>...</td>\n",
              "      <td>...</td>\n",
              "      <td>...</td>\n",
              "    </tr>\n",
              "    <tr>\n",
              "      <th>1995</th>\n",
              "      <td>0.0</td>\n",
              "      <td>0.0</td>\n",
              "      <td>0.0</td>\n",
              "      <td>0.0</td>\n",
              "      <td>0.0</td>\n",
              "      <td>0.0</td>\n",
              "      <td>0.0</td>\n",
              "      <td>0.0</td>\n",
              "      <td>0.0</td>\n",
              "      <td>0.0</td>\n",
              "      <td>...</td>\n",
              "      <td>0.0</td>\n",
              "      <td>0.0</td>\n",
              "      <td>0.0</td>\n",
              "      <td>0.0</td>\n",
              "      <td>0.0</td>\n",
              "      <td>0.0</td>\n",
              "      <td>0.0</td>\n",
              "      <td>0.0</td>\n",
              "      <td>0.0</td>\n",
              "      <td>0.0</td>\n",
              "    </tr>\n",
              "    <tr>\n",
              "      <th>1996</th>\n",
              "      <td>0.0</td>\n",
              "      <td>0.0</td>\n",
              "      <td>0.0</td>\n",
              "      <td>0.0</td>\n",
              "      <td>0.0</td>\n",
              "      <td>0.0</td>\n",
              "      <td>0.0</td>\n",
              "      <td>0.0</td>\n",
              "      <td>0.0</td>\n",
              "      <td>0.0</td>\n",
              "      <td>...</td>\n",
              "      <td>0.0</td>\n",
              "      <td>0.0</td>\n",
              "      <td>0.0</td>\n",
              "      <td>0.0</td>\n",
              "      <td>0.0</td>\n",
              "      <td>0.0</td>\n",
              "      <td>0.0</td>\n",
              "      <td>0.0</td>\n",
              "      <td>0.0</td>\n",
              "      <td>0.0</td>\n",
              "    </tr>\n",
              "    <tr>\n",
              "      <th>1997</th>\n",
              "      <td>0.0</td>\n",
              "      <td>0.0</td>\n",
              "      <td>0.0</td>\n",
              "      <td>0.0</td>\n",
              "      <td>0.0</td>\n",
              "      <td>0.0</td>\n",
              "      <td>0.0</td>\n",
              "      <td>0.0</td>\n",
              "      <td>0.0</td>\n",
              "      <td>0.0</td>\n",
              "      <td>...</td>\n",
              "      <td>0.0</td>\n",
              "      <td>0.0</td>\n",
              "      <td>0.0</td>\n",
              "      <td>0.0</td>\n",
              "      <td>0.0</td>\n",
              "      <td>0.0</td>\n",
              "      <td>0.0</td>\n",
              "      <td>0.0</td>\n",
              "      <td>0.0</td>\n",
              "      <td>0.0</td>\n",
              "    </tr>\n",
              "    <tr>\n",
              "      <th>1998</th>\n",
              "      <td>0.0</td>\n",
              "      <td>0.0</td>\n",
              "      <td>0.0</td>\n",
              "      <td>0.0</td>\n",
              "      <td>0.0</td>\n",
              "      <td>0.0</td>\n",
              "      <td>0.0</td>\n",
              "      <td>0.0</td>\n",
              "      <td>0.0</td>\n",
              "      <td>0.0</td>\n",
              "      <td>...</td>\n",
              "      <td>0.0</td>\n",
              "      <td>0.0</td>\n",
              "      <td>0.0</td>\n",
              "      <td>0.0</td>\n",
              "      <td>0.0</td>\n",
              "      <td>0.0</td>\n",
              "      <td>0.0</td>\n",
              "      <td>0.0</td>\n",
              "      <td>0.0</td>\n",
              "      <td>0.0</td>\n",
              "    </tr>\n",
              "    <tr>\n",
              "      <th>1999</th>\n",
              "      <td>0.0</td>\n",
              "      <td>0.0</td>\n",
              "      <td>0.0</td>\n",
              "      <td>0.0</td>\n",
              "      <td>0.0</td>\n",
              "      <td>0.0</td>\n",
              "      <td>0.0</td>\n",
              "      <td>0.0</td>\n",
              "      <td>0.0</td>\n",
              "      <td>0.0</td>\n",
              "      <td>...</td>\n",
              "      <td>0.0</td>\n",
              "      <td>0.0</td>\n",
              "      <td>0.0</td>\n",
              "      <td>0.0</td>\n",
              "      <td>0.0</td>\n",
              "      <td>0.0</td>\n",
              "      <td>0.0</td>\n",
              "      <td>0.0</td>\n",
              "      <td>0.0</td>\n",
              "      <td>0.0</td>\n",
              "    </tr>\n",
              "  </tbody>\n",
              "</table>\n",
              "<p>2000 rows × 18318 columns</p>\n",
              "</div>"
            ],
            "text/plain": [
              "      0009f  000aweek  000paltri  100m  100minut  101yearold  11thhour  150th  \\\n",
              "0       0.0       0.0        0.0   0.0       0.0         0.0       0.0    0.0   \n",
              "1       0.0       0.0        0.0   0.0       0.0         0.0       0.0    0.0   \n",
              "2       0.0       0.0        0.0   0.0       0.0         0.0       0.0    0.0   \n",
              "3       0.0       0.0        0.0   0.0       0.0         0.0       0.0    0.0   \n",
              "4       0.0       0.0        0.0   0.0       0.0         0.0       0.0    0.0   \n",
              "...     ...       ...        ...   ...       ...         ...       ...    ...   \n",
              "1995    0.0       0.0        0.0   0.0       0.0         0.0       0.0    0.0   \n",
              "1996    0.0       0.0        0.0   0.0       0.0         0.0       0.0    0.0   \n",
              "1997    0.0       0.0        0.0   0.0       0.0         0.0       0.0    0.0   \n",
              "1998    0.0       0.0        0.0   0.0       0.0         0.0       0.0    0.0   \n",
              "1999    0.0       0.0        0.0   0.0       0.0         0.0       0.0    0.0   \n",
              "\n",
              "      1600  16x9  ...  zoo  zookeep  zooland  zoologist  zoom  zoot  zorro  \\\n",
              "0      0.0   0.0  ...  0.0      0.0      0.0        0.0   0.0   0.0    0.0   \n",
              "1      0.0   0.0  ...  0.0      0.0      0.0        0.0   0.0   0.0    0.0   \n",
              "2      0.0   0.0  ...  0.0      0.0      0.0        0.0   0.0   0.0    0.0   \n",
              "3      0.0   0.0  ...  0.0      0.0      0.0        0.0   0.0   0.0    0.0   \n",
              "4      0.0   0.0  ...  0.0      0.0      0.0        0.0   0.0   0.0    0.0   \n",
              "...    ...   ...  ...  ...      ...      ...        ...   ...   ...    ...   \n",
              "1995   0.0   0.0  ...  0.0      0.0      0.0        0.0   0.0   0.0    0.0   \n",
              "1996   0.0   0.0  ...  0.0      0.0      0.0        0.0   0.0   0.0    0.0   \n",
              "1997   0.0   0.0  ...  0.0      0.0      0.0        0.0   0.0   0.0    0.0   \n",
              "1998   0.0   0.0  ...  0.0      0.0      0.0        0.0   0.0   0.0    0.0   \n",
              "1999   0.0   0.0  ...  0.0      0.0      0.0        0.0   0.0   0.0    0.0   \n",
              "\n",
              "      zuko  zweibel  zwigoff  \n",
              "0      0.0      0.0      0.0  \n",
              "1      0.0      0.0      0.0  \n",
              "2      0.0      0.0      0.0  \n",
              "3      0.0      0.0      0.0  \n",
              "4      0.0      0.0      0.0  \n",
              "...    ...      ...      ...  \n",
              "1995   0.0      0.0      0.0  \n",
              "1996   0.0      0.0      0.0  \n",
              "1997   0.0      0.0      0.0  \n",
              "1998   0.0      0.0      0.0  \n",
              "1999   0.0      0.0      0.0  \n",
              "\n",
              "[2000 rows x 18318 columns]"
            ]
          },
          "execution_count": 161,
          "metadata": {},
          "output_type": "execute_result"
        }
      ],
      "source": [
        "print('Tfidf ponderations')\n",
        "\n",
        "\n",
        "# Initialize the \"TfidfVectorizer\" object.\n",
        "tfidf_vect = TfidfVectorizer()\n",
        "X_tfidf = tfidf_vect.fit_transform(data['review'])\n",
        "\n",
        "# Numpy arrays are easy to work with, so convert the result to an array\n",
        "vectorizer_features = X_tfidf.toarray()\n",
        "tfidf_frequency_matrix = pd.DataFrame(vectorizer_features,columns=tfidf_vect.get_feature_names())\n",
        "tfidf_frequency_matrix"
      ]
    },
    {
      "cell_type": "code",
      "execution_count": null,
      "metadata": {
        "id": "tz0dH6A5tPHa",
        "outputId": "674845b8-de16-41a8-a171-c7dd54a7e2ce"
      },
      "outputs": [
        {
          "name": "stdout",
          "output_type": "stream",
          "text": [
            "Features with lowest idf:\n",
            "['play' 'make' 'go' 'take' 'come' 'end' 'look' 'seem' 'work' 'thing']\n",
            "\n",
            "Features with highest idf:\n",
            "['iggyesuq' 'ignorantli' 'iguana' 'sharpen' 'ihr' 'iiithough' 'ike'\n",
            " 'iknow' 'ig' '0009f']\n"
          ]
        }
      ],
      "source": [
        "import numpy as np\n",
        "feature_names = np.array(tfidf_vect.get_feature_names())\n",
        "sorted_by_idf = np.argsort(tfidf_vect.idf_)\n",
        "print(\"Features with lowest idf:\\n{}\".format(\n",
        "       feature_names[sorted_by_idf[:10]]))\n",
        "print(\"\\nFeatures with highest idf:\\n{}\".format(\n",
        "       feature_names[sorted_by_idf[-10:]]))"
      ]
    },
    {
      "cell_type": "code",
      "execution_count": null,
      "metadata": {
        "id": "DAoIZKgKtPHa",
        "outputId": "9f4f1bbf-1039-4347-f788-658f5358fbfc"
      },
      "outputs": [
        {
          "name": "stdout",
          "output_type": "stream",
          "text": [
            "col_0  count\n",
            "label       \n",
            "neg     1000\n",
            "pos     1000\n"
          ]
        }
      ],
      "source": [
        "#frequency distribution of the class attribute\n",
        "print(pd.crosstab(index=data[\"label\"],columns=\"count\"))"
      ]
    },
    {
      "cell_type": "code",
      "execution_count": null,
      "metadata": {
        "id": "r8MxBhoitPHa",
        "outputId": "b6f97b41-c9b6-4023-fd04-f49e4033fdff"
      },
      "outputs": [
        {
          "data": {
            "text/html": [
              "<div>\n",
              "<style scoped>\n",
              "    .dataframe tbody tr th:only-of-type {\n",
              "        vertical-align: middle;\n",
              "    }\n",
              "\n",
              "    .dataframe tbody tr th {\n",
              "        vertical-align: top;\n",
              "    }\n",
              "\n",
              "    .dataframe thead th {\n",
              "        text-align: right;\n",
              "    }\n",
              "</style>\n",
              "<table border=\"1\" class=\"dataframe\">\n",
              "  <thead>\n",
              "    <tr style=\"text-align: right;\">\n",
              "      <th></th>\n",
              "      <th>review</th>\n",
              "      <th>label</th>\n",
              "    </tr>\n",
              "  </thead>\n",
              "  <tbody>\n",
              "    <tr>\n",
              "      <th>0</th>\n",
              "      <td>research subject would say michael jackson loo...</td>\n",
              "      <td>pos</td>\n",
              "    </tr>\n",
              "    <tr>\n",
              "      <th>1</th>\n",
              "      <td>movi come along suspect studio indic stinker e...</td>\n",
              "      <td>pos</td>\n",
              "    </tr>\n",
              "    <tr>\n",
              "      <th>2</th>\n",
              "      <td>youv got mail work alot deserv order cast extr...</td>\n",
              "      <td>pos</td>\n",
              "    </tr>\n",
              "    <tr>\n",
              "      <th>3</th>\n",
              "      <td>rare grab attent show singl imag screen open b...</td>\n",
              "      <td>pos</td>\n",
              "    </tr>\n",
              "    <tr>\n",
              "      <th>4</th>\n",
              "      <td>moviemak lot gener manag ifl team postsalari c...</td>\n",
              "      <td>pos</td>\n",
              "    </tr>\n",
              "    <tr>\n",
              "      <th>...</th>\n",
              "      <td>...</td>\n",
              "      <td>...</td>\n",
              "    </tr>\n",
              "    <tr>\n",
              "      <th>1995</th>\n",
              "      <td>anyth taken warn releas similarlythem rel clos...</td>\n",
              "      <td>neg</td>\n",
              "    </tr>\n",
              "    <tr>\n",
              "      <th>1996</th>\n",
              "      <td>john doorman pardon goofi cinemat debacl funda...</td>\n",
              "      <td>neg</td>\n",
              "    </tr>\n",
              "    <tr>\n",
              "      <th>1997</th>\n",
              "      <td>hall acquir tast took least season watch show ...</td>\n",
              "      <td>neg</td>\n",
              "    </tr>\n",
              "    <tr>\n",
              "      <th>1998</th>\n",
              "      <td>john carpent great horror director cours best ...</td>\n",
              "      <td>neg</td>\n",
              "    </tr>\n",
              "    <tr>\n",
              "      <th>1999</th>\n",
              "      <td>parti guy bob head danc hit love get troubl ni...</td>\n",
              "      <td>neg</td>\n",
              "    </tr>\n",
              "  </tbody>\n",
              "</table>\n",
              "<p>2000 rows × 2 columns</p>\n",
              "</div>"
            ],
            "text/plain": [
              "                                                 review label\n",
              "0     research subject would say michael jackson loo...   pos\n",
              "1     movi come along suspect studio indic stinker e...   pos\n",
              "2     youv got mail work alot deserv order cast extr...   pos\n",
              "3     rare grab attent show singl imag screen open b...   pos\n",
              "4     moviemak lot gener manag ifl team postsalari c...   pos\n",
              "...                                                 ...   ...\n",
              "1995  anyth taken warn releas similarlythem rel clos...   neg\n",
              "1996  john doorman pardon goofi cinemat debacl funda...   neg\n",
              "1997  hall acquir tast took least season watch show ...   neg\n",
              "1998  john carpent great horror director cours best ...   neg\n",
              "1999  parti guy bob head danc hit love get troubl ni...   neg\n",
              "\n",
              "[2000 rows x 2 columns]"
            ]
          },
          "execution_count": 164,
          "metadata": {},
          "output_type": "execute_result"
        }
      ],
      "source": [
        "data"
      ]
    },
    {
      "cell_type": "code",
      "execution_count": null,
      "metadata": {
        "id": "zFH5J8wPtPHa"
      },
      "outputs": [],
      "source": [
        "from sklearn.model_selection import train_test_split\n",
        "dataTrain, dataTest = train_test_split(data,train_size=0.8,random_state=1,stratify=data['label'])"
      ]
    },
    {
      "cell_type": "code",
      "execution_count": null,
      "metadata": {
        "id": "t3Qi3TEatPHa",
        "outputId": "f12c69ec-8f63-4bdf-a682-3401cb12bb61"
      },
      "outputs": [
        {
          "data": {
            "text/html": [
              "<div>\n",
              "<style scoped>\n",
              "    .dataframe tbody tr th:only-of-type {\n",
              "        vertical-align: middle;\n",
              "    }\n",
              "\n",
              "    .dataframe tbody tr th {\n",
              "        vertical-align: top;\n",
              "    }\n",
              "\n",
              "    .dataframe thead th {\n",
              "        text-align: right;\n",
              "    }\n",
              "</style>\n",
              "<table border=\"1\" class=\"dataframe\">\n",
              "  <thead>\n",
              "    <tr style=\"text-align: right;\">\n",
              "      <th></th>\n",
              "      <th>review</th>\n",
              "      <th>label</th>\n",
              "    </tr>\n",
              "  </thead>\n",
              "  <tbody>\n",
              "    <tr>\n",
              "      <th>1957</th>\n",
              "      <td>recent night young director name baz luhrmann ...</td>\n",
              "      <td>neg</td>\n",
              "    </tr>\n",
              "    <tr>\n",
              "      <th>1800</th>\n",
              "      <td>four earn jami lee curti titl scream queen ear...</td>\n",
              "      <td>neg</td>\n",
              "    </tr>\n",
              "    <tr>\n",
              "      <th>1956</th>\n",
              "      <td>godzilla ultim culmin care summer loo remak ni...</td>\n",
              "      <td>neg</td>\n",
              "    </tr>\n",
              "    <tr>\n",
              "      <th>752</th>\n",
              "      <td>youv probabl heard priest rabbi dosag featherw...</td>\n",
              "      <td>pos</td>\n",
              "    </tr>\n",
              "    <tr>\n",
              "      <th>1525</th>\n",
              "      <td>bad hype rememb case box helena nine ninety-th...</td>\n",
              "      <td>neg</td>\n",
              "    </tr>\n",
              "    <tr>\n",
              "      <th>...</th>\n",
              "      <td>...</td>\n",
              "      <td>...</td>\n",
              "    </tr>\n",
              "    <tr>\n",
              "      <th>1499</th>\n",
              "      <td>best thing fact thing dark citi made want go c...</td>\n",
              "      <td>neg</td>\n",
              "    </tr>\n",
              "    <tr>\n",
              "      <th>1211</th>\n",
              "      <td>tim robbin martin lawrenc team road comedi rob...</td>\n",
              "      <td>neg</td>\n",
              "    </tr>\n",
              "    <tr>\n",
              "      <th>852</th>\n",
              "      <td>selfproclaim profession critic somewhat embarr...</td>\n",
              "      <td>pos</td>\n",
              "    </tr>\n",
              "    <tr>\n",
              "      <th>544</th>\n",
              "      <td>matter suspect isnt usual action thriller usua...</td>\n",
              "      <td>pos</td>\n",
              "    </tr>\n",
              "    <tr>\n",
              "      <th>903</th>\n",
              "      <td>robert altman cooki fortun rare depend sentime...</td>\n",
              "      <td>pos</td>\n",
              "    </tr>\n",
              "  </tbody>\n",
              "</table>\n",
              "<p>1600 rows × 2 columns</p>\n",
              "</div>"
            ],
            "text/plain": [
              "                                                 review label\n",
              "1957  recent night young director name baz luhrmann ...   neg\n",
              "1800  four earn jami lee curti titl scream queen ear...   neg\n",
              "1956  godzilla ultim culmin care summer loo remak ni...   neg\n",
              "752   youv probabl heard priest rabbi dosag featherw...   pos\n",
              "1525  bad hype rememb case box helena nine ninety-th...   neg\n",
              "...                                                 ...   ...\n",
              "1499  best thing fact thing dark citi made want go c...   neg\n",
              "1211  tim robbin martin lawrenc team road comedi rob...   neg\n",
              "852   selfproclaim profession critic somewhat embarr...   pos\n",
              "544   matter suspect isnt usual action thriller usua...   pos\n",
              "903   robert altman cooki fortun rare depend sentime...   pos\n",
              "\n",
              "[1600 rows x 2 columns]"
            ]
          },
          "execution_count": 166,
          "metadata": {},
          "output_type": "execute_result"
        }
      ],
      "source": [
        "dataTrain"
      ]
    },
    {
      "cell_type": "code",
      "execution_count": null,
      "metadata": {
        "id": "XeJcCDA-tPHb",
        "outputId": "074b653f-26a8-40a4-df18-ca4649047af1"
      },
      "outputs": [
        {
          "data": {
            "text/plain": [
              "label\n",
              "neg    800\n",
              "pos    800\n",
              "dtype: int64"
            ]
          },
          "execution_count": 167,
          "metadata": {},
          "output_type": "execute_result"
        }
      ],
      "source": [
        "dataTrain.groupby(['label']).size()"
      ]
    },
    {
      "cell_type": "code",
      "execution_count": null,
      "metadata": {
        "id": "xiQ-lwdztPHb",
        "outputId": "fd2a6182-b488-4ad8-fea1-5d97674bd2da"
      },
      "outputs": [
        {
          "data": {
            "text/plain": [
              "label\n",
              "neg    200\n",
              "pos    200\n",
              "dtype: int64"
            ]
          },
          "execution_count": 168,
          "metadata": {},
          "output_type": "execute_result"
        }
      ],
      "source": [
        "dataTest.groupby(['label']).size()"
      ]
    },
    {
      "cell_type": "code",
      "execution_count": null,
      "metadata": {
        "id": "NtUw0TCVtPHb"
      },
      "outputs": [],
      "source": [
        "#*** Generate the document term matrix - train set ***\n",
        "\n",
        "#import the CountVectorizer tool\n",
        "from sklearn.feature_extraction.text import CountVectorizer\n",
        "\n",
        "#instantiation of the objet\n",
        "parseur = CountVectorizer(binary=True)\n",
        "\n",
        "#create the document term matrix\n",
        "XTrain = parseur.fit_transform(dataTrain['review'])"
      ]
    },
    {
      "cell_type": "code",
      "execution_count": null,
      "metadata": {
        "id": "Tj598EqFtPHb",
        "outputId": "d1f73814-9cb5-4732-da79-6e5bc7e203cc"
      },
      "outputs": [
        {
          "data": {
            "text/plain": [
              "<1600x17248 sparse matrix of type '<class 'numpy.int64'>'\n",
              "\twith 356179 stored elements in Compressed Sparse Row format>"
            ]
          },
          "execution_count": 170,
          "metadata": {},
          "output_type": "execute_result"
        }
      ],
      "source": [
        "XTrain"
      ]
    },
    {
      "cell_type": "code",
      "execution_count": null,
      "metadata": {
        "id": "oAkWopZRtPHb",
        "outputId": "87351656-351d-416f-c429-6566eb5009d1"
      },
      "outputs": [
        {
          "name": "stdout",
          "output_type": "stream",
          "text": [
            "['0009f', '000aweek', '000paltri', '100m', '100minut', '11thhour', '150th', '1600', '16x9', '175million', '1800', '1830', '1900', '1930', '1940', '1949', '1950', '1960', '1970', '1971', '1972', '1973', '1975', '1979', '1980', '1981', '1982', '1984', '1985', '1986', '1988', '1989', '1990', '1991', '1992', '1993', '1994', '1995', '1996', '1997', '1997the', '1998', '1999', '19thcenturi', '2000', '2000pound', '216digit', '21stcenturi', '24thcenturi', '25andund', '600pound', '60s70', '70searli', '777film', 'aaliyah', 'ab', 'abandon', 'abb', 'abba', 'abbi', 'abbott', 'abc', 'abduct', 'abe', 'abel', 'aberdeen', 'abet', 'abhorr', 'abid', 'abigail', 'abil', 'abl', 'abli', 'abnorm', 'aboard', 'abod', 'abolish', 'abolitionist', 'abomin', 'aborigin', 'abort', 'abortionist', 'abound', 'aboveaverag', 'aboveground', 'abovepar', 'abovethetitl', 'abraham', 'abras', 'abroad', 'abrupt', 'abruptli', 'absenc', 'absent', 'absentminded', 'absinth', 'absolut', 'absolutist', 'absolv', 'absorb', 'absorpt', 'abstin', 'abstract', 'absurd', 'absurdist', 'absurdli', 'abund', 'abundantli', 'abus', 'abysm', 'abyss', 'academ', 'academi', 'academybelov', 'acc', 'acceler', 'accent', 'accentu', 'accept', 'access', 'accessori', 'accid', 'accident', 'acclaim', 'acclimat', 'accolad', 'accommod', 'accompani', 'accomplic', 'accomplish', 'accord', 'accordingli', 'accordion', 'accost', 'account', 'accumul', 'accur', 'accuraci', 'accus', 'accustom', 'ace', 'acerb', 'aceton', 'ach', 'achiev', 'achil', 'achingli', 'acid', 'acideaten', 'ackman', 'acknowledg', 'acm', 'acquaint', 'acquir', 'acquit', 'acr', 'acrimoni', 'acrobat', 'across', 'acryl', 'act', 'action', 'actionadventur', 'actionanim', 'actioncomedi', 'actionfest', 'actionmovi', 'actionpack', 'actionthril', 'activ', 'activist', 'activit', 'actor', 'actorsactress', 'actorstunt', 'actress', 'actual', 'acuiti', 'acumen', 'acut', 'ad', 'adag', 'adam', 'adapt', 'aday', 'add', 'addam', 'addi', 'addict', 'addit', 'addl', 'address', 'ade', 'adelaid', 'adept', 'adequ', 'adher', 'aditi', 'adject', 'adjoin', 'adjust', 'adlab', 'administ', 'admir', 'admiss', 'admit', 'admitt', 'admittedli', 'admonit', 'ado', 'adolesc', 'adolescentmind', 'adopt', 'ador', 'adorn', 'adrenalin', 'adrian', 'adrien', 'adrienmarc', 'adrienn', 'adrift', 'adroitli', 'adult', 'adultdavid', 'adulter', 'adulteri', 'adulthelfgott', 'adulthood', 'adultori', 'advanc', 'advantag', 'advent', 'adventur', 'advers', 'adversari', 'advertis', 'advic', 'advis', 'advisor', 'advoc', 'aerial', 'aerosmith', 'aerospac', 'aesthet', 'afar', 'afer', 'affabl', 'affair', 'affect', 'affection', 'affili', 'affin', 'affirm', 'affleck', 'afflict', 'afford', 'affront', 'aficionado', 'afield', 'afloat', 'afoot', 'aforement', 'aforethought', 'afoul', 'afraid', 'africa', 'african', 'africanamerican', 'afro', 'aftereffect', 'afterglow', 'afterlif', 'aftermath', 'afternoon', 'afterward', 'agap', 'agatha', 'age', 'agenc', 'agenda', 'agent', 'agentassassin', 'agentincharg', 'aggrav', 'aggress', 'aggriev', 'agil', 'agit', 'agn', 'ago', 'agon', 'agoni', 'agre', 'agreeabl', 'agreement', 'aguilar', 'aguirresarob', 'ah', 'aha', 'ahab', 'ahead', 'ahem', 'ahm', 'aid', 'aida', 'aidan', 'aidsafflict', 'aidscautionari', 'ail', 'aim', 'aime', 'aimless', 'aimlessli', 'aint', 'air', 'aircraft', 'airforceon', 'airi', 'airlin', 'airplan', 'airplay', 'airport', 'airtim', 'airwav', 'airwolf', 'aisl', 'aka', 'aki', 'akiko', 'akin', 'akira', 'al', 'ala', 'alabama', 'aladdin', 'alain', 'alamo', 'alani', 'alarm', 'alaska', 'albani', 'albania', 'albanian', 'albeit', 'albert', 'alberta', 'alberto', 'albino', 'albrecht', 'album', 'alc', 'alchemi', 'alcohol', 'alcoholbas', 'alda', 'alderman', 'aldou', 'alea', 'alec', 'aleck', 'alek', 'alert', 'alessandro', 'alex', 'alexa', 'alexand', 'alexandr', 'alexandra', 'aleximal', 'alfr', 'alfredo', 'algeria', 'ali', 'alia', 'alias', 'alibi', 'alic', 'alicia', 'alien', 'alienlik', 'aliensashuman', 'alienstitan', 'align', 'alik', 'alison', 'aliv', 'alla', 'allah', 'allamerica', 'allamerican', 'allan', 'allbutdead', 'allbutilleg', 'allconsum', 'alleg', 'allegedli', 'allegi', 'allegori', 'allegra', 'allen', 'allencompass', 'alley', 'allgirl', 'allgrownup', 'alli', 'allianc', 'allig', 'allimport', 'allison', 'allnight', 'alloc', 'allout', 'allow', 'allpow', 'alltoobrief', 'alltootru', 'allud', 'allur', 'allus', 'allwhit', 'alma', 'almond', 'almost', 'almostcameo', 'almostforgotten', 'almostwitti', 'aloft', 'alon', 'along', 'alongsid', 'aloof', 'alot', 'aloud', 'alreadi', 'alreadychaot', 'alreadyexist', 'alright', 'also', 'altar', 'alter', 'alteran', 'alterc', 'altern', 'althea', 'although', 'altitud', 'altman', 'alto', 'altogeth', 'altruist', 'alum', 'alumnu', 'alvin', 'alway', 'alwaysstrik', 'alyssa', 'alzheim', 'amalgam', 'amanda', 'amarcord', 'amarillo', 'amass', 'amateur', 'amateurish', 'amaz', 'amazingli', 'amazon', 'ambassador', 'amber', 'ambianc', 'ambienc', 'ambient', 'ambigu', 'ambit', 'ambiti', 'ambival', 'ambl', 'ambros', 'ambul', 'ambulancechas', 'ambush', 'ame', 'amen', 'amend', 'america', 'american', 'americanitalian', 'ami', 'amiabl', 'amid', 'amidala', 'amidst', 'amir', 'amish', 'amiss', 'amistad', 'amiti', 'ammunit', 'amnesia', 'amnesiac', 'amo', 'amok', 'amon', 'among', 'amongst', 'amor', 'amort', 'amount', 'amourlast', 'amphetamin', 'amphibian', 'ampl', 'ampli', 'amplifi', 'amput', 'amundsen', 'amus', 'amusingli', 'ana', 'anachron', 'anaconda', 'anakin', 'anal', 'analog', 'analogu', 'analys', 'analysi', 'analyst', 'analyz', 'anand', 'anarch', 'anarchi', 'anastasia', 'anatomi', 'ancestor', 'ancestr', 'ancestri', 'anchor', 'ancient', 'ander', 'andersen', 'anderson', 'andi', 'ando', 'andr', 'andrea', 'andrew', 'androgyni', 'android', 'andromeda', 'andrzej', 'anecdot', 'anem', 'anew', 'ang', 'angel', 'angela', 'angelica', 'angelina', 'angelo', 'anger', 'angl', 'anglican', 'angri', 'angrili', 'angst', 'angstfil', 'angsti', 'angu', 'anguish', 'angular', 'anh', 'anightattheroxburi', 'anim', 'animalhat', 'animallov', 'animatron', 'animos', 'aniston', 'anita', 'anjali', 'ann', 'anna', 'annabella', 'annabeth', 'annett', 'anni', 'annihil', 'anniversari', 'announc', 'annoy', 'annoyingli', 'annual', 'anomali', 'anonym', 'anoth', 'anout', 'ansel', 'answer', 'ant', 'antagon', 'antagonist', 'antarct', 'antarctica', 'antenna', 'antennaelik', 'anthem', 'antholog', 'anthoni', 'anthrax', 'anthropologist', 'anthropomorph', 'anti', 'antic', 'antichrist', 'anticip', 'anticlimact', 'anticlimax', 'anticorpor', 'antidot', 'antigovern', 'antihero', 'antimovi', 'antioch', 'antiphantom', 'antipillpoppingcasualtantricsexcarchaseattemptedmurd', 'antiqu', 'antisemit', 'antisept', 'antishark', 'antislaveri', 'antisoci', 'antitheft', 'antithesi', 'antivoyeurist', 'antiwar', 'antoin', 'anton', 'antonia', 'antonio', 'antonioni', 'antwerp', 'anvil', 'anxieti', 'anxiou', 'anxious', 'anybodi', 'anyhow', 'anymor', 'anyon', 'anyth', 'anytim', 'anyway', 'anywher', 'aoki', 'apart', 'apathi', 'ape', 'apelik', 'apex', 'aphrodit', 'aplomb', 'apocalyps', 'apocalypt', 'apollo', 'apollonian', 'apolog', 'apologet', 'apoplect', 'apostl', 'appal', 'appalachian', 'appallingli', 'appar', 'apparatu', 'apparit', 'apparitionlik', 'appeal', 'appear', 'appel', 'appertain', 'appet', 'appetit', 'appl', 'applaud', 'applaus', 'appleg', 'appli', 'applianc', 'applic', 'appoint', 'appreci', 'apprehend', 'apprehens', 'apprentic', 'apprenticeship', 'approach', 'appropri', 'approv', 'approxim', 'april', 'apron', 'apt', 'aptitud', 'aptli', 'aquamarin', 'aquarium', 'aquat', 'ar', 'arab', 'arabamerican', 'arabella', 'arabia', 'arabl', 'arachnid', 'arachnidtyp', 'aram', 'arbitrari', 'arbogast', 'arc', 'arcad', 'arcan', 'arch', 'archaeolog', 'archaic', 'archbishop', 'archenemi', 'archer', 'archetyp', 'architect', 'architectur', 'archiv', 'archnemesi', 'archriv', 'arctic', 'arden', 'ardent', 'arduou', 'area', 'arena', 'arent', 'aretha', 'argent', 'argentina', 'argentinian', 'argo', 'argonautica', 'argu', 'arguabl', 'argument', 'ari', 'aria', 'arid', 'ariel', 'aris', 'aristocraci', 'aristocrat', 'arizona', 'ark', 'arkonian', 'arlen', 'arlington', 'arliss', 'arlo', 'arm', 'armada', 'armageddon', 'armand', 'armando', 'armani', 'armi', 'armin', 'arminarm', 'armor', 'armour', 'armpit', 'armstrong', 'armwrestl', 'arn', 'arni', 'arnold', 'aronofski', 'around', 'arous', 'arraki', 'arrang', 'array', 'arrest', 'arriv', 'arrog', 'arrow', 'arsen', 'art', 'artagnan', 'artemu', 'arthur', 'arthurian', 'arti', 'articl', 'articul', 'artifact', 'artific', 'artifici', 'artilleri', 'artimitateslif', 'artist', 'artistri', 'artsi', 'artwork', 'aryan', 'as', 'asbesto', 'asburi', 'ascend', 'ascens', 'asexu', 'ash', 'asham', 'ashbi', 'ashbrook', 'ashcan', 'ashley', 'ashman', 'ashton', 'asia', 'asian', 'asid', 'asinin', 'ask', 'askew', 'asleep', 'aslonga', 'aspect', 'aspir', 'ass', 'assail', 'assang', 'assasin', 'assassin', 'assault', 'assembl', 'assemblag', 'assent', 'assert', 'asset', 'asshol', 'assidu', 'assign', 'assimil', 'assist', 'asskick', 'associ', 'assort', 'assum', 'assumpt', 'assur', 'assuredli', 'asteroid', 'aston', 'astonish', 'astonishingli', 'astor', 'astound', 'astoundingli', 'astrid', 'astrolog', 'astronaut', 'astronom', 'astronomerwrit', 'astronomi', 'astrophysicist', 'astrosbrav', 'astut', 'asuka', 'aswel', 'asylum', 'ate', 'ateam', 'atf', 'atheism', 'atheist', 'athlet', 'atho', 'atkin', 'atlant', 'atlanta', 'atlanti', 'atmospher', 'atol', 'atom', 'atop', 'atreid', 'atroc', 'atroci', 'atrophi', 'att', 'attach', 'attack', 'attain', 'attatch', 'attempt', 'attenborough', 'attend', 'attent', 'attenu', 'atthi', 'attic', 'attir', 'attitud', 'attorney', 'attract', 'attractiveseem', 'attribut', 'attun', 'atv', 'atyp', 'auberjonoi', 'auction', 'audac', 'audaci', 'audibl', 'audienc', 'audio', 'audit', 'audrey', 'augment', 'auguri', 'august', 'augustu', 'aukoukoula', 'aunt', 'aunti', 'aura', 'aural', 'aureu', 'auschwitz', 'auspici', 'aussi', 'austen', 'austin', 'australia', 'australian', 'austrian', 'auteuil', 'auteur', 'authent', 'author', 'authori', 'authorit', 'authoritarian', 'autism', 'autist', 'auto', 'autobiograph', 'autobiographi', 'autom', 'automat', 'automaton', 'automobil', 'autonom', 'autopilot', 'autopsi', 'aux', 'auxiliari', 'avail', 'avalon', 'avantgard', 'aveng', 'avenu', 'averag', 'averagejo', 'averi', 'avers', 'avi', 'aviat', 'avid', 'avidli', 'avoc', 'avoid', 'aw', 'await', 'awak', 'awaken', 'awar', 'award', 'awardcalibr', 'awardwin', 'awash', 'away', 'awe', 'aweinspir', 'awesom', 'awestruck', 'awhil', 'awkward', 'awkwardli', 'awok', 'awri', 'awright', 'aww', 'axe', 'axel', 'axiomat', 'aye', 'aykroyd', 'ayla', 'baadasssss', 'baaramew', 'bab', 'babbl', 'babe', 'babi', 'baboon', 'babyboom', 'babylon', 'babysit', 'babysitt', 'bac', 'bach', 'bachelor', 'back', 'backbon', 'backdraft', 'backdrop', 'backend', 'backer', 'backfir', 'background', 'backlash', 'backped', 'backseat', 'backsid', 'backstab', 'backstori', 'backstreet', 'backtrack', 'backup', 'backward', 'backwat', 'backwith', 'backwood', 'backyard', 'bacon', 'bacteria', 'bad', 'badass', 'baddi', 'badg', 'badland', 'badli', 'badlywritten', 'baffl', 'bag', 'baggag', 'bagwel', 'bahama', 'bai', 'bail', 'bailey', 'baileyg', 'baio', 'bait', 'bake', 'baker', 'baku', 'balanc', 'balconi', 'bald', 'balderdash', 'baldwin', 'bale', 'balinski', 'balk', 'ball', 'ballad', 'ballbounc', 'ballerina', 'ballet', 'ballettyp', 'ballist', 'balloon', 'ballroom', 'ballyhoo', 'balthazar', 'baltimor', 'balto', 'bamboo', 'ban', 'banal', 'banana', 'bancroft', 'band', 'bandag', 'bandera', 'bandit', 'bandstand', 'bandwagon', 'bane', 'bang', 'bangalor', 'bangi', 'banish', 'bank', 'bankabl', 'banker', 'bankol', 'bankrupt', 'bankruptci', 'banquet', 'banter', 'banti', 'baptist', 'bar', 'baranski', 'barb', 'barbar', 'barbara', 'barbarian', 'barbecu', 'barbel', 'barber', 'barbi', 'barcelona', 'barcod', 'bard', 'bardem', 'bare', 'bareknuckl', 'barf', 'barg', 'bargain', 'bargirl', 'bark', 'barksdal', 'barley', 'barmaid', 'barn', 'barney', 'barnyard', 'baron', 'baroqu', 'barr', 'barrag', 'barrel', 'barren', 'barri', 'barrier', 'barrist', 'barroom', 'barrymor', 'bart', 'bartend', 'bartkowiak', 'bartlett', 'barton', 'base', 'basebal', 'basehead', 'baseketbal', 'baseless', 'basement', 'baser', 'bash', 'basi', 'basic', 'basil', 'bask', 'basket', 'basketbal', 'basquiat', 'bass', 'basset', 'bastard', 'bastil', 'bat', 'batallion', 'batcav', 'batch', 'bate', 'bath', 'bathroom', 'bathtub', 'batman', 'batter', 'battl', 'battledamag', 'battlefield', 'battleship', 'battlestar', 'baubl', 'bauer', 'bavarian', 'bawdi', 'baxter', 'bay', 'bayberri', 'baylor', 'bayou', 'baywatch', 'baz', 'bazaar', 'bazooka', 'be', 'bea', 'beach', 'beacon', 'bead', 'beaker', 'beal', 'beam', 'bean', 'bear', 'bearabl', 'beard', 'beast', 'beasti', 'beat', 'beaten', 'beater', 'beatl', 'beatnik', 'beatric', 'beatti', 'beau', 'beauden', 'beaumarchai', 'beauti', 'beautician', 'bebe', 'becam', 'beck', 'becker', 'becki', 'beckinsal', 'beckon', 'becom', 'bed', 'bedazzl', 'bedfellow', 'bedford', 'bedridden', 'bedrock', 'bedroom', 'bedtim', 'bee', 'beef', 'beek', 'beem', 'beer', 'beethoven', 'beetl', 'beetlejuic', 'befal', 'befit', 'beforehand', 'befriend', 'befuddl', 'beg', 'began', 'begin', 'beginningwhil', 'begrudgingli', 'beguil', 'begun', 'behalf', 'behav', 'behavior', 'behaviour', 'behead', 'behemoth', 'behind', 'behindthescen', 'behold', 'behoov', 'beignet', 'beij', 'bejesu', 'beknown', 'bela', 'belat', 'belch', 'beleagu', 'belfast', 'belgian', 'belgianown', 'belgium', 'beli', 'belief', 'beliefseloqu', 'believ', 'belinda', 'belittl', 'bell', 'bella', 'bellboy', 'bellhop', 'belli', 'belliger', 'bellman', 'bello', 'bellow', 'bellylaugh', 'belong', 'belov', 'belowaverag', 'belowbelt', 'belowground', 'belt', 'bemus', 'ben', 'bench', 'bend', 'bender', 'bene', 'beneath', 'benefactor', 'benefit', 'benevol', 'benicio', 'benign', 'benito', 'benjamin', 'bennett', 'benni', 'bennington', 'benson', 'bent', 'bentley', 'benton', 'benz', 'berardinelli', 'berat', 'bereav', 'bereft', 'beresford', 'berg', 'berger', 'bergman', 'bering', 'berkeley', 'berlin', 'berman', 'bernard', 'bernhard', 'berni', 'berri', 'berserk', 'berth', 'bertha', 'bertram', 'beset', 'besid', 'besieg', 'bespectacl', 'best', 'bestexecut', 'bestial', 'bestow', 'bestsel', 'bet', 'beta', 'beth', 'bethani', 'bether', 'bethlehem', 'betray', 'betsi', 'bett', 'better', 'betti', 'beverli', 'bevi', 'bewar', 'bewild', 'bewilder', 'bewitch', 'beyond', 'bia', 'bian', 'bianca', 'bias', 'bibl', 'bibletot', 'biblic', 'bicep', 'bicker', 'bid', 'bidder', 'bidet', 'biederman', 'bien', 'bier', 'big', 'bigbudget', 'bigelow', 'bigg', 'bigger', 'biggest', 'bighair', 'bigleagu', 'bigot', 'bigscreen', 'bigshot', 'bigtim', 'bigwig', 'bijou', 'bike', 'biker', 'bikini', 'bilal', 'bilbo', 'bilinguallysubtitl', 'biliou', 'bill', 'billboard', 'billi', 'billiard', 'billingsley', 'billion', 'billionair', 'bimbo', 'bimini', 'bin', 'bind', 'bing', 'bingo', 'bink', 'bio', 'biochemist', 'biograph', 'biographi', 'biolog', 'biologist', 'biomolecular', 'bionic', 'biopic', 'birch', 'bird', 'birdcag', 'birdi', 'birkhoff', 'birnbaum', 'birth', 'birthday', 'bisexu', 'bishop', 'bit', 'bitch', 'bitchi', 'bite', 'bitten', 'bitter', 'bitterli', 'bittersweet', 'biz', 'bizarr', 'black', 'blackandwhit', 'blackboard', 'blacker', 'blackhead', 'blacki', 'blackmail', 'blackmarket', 'blackout', 'bladder', 'blade', 'blah', 'blain', 'blair', 'blake', 'blame', 'blanch', 'bland', 'blanderthanbland', 'blandest', 'blandli', 'blank', 'blanket', 'blare', 'blast', 'blaster', 'blatant', 'blatantli', 'blather', 'blaxploit', 'blaxploitationera', 'blaze', 'bleach', 'bleachblond', 'bleacher', 'bleak', 'blech', 'bleed', 'bleibtreu', 'blemheim', 'blemish', 'blend', 'bless', 'blessedli', 'blether', 'blew', 'blight', 'blind', 'blindfold', 'blindingli', 'blindli', 'blindsid', 'blink', 'blip', 'bliss', 'blister', 'blitz', 'bloat', 'blob', 'block', 'blockad', 'blockbust', 'blockhead', 'blond', 'blood', 'bloodbath', 'bloodi', 'bloodless', 'bloodr', 'bloodsh', 'bloodsoak', 'bloodspatt', 'bloodsuck', 'bloodthirsti', 'bloom', 'bloopersflub', 'blossom', 'blot', 'blotter', 'blous', 'blow', 'blowhard', 'blown', 'blowout', 'blue', 'blueblood', 'bluecollar', 'bluegrass', 'blueprint', 'bluer', 'bluescreen', 'blueskin', 'blunt', 'bluntli', 'blur', 'blurb', 'blurri', 'blurt', 'blush', 'blyth', 'bo', 'board', 'boarder', 'boardroom', 'boast', 'boat', 'boathous', 'boatload', 'boatwright', 'bob', 'boba', 'bobbi', 'bobbl', 'bodi', 'bodili', 'bodyguard', 'bodythem', 'boehner', 'bof', 'bog', 'bogan', 'bogart', 'bogg', 'bogmen', 'bogu', 'bohemian', 'boil', 'boiler', 'boister', 'bold', 'boldli', 'bolin', 'bolling', 'bollock', 'bolster', 'bolt', 'bomb', 'bombard', 'bombast', 'bombastorama', 'bombay', 'bomber', 'bombshel', 'bon', 'bona', 'bonafid', 'bond', 'bondag', 'bondsman', 'bone', 'bonehead', 'boney', 'bonfir', 'bong', 'bonghit', 'bongo', 'bonifac', 'bonker', 'bonni', 'bonu', 'boo', 'boob', 'boobi', 'boogi', 'boogieman', 'bookend', 'booker', 'bookfilm', 'booki', 'booksel', 'bookshelv', 'bookstor', 'boom', 'boomer', 'boon', 'boop', 'boorish', 'boost', 'boot', 'booth', 'booti', 'bootleg', 'bootsi', 'booz', 'boozedout', 'border', 'borderlin', 'borderlinepsychot', 'bore', 'boredom', 'borg', 'bori', 'born', 'borrow', 'bos', 'bosnian', 'bosom', 'bosomi', 'bossa', 'boston', 'bosworth', 'botch', 'bother', 'bothersom', 'bottl', 'bottom', 'bottomofthebarrel', 'bottomofthedrugfoodchain', 'bouajila', 'bought', 'boul', 'boulder', 'boulevard', 'boum', 'bounc', 'bouncer', 'bounci', 'bound', 'boundari', 'bounti', 'bouquet', 'bourgeoi', 'bourgeoisi', 'bout', 'bow', 'bowel', 'bowen', 'bowfing', 'bowi', 'bowl', 'bowler', 'bowman', 'box', 'boxer', 'boxoffic', 'boy', 'boyc', 'boyd', 'boyfriend', 'boyhood', 'boyish', 'boyishli', 'boyl', 'boymeetsfishandsavesenviron', 'bra', 'brace', 'bracesport', 'brackett', 'brad', 'bradi', 'bradley', 'bradshaw', 'brag', 'braga', 'bragg', 'brahma', 'braid', 'brain', 'brainchild', 'braindamag', 'braindead', 'brainer', 'braini', 'brainiac', 'brainless', 'brainstorm', 'brais', 'brake', 'bram', 'branagh', 'brancato', 'branch', 'brand', 'brandi', 'brandish', 'brando', 'brandon', 'brannagh', 'brannigan', 'brash', 'brass', 'brassi', 'brat', 'bratti', 'bravado', 'brave', 'braveheart', 'braveri', 'bravest', 'bravura', 'brawl', 'brawn', 'braxton', 'brazen', 'brazenli', 'brazil', 'brazilian', 'bread', 'breadandbutt', 'break', 'breakag', 'breakdanc', 'breakdown', 'breakfast', 'breakfastofchampion', 'breakin', 'breakneck', 'breakout', 'breakthrough', 'breakup', 'breast', 'breath', 'breathabl', 'breather', 'breathi', 'breathless', 'breathlessli', 'breathtak', 'breathtakingli', 'breech', 'breed', 'breezi', 'breillat', 'bremer', 'brenda', 'brendan', 'brenna', 'brennan', 'brenner', 'brent', 'bressler', 'brest', 'bret', 'brett', 'brew', 'brewster', 'brian', 'bribe', 'brick', 'bride', 'bridg', 'bridget', 'bridgett', 'bridgeup', 'brief', 'briefcas', 'briefli', 'brien', 'brier', 'brigant', 'brigantin', 'brigg', 'bright', 'brighten', 'brighter', 'brightest', 'brightli', 'brill', 'brillant', 'brillianc', 'brilliant', 'brilliantli', 'brim', 'brimston', 'bring', 'brink', 'brisk', 'brit', 'britain', 'british', 'brittani', 'brittl', 'bro', 'broach', 'broad', 'broadband', 'broadcast', 'broaden', 'broader', 'broadli', 'broadway', 'brock', 'broderick', 'brodi', 'brogu', 'broke', 'brokedown', 'broken', 'brokendown', 'broker', 'brokerag', 'bromley', 'broncobust', 'bronson', 'bronx', 'bronz', 'brood', 'broodwarrior', 'brook', 'brooklyn', 'brothel', 'brother', 'brotherhood', 'brotherli', 'brothermanag', 'brow', 'brown', 'browni', 'brownout', 'bruce', 'bruckheim', 'bruis', 'brunett', 'bruno', 'brunt', 'brush', 'bruskott', 'brussel', 'brutal', 'brute', 'brutish', 'bryan', 'bu', 'bubbi', 'bubbl', 'bubblebath', 'bubblegum', 'buchenwald', 'buck', 'bucket', 'buckl', 'buckley', 'bud', 'buddhism', 'buddi', 'buddyact', 'budget', 'budgetwis', 'budweis', 'bueno', 'buf', 'buff', 'buffalo', 'buffi', 'buffoon', 'buffoonish', 'bug', 'bugsi', 'build', 'builder', 'buildup', 'built', 'bulb', 'bulg', 'bulk', 'bulki', 'bull', 'bulldoz', 'bullet', 'bulletin', 'bulletproof', 'bulletriddl', 'bullhead', 'bullhorn', 'bulli', 'bullock', 'bullsey', 'bullshit', 'bulworth', 'bum', 'bumbl', 'bumfuck', 'bummer', 'bump', 'bumper', 'bumpi', 'bun', 'bunch', 'bundl', 'bunge', 'bungeejump', 'bungl', 'bunker', 'bunni', 'bunyan', 'buoy', 'buoyant', 'burbank', 'burden', 'burdock', 'bureau', 'bureaucraci', 'bureaucrat', 'burgeon', 'burger', 'burgess', 'burglar', 'burglari', 'burgrav', 'buri', 'burial', 'burk', 'burkettsvil', 'burkhardt', 'burli', 'burlier', 'burma', 'burn', 'burnin', 'burnout', 'burnt', 'burp', 'burrel', 'burrough', 'burrow', 'burst', 'burt', 'burton', 'busbi', 'busboy', 'buscemi', 'bush', 'bushmast', 'busi', 'businesslik', 'businessman', 'businessmen', 'businessori', 'businesswoman', 'busload', 'bust', 'buster', 'busti', 'bustier', 'bustl', 'busybodi', 'butch', 'butcher', 'butler', 'butt', 'butter', 'butterfli', 'butterworth', 'butthead', 'buttock', 'button', 'buxom', 'buy', 'buyer', 'buzz', 'buzzsaw', 'bye', 'bygon', 'bylin', 'byrn', 'byron', 'bystand', 'bystanderextra', 'bythenumb', 'ca', 'cab', 'cabal', 'cabaret', 'cabbi', 'cabin', 'cabinet', 'cabinetlevel', 'cabl', 'cabo', 'cabot', 'cach', 'cachet', 'cackl', 'cad', 'caddyshack', 'caesar', 'caf', 'cafe', 'cafeteria', 'caffein', 'cage', 'cahoot', 'cain', 'cajun', 'cake', 'cal', 'calai', 'calamari', 'calamit', 'calcin', 'calcul', 'calculatedli', 'calder', 'cale', 'caleb', 'calendar', 'calf', 'calhoun', 'calib', 'calibr', 'california', 'caligula', 'calisthen', 'call', 'callahan', 'caller', 'callou', 'callous', 'callwait', 'calm', 'calmer', 'calmli', 'calrissian', 'caltran', 'calvert', 'calvin', 'calypsostyl', 'cam', 'camaraderi', 'cambodia', 'camcord', 'came', 'camel', 'camelot', 'camembert', 'cameo', 'camera', 'cameraman', 'camerawork', 'cameron', 'camest', 'camil', 'camp', 'campaign', 'campbel', 'campfir', 'campi', 'campion', 'campu', 'can', 'canaan', 'canada', 'canadian', 'canal', 'canari', 'cancel', 'cancer', 'canceremascul', 'canderday', 'candi', 'candid', 'candidatedirector', 'candl', 'candlelight', 'candor', 'candour', 'candyman', 'cane', 'canin', 'canist', 'cann', 'cannib', 'canning', 'cannon', 'canon', 'cant', 'canter', 'cantones', 'canva', 'canyon', 'cap', 'capabl', 'capac', 'cape', 'caper', 'capit', 'capitalis', 'capitalist', 'capitul', 'capo', 'capon', 'capper', 'cappi', 'capra', 'capshaw', 'capsul', 'capt', 'captain', 'caption', 'captiv', 'captor', 'captur', 'capulet', 'car', 'cara', 'carat', 'caravan', 'carbon', 'carcass', 'card', 'cardboard', 'cardiac', 'cardin', 'cardsharp', 'care', 'careen', 'career', 'careerdefin', 'careermind', 'carefre', 'carefullyconstruct', 'carefullystack', 'careless', 'carelessli', 'caress', 'caretak', 'carey', 'cargo', 'cari', 'caribbean', 'caricatur', 'carjack', 'carl', 'carla', 'carli', 'carlito', 'carlo', 'carlotta', 'carlyl', 'carmel', 'carmen', 'carnag', 'carnal', 'carnegi', 'carniv', 'caro', 'carojeanpierr', 'carol', 'carolin', 'carolina', 'carolyn', 'carom', 'carpent', 'carpet', 'carr', 'carradin', 'carrera', 'carri', 'carriag', 'carrieann', 'carrier', 'carrol', 'carrot', 'carrotcolor', 'carryon', 'carson', 'cart', 'carter', 'cartman', 'carton', 'cartoon', 'cartooni', 'cartoonish', 'cartoonist', 'cartwright', 'caruso', 'carv', 'carver', 'casablanca', 'casanova', 'case', 'casey', 'cash', 'cashier', 'casino', 'cassandra', 'cassanova', 'cassavet', 'casserol', 'cassidi', 'cast', 'castel', 'castig', 'castl', 'castleroy', 'castrat', 'castro', 'casual', 'casualti', 'cat', 'catacomb', 'catalog', 'catalyst', 'catalyz', 'catandmous', 'catapult', 'catastroph', 'cataton', 'catatonia', 'catch', 'catchal', 'catcher', 'catchi', 'catchphras', 'cate', 'categor', 'categori', 'cater', 'caterpillar', 'catfight', 'catharsi', 'cathart', 'catherin', 'cathi', 'cathol', 'catholic', 'catlik', 'catti', 'cattl', 'catwoman', 'caucasian', 'caught', 'cauldron', 'caus', 'caustic', 'cauter', 'caution', 'cautionari', 'cautiou', 'cavalri', 'cavanaugh', 'cave', 'caveman', 'cavern', 'caviezel', 'cavort', 'cayman', 'ceas', 'ceaselessli', 'cecil', 'cecilia', 'cedar', 'ceil', 'celeb', 'celebr', 'celesti', 'celia', 'celibaci', 'celin', 'cell', 'cellar', 'cellist', 'cellmat', 'cello', 'cellophan', 'cellular', 'celluloid', 'cement', 'cemetari', 'cemeteri', 'censor', 'censorship', 'cent', 'centenni', 'center', 'centerfold', 'centerpiec', 'centr', 'central', 'centuri', 'ceo', 'cereal', 'cerebellum', 'cerebr', 'ceremoni', 'certain', 'certainli', 'certif', 'certifi', 'cesar', 'cessat', 'cgi', 'chad', 'chafe', 'chaga', 'chagrin', 'chain', 'chainsaw', 'chainsmok', 'chair', 'chairman', 'chaka', 'chalk', 'challeng', 'challengenot', 'chamber', 'chameleon', 'champ', 'champagn', 'champion', 'championship', 'chan', 'chanc', 'chancellor', 'chandeli', 'chandra', 'chaney', 'chang', 'changeofpac', 'channel', 'chanteus', 'chao', 'chaotic', 'chap', 'chapel', 'chaperon', 'chaplain', 'chaplin', 'chapman', 'chappel', 'chapter', 'charact', 'character', 'characterdefin', 'characterdriven', 'characteris', 'characterist', 'characterori', 'charg', 'chariot', 'charisma', 'charismat', 'charit', 'chariti', 'charl', 'charleston', 'charli', 'charliz', 'charlott', 'charlton', 'charm', 'charmer', 'charmingli', 'charmless', 'charnel', 'charon', 'chart', 'charter', 'chase', 'chasefightshootout', 'chaser', 'chast', 'chastiti', 'chat', 'chateau', 'chatter', 'chauffeur', 'chauvinist', 'chaz', 'cheap', 'cheaper', 'cheapi', 'cheapjack', 'cheapli', 'cheaplook', 'cheapskat', 'cheat', 'cheater', 'chechik', 'check', 'checkout', 'checkpoint', 'cheddar', 'cheech', 'cheek', 'cheeki', 'cheer', 'cheeri', 'cheerili', 'cheerlead', 'chees', 'cheesebal', 'cheesi', 'cheesiest', 'cheesylook', 'cheetah', 'chef', 'chelsea', 'chemic', 'chemistri', 'chen', 'cheng', 'cher', 'cherbourg', 'chere', 'cheri', 'cherish', 'chernobyl', 'cheroke', 'cherri', 'cherryr', 'cheryl', 'chess', 'chesslik', 'chest', 'chester', 'chestnut', 'cheung', 'chevali', 'chevi', 'chew', 'chewbacca', 'chi', 'chic', 'chicago', 'chicaneryrunneth', 'chick', 'chicken', 'chickenbash', 'chidduck', 'chief', 'chiefli', 'chihuahua', 'child', 'childbear', 'childgeniu', 'childhood', 'childish', 'childlik', 'childsupport', 'chili', 'chill', 'chilli', 'chillingli', 'chime', 'chimp', 'chimpanze', 'chin', 'china', 'chinatown', 'chine', 'chineseamerican', 'chino', 'chip', 'chisel', 'chisolm', 'chivalri', 'chloe', 'chock', 'chockful', 'chocol', 'chocolat', 'choderlo', 'choic', 'choir', 'choke', 'cholodenko', 'chomp', 'chon', 'chong', 'choos', 'chop', 'chopper', 'choppi', 'chopsocki', 'chopstick', 'chord', 'chore', 'choreograph', 'choreographi', 'choru', 'chose', 'chosen', 'chow', 'chri', 'chrissi', 'christ', 'christen', 'christi', 'christian', 'christin', 'christina', 'christma', 'christo', 'christofbut', 'christoff', 'christoph', 'chronic', 'chronicl', 'chrono', 'chronolog', 'chrysler', 'chubbi', 'chuck', 'chucki', 'chuckl', 'chucklesom', 'chum', 'chummi', 'chunk', 'church', 'churchth', 'churn', 'chute', 'chutzpah', 'cia', 'ciara', 'cicero', 'cider', 'cigar', 'cigarett', 'cinderella', 'cindi', 'cinema', 'cinemascop', 'cinemat', 'cinematograph', 'cinematographi', 'cinemax', 'cineplex', 'cinnamon', 'cinqu', 'cipher', 'circa', 'circl', 'circu', 'circuit', 'circuitri', 'circul', 'circular', 'circumcis', 'circumst', 'cisco', 'cite', 'citi', 'citifi', 'citizen', 'citybr', 'cityscap', 'civil', 'civilian', 'civilis', 'clack', 'clad', 'claim', 'clair', 'clairvoy', 'clamor', 'clan', 'clanci', 'clapetth', 'clapton', 'claptrap', 'clara', 'clarenc', 'claret', 'clarifi', 'clariti', 'clark', 'clarkson', 'clash', 'class', 'classi', 'classic', 'classier', 'classif', 'classifi', 'classmat', 'classroom', 'clau', 'claud', 'claudia', 'claudiu', 'claus', 'claustrophob', 'claustrophobia', 'claw', 'clay', 'claybourn', 'claymat', 'clayton', 'clea', 'clean', 'cleaner', 'cleanup', 'clear', 'clearcut', 'clearer', 'clearli', 'cleav', 'cleavag', 'cleaver', 'clees', 'clemen', 'clement', 'clench', 'cleopatra', 'cleric', 'clerk', 'cleveland', 'clever', 'cleverli', 'clich', 'click', 'client', 'clientel', 'cliff', 'cliffhang', 'clifford', 'climact', 'climat', 'climax', 'climb', 'cling', 'clinic', 'clint', 'clinton', 'clip', 'cliqu', 'cliquey', 'clive', 'cloak', 'clock', 'clockwork', 'clodhop', 'clone', 'clooney', 'clori', 'close', 'closeknit', 'closemind', 'closer', 'closest', 'closet', 'closeup', 'closur', 'cloth', 'cloud', 'cloudi', 'clout', 'clown', 'cloy', 'club', 'clubber', 'clue', 'clueless', 'clumsi', 'clumsili', 'clunker', 'clunki', 'clutch', 'clutter', 'clyde', 'cmon', 'co', 'coach', 'coachman', 'coal', 'coalfield', 'coalit', 'coalwood', 'coast', 'coastal', 'coaster', 'coastlin', 'coat', 'coattail', 'coax', 'cobbl', 'cobra', 'coburn', 'cocain', 'cochon', 'cochran', 'cocker', 'cocki', 'cockney', 'cockroach', 'cockroachlik', 'cocktail', 'coconspir', 'cocoon', 'cocoontyp', 'cod', 'coddl', 'code', 'codenam', 'codepend', 'codger', 'codi', 'codif', 'coen', 'coenesqu', 'coerc', 'coercion', 'coeur', 'coffe', 'coffey', 'coffin', 'cog', 'cogent', 'coggin', 'cogliostro', 'cognac', 'cohen', 'coher', 'cohes', 'cohort', 'cohost', 'coin', 'coincid', 'coincident', 'coitu', 'coke', 'cokeaddict', 'cokeaddl', 'cokehead', 'col', 'cold', 'coldblood', 'coldheart', 'coldli', 'cole', 'coleman', 'colett', 'coli', 'colin', 'coliseum', 'collabor', 'collag', 'collaps', 'collar', 'collat', 'collater', 'colleagu', 'collect', 'collector', 'colleen', 'colleg', 'collegetown', 'collett', 'collid', 'collin', 'collis', 'colloss', 'colombia', 'colombian', 'colon', 'colonel', 'coloni', 'colonialist', 'colonist', 'color', 'colorado', 'colorless', 'coloss', 'colour', 'colqhoun', 'colton', 'columbia', 'columbian', 'columbin', 'columbo', 'columbu', 'column', 'com', 'coma', 'comatos', 'comb', 'combat', 'combin', 'combo', 'comcoronafilmsdetailssw4', 'come', 'comeback', 'comed', 'comedi', 'comedian', 'comedienn', 'comedyadventur', 'comedydrama', 'comedymysteri', 'comedythril', 'comer', 'comet', 'cometdisast', 'comeupp', 'comfort', 'comic', 'comicallynam', 'comicbook', 'comicgeek', 'comicrelief', 'comingofag', 'comm', 'command', 'commando', 'commemor', 'commenc', 'commend', 'commensur', 'comment', 'commentari', 'commerc', 'commerci', 'commi', 'commiss', 'commission', 'commit', 'committe', 'commod', 'commodu', 'common', 'commonli', 'commonplac', 'commun', 'communist', 'commut', 'compact', 'compadr', 'compani', 'companion', 'compar', 'comparison', 'compart', 'compass', 'compassion', 'compel', 'compendium', 'compens', 'compet', 'competit', 'competitor', 'compil', 'complac', 'complain', 'complaint', 'complement', 'complementari', 'complet', 'completli', 'complex', 'complexion', 'compli', 'complic', 'compliment', 'compon', 'compos', 'composerlyricist', 'composit', 'compound', 'comprehend', 'comprehens', 'compress', 'compris', 'compromis', 'compuls', 'compulsori', 'comput', 'computer', 'computeranim', 'computerdriven', 'computerenhanc', 'computergener', 'computerpart', 'comrad', 'con', 'conan', 'conceal', 'conced', 'conceit', 'conceiv', 'concentr', 'concept', 'conceptu', 'concern', 'concert', 'concerto', 'concis', 'conclud', 'conclus', 'conclusionth', 'concoct', 'concord', 'concret', 'concur', 'concurr', 'concuss', 'condemn', 'condens', 'condescend', 'condit', 'condo', 'condom', 'condomina', 'condominium', 'condon', 'condor', 'conduct', 'conductor', 'conduit', 'confect', 'confer', 'confess', 'confession', 'confid', 'confidenti', 'confin', 'confirm', 'confisc', 'conflict', 'conform', 'confound', 'confront', 'confrontatori', 'confus', 'confusingli', 'congeni', 'conglomer', 'conglomerateshav', 'congo', 'congoles', 'congratul', 'congreg', 'congress', 'congression', 'congressman', 'conjug', 'conjunct', 'conjur', 'conman', 'conn', 'connect', 'connecticut', 'connectthedot', 'connel', 'connelli', 'conner', 'conneri', 'conni', 'conniv', 'connoisseur', 'connor', 'connot', 'conor', 'conquer', 'conquest', 'conrad', 'conscienc', 'consciencedepriv', 'consciencestricken', 'conscienti', 'consciou', 'conscious', 'conscript', 'consecut', 'consensu', 'consent', 'consequ', 'consequenti', 'conserv', 'consid', 'consider', 'consist', 'consol', 'conspicu', 'conspir', 'conspiraci', 'constabl', 'constanc', 'constant', 'constantli', 'constel', 'constitut', 'constitution', 'constraint', 'constrict', 'constru', 'construct', 'constructedharri', 'consul', 'consult', 'consum', 'consumatori', 'consumer', 'consumm', 'consumpt', 'contact', 'contagi', 'contagion', 'contain', 'contamin', 'contempl', 'contempor', 'contemporari', 'contempt', 'contemptu', 'contend', 'content', 'contest', 'context', 'contextu', 'conti', 'contin', 'continu', 'contort', 'contracept', 'contract', 'contractuallyoblig', 'contradict', 'contradictori', 'contrapt', 'contrari', 'contraryaccord', 'contrast', 'contribut', 'contributor', 'contriv', 'control', 'controlfreak', 'controversi', 'convalesc', 'conveni', 'convent', 'convention', 'converg', 'convers', 'conversationheavi', 'convert', 'convey', 'convict', 'convinc', 'convincingli', 'convolut', 'conway', 'coo', 'cook', 'cooki', 'cookiecutt', 'cool', 'coolashel', 'cooler', 'coolest', 'cooli', 'coolidg', 'coolio', 'cooper', 'coordin', 'cop', 'cope', 'copeland', 'cophuntingkil', 'copi', 'copiou', 'copper', 'coppola', 'coproduc', 'copul', 'copybook', 'copycat', 'copyright', 'coquett', 'cora', 'corbin', 'cord', 'cordon', 'core', 'corey', 'corki', 'corleon', 'corman', 'cormanwannab', 'corn', 'cornbal', 'cornel', 'corner', 'cornfield', 'corni', 'cornucopia', 'corolla', 'corp', 'corpor', 'corral', 'correct', 'correctli', 'correl', 'correspond', 'corridor', 'corrupt', 'corruptor', 'cort', 'cortez', 'corusc', 'cosbi', 'cosett', 'cosmic', 'cosmo', 'cosmopolitan', 'cost', 'costa', 'costanza', 'costar', 'costli', 'costner', 'costum', 'cottag', 'cotteril', 'cotton', 'couch', 'cough', 'coughlan', 'could', 'coulda', 'couldnt', 'couldv', 'council', 'councilman', 'counsel', 'counselor', 'count', 'countdown', 'counten', 'counter', 'counterattack', 'counterbalanc', 'countercultur', 'counterexampl', 'counterfeit', 'countermeasur', 'counterpart', 'counterpoint', 'counti', 'countless', 'countri', 'countryman', 'countrysid', 'coup', 'coupl', 'couplet', 'courag', 'courier', 'cours', 'court', 'courteou', 'courtesan', 'courtesi', 'courtney', 'courtroom', 'courtship', 'cousin', 'coven', 'cover', 'coverag', 'covert', 'covertur', 'coverup', 'covet', 'cow', 'cowan', 'coward', 'cowardic', 'cowardli', 'cowboy', 'cowel', 'cower', 'cowgirl', 'cowork', 'cowri', 'cowritten', 'cowrot', 'cox', 'coyot', 'cozi', 'crab', 'crabbi', 'crack', 'crackl', 'cradl', 'craft', 'craftednot', 'crafti', 'craftsman', 'craftsmanship', 'craig', 'cram', 'crane', 'crank', 'cranki', 'crap', 'crappi', 'crash', 'crass', 'crate', 'crave', 'craven', 'crawford', 'crawl', 'craze', 'crazi', 'crazybeauti', 'creaki', 'cream', 'creat', 'creation', 'creativ', 'creator', 'creatur', 'credenti', 'credibl', 'credit', 'credo', 'credul', 'creed', 'creek', 'creep', 'creeper', 'creepi', 'creepier', 'creepsand', 'creepylook', 'cremat', 'creme', 'crescendo', 'crest', 'cretac', 'crevillen', 'crew', 'crewman', 'crewmat', 'crewmemb', 'cri', 'crib', 'crichton', 'cricket', 'crime', 'crimegonewrong', 'crimin', 'crimson', 'cring', 'cringeinduc', 'cringeworthi', 'crippl', 'crise', 'crisi', 'crisp', 'criterion', 'critic', 'criticallyacclaim', 'criticmod', 'critiqu', 'critter', 'croatia', 'croatian', 'croc', 'crochet', 'crock', 'crocodil', 'croft', 'cromagnon', 'cromwel', 'cronenberg', 'cronenbergesqu', 'croni', 'crook', 'crooksposedasphotograph', 'croon', 'crop', 'croquett', 'crosbi', 'cross', 'crosscountri', 'crosscultur', 'crosscut', 'crossdress', 'crossexamin', 'crossgat', 'crossov', 'crossroad', 'crosssect', 'crossword', 'crotch', 'crotcheti', 'crouch', 'croupier', 'crow', 'crowbar', 'crowd', 'crowdpleas', 'crown', 'cru', 'crucial', 'crucibl', 'crucifi', 'crud', 'crude', 'crue', 'cruel', 'cruella', 'cruelli', 'cruelti', 'cruis', 'cruiser', 'crumb', 'crumbl', 'crummi', 'crump', 'crumpl', 'crunch', 'crusad', 'crush', 'crusher', 'crust', 'crusti', 'crutchcarri', 'crux', 'cruz', 'cryofreez', 'cryogen', 'cryotub', 'cryptic', 'crystal', 'cub', 'cuba', 'cuban', 'cube', 'cubicl', 'cuckold', 'cuckoo', 'cuddi', 'cuddl', 'cuddli', 'cue', 'cui', 'cuisin', 'culinari', 'cull', 'cullen', 'culmin', 'culpabl', 'culprit', 'cult', 'cultish', 'cultur', 'cultureclash', 'culturespecif', 'cum', 'cumberland', 'cumbersom', 'cumin', 'cumul', 'cun', 'cunningham', 'cup', 'cur', 'curb', 'curdl', 'cure', 'curio', 'curiou', 'curious', 'curl', 'curli', 'curmudgeon', 'current', 'currentfilm', 'curri', 'cursori', 'curt', 'curtail', 'curtain', 'curtal', 'curti', 'curtli', 'curv', 'curvebal', 'cusp', 'cussword', 'custodi', 'custodian', 'custom', 'customari', 'cut', 'cutback', 'cute', 'cutesi', 'cutest', 'cuti', 'cutout', 'cutter', 'cutthroat', 'cuttingedg', 'cy', 'cybernet', 'cyborg', 'cycl', 'cyclop', 'cylind', 'cynic', 'cynthia', 'cyril', 'cystic', 'czech', 'czechoslovakia', 'da', 'dab', 'dabbl', 'dabo', 'dad', 'daddi', 'dadgum', 'dahl', 'daili', 'daimon', 'dainti', 'dairi', 'daisi', 'dalai', 'dale', 'dalek', 'daley', 'dali', 'dall', 'dalla', 'dalmatian', 'dalton', 'dam', 'damag', 'dame', 'damm', 'damn', 'damnat', 'damnedifyoudo', 'damnedifyoudont', 'damnit', 'damon', 'damp', 'dampen', 'damper', 'damsel', 'dan', 'dana', 'danc', 'dancer', 'dancesong', 'dandi', 'dane', 'dang', 'danger', 'dangereus', 'dangerfield', 'dangl', 'danica', 'daniel', 'danish', 'dank', 'danni', 'dant', 'danver', 'daphn', 'dar', 'darbi', 'darci', 'dare', 'daredevil', 'daresay', 'dario', 'dariu', 'dark', 'darken', 'darker', 'darkest', 'darkli', 'darl', 'darlen', 'darn', 'darrel', 'darren', 'darryl', 'dart', 'darth', 'daryl', 'dash', 'dashboard', 'dastardli', 'data', 'databas', 'datalink', 'date', 'dateunsound', 'daughter', 'daughterinlaw', 'daunt', 'dave', 'davi', 'david', 'davidovich', 'davidson', 'dawkin', 'dawn', 'dawson', 'day', 'daydream', 'dayglo', 'daylewi', 'daylight', 'daytim', 'dayton', 'daytona', 'daze', 'dazzl', 'dazzlingli', 'de', 'dea', 'deacon', 'dead', 'deadbangon', 'deadbeat', 'deaden', 'deadend', 'deadli', 'deadlin', 'deadpan', 'deadset', 'deaf', 'deaki', 'deakin', 'deal', 'dealer', 'dealt', 'dean', 'deanna', 'dear', 'dearli', 'dearth', 'death', 'deathaspitt', 'deathb', 'deathless', 'debacl', 'debat', 'debaucheri', 'debbi', 'debilit', 'debonair', 'deborah', 'debri', 'debt', 'debut', 'debutant', 'decad', 'decalogu', 'decapit', 'decay', 'deceas', 'deceit', 'deceiv', 'decemb', 'decenc', 'decent', 'decept', 'decid', 'decidedli', 'decim', 'deciph', 'decis', 'deck', 'declan', 'declar', 'declin', 'decod', 'deconstruct', 'decor', 'decorum', 'decre', 'decreas', 'decrepit', 'decrimin', 'dedic', 'deduct', 'dee', 'deed', 'deede', 'deedl', 'deejay', 'deem', 'deep', 'deepa', 'deepcor', 'deepen', 'deeper', 'deepest', 'deepli', 'deepspac', 'deepvoic', 'deer', 'default', 'defeat', 'defec', 'defect', 'defend', 'defens', 'defer', 'defi', 'defianc', 'defiantli', 'defici', 'deficit', 'defil', 'defin', 'definit', 'deflow', 'deft', 'deftli', 'defunct', 'defus', 'degen', 'degener', 'degrad', 'degre', 'dehuman', 'deidr', 'deirdr', 'deiti', 'deja', 'dekinai', 'del', 'delacroix', 'delaney', 'delawar', 'delay', 'delect', 'deleg', 'delet', 'delgado', 'delhi', 'delia', 'deliber', 'delic', 'delicaci', 'delicatessen', 'delici', 'delight', 'delilah', 'deliri', 'delirium', 'deliv', 'deliver', 'deliveri', 'delko', 'dell', 'della', 'delmar', 'delud', 'delug', 'delus', 'delusion', 'delv', 'demand', 'demarco', 'demean', 'demeanor', 'demeanour', 'dement', 'dementia', 'demi', 'demis', 'demo', 'democraci', 'democrat', 'demograph', 'demolit', 'demon', 'demoni', 'demonstr', 'demot', 'den', 'deni', 'denial', 'denigr', 'denis', 'denizen', 'denmark', 'denni', 'denomin', 'denot', 'denouement', 'denounc', 'dent', 'dental', 'dentist', 'denton', 'dentro', 'denver', 'denzel', 'depardieu', 'depart', 'departur', 'depend', 'depict', 'deplet', 'deplor', 'deploy', 'depo', 'deport', 'deporte', 'deposit', 'depp', 'deprav', 'depress', 'depressingli', 'depriv', 'depth', 'deputi', 'der', 'derail', 'derang', 'derek', 'derelict', 'derid', 'deriv', 'dern', 'dero', 'derogatori', 'derring', 'descend', 'descent', 'deschanel', 'describ', 'descript', 'desert', 'deserv', 'deservedli', 'desi', 'design', 'desir', 'desire', 'desk', 'desmond', 'desol', 'despair', 'desper', 'desperado', 'despic', 'despis', 'despit', 'despond', 'dessert', 'destin', 'destini', 'destroy', 'destruct', 'detach', 'detail', 'detect', 'detector', 'deter', 'deterg', 'deterior', 'determin', 'detest', 'dethron', 'detour', 'detox', 'detract', 'detractor', 'detriment', 'detritu', 'detroit', 'deu', 'deuc', 'deux', 'devant', 'devast', 'devastatingli', 'develop', 'devereaux', 'devi', 'deviant', 'deviat', 'devic', 'devil', 'devilish', 'devin', 'deviou', 'devious', 'devlin', 'devoid', 'devolv', 'devon', 'devot', 'devote', 'devour', 'devout', 'dewey', 'dewitt', 'dewyey', 'dex', 'dexter', 'dey', 'dharma', 'di', 'diabol', 'diaboliqu', 'diagnos', 'dial', 'dialect', 'dialog', 'dialogu', 'dialogueless', 'diamond', 'dian', 'diana', 'diann', 'diaphragm', 'diari', 'diarrhea', 'diatrib', 'diaz', 'dicaprio', 'dice', 'dichotomi', 'dicillo', 'dick', 'dicken', 'dickinson', 'dickson', 'dictat', 'diction', 'dictionari', 'didact', 'diddli', 'didi', 'didnt', 'die', 'diego', 'diehard', 'dien', 'diesel', 'diet', 'differ', 'differenti', 'difficult', 'difficulti', 'dig', 'digest', 'digg', 'digger', 'digit', 'dignifi', 'dignitari', 'digniti', 'digress', 'dil', 'dilapid', 'dilemma', 'dilig', 'dillon', 'dim', 'dime', 'dimens', 'dimension', 'diminish', 'diminut', 'dimlylit', 'dimwit', 'din', 'dina', 'dine', 'diner', 'dingi', 'dingwal', 'dinki', 'dinner', 'dino', 'dinosaur', 'dinosaurlik', 'dinsmoor', 'dionesqu', 'dionysian', 'dip', 'diplomat', 'dire', 'direct', 'directli', 'director', 'directoractorcowrit', 'directorexecut', 'directori', 'directorscreenwrit', 'directorwrit', 'directtovideo', 'dirk', 'dirt', 'dirti', 'dirtiest', 'dirtytrick', 'disabl', 'disadvantag', 'disaffect', 'disagre', 'disallow', 'disappear', 'disappoint', 'disappointingli', 'disapprov', 'disarm', 'disarmingli', 'disarray', 'disast', 'disastr', 'disbelief', 'disburs', 'disc', 'discard', 'discern', 'discipl', 'disciplin', 'disclaim', 'disclos', 'disclosur', 'disco', 'discombobul', 'discomfort', 'disconcert', 'disconnect', 'discont', 'discord', 'discount', 'discourag', 'discov', 'discoveri', 'discredit', 'discrimin', 'discus', 'disdain', 'diseas', 'disembodi', 'disembowel', 'disench', 'disenfranchis', 'disengag', 'disfigur', 'disgrac', 'disgruntl', 'disguis', 'disgust', 'disgustingli', 'dish', 'dishearten', 'dishmold', 'dishwash', 'disillus', 'disillusion', 'disintegr', 'disinterest', 'disinvit', 'disjoint', 'disk', 'dislik', 'disloc', 'dismal', 'dismay', 'dismemb', 'dismiss', 'disney', 'disneyesqu', 'disneyfi', 'disneyland', 'disobedi', 'disobey', 'disord', 'disori', 'disorient', 'disown', 'dispair', 'dispar', 'dispatch', 'dispens', 'dispers', 'displac', 'display', 'displeasur', 'dispos', 'disposit', 'disput', 'disquiet', 'disregard', 'disrespect', 'disrupt', 'dissapoint', 'dissatisfact', 'dissatisfi', 'dissect', 'dissembl', 'dissimilar', 'dissip', 'dissolv', 'dissuad', 'distanc', 'distant', 'distast', 'distil', 'distinct', 'distinctli', 'distinguish', 'distort', 'distract', 'distractingli', 'distraught', 'distress', 'distribut', 'distributor', 'district', 'distrust', 'disturb', 'disturbingbehavior', 'disturbingli', 'ditch', 'ditti', 'ditto', 'ditzi', 'diva', 'dive', 'diver', 'diverg', 'divert', 'divest', 'divid', 'divin', 'divis', 'divorc', 'divulg', 'divvi', 'dixon', 'dizzi', 'dizzyingli', 'dmitri', 'dna', 'dobey', 'dobi', 'dobson', 'doc', 'dock', 'docket', 'doctor', 'doctrin', 'docudrama', 'document', 'documentari', 'documentarian', 'dodg', 'doe', 'doer', 'doesnt', 'dog', 'dogcatch', 'dogi', 'doglik', 'dogma', 'dogmat', 'doin', 'dolbi', 'dole', 'dolittl', 'doll', 'dollar', 'dollhous', 'dolli', 'dollop', 'dolor', 'dolph', 'dolphin', 'dom', 'domain', 'dome', 'domest', 'domin', 'domingo', 'dominion', 'dominiqu', 'don', 'donald', 'donaldson', 'donat', 'done', 'donkey', 'donna', 'donnel', 'donnelli', 'donner', 'donni', 'donofrio', 'donor', 'donovan', 'dont', 'donthatemeforbeingasimpleton', 'donut', 'doo', 'doodoo', 'doofu', 'doogi', 'doom', 'doomandgloom', 'doomsay', 'door', 'doorman', 'doorstep', 'doorway', 'doozi', 'dope', 'dopedouteyeview', 'dopey', 'dor', 'dora', 'dorado', 'dorft', 'dori', 'dorian', 'dork', 'dorki', 'dorm', 'dormant', 'dorn', 'dornack', 'dorothi', 'dos', 'dosag', 'dose', 'dosent', 'dossier', 'dostoevski', 'dot', 'dotcom', 'dote', 'dotti', 'doubl', 'doublebil', 'doublecamera', 'doublecross', 'doubleduti', 'doubleedg', 'doubleexposur', 'doubleperson', 'doubleteam', 'doublewhammi', 'doubli', 'doubt', 'doubtfir', 'doubtlessli', 'doug', 'dough', 'dougherti', 'dougla', 'dour', 'douriff', 'dous', 'dove', 'dow', 'dowd', 'down', 'downandout', 'downatheel', 'downbeat', 'downer', 'downey', 'downfal', 'downgrad', 'downhil', 'download', 'downonherluck', 'downplay', 'downpour', 'downright', 'downsid', 'downsiz', 'downstair', 'downtoearth', 'downtown', 'downtrodden', 'downward', 'doyl', 'doze', 'dozen', 'drab', 'draco', 'dracula', 'draft', 'drag', 'dragnet', 'dragon', 'dragonfli', 'dragonheart', 'dragonlik', 'drain', 'drainag', 'drake', 'drama', 'dramat', 'drank', 'drape', 'drapehang', 'drastic', 'draw', 'drawback', 'drawbridg', 'drawer', 'drawl', 'drawn', 'dread', 'dream', 'dreamcatch', 'dreami', 'dreamlik', 'dreamscap', 'dreamwork', 'dreamworld', 'dreari', 'dreck', 'dredd', 'drench', 'dress', 'dresser', 'drew', 'dreyfu', 'dreyfus', 'dri', 'drift', 'drifter', 'drill', 'driller', 'drink', 'drip', 'drippi', 'driscol', 'drive', 'drivel', 'driven', 'driver', 'driversrapist', 'driveway', 'drivin', 'drixenol', 'drizzl', 'droid', 'droll', 'drone', 'drool', 'drop', 'dropoff', 'dropout', 'drove', 'drown', 'drug', 'drugaddict', 'druggedout', 'druggi', 'druginduc', 'drugstor', 'drum', 'drumlin', 'drummer', 'drunk', 'drunkard', 'drunken', 'dryer', 'dryland', 'du', 'dual', 'dualiti', 'duan', 'dub', 'dubiou', 'dubya', 'duc', 'duchovni', 'duck', 'duckl', 'duct', 'dud', 'duddi', 'dude', 'dudley', 'due', 'duel', 'duet', 'duffel', 'duffl', 'dug', 'dugan', 'duh', 'dukaki', 'duke', 'dull', 'duller', 'dullest', 'duma', 'dumb', 'dumbass', 'dumbeddown', 'dumber', 'dumbest', 'dumbfound', 'dummi', 'dumont', 'dump', 'duncan', 'dune', 'duneesqu', 'dungeon', 'dunn', 'dunno', 'duo', 'dupe', 'duplic', 'duplicit', 'duquett', 'durabl', 'durat', 'durham', 'durn', 'dushkin', 'dusk', 'dussolli', 'dust', 'dusti', 'dustin', 'dutch', 'duti', 'dutton', 'duval', 'dvdrip', 'dwarf', 'dwarv', 'dwayn', 'dwell', 'dweller', 'dwindl', 'dy', 'dyer', 'dykstra', 'dylan', 'dynam', 'dynamit', 'dynasti', 'dysfunct', 'dystop', 'dzundza', 'ea', 'eachoth', 'eager', 'eagerli', 'eagl', 'eamon', 'ear', 'earl', 'earli', 'earlier', 'earliest', 'earmark', 'earn', 'earnest', 'earnestli', 'earp', 'earth', 'eartha', 'earthi', 'earthl', 'earthli', 'earthlik', 'earthorbit', 'earthquak', 'earthshatt', 'earthward', 'earthworm', 'easi', 'easier', 'easiest', 'easili', 'east', 'easter', 'eastern', 'eastward', 'eastwick', 'eastwood', 'easygo', 'easylisten', 'eat', 'eaten', 'eater', 'ebenez', 'ebola', 'ebouaney', 'eccentr', 'eccleston', 'echelon', 'echo', 'eckhart', 'eclect', 'eclips', 'eclmtcts1', 'ecologist', 'econ', 'econom', 'economi', 'ecstasi', 'ecstat', 'eczema', 'ed', 'eddard', 'eddi', 'eddiedirk', 'eden', 'edg', 'edgar', 'edgecomb', 'edgefield', 'edgemont', 'edgi', 'edi', 'edif', 'edison', 'edit', 'edith', 'editor', 'editori', 'edmund', 'edna', 'edu', 'eduard', 'eduardo', 'educ', 'edward', 'edwin', 'ee', 'eech', 'eek', 'eeri', 'eerili', 'eet', 'effac', 'effect', 'effectivecontribut', 'effectsfil', 'effectsladen', 'effectsload', 'effectu', 'effemin', 'effervesc', 'effici', 'effort', 'effortless', 'effortlessli', 'egan', 'egg', 'egger', 'egghead', 'eggsel', 'ego', 'egocentr', 'egotist', 'egypt', 'egyptian', 'eh', 'eiffel', 'eight', 'eighteen', 'eighteenth', 'eighteenwheel', 'eighth', 'eighti', 'eighttrack', 'eighty', 'eightyear', 'eightyearold', 'eileen', 'eilonwi', 'einer', 'einstein', 'eitel', 'either', 'el', 'elabor', 'elain', 'elbow', 'elder', 'elderli', 'elderman', 'eldest', 'eleanor', 'elect', 'elector', 'electr', 'electrifi', 'electro', 'electrocut', 'electrogreen', 'electron', 'eleg', 'elegantli', 'elegi', 'element', 'elementari', 'elementsearth', 'elena', 'eleph', 'elev', 'eleven', 'eli', 'elia', 'elicit', 'elig', 'elijah', 'elimin', 'elis', 'elisa', 'elisabeth', 'elit', 'elixir', 'eliza', 'elizabeth', 'elk', 'ell', 'ella', 'ellen', 'elli', 'elliot', 'elliott', 'elm', 'elmer', 'elmo', 'elmor', 'elois', 'eloqu', 'elroy', 'elsewher', 'elton', 'elucid', 'elud', 'elus', 'elv', 'elvi', 'elvis', 'elwood', 'em', 'email', 'emascul', 'embarass', 'embark', 'embarrass', 'embarrassingli', 'embassi', 'embed', 'embellish', 'ember', 'embitt', 'emblazon', 'emblemat', 'embodi', 'emboss', 'embrac', 'embri', 'embroid', 'embroil', 'emce', 'emer', 'emerald', 'emerg', 'emerson', 'emigr', 'emil', 'emili', 'emilio', 'emin', 'emir', 'emissari', 'emma', 'emmanuel', 'emmerich', 'emmi', 'emot', 'emotionless', 'empath', 'empathet', 'empathi', 'emperor', 'emphas', 'emphasi', 'emphasis', 'emphat', 'empir', 'employ', 'employe', 'empor', 'empti', 'emptyhead', 'emul', 'en', 'enabl', 'enact', 'enamor', 'encapsul', 'encas', 'enchant', 'enclav', 'enclos', 'encompass', 'encor', 'encount', 'encourag', 'encroach', 'encyclopedia', 'end', 'endang', 'endear', 'endearingli', 'endeavor', 'endless', 'endlessli', 'endo', 'endora', 'endow', 'endsfreud', 'endup', 'endur', 'enemi', 'energ', 'energet', 'energi', 'enforc', 'eng', 'engag', 'engelbrecht', 'engin', 'england', 'english', 'englishdub', 'englishman', 'englishspeak', 'englishwoman', 'engrav', 'engross', 'engulf', 'enhanc', 'enigma', 'enigmat', 'enjoy', 'enlighten', 'enlist', 'enliven', 'enmiti', 'ennio', 'eno', 'enola', 'enorm', 'enough', 'enquir', 'enrag', 'enraptur', 'enrich', 'enrol', 'ensembl', 'enshrin', 'enshroud', 'enslav', 'ensu', 'ensur', 'ent', 'entail', 'entangl', 'entendr', 'enter', 'enterpris', 'enterprisecommand', 'entertain', 'entertainingli', 'entertainmentbuck', 'enthral', 'enthus', 'enthusiasm', 'enthusiast', 'entic', 'entir', 'entireti', 'entiti', 'entitl', 'entomb', 'entrail', 'entranc', 'entrap', 'entrench', 'entrepreneur', 'entri', 'entrust', 'entrylevel', 'envelop', 'envi', 'enviou', 'environ', 'environment', 'environmentalist', 'envis', 'epa', 'ephesian', 'epic', 'epicent', 'epichandsom', 'epidem', 'epigraph', 'epilepsi', 'epilogu', 'epiphani', 'episod', 'episodespatlabor', 'epitom', 'eponym', 'epp', 'epsicokhan', 'epstein', 'equal', 'equallyinnov', 'equalopportun', 'equat', 'equidist', 'equin', 'equinox', 'equip', 'equival', 'er', 'era', 'eraserhead', 'ere', 'eri', 'eric', 'erica', 'erich', 'eriksen', 'erin', 'ernest', 'erni', 'ernst', 'erot', 'erotic', 'erotica', 'err', 'errand', 'errant', 'errat', 'errol', 'error', 'ershon', 'erstwhil', 'erudit', 'erupt', 'escal', 'escap', 'escapad', 'escape', 'escapist', 'eschew', 'escobar', 'escort', 'esmeralda', 'especi', 'espionag', 'esposito', 'espous', 'esquir', 'essay', 'essenc', 'essenti', 'est', 'establish', 'estat', 'esteem', 'estella', 'estevez', 'esther', 'estrang', 'eszterha', 'eszterhasish', 'et', 'etat', 'etc', 'etern', 'ethan', 'ethel', 'ether', 'ethic', 'ethnic', 'ethnocentr', 'etymolog', 'eugen', 'eugenio', 'eunuch', 'euphegenia', 'euphoria', 'europ', 'european', 'eurovamp', 'ev', 'eva', 'evac', 'evacu', 'evad', 'evalu', 'evan', 'evangel', 'evangelist', 'evas', 'eve', 'evelyn', 'even', 'evenhand', 'evenli', 'evennumb', 'event', 'eventu', 'ever', 'everattent', 'everawkward', 'everclear', 'everett', 'everglad', 'evergrow', 'everi', 'everlast', 'everpopular', 'everpres', 'everreli', 'everybodi', 'everyday', 'everyman', 'everyon', 'everyonesgoingtogo', 'everyth', 'everythingandthekitchensink', 'everytim', 'everyweek', 'everywher', 'evict', 'evid', 'evidenc', 'evil', 'evoc', 'evok', 'evolut', 'evolv', 'ewan', 'ewel', 'ewok', 'ex', 'exacerb', 'exact', 'exactli', 'exagger', 'exaggeratedthi', 'exalt', 'exam', 'examin', 'exampl', 'exasper', 'excalibur', 'excav', 'exce', 'exceed', 'exceedingli', 'exceedinglyprofession', 'excel', 'except', 'excerpt', 'excess', 'exchang', 'excit', 'exclaim', 'exclam', 'exclud', 'exclus', 'excom', 'excruci', 'excruciatingli', 'excurs', 'excus', 'exec', 'execr', 'execut', 'execution', 'exemplari', 'exemplifi', 'exercis', 'exert', 'exfil', 'exhaust', 'exhibit', 'exhilar', 'exil', 'exist', 'existenti', 'existenz', 'exit', 'exley', 'exodu', 'exoner', 'exorcis', 'exorcist', 'exot', 'expand', 'expans', 'expansionist', 'expat', 'expatri', 'expect', 'expedi', 'expedit', 'expel', 'expend', 'expens', 'experi', 'experienc', 'experiment', 'expert', 'expertis', 'expertli', 'expir', 'explain', 'explan', 'explet', 'explicit', 'explicitli', 'explod', 'exploit', 'explor', 'exploratori', 'explos', 'expo', 'exponenti', 'export', 'exposit', 'exposur', 'expound', 'express', 'expressionless', 'expressli', 'expuls', 'expurg', 'exquisit', 'exsqueez', 'extend', 'extens', 'extent', 'exterior', 'extermin', 'extern', 'extinct', 'extinguish', 'extort', 'extra', 'extract', 'extracurricular', 'extramarit', 'extran', 'extraordinair', 'extraordinari', 'extraordinarili', 'extraterrestri', 'extravag', 'extravaganza', 'extrem', 'extremist', 'exuber', 'exud', 'exwif', 'exxon', 'eye', 'eyebal', 'eyebrow', 'eyecandi', 'eyecatch', 'eyegrab', 'eyelash', 'eyelevel', 'eyepop', 'fa', 'fabl', 'fablelik', 'fabric', 'fabul', 'facad', 'face', 'facehugg', 'faceless', 'facelift', 'facet', 'faceti', 'facetofac', 'facial', 'facil', 'facilit', 'facinelli', 'fact', 'faction', 'facto', 'factor', 'factori', 'factual', 'faculti', 'fad', 'fade', 'faggot', 'fahrenheit', 'fail', 'failsaf', 'failur', 'faint', 'faintest', 'fair', 'fairer', 'fairfolk', 'fairi', 'fairli', 'fairytal', 'faith', 'faithheal', 'faithless', 'fake', 'faker', 'fakey', 'falcon', 'falk', 'fall', 'fallaci', 'fallen', 'fallon', 'fallout', 'fals', 'falsehood', 'falter', 'fame', 'familar', 'famili', 'familiar', 'familyand', 'familyfriend', 'familyfriendli', 'familyori', 'famou', 'fan', 'fanat', 'fanatic', 'fanbas', 'fanboy', 'fanci', 'fanfar', 'fang', 'fanni', 'fantas', 'fantasi', 'fantasia', 'fantast', 'fanzin', 'far', 'farbissina', 'farc', 'farcic', 'fare', 'farewel', 'farfetch', 'fargo', 'farina', 'farley', 'farm', 'farmboy', 'farmer', 'farmerwizard', 'farmhous', 'farquaad', 'farrah', 'farrel', 'fart', 'farther', 'fascial', 'fascin', 'fascism', 'fascist', 'fashion', 'fast', 'fastempti', 'fasten', 'faster', 'fasterthan', 'fasterthanlight', 'fastest', 'fastforward', 'fastidi', 'fastmot', 'fastmov', 'fastpac', 'fasttalk', 'fat', 'fatal', 'fatboy', 'fate', 'father', 'fatherknowsbest', 'fatherless', 'fatherli', 'fathom', 'fatter', 'fatti', 'fatuou', 'faucet', 'fault', 'faux', 'favor', 'favorit', 'favour', 'favourit', 'fawcett', 'fawn', 'fax', 'fay', 'fbi', 'fealti', 'fear', 'fearless', 'feasibl', 'feast', 'feat', 'feather', 'featherhat', 'featheri', 'featherston', 'featherweight', 'featur', 'featurelength', 'featurett', 'februari', 'fed', 'feder', 'federico', 'fedora', 'fee', 'feebl', 'feebli', 'feed', 'feeder', 'feel', 'feelgood', 'feihong', 'feinberg', 'feisti', 'feldman', 'felic', 'felin', 'felix', 'fell', 'fella', 'fellat', 'fellatio', 'fellini', 'felliti', 'fellow', 'felt', 'femal', 'femin', 'feminin', 'feminist', 'femm', 'femmebutchfemm', 'fenc', 'fend', 'feral', 'ferdinand', 'fergu', 'ferguson', 'fern', 'fernanda', 'fernando', 'feroc', 'feroci', 'ferrari', 'ferrault', 'ferrel', 'ferret', 'ferri', 'fertil', 'fervor', 'fest', 'fester', 'festiv', 'fetch', 'fete', 'fetish', 'fetishist', 'feud', 'feudal', 'fever', 'feverish', 'feverishli', 'fewer', 'fflewdurr', 'fianc', 'fiance', 'fiasco', 'fibr', 'fibrosi', 'fiction', 'fictionesqu', 'fictiti', 'fiddl', 'fide', 'fidel', 'fiefdom', 'field', 'fierc', 'fieri', 'fierstein', 'fieryhair', 'fiesti', 'fifteen', 'fifth', 'fifti', 'fiftieth', 'fifty', 'fiftythre', 'figaro', 'fight', 'fighter', 'figueroa', 'figur', 'figurewatch', 'fiji', 'file', 'filipino', 'fill', 'filler', 'fillinginthegap', 'fillmor', 'film', 'filmcrit', 'filmfeihong', 'filmgoer', 'filmhannib', 'filmic', 'filmmak', 'filmnoir', 'filmographi', 'filmor', 'filmtwic', 'filmwithinafilm', 'filter', 'filthi', 'final', 'financ', 'financi', 'financiallystrap', 'finch', 'find', 'fine', 'finelycraft', 'finer', 'finest', 'finger', 'fingernail', 'fingerprint', 'fingertip', 'fini', 'finish', 'fink', 'finland', 'finn', 'finnegan', 'finney', 'finski', 'fiona', 'fire', 'firearm', 'firebal', 'firebird', 'firebreath', 'firecrack', 'firefight', 'fireman', 'fireplac', 'firepow', 'firestorm', 'firework', 'firkin', 'firm', 'firmer', 'firmli', 'first', 'firstclass', 'firstev', 'firsthand', 'firstli', 'firstproduc', 'firsttim', 'firth', 'fischer', 'fish', 'fishbon', 'fisher', 'fisherman', 'fishi', 'fishoutofwat', 'fist', 'fistfight', 'fit', 'fitzgerald', 'fitzpatrick', 'five', 'fiveminut', 'fiveyear', 'fix', 'fixtur', 'fizzl', 'fla', 'flag', 'flail', 'flair', 'flake', 'flaki', 'flamboy', 'flamboyantli', 'flame', 'flamingo', 'flanagan', 'flander', 'flank', 'flanneri', 'flap', 'flare', 'flash', 'flashback', 'flashbang', 'flashdanc', 'flasher', 'flashi', 'flashiest', 'flashynewth', 'flat', 'flatland', 'flatli', 'flatlin', 'flatlywritten', 'flatter', 'flatul', 'flaunt', 'flavor', 'flavour', 'flaw', 'flawless', 'flawlessli', 'flea', 'fleabag', 'fled', 'fledgl', 'flee', 'fleet', 'fleeth', 'fleetingli', 'fleme', 'flemish', 'flesh', 'fleshandblood', 'flesheat', 'fleshedout', 'fletch', 'fletcher', 'flew', 'flex', 'flexibl', 'fli', 'flick', 'flight', 'flighti', 'flik', 'flimsi', 'fling', 'flint', 'flip', 'flippant', 'flipper', 'flirt', 'flirtat', 'flirtati', 'flit', 'float', 'flock', 'flood', 'floor', 'floorboard', 'flop', 'floppi', 'flore', 'florenc', 'florentino', 'florida', 'floridaset', 'florist', 'flounder', 'flourish', 'flow', 'flower', 'flowershop', 'flown', 'floyd', 'flu', 'flubber', 'fluff', 'fluffi', 'fluid', 'fluidli', 'fluke', 'fluro', 'flurri', 'flush', 'fluster', 'flutist', 'flyblown', 'flynn', 'flyover', 'foam', 'focal', 'focu', 'focus', 'fodder', 'foe', 'fog', 'foggi', 'foggiest', 'foibl', 'foil', 'foist', 'fold', 'foley', 'folk', 'folklor', 'follow', 'followup', 'fond', 'fondest', 'fondl', 'fong', 'font', 'fontain', 'foo', 'food', 'fool', 'foolish', 'foolishli', 'foot', 'footag', 'footbal', 'footloos', 'footmassag', 'footnot', 'footprint', 'footstep', 'fop', 'foppish', 'foran', 'foray', 'forb', 'forbid', 'forbidden', 'forc', 'forcook', 'ford', 'fore', 'forebod', 'forecast', 'foredoom', 'forefront', 'forego', 'foreground', 'forehead', 'foreign', 'foreman', 'foremost', 'forens', 'foreplay', 'forese', 'foreshadow', 'foresight', 'forest', 'foretast', 'forev', 'forewarn', 'forfiv', 'forg', 'forget', 'forgett', 'forgiv', 'forgiven', 'forgot', 'forgotten', 'fork', 'form', 'formal', 'forman', 'format', 'former', 'formerli', 'formid', 'formul', 'formula', 'formulawis', 'forrest', 'forster', 'forsyt', 'forsyth', 'fort', 'forth', 'forthcom', 'forthright', 'forti', 'fortitud', 'fortnight', 'fortress', 'fortun', 'forty', 'forum', 'forward', 'foster', 'fought', 'foul', 'foulmouth', 'foultemp', 'found', 'foundat', 'founder', 'foundri', 'fountain', 'four', 'fourlett', 'foursom', 'fourteen', 'fourteenth', 'fourth', 'fowl', 'fox', 'foxi', 'foxx', 'foyer', 'fozzi', 'fraction', 'fractur', 'fragil', 'fragment', 'fragmentari', 'frail', 'frake', 'frame', 'framework', 'fran', 'franc', 'francesca', 'franchis', 'franci', 'francin', 'francisco', 'franciscobas', 'franco', 'francoi', 'frank', 'franken', 'frankenheim', 'frankenstein', 'frankensteinfilm', 'frankfurt', 'franki', 'frankli', 'franklin', 'frantic', 'franz', 'franzin', 'fraser', 'frasier', 'frat', 'fratern', 'frau', 'fraud', 'fraught', 'fray', 'freak', 'freaki', 'freakish', 'fred', 'freddi', 'frederick', 'free', 'freed', 'freedom', 'freelanc', 'freeli', 'freeman', 'freespirit', 'freeway', 'freewheel', 'freez', 'freighter', 'fremen', 'french', 'frenchcanadian', 'frenchi', 'frenchman', 'frenet', 'frenzi', 'frequenc', 'frequent', 'fresh', 'fresher', 'freshest', 'freshfac', 'freshman', 'fret', 'freud', 'fri', 'frick', 'frickin', 'friction', 'friday', 'fridg', 'friedman', 'friend', 'friendli', 'friendship', 'frigginnobi', 'fright', 'frighten', 'frighteningli', 'frigid', 'frill', 'fring', 'frisco', 'friski', 'fritz', 'frivol', 'frizzi', 'fro', 'frock', 'frog', 'frolic', 'frolick', 'front', 'frontag', 'frontal', 'frontier', 'frost', 'froth', 'frothi', 'frown', 'frozen', 'fruit', 'fruitcak', 'fruition', 'fruitless', 'frumpi', 'frustrat', 'fu', 'fuck', 'fuckin', 'fuddyduddi', 'fuel', 'fuent', 'fugit', 'fugli', 'fuhrer', 'fulcrum', 'fulfil', 'full', 'fullcircl', 'fuller', 'fullest', 'fullfledg', 'fullforc', 'fullfront', 'fulli', 'fulllength', 'fullspe', 'fulltim', 'fullyanim', 'fullycloth', 'fullyr', 'fumbl', 'fume', 'fun', 'function', 'fund', 'fundament', 'fundamentalist', 'fundrais', 'funer', 'fungu', 'funhous', 'funk', 'funki', 'funkiest', 'funlov', 'funnel', 'funner', 'funnest', 'funni', 'funnier', 'funniest', 'funnyman', 'funnyth', 'fur', 'furi', 'furiou', 'furious', 'furlong', 'furnac', 'furnish', 'furnitur', 'furri', 'furrow', 'further', 'furthermor', 'furtwangl', 'fury161', 'fuse', 'fusion', 'fuss', 'futil', 'futileattempt', 'futur', 'futurist', 'futuristiclook', 'fuzzi', 'ga', 'gab', 'gabbi', 'gabe', 'gabi', 'gabl', 'gabriel', 'gabriela', 'gabriella', 'gadget', 'gadgetfil', 'gaelic', 'gaeta', 'gaff', 'gag', 'gaga', 'gail', 'gain', 'gait', 'gal', 'gala', 'galact', 'galactica', 'galaxi', 'gale', 'galileo', 'gallagh', 'gallantri', 'galleri', 'gallian', 'gallon', 'gallop', 'gallow', 'galor', 'gambl', 'gambler', 'gambol', 'game', 'gamesmanship', 'gamut', 'gandolfini', 'gang', 'gangbang', 'gangbust', 'gangland', 'gangsta', 'gangster', 'gangsterflick', 'gantri', 'ganz', 'gap', 'gape', 'gara', 'garafolo', 'garag', 'garbag', 'garbageman', 'garbl', 'garcia', 'garden', 'garfield', 'garfunkel', 'gargantuan', 'gargoyl', 'gari', 'garish', 'garland', 'garlic', 'garment', 'garner', 'garofalo', 'garofolo', 'garrett', 'garri', 'garth', 'gas', 'gase', 'gasmask', 'gasolin', 'gasolinefil', 'gasp', 'gate', 'gateway', 'gather', 'gator', 'gatorwrestl', 'gaudi', 'gaudier', 'gaug', 'gaulthier', 'gave', 'gavin', 'gawker', 'gay', 'gaz', 'gaze', 'gazel', 'gazer', 'gazillion', 'gbatokai', 'gear', 'gecko', 'gedda', 'gee', 'geek', 'geeki', 'geena', 'geez', 'geezer', 'geisha', 'gel', 'gellar', 'geller', 'gem', 'gen', 'gena', 'gender', 'genderbend', 'gene', 'gener', 'genesi', 'genet', 'geneticist', 'geneva', 'geneviev', 'geni', 'genial', 'genit', 'geniu', 'genius', 'genr', 'genreiknowwhatyoudidlastsumm', 'gent', 'gentil', 'gentl', 'gentleman', 'gentler', 'gentlewoman', 'gentli', 'genu', 'genuin', 'genus', 'geoff', 'geoffrey', 'geograph', 'geographi', 'geolog', 'geordi', 'georg', 'georgia', 'georgina', 'gerald', 'geraldo', 'gerard', 'gerber', 'gere', 'geri', 'geriatr', 'germ', 'german', 'germani', 'germanwest', 'germaphob', 'gerri', 'gershwin', 'gertrud', 'gestat', 'gestur', 'get', 'getaway', 'getout', 'getthrough', 'getti', 'gettin', 'getto', 'gettogeth', 'getup', 'gevedon', 'geyser', 'ghastli', 'ghetto', 'ghettoiz', 'ghost', 'ghostbust', 'ghostfac', 'ghostli', 'ghostlik', 'ghoul', 'ghoulish', 'gi', 'giacomo', 'giallo', 'giamatti', 'giancarlo', 'giant', 'giantscreen', 'gibb', 'gibberish', 'gibbon', 'gibson', 'giddi', 'giddili', 'gielgud', 'gif', 'gift', 'gig', 'gigant', 'giggl', 'gigi', 'gigolo', 'gil', 'gilbert', 'gile', 'gill', 'gillian', 'gilligan', 'gilmor', 'gilroy', 'gimmick', 'gimmicki', 'gina', 'ginger', 'gingerbread', 'gingerli', 'gingrich', 'ginseng', 'giorgio', 'giosue9', 'giovanni', 'girl', 'girlcrazi', 'girlfriend', 'girlish', 'girlongirl', 'gish', 'gist', 'git', 'giusepp', 'give', 'giveaway', 'given', 'gizmo', 'gizzard', 'glad', 'gladi', 'gladiat', 'gladli', 'gladston', 'glam', 'glamor', 'glamour', 'glanc', 'glare', 'glaringli', 'glass', 'glassyey', 'glaze', 'gleam', 'glean', 'glee', 'gleeful', 'gleefulli', 'glen', 'glenda', 'glengarri', 'glenglenda', 'glenn', 'glib', 'glide', 'glimmer', 'glimps', 'glisten', 'glitter', 'glitz', 'glitzi', 'global', 'globe', 'globetrot', 'gloom', 'gloomi', 'glori', 'gloria', 'glorifi', 'gloriou', 'glorious', 'glorystar', 'gloss', 'glossi', 'glove', 'glover', 'glow', 'glu', 'glue', 'glum', 'glut', 'gluttoni', 'gnarl', 'go', 'goad', 'goal', 'goat', 'goate', 'gob', 'gobbl', 'gobbledegook', 'goblin', 'god', 'godard', 'godaw', 'goddam', 'goddamn', 'goddard', 'goddaught', 'goddess', 'godfath', 'godfathertrilog', 'godforsaken', 'godfrey', 'godless', 'godli', 'godlik', 'godzilla', 'goe', 'goer', 'goggl', 'gogo', 'goingon', 'goir', 'gold', 'goldberg', 'goldblum', 'golden', 'goldeney', 'goldens', 'goldi', 'goldman', 'goldmin', 'goldsmith', 'goldstarv', 'goldstein', 'golf', 'golli', 'gollum', 'gomorrah', 'gon', 'gone', 'gong', 'gonzo', 'goo', 'good', 'goodal', 'goodbi', 'goodby', 'gooder', 'goodfella', 'goodheart', 'goodi', 'goodlook', 'goodman', 'goodnatur', 'goodnight', 'goodnotgreat', 'goodspirit', 'gooey', 'goof', 'goofbal', 'goofi', 'goofier', 'googli', 'goombah', 'goon', 'goop', 'goran', 'gorbachev', 'gord', 'gordi', 'gordo', 'gordon', 'gordonlevitt', 'gore', 'gorgeou', 'gori', 'goriest', 'gorilla', 'gorman', 'goro', 'gosh', 'gospel', 'gossip', 'gossipi', 'got', 'gotcha', 'goth', 'gotham', 'gothic', 'gotten', 'goug', 'gould', 'gourmet', 'govern', 'government', 'governor', 'gra', 'grab', 'grace', 'gracious', 'grad', 'grade', 'grader', 'gradi', 'gradient', 'gradisca', 'gradual', 'graduat', 'graduationspecif', 'graffiti', 'graft', 'graham', 'grail', 'grain', 'graini', 'grammar', 'grammer', 'grammi', 'grand', 'grandchild', 'granddaddi', 'granddaught', 'grander', 'grandest', 'grandeur', 'grandfath', 'grandios', 'grandma', 'grandmoth', 'grandpa', 'grandpar', 'grandson', 'granger', 'granit', 'granni', 'grant', 'grape', 'graph', 'graphic', 'grappl', 'grasp', 'grass', 'grasshopp', 'grate', 'gratifi', 'gratuit', 'gratuiti', 'grave', 'gravedigg', 'graveston', 'graveyard', 'graviti', 'gray', 'grayscal', 'grayston', 'graze', 'graziella', 'greas', 'greaser', 'greasi', 'great', 'greater', 'greatest', 'greatli', 'greatlook', 'greed', 'greedi', 'green', 'greener', 'greeneri', 'greenfing', 'greenhous', 'greenleaf', 'greenlight', 'greenlit', 'greenway', 'greenwood', 'greer', 'greeson', 'greet', 'greg', 'gregg', 'gregor', 'gregori', 'gregorio', 'gremlin', 'grenkowitz', 'greta', 'gretchen', 'gretest', 'grew', 'grey', 'greyhound', 'grief', 'griefstricken', 'grier', 'griev', 'grievanc', 'grievou', 'griffin', 'griffith', 'grifter', 'grill', 'grim', 'grimac', 'grimi', 'grimli', 'grimmest', 'grin', 'grinch', 'grind', 'grinder', 'grindhous', 'grip', 'gripe', 'grisli', 'grissom', 'griswold', 'grit', 'gritti', 'grizzl', 'grizzli', 'groan', 'groceri', 'groeteschel', 'groin', 'gromit', 'groom', 'groov', 'groovi', 'gross', 'grossest', 'grotesqu', 'grouch', 'grouchi', 'grouchland', 'ground', 'groundbreak', 'groundhog', 'groundwork', 'group', 'grouptherapi', 'grove', 'grovel', 'grow', 'growl', 'grown', 'grownup', 'grownupsthi', 'growth', 'grubbi', 'grudg', 'grudgingli', 'gruesom', 'gruff', 'gruffudd', 'grumbl', 'grump', 'grumpi', 'grumpier', 'grungi', 'grunt', 'gu', 'guarante', 'guard', 'guardian', 'guaspari', 'gucci', 'guerilla', 'guerra', 'guerrilla', 'guess', 'guest', 'guffaw', 'guggenheim', 'gui', 'guid', 'guidanc', 'guidelin', 'guido', 'guil', 'guild', 'guildenstern', 'guilderian', 'guildmand', 'guillermo', 'guillotin', 'guilt', 'guilti', 'guiltili', 'guiltypleasur', 'guin', 'guinea', 'guinever', 'guitar', 'guitarist', 'guitarplay', 'gulf', 'gullet', 'gullibl', 'gulliv', 'gulp', 'gum', 'gump', 'gumption', 'gun', 'gunfight', 'gunfir', 'gunga', 'gungan', 'gunk', 'gunman', 'gunneri', 'gunplay', 'gunpoint', 'gunrunn', 'gunshot', 'gunston', 'guru', 'gush', 'gusto', 'gut', 'gutbust', 'gutierrez', 'gutsi', 'guttenberg', 'gutwrench', 'guy', 'guzman', 'gwen', 'gwyneth', 'gwythant', 'gyllenha', 'gym', 'gymnasium', 'gymnast', 'gynecologist', 'gynecomastia', 'gypsi', 'gyrat', 'ha', 'haa', 'habanero', 'habit', 'habitat', 'hack', 'hacker', 'hackmod', 'hackney', 'hadda', 'hade', 'hadnt', 'hagakur', 'haggard', 'haha', 'hai', 'hail', 'hailstorm', 'hair', 'hairbrush', 'haircut', 'hairdo', 'hairdress', 'hairi', 'hairlik', 'hairobsess', 'hairstyl', 'hairstylist', 'haissam', 'hal', 'haley', 'half', 'halfa', 'halfalien', 'halfasleep', 'halfback', 'halfbak', 'halfbroth', 'halfdecad', 'halfdigest', 'halfdozen', 'halfexpect', 'halfheart', 'halfheartedli', 'halfhour', 'halfjokingli', 'halfman', 'halfmillion', 'halford', 'halfstar', 'halfstarv', 'halfvampir', 'halfway', 'halfwit', 'hall', 'halli', 'halliwel', 'hallmark', 'halloway', 'halloween', 'halloweentown', 'hallucin', 'hallucinatori', 'hallucinogen', 'hallucinogenfuel', 'hallway', 'halpern', 'halt', 'halv', 'ham', 'hamburg', 'hamhand', 'hamilton', 'hamlet', 'hamm', 'hammer', 'hammi', 'hammond', 'hamper', 'hampshir', 'hamster', 'han', 'hancock', 'hand', 'handblown', 'handbook', 'handcuf', 'handcuff', 'handdeliv', 'handdrawn', 'handed', 'handel', 'handful', 'handgun', 'handheld', 'handi', 'handicap', 'handili', 'handinhand', 'handl', 'handler', 'handphon', 'handsom', 'handsomest', 'handswash', 'handtohand', 'handyman', 'hang', 'hangar', 'hanger', 'hangman', 'hangout', 'hanim', 'hank', 'hannah', 'hannib', 'hanoi', 'hanov', 'hansel', 'hanson', 'haphazard', 'hapless', 'happen', 'happi', 'happier', 'happiest', 'happili', 'happygolucki', 'happyyet', 'har', 'hara', 'harass', 'harbor', 'hard', 'hardass', 'hardback', 'hardboil', 'hardcor', 'harden', 'harder', 'hardest', 'hardfor', 'hardhead', 'hardhit', 'hardi', 'hardli', 'hardman', 'hardnos', 'hardpress', 'hardriv', 'hardship', 'hardtofind', 'hardtoget', 'hardwar', 'hardwork', 'harebrain', 'harford', 'hark', 'harken', 'harker', 'harkonnen', 'harland', 'harlem', 'harm', 'harmless', 'harmon', 'harmoni', 'harmonica', 'harold', 'harp', 'harper', 'harrass', 'harri', 'harridan', 'harrier', 'harriet', 'harrington', 'harrisburg', 'harrison', 'harrow', 'harsh', 'harsher', 'harshest', 'harshli', 'hart', 'hartley', 'hartleyian', 'hartman', 'harvard', 'harvest', 'harvey', 'hasan', 'hasbeen', 'hashbrown', 'hashish', 'hasid', 'hasnt', 'hassl', 'hast', 'hasta', 'hasten', 'hastili', 'hat', 'hatch', 'hatcher', 'hatchet', 'hate', 'hater', 'hath', 'hatr', 'hatti', 'haughti', 'haul', 'haunt', 'hauser', 'hauteur', 'havent', 'havilland', 'havisham', 'havoc', 'hawaii', 'hawala', 'hawk', 'hawkin', 'hawthorn', 'hay', 'hayakawa', 'hayashi', 'hayley', 'hayn', 'haysbert', 'haywir', 'hazard', 'haze', 'hazel', 'hazi', 'hbo', 'he', 'head', 'headach', 'headacheinduc', 'headandshould', 'headbop', 'headcount', 'header', 'headhunt', 'headi', 'headin', 'headingbut', 'headless', 'headlin', 'headlong', 'headphon', 'headquart', 'headscratch', 'headstrong', 'headtohead', 'heal', 'heali', 'health', 'healthi', 'healyloui', 'heap', 'hear', 'heard', 'hearken', 'heart', 'heartach', 'heartbreak', 'heartbroken', 'heartfelt', 'hearti', 'heartili', 'heartless', 'heartpound', 'heartstr', 'heartthrob', 'heartwarm', 'heartwrench', 'heartwrenchingli', 'heat', 'heath', 'heather', 'heaven', 'heavenli', 'heavi', 'heavier', 'heavili', 'heavilyarm', 'heavilybespectacl', 'heavyhand', 'heavymet', 'heavyweight', 'hebrew', 'heck', 'heckerl', 'heckl', 'hectic', 'hector', 'hed', 'hedg', 'hedonist', 'hedwig', 'hee', 'heebiejeebi', 'heed', 'heede', 'heel', 'heer', 'heft', 'hefti', 'heh', 'heifer', 'height', 'heighten', 'heil', 'heimlich', 'heinlein', 'heinou', 'heir', 'heiress', 'heisenberg', 'heist', 'held', 'helen', 'helena', 'helfgott', 'helgeland', 'helgenberg', 'helicopt', 'helium', 'helix', 'hell', 'hellbent', 'hellish', 'hello', 'hellrais', 'helluva', 'helm', 'helmer', 'helmerscript', 'helmet', 'help', 'helper', 'helpless', 'hemant', 'hemispher', 'hen', 'henc', 'henceforth', 'henchman', 'henderson', 'hendrix', 'henley', 'henna', 'hennessey', 'henri', 'henrickson', 'hensleigh', 'henslow', 'henson', 'henstridg', 'her', 'herald', 'herb', 'herbal', 'herbert', 'herbi', 'herc', 'hercul', 'herd', 'here', 'hereaft', 'herein', 'herel', 'heresi', 'heret', 'heretofor', 'herfor', 'heritag', 'herkyjerki', 'herman', 'hermaphrodit', 'hermet', 'hermit', 'hermitlik', 'hermosa', 'hernandez', 'hero', 'heroic', 'heroin', 'heroinaddict', 'heroinesariel', 'heroism', 'heron', 'hershey', 'hershman', 'herskovitz', 'hertz', 'hertzfeld', 'herwith', 'herzog', 'hese', 'hesit', 'hesitantli', 'hess', 'hessian', 'hester', 'heston', 'heterosexu', 'hewitt', 'hey', 'heyday', 'hi', 'hiatu', 'hick', 'hickey', 'hid', 'hidden', 'hide', 'hideaway', 'hideo', 'hideou', 'hideous', 'hideout', 'hierarchi', 'hieroglyph', 'high', 'highcalori', 'highconcept', 'highcultur', 'highenergi', 'higher', 'highest', 'highestgross', 'highfli', 'highgross', 'highheel', 'highland', 'highlevel', 'highli', 'highlight', 'highlin', 'highlypopul', 'highlyr', 'highpitch', 'highpow', 'highpric', 'highpriest', 'highprofil', 'highschool', 'highsocieti', 'highspirit', 'highstak', 'highstrung', 'hightech', 'highway', 'hijack', 'hijink', 'hike', 'hilar', 'hilari', 'hill', 'hillari', 'hillbilli', 'hilt', 'himherself', 'himl', 'hinder', 'hindranc', 'hindu', 'hinein', 'hing', 'hinki', 'hint', 'hinterland', 'hip', 'hiphop', 'hippest', 'hippi', 'hippo', 'hipster', 'hire', 'hirono', 'hiroshi', 'hiroshima', 'hirschfeld', 'hishertheir', 'hispan', 'hiss', 'histor', 'histori', 'historian', 'histrion', 'hit', 'hitandmiss', 'hitch', 'hitchcock', 'hitchcockian', 'hitchhik', 'hither', 'hitler', 'hitman', 'hitter', 'hiv', 'hive', 'ho', 'hoari', 'hoax', 'hobb', 'hobbi', 'hobbit', 'hobbl', 'hockey', 'hodg', 'hodgepodg', 'hoenick', 'hoffman', 'hog', 'hogan', 'hogarth', 'hognos', 'hoist', 'hoke', 'hokey', 'hokeylook', 'hokum', 'holbrook', 'hold', 'holden', 'holder', 'holdsbar', 'holdup', 'hole', 'holeinthewal', 'holi', 'holiday', 'holidaygo', 'holidaymak', 'holland', 'holli', 'holliday', 'hollow', 'holloway', 'hollywood', 'holm', 'holocaust', 'holograph', 'homag', 'home', 'homecom', 'homeland', 'homeless', 'homemad', 'homer', 'homeroom', 'homestead', 'hometown', 'homework', 'homeworld', 'homey', 'homicid', 'homili', 'homoerot', 'homogen', 'homophob', 'homosexu', 'honcho', 'honda', 'hone', 'honest', 'honesti', 'honestli', 'honestpoliticianrar', 'honey', 'honeymoon', 'hong', 'honk', 'honor', 'honorari', 'honour', 'hontou', 'hood', 'hoodlum', 'hook', 'hooker', 'hookey', 'hookladen', 'hooligan', 'hoop', 'hooper', 'hoopla', 'hoosier', 'hoot', 'hootworthi', 'hoov', 'hoover', 'hop', 'hope', 'hopeless', 'hopelessli', 'hopkin', 'hopper', 'hor', 'horatio', 'hord', 'horizon', 'horizont', 'hormon', 'hormonallyadvantag', 'horn', 'horndog', 'horni', 'horrend', 'horribl', 'horrid', 'horrif', 'horrifi', 'horrifyingli', 'horrock', 'horror', 'horrorcomedi', 'horrordrama', 'horrorfan', 'hors', 'horseback', 'horsedrawn', 'horseman', 'horseshit', 'hortens', 'hosanna', 'hose', 'hoshii', 'hoskin', 'hospit', 'host', 'hostag', 'hostil', 'hot', 'hotandcold', 'hotb', 'hotblood', 'hotcak', 'hotchner', 'hotel', 'hotenoughtomeltrubb', 'hotfudgerockin', 'hotlin', 'hotmail', 'hotshot', 'hottemp', 'hotter', 'hottest', 'hotti', 'hound', 'hour', 'hourandahalf', 'hous', 'houseboat', 'houseguest', 'household', 'housekeep', 'houseman', 'housewif', 'houston', 'houyhnhnm', 'hover', 'how', 'howard', 'howev', 'howi', 'howitz', 'howl', 'howler', 'howser', 'hoyl', 'hubbard', 'hubbi', 'hubbub', 'hubert', 'hubot', 'huckster', 'huddl', 'huddleston', 'hudson', 'hudsuck', 'hue', 'huf', 'huff', 'hug', 'huge', 'hugger', 'hugh', 'hugo', 'huh', 'hulk', 'hull', 'hum', 'human', 'humanalien', 'humanist', 'humanitarian', 'humankind', 'humanli', 'humanlik', 'humanoid', 'humbl', 'humdrum', 'humid', 'humili', 'humor', 'humorist', 'humorless', 'humour', 'humourless', 'hump', 'humpback', 'humphrey', 'humphri', 'hun', 'hunch', 'hunchback', 'hundr', 'hundredyearold', 'hung', 'hungari', 'hungarian', 'hunger', 'hungri', 'hunk', 'hunkahunka', 'hunki', 'hunt', 'hunter', 'huntingburg', 'huntington', 'hurdl', 'huri', 'hurl', 'hurley', 'hurlyburli', 'hurri', 'hurrican', 'hurt', 'hurtl', 'husband', 'hush', 'hustl', 'hustler', 'hutchinson', 'hutt', 'hutton', 'huxley', 'hy', 'hyberborean', 'hyberboreansw', 'hybrid', 'hyde', 'hydepierc', 'hydra', 'hydraul', 'hydrophobia', 'hygien', 'hymn', 'hyne', 'hype', 'hyper', 'hyperact', 'hyperbol', 'hypercolor', 'hyperkinet', 'hypersleep', 'hyperspe', 'hypertens', 'hypnot', 'hypnotis', 'hypochondriac', 'hypocrisi', 'hypocrit', 'hypoderm', 'hypothesi', 'hypothet', 'hyster', 'hysteria', 'iambic', 'ian', 'ibn', 'ice', 'iceberg', 'icebound', 'icecor', 'icecream', 'ichabod', 'ici', 'icki', 'icon', 'iconoclast', 'id', 'idaho', 'idea', 'ideal', 'idealist', 'ideia', 'ident', 'identif', 'identifi', 'ideolog', 'idioci', 'idiom', 'idiosyncrasi', 'idiosyncrat', 'idiot', 'idl', 'idler', 'idli', 'idol', 'idontknowwhen', 'idyl', 'ie', 'iffi', 'ifl', 'ig', 'iggi', 'iggyesuq', 'iglesia', 'ignit', 'ignor', 'ignorantli', 'igor', 'iguana', 'ihr', 'ii', 'iii', 'ikea', 'iknow', 'ilk', 'ill', 'illadvis', 'illconceiv', 'illeg', 'illegitim', 'illicit', 'illicitli', 'illinoi', 'illiter', 'illog', 'illtemp', 'illtim', 'illumin', 'illus', 'illustr', 'illustri', 'ilona', 'ilsa', 'ilya', 'im', 'imag', 'imageri', 'imagethat', 'imagin', 'imaginari', 'imaginationand', 'imam', 'imbecil', 'imbu', 'imdb', 'imf', 'imhavingamidlifecrisi', 'imhotep', 'imit', 'immacul', 'immaculatelywhit', 'immatur', 'immeasur', 'immedi', 'immens', 'immers', 'immigr', 'immin', 'immor', 'immort', 'immun', 'impact', 'impair', 'impal', 'impart', 'impass', 'impati', 'impecc', 'impedi', 'impend', 'impenetr', 'imperfect', 'imperi', 'imperson', 'impertin', 'impetu', 'impish', 'implant', 'implaus', 'implement', 'impli', 'implic', 'implicit', 'implicitli', 'implod', 'implor', 'import', 'importantli', 'impos', 'imposs', 'impot', 'impoverish', 'impregn', 'impresario', 'impress', 'impression', 'impressionist', 'imprison', 'improb', 'impromptu', 'improp', 'improv', 'improvis', 'impuls', 'impun', 'in', 'inabl', 'inaccur', 'inact', 'inadequ', 'inadequaci', 'inadvert', 'inan', 'inanim', 'inappropri', 'inargu', 'inauspici', 'inbetween', 'inbr', 'inc', 'incalcul', 'incap', 'incapacit', 'incarcer', 'incarn', 'incarnationsgraph', 'incendiari', 'incens', 'incent', 'incess', 'incessantli', 'incest', 'incestu', 'inch', 'incid', 'incident', 'incis', 'incit', 'inclin', 'includ', 'includedwish', 'inclus', 'incognito', 'incoher', 'incom', 'incompar', 'incompet', 'incomplet', 'incomprehens', 'incongru', 'inconsequenti', 'inconsist', 'incorpor', 'incorrect', 'incorrectli', 'increas', 'increasingli', 'increasinglyflimsi', 'increasinglyflust', 'incred', 'incredul', 'incrimin', 'incumb', 'incur', 'inde', 'indec', 'indecipher', 'indefinantli', 'indel', 'independ', 'independentmind', 'indescrib', 'indestruct', 'indetermin', 'index', 'indi', 'india', 'indian', 'indiana', 'indianapoli', 'indic', 'indict', 'indiffer', 'indigen', 'indigest', 'indign', 'indignantli', 'indistinct', 'indistinguish', 'individu', 'individualunderdog', 'indoctrin', 'indol', 'indoor', 'induc', 'induct', 'indulg', 'industri', 'industrialist', 'inebri', 'ineff', 'ineffect', 'ineffectu', 'inelegantli', 'inept', 'ineptitud', 'inevit', 'inexcus', 'inexor', 'inexpens', 'inexperi', 'inexperienc', 'inexplic', 'inextric', 'infal', 'infam', 'infami', 'infant', 'infantil', 'infantri', 'infatu', 'infect', 'infecti', 'infer', 'inferior', 'inferno', 'infertil', 'infest', 'infidel', 'infiltr', 'infinit', 'infinitum', 'inflat', 'inflect', 'inflict', 'influenc', 'influenti', 'info', 'infomerci', 'inform', 'infrar', 'infrequ', 'infuri', 'infus', 'ing', 'ingeni', 'ingenu', 'ingest', 'ingmar', 'ingolstadt', 'ingrain', 'ingredi', 'ingrid', 'inhabit', 'inhal', 'inher', 'inherit', 'inhibit', 'inhuman', 'inimit', 'init', 'initi', 'inject', 'injur', 'injuri', 'injustic', 'inkeep', 'inki', 'inkl', 'inkpot', 'inland', 'inlaw', 'inmat', 'inn', 'innat', 'inner', 'inning', 'innoc', 'innocentlook', 'innocu', 'innocuousenoughonthesurfac', 'innov', 'innuendo', 'innumer', 'inoffens', 'inopportun', 'input', 'inquir', 'inquiri', 'inquisit', 'insan', 'insati', 'inscrut', 'insect', 'insectopia', 'insecur', 'insensit', 'insepar', 'insert', 'insid', 'insidi', 'insight', 'insignific', 'insincer', 'insinu', 'insipid', 'insist', 'insomnia', 'insomniac', 'insouci', 'inspect', 'inspector', 'inspir', 'instal', 'instanc', 'instant', 'instantan', 'instantli', 'instead', 'instig', 'instil', 'instinct', 'institut', 'instruct', 'instructor', 'instrument', 'insubstanti', 'insuffer', 'insuffici', 'insul', 'insular', 'insult', 'insultingli', 'insur', 'insurmount', 'insurrect', 'intact', 'intang', 'integr', 'intellect', 'intellectu', 'intellectuallychalleng', 'intellig', 'intend', 'intens', 'intensifi', 'intent', 'inter', 'interact', 'interc', 'intercept', 'interchang', 'interconnected', 'intercours', 'intercut', 'interdimension', 'interest', 'interestingli', 'interfac', 'interfer', 'intergalact', 'interior', 'interlink', 'interlud', 'intermediari', 'intermin', 'intermingl', 'intermiss', 'intermitt', 'intern', 'internet', 'internett', 'interperson', 'interplay', 'interpret', 'interraci', 'interrel', 'interrog', 'interrotron', 'interrupt', 'interschool', 'intersect', 'interspeci', 'interspers', 'interstellar', 'interstiti', 'intertwin', 'interv', 'interven', 'intervent', 'interview', 'interviewe', 'interweav', 'intestin', 'intim', 'intimaci', 'intimid', 'intoler', 'intox', 'intrepid', 'intric', 'intricaci', 'intrigu', 'intriguingli', 'intrins', 'intro', 'introduc', 'introduct', 'introductori', 'introspect', 'introvert', 'introvertboyfallsforextrovertgirl', 'intrud', 'intrus', 'intuit', 'inund', 'invad', 'invalid', 'invari', 'invas', 'invent', 'inventor', 'invest', 'investig', 'investor', 'invigor', 'invinc', 'invis', 'invit', 'invoc', 'invok', 'involuntari', 'involv', 'ioan', 'iodin', 'ion', 'iota', 'iowa', 'iowan', 'ipo', 'iq', 'ir', 'ira', 'iran', 'iranian', 'irat', 'ire', 'ireland', 'iren', 'iri', 'iridesc', 'irish', 'irishitalian', 'irishman', 'irk', 'iron', 'ironclad', 'ironi', 'ironsid', 'irrat', 'irration', 'irrelev', 'irrepar', 'irrepress', 'irresist', 'irrespons', 'irrever', 'irrevoc', 'irrit', 'irritatingli', 'irv', 'irvin', 'irwin', 'isaac', 'isabel', 'isabella', 'isaiah', 'ishibashi', 'isl', 'isla', 'islam', 'island', 'isnt', 'isol', 'isolation', 'isolationist', 'isra', 'israel', 'issu', 'issuesnam', 'issuether', 'istvan', 'it', 'itali', 'italian', 'italoamerican', 'itami', 'itchi', 'itd', 'item', 'ith', 'itiner', 'itll', 'ito', 'itsaholocaustfilm', 'itsaspielbergfilm', 'itselfbox', 'itselfwhat', 'iv', 'ivan', 'ivana', 'ive', 'ivi', 'ivori', 'jab', 'jabba', 'jack', 'jackal', 'jackalbas', 'jackass', 'jacket', 'jackhol', 'jacki', 'jackinthebox', 'jackman', 'jackpot', 'jackson', 'jacob', 'jacobi', 'jacqu', 'jacquelin', 'jada', 'jade', 'jag', 'jah', 'jai', 'jail', 'jailbreak', 'jailhous', 'jak', 'jake', 'jakob', 'jam', 'jamaica', 'jamaican', 'jamal', 'jame', 'jamey', 'jami', 'jan', 'jane', 'janet', 'janett', 'janevski', 'janey', 'jani', 'janin', 'janitor', 'janitori', 'jansen', 'januari', 'japan', 'japanes', 'japanesespecif', 'jar', 'jare', 'jareau', 'jarmusch', 'jarvi', 'jasmin', 'jason', 'jaunt', 'javert', 'javier', 'jaw', 'jawbreak', 'jawdrop', 'jawdroppingli', 'jay', 'jazz', 'jazzi', 'jealou', 'jealous', 'jealousi', 'jean', 'jeanclaud', 'jeanett', 'jeanhugu', 'jeanluc', 'jeanluk', 'jeanmarc', 'jeann', 'jeanpaul', 'jeanpierr', 'jeb', 'jedi', 'jee', 'jeep', 'jeeper', 'jeer', 'jeez', 'jeff', 'jefferson', 'jeffrey', 'jeffri', 'jekyl', 'jelli', 'jello', 'jen', 'jena', 'jenkin', 'jenna', 'jenni', 'jennif', 'jeopard', 'jeopardi', 'jeopardis', 'jeremi', 'jeremiah', 'jericho', 'jerk', 'jerki', 'jerom', 'jerri', 'jersey', 'jess', 'jessi', 'jessica', 'jester', 'jesu', 'jet', 'jeter', 'jetlin', 'jetpack', 'jettison', 'jeun', 'jew', 'jewel', 'jewelri', 'jewish', 'jiff', 'jiggl', 'jill', 'jillian', 'jilt', 'jim', 'jimi', 'jimmi', 'jing', 'jingl', 'jingoalltheway', 'jinni', 'jiro', 'jitter', 'jitteri', 'jive', 'jivetalk', 'jo', 'joan', 'joanna', 'joaquin', 'job', 'jobless', 'jobto', 'jocelyn', 'jock', 'jockey', 'jocki', 'jocular', 'jodi', 'joe', 'joel', 'joeli', 'joey', 'joff', 'jog', 'johanssen', 'john', 'johnathan', 'johnni', 'johnson', 'johnsongreg', 'johnston', 'join', 'joint', 'jojo', 'joke', 'joker', 'jokey', 'jokingli', 'joli', 'jolli', 'jolt', 'jon', 'jona', 'jonathan', 'jone', 'jonni', 'joon', 'jordan', 'jordana', 'josef', 'joseph', 'josh', 'joshua', 'josi', 'joss', 'jour', 'journal', 'journalist', 'journey', 'joust', 'jovi', 'jovial', 'joy', 'joyless', 'joyou', 'joyrid', 'joystick', 'juan', 'juba', 'jubile', 'juda', 'judd', 'jude', 'judg', 'judgejuryand', 'judgement', 'judgeship', 'judgment', 'judi', 'judith', 'judo', 'judson', 'jug', 'juggernaut', 'juggl', 'juic', 'juici', 'jukebox', 'jule', 'juli', 'julia', 'julialoui', 'julian', 'juliann', 'juliet', 'juliett', 'julio', 'juliu', 'jumanji', 'jumbl', 'jumbo', 'jump', 'jumpi', 'jumprop', 'jun', 'junction', 'junctur', 'june', 'jungian', 'jungl', 'juni', 'junior', 'junk', 'junket', 'junki', 'junkyard', 'jurass', 'jurgi', 'juri', 'jurisdict', 'juror', 'justic', 'justif', 'justifi', 'justin', 'justino', 'justli', 'justreleas', 'juvenil', 'juxtapos', 'juxtaposit', 'kafka', 'kafkaesqu', 'kahlan', 'kahn', 'kahuna', 'kai', 'kak', 'kala', 'kamen', 'kamikaz', 'kamil', 'kamp', 'kane', 'kaneshiro', 'kang', 'kangsheng', 'kanin', 'kansa', 'kaplan', 'kara', 'karaok', 'karaokebas', 'karaszewski', 'karat', 'karatechop', 'karelian', 'karen', 'kari', 'karin', 'karl', 'karla', 'karloff', 'karma', 'karo', 'kasa', 'kat', 'katana', 'katarina', 'kate', 'katherin', 'kathi', 'kathleen', 'kathryn', 'kati', 'katrina', 'katzenberg', 'kaufman', 'kay', 'kaya', 'kayla', 'kazantzaki', 'ke', 'kean', 'keanu', 'keaton', 'keebler', 'keegan', 'keel', 'keeli', 'keen', 'keener', 'keenli', 'keep', 'keeper', 'keiko', 'keith', 'kel', 'keller', 'kelley', 'kelli', 'kellogg', 'kelsey', 'kemp', 'ken', 'kendal', 'kennedi', 'kennesaw', 'kenneth', 'kenni', 'kensington', 'kent', 'kentucki', 'kept', 'kerchak', 'kermit', 'kernel', 'kerr', 'kerri', 'kessler', 'ketchum', 'ketchup', 'kev', 'kevin', 'kevlar', 'kewl', 'kewpi', 'key', 'keyboard', 'keyser', 'khan', 'khanna', 'khondji', 'ki', 'kibosh', 'kick', 'kickass', 'kicker', 'kickin', 'kickoff', 'kickthealiensass', 'kid', 'kidd', 'kiddi', 'kiddieori', 'kiddieporn', 'kidnap', 'kidnapp', 'kidnapransom', 'kidney', 'kiefer', 'kieran', 'kieslowski', 'kihlstedt', 'kiki', 'kilgor', 'kill', 'killer', 'killerswithheart', 'killorbekil', 'kilometr', 'kilronan', 'kim', 'kimbap', 'kimberli', 'kimbl', 'kimmi', 'kincaid', 'kind', 'kinda', 'kinder', 'kindergarten', 'kindest', 'kindheart', 'kindli', 'kindr', 'kinet', 'king', 'kingdom', 'kinginspir', 'kingpin', 'kingsley', 'kingston', 'kink', 'kinki', 'kinkier', 'kinsella', 'kinship', 'kip', 'kirbi', 'kirk', 'kirkland', 'kirkpatrick', 'kirsten', 'kiss', 'kisser', 'kit', 'kitchen', 'kite', 'kitschi', 'kitt', 'kitten', 'kitti', 'klan', 'klau', 'klein', 'kleinfeld', 'klendathu', 'klingon', 'klitorski', 'klutz', 'klutzi', 'klux', 'knack', 'knee', 'kneejerk', 'knell', 'knew', 'knick', 'knife', 'knifewield', 'knight', 'knive', 'knob', 'knock', 'knockoff', 'knockout', 'knot', 'know', 'knowingli', 'knowledg', 'known', 'knox', 'knuckl', 'knucklehead', 'kob', 'koch', 'koenig', 'koji', 'komo', 'kong', 'kooki', 'korea', 'korean', 'korngold', 'korra', 'kosovo', 'kosta', 'koufax', 'kowtow', 'kraft', 'kraftwerk', 'krajeski', 'kramer', 'kretschmann', 'kri', 'krippendorf', 'kristen', 'kristi', 'kristin', 'kristofferson', 'krone', 'kronor', 'krueger', 'kruger', 'krumholtz', 'krypton', 'krzysztof', 'ku', 'kuan', 'kubrick', 'kudo', 'kueimei', 'kung', 'kungfu', 'kuosmanen', 'kuraishi', 'kurosawa', 'kurt', 'kurtz', 'kusari', 'kuzco', 'kyle', 'kyzynskistyl', 'la', 'lab', 'label', 'labor', 'laboratori', 'labori', 'laborsinclud', 'labour', 'labyrinth', 'labyrinthian', 'labyrinthin', 'lace', 'lacey', 'lachlan', 'lack', 'lackadais', 'lacklust', 'lacklustr', 'lacomb', 'lacon', 'lacross', 'lad', 'ladder', 'ladeedah', 'laden', 'ladi', 'ladybug', 'laert', 'laforg', 'lag', 'lagoon', 'lagravenes', 'laguna', 'lahor', 'laid', 'lair', 'lake', 'lakesid', 'lam', 'lama', 'lamb', 'lambda', 'lambert', 'lame', 'lamebrain', 'lament', 'lamest', 'lampoon', 'lanai', 'lanc', 'lancelot', 'land', 'landau', 'landi', 'landladi', 'landlord', 'landmark', 'lando', 'landon', 'landscap', 'lane', 'lang', 'langdon', 'languag', 'languid', 'languidli', 'lanki', 'lansquenet', 'lap', 'lapaglia', 'lapd', 'laptop', 'lar', 'lara', 'larch', 'larg', 'largebreast', 'larger', 'largerthanlif', 'largerthem', 'largest', 'larissa', 'lark', 'larri', 'larsen', 'larson', 'lasagna', 'laser', 'laserdisc', 'laserfilm', 'lash', 'lass', 'last', 'lastditch', 'lastli', 'lastminut', 'lastnight', 'lastyear', 'laszlo', 'latalant', 'latch', 'late', 'latent', 'later', 'latest', 'latex', 'latin', 'latina', 'latrin', 'latter', 'latterli', 'laud', 'laudabl', 'laugh', 'laughabl', 'laughandgrossfest', 'laugher', 'laughless', 'laughomet', 'laughoutloud', 'laught', 'laughter', 'launch', 'laundri', 'laura', 'lauranc', 'lauren', 'laurenc', 'laurensylvia', 'lauri', 'lava', 'lavend', 'lavish', 'lavishlydecor', 'law', 'lawman', 'lawn', 'lawnmow', 'lawrenc', 'lawsuit', 'lawton', 'lawyer', 'lawyerfix', 'lawyerintrain', 'lawyerli', 'lax', 'laxativeinduc', 'lay', 'layer', 'layoff', 'layout', 'lazard', 'lazer', 'lazi', 'laziest', 'le', 'lea', 'lead', 'leaden', 'leader', 'leadership', 'leaf', 'leagu', 'leaguer', 'leak', 'lean', 'leann', 'leap', 'leapfrog', 'leari', 'learn', 'least', 'leather', 'leatherfac', 'leatherhead', 'leav', 'leavin', 'lebanes', 'lebesco', 'leblanc', 'lebowski', 'lech', 'lecher', 'lecheri', 'lecter', 'lectur', 'led', 'ledger', 'lee', 'leech', 'leela', 'leep', 'leer', 'leeri', 'left', 'lefti', 'leftov', 'leg', 'legaci', 'legal', 'legend', 'legendari', 'legendsthos', 'legion', 'legisl', 'legitim', 'legitimaci', 'legless', 'leguizamo', 'leguiziamo', 'lehman', 'leia', 'leigh', 'leila', 'leisur', 'lela', 'leland', 'lem', 'lemay', 'lemon', 'len', 'lena', 'lend', 'lender', 'length', 'lengthen', 'lengthi', 'leni', 'lenient', 'lenni', 'lennox', 'lens', 'lent', 'leo', 'leon', 'leonard', 'leonardo', 'leonid', 'leopard', 'leplastri', 'lerner', 'lesbian', 'lesbo', 'lesli', 'lesqu', 'lessen', 'lesser', 'lesson', 'lessthan', 'lessthangratifi', 'lessthanstellar', 'lest', 'lestat', 'lester', 'lestercorp', 'let', 'letdown', 'lethal', 'letharg', 'lether', 'letsputonashow', 'letter', 'letterbox', 'letterman', 'letterperfect', 'leukemia', 'levar', 'level', 'lever', 'leverag', 'levi', 'leviathan', 'levin', 'levinson', 'leviti', 'lewi', 'lex', 'lez', 'lfe', 'lhren', 'li', 'lia', 'liabl', 'liaison', 'liam', 'lian', 'liao', 'liar', 'lib', 'libbi', 'liber', 'liberti', 'libido', 'librari', 'librarian', 'licenc', 'licens', 'lick', 'lid', 'lie', 'lieberman', 'lien', 'lieu', 'lieuten', 'life', 'lifeaffirm', 'lifeboat', 'lifeform', 'lifeless', 'lifelik', 'lifelin', 'lifelong', 'lifeordeath', 'lifesav', 'lifespan', 'lifestyl', 'lifethreaten', 'lifetim', 'lift', 'light', 'lighten', 'lighter', 'lightest', 'lightheart', 'lightli', 'lightn', 'lightsab', 'lightweight', 'lightyear', 'likabl', 'like', 'likeabl', 'likeit', 'likelihood', 'liken', 'likewis', 'likingdislik', 'lil', 'lili', 'lilian', 'lillian', 'limb', 'limbo', 'limecolor', 'limelight', 'limey', 'limit', 'limitless', 'limo', 'limousin', 'limp', 'limpwrist', 'lin', 'linc', 'lincoln', 'linda', 'lindbergh', 'lindo', 'lindsay', 'lindsey', 'line', 'linear', 'lineback', 'liner', 'lineup', 'ling', 'linger', 'lingeri', 'link', 'linklat', 'linnet', 'linoleum', 'linwood', 'lion', 'lionel', 'lionheart', 'lioniz', 'lip', 'lipnicki', 'lipstick', 'lipsynch', 'lipton', 'liquefi', 'liquid', 'liquor', 'lisa', 'lisbon', 'liscinski', 'lisp', 'list', 'listen', 'listless', 'lit', 'litani', 'lite', 'liter', 'literari', 'literatur', 'litho', 'litter', 'littl', 'littlebit', 'littleknown', 'littleseen', 'littlest', 'liu', 'liv', 'live', 'liveact', 'liveactiondisney', 'livein', 'liveli', 'livelihood', 'liven', 'liverpool', 'livestock', 'livingston', 'liz', 'lizard', 'lizzi', 'll', 'llama', 'llena', 'llewelyn', 'lloyd', 'lo', 'load', 'loaf', 'loan', 'loath', 'loathsom', 'lob', 'lobbi', 'lobotomi', 'lobster', 'local', 'locat', 'lock', 'locker', 'locket', 'lockstep', 'lockup', 'locust', 'lodg', 'lodger', 'loeb', 'loft', 'lofti', 'log', 'logan', 'loggia', 'logic', 'logo', 'lohan', 'loi', 'loiter', 'loki', 'lola', 'lolita', 'lollipop', 'loman', 'lomax', 'lombard', 'lon', 'london', 'lone', 'loneli', 'loner', 'lonesom', 'long', 'longabandon', 'longawait', 'longbaugh', 'longer', 'longest', 'longev', 'longhair', 'longhamp', 'longingli', 'longoverdu', 'longrun', 'longshank', 'longstand', 'longstreet', 'longsuff', 'longsuppress', 'longterm', 'longtim', 'longwind', 'loo', 'look', 'lookalik', 'looker', 'lookey', 'looklik', 'lookout', 'loom', 'loomi', 'looney', 'looni', 'loop', 'loophol', 'loopi', 'loosecannon', 'loot', 'looter', 'lope', 'lopez', 'lopsid', 'loquaci', 'lord', 'lore', 'loren', 'lorenz', 'lorenzo', 'loretta', 'lori', 'lorrain', 'lorri', 'lose', 'loser', 'loss', 'lost', 'lot', 'lott', 'lotta', 'lotteri', 'lotto', 'lou', 'loud', 'louder', 'loudest', 'loudli', 'loudmouth', 'loui', 'louie', 'louis', 'louisa', 'louisiana', 'loung', 'louse', 'lousi', 'lout', 'loutish', 'lovabl', 'love', 'loveabl', 'lovehewitt', 'loveinterest', 'lovejoy', 'lovel', 'loveless', 'loveliest', 'lovelorn', 'lovemak', 'lover', 'lovesick', 'lovestruck', 'lovett', 'lovin', 'lovingli', 'low', 'lowbrow', 'lowbudget', 'lowdown', 'lowel', 'lower', 'lowercas', 'lowermiddl', 'lowest', 'lowland', 'lowli', 'lowlif', 'lowliv', 'lowqual', 'lowtech', 'loyal', 'loyalti', 'lsland', 'lu', 'luc', 'luca', 'lucasfilm', 'luchino', 'luci', 'luciano', 'lucid', 'lucilla', 'lucinda', 'lucio', 'luck', 'lucki', 'luckili', 'lucr', 'lude', 'ludicr', 'ludwig', 'luedek', 'luggag', 'lugosi', 'luhrmann', 'lui', 'luka', 'luke', 'lukewarm', 'lull', 'lumber', 'lumen', 'lumin', 'lump', 'lumpi', 'lumumba', 'lunaci', 'lunat', 'lunch', 'luncheon', 'lundgren', 'lung', 'lungi', 'lurch', 'lure', 'lurid', 'lurk', 'lusciou', 'lush', 'lust', 'luster', 'lusti', 'luther', 'lutz', 'luxuri', 'ly', 'lydia', 'lyle', 'lynch', 'lyndon', 'lyndsey', 'lynn', 'lyric', 'lyricist', 'lysterin', 'maa', 'mabe', 'mabel', 'mac', 'macabr', 'macaulay', 'macaw', 'macdonald', 'macdowel', 'macelli', 'macfadyen', 'macgowan', 'macguffin', 'mach', 'machet', 'machin', 'machina', 'machinegun', 'machinelik', 'machineri', 'machismo', 'macho', 'maci', 'mack', 'mackenzi', 'mackey', 'maclachlan', 'maclean', 'macleod', 'macpherson', 'mad', 'mada', 'madam', 'madcap', 'maddalena', 'madden', 'maddeningli', 'maddi', 'maddog', 'maddox', 'made', 'madefortv', 'madeforvideo', 'madeira', 'madelein', 'madelin', 'mademoisel', 'madeup', 'madigan', 'madison', 'madli', 'madman', 'madonna', 'madrid', 'mae', 'maelstrom', 'maestro', 'mafia', 'mafioso', 'magadi', 'magazin', 'magda', 'maggi', 'magherini', 'magic', 'magician', 'magma', 'magnat', 'magnet', 'magnifi', 'magnific', 'magnitud', 'magnolia', 'magnu', 'magnum', 'magoo', 'magrud', 'maguir', 'mah', 'mahal', 'mahoney', 'mahou', 'mai', 'maid', 'maiden', 'maidserv', 'mail', 'mailman', 'main', 'mainland', 'mainli', 'mainstay', 'mainstream', 'maintain', 'mainten', 'maior', 'majest', 'major', 'maka', 'make', 'makeout', 'makeov', 'maker', 'makeshift', 'makeup', 'makin', 'maladjust', 'malais', 'malaysia', 'malcolm', 'malcom', 'malcovich', 'male', 'malevol', 'malform', 'malfunct', 'malibu', 'malic', 'malici', 'malick', 'malkovich', 'mall', 'malleabl', 'mallori', 'malloy', 'mallrat', 'malnourish', 'malon', 'malori', 'malroux', 'mama', 'mame', 'mammoth', 'mamoru', 'man', 'manag', 'manchurian', 'mandala', 'mandat', 'mandatori', 'mandel', 'mandela', 'mandi', 'mandibl', 'mandingo', 'mandolin', 'maneuv', 'manga', 'mangl', 'manhattan', 'manhol', 'manhood', 'manhunt', 'mani', 'mania', 'maniac', 'manic', 'manicdepress', 'manicur', 'manifest', 'manifold', 'manilow', 'manipul', 'mankiewicz', 'mankind', 'manli', 'manmad', 'mann', 'mannequin', 'manner', 'manni', 'manor', 'mansfield', 'mansion', 'manslaught', 'manson', 'mantelpiec', 'manti', 'mantl', 'mantra', 'mantralik', 'manual', 'manufactur', 'manuscript', 'map', 'mapl', 'mar', 'mara', 'marabout', 'marathon', 'marc', 'marceau', 'marcello', 'marcellu', 'march', 'marci', 'marcia', 'marco', 'marcu', 'margaret', 'margin', 'mari', 'maria', 'mariah', 'marian', 'mariann', 'marielaur', 'marienbadm', 'marienth', 'marietta', 'marijuana', 'marilyn', 'marin', 'marina', 'mario', 'marion', 'marisa', 'marisol', 'marit', 'marita', 'mariu', 'mark', 'markedli', 'marker', 'market', 'marketplac', 'markham', 'marki', 'markov', 'marla', 'marley', 'marlin', 'marlo', 'marlon', 'marlow', 'maroney', 'maroon', 'marque', 'marqui', 'marrakech', 'marri', 'marriag', 'marrow', 'marsden', 'marseil', 'marsellu', 'marsha', 'marshal', 'marshmallow', 'martha', 'marti', 'martial', 'martialart', 'martian', 'martin', 'martinez', 'martyr', 'marvel', 'marvin', 'marx', 'marxist', 'maryann', 'maryland', 'masahitko', 'masala', 'mascara', 'mascot', 'masculin', 'mask', 'masoch', 'masochist', 'mason', 'masquerad', 'mass', 'massachusett', 'massacr', 'massag', 'massaron', 'masseur', 'masseus', 'massiv', 'massmarket', 'mast', 'master', 'masteri', 'mastermind', 'masterpiec', 'masterwork', 'masturb', 'masturbatori', 'matador', 'match', 'matchmak', 'mate', 'materi', 'materialist', 'matern', 'math', 'mathemat', 'mathematician', 'matheson', 'mathew', 'mathild', 'mathilda', 'matilda', 'matine', 'matriarch', 'matrimoni', 'matrix', 'matron', 'matronli', 'matsumoto', 'matt', 'matter', 'matteroffact', 'matteroffactli', 'matthew', 'matti', 'matur', 'matzo', 'maud', 'maudlin', 'maul', 'maura', 'maureen', 'mauri', 'mauric', 'mav', 'maverick', 'mawkish', 'max', 'maxi', 'maxim', 'maximilian', 'maximillian', 'maximu', 'maximum', 'maxin', 'maxwel', 'may', 'maya', 'mayb', 'mayergoodman', 'mayhem', 'mayhew', 'maynard', 'mayo', 'mayor', 'maze', 'mcallist', 'mcbride', 'mccabe', 'mccall', 'mccann', 'mccarthi', 'mcclane', 'mcclellan', 'mcclure', 'mcconaughey', 'mccormick', 'mccoy', 'mcdermott', 'mcdiarmid', 'mcdonald', 'mcdonnough', 'mcdonough', 'mcdormand', 'mcellon', 'mcfarlan', 'mcgee', 'mcgill', 'mcgoohan', 'mcgowan', 'mcgraw', 'mcgregor', 'mcguir', 'mckenna', 'mckinley', 'mckinney', 'mcmanu', 'mcmullenstyl', 'mcnamara', 'mcnaughton', 'mcneal', 'mcneil', 'mcquarri', 'mcqueen', 'mcteer', 'mctiernan', 'mead', 'meager', 'meal', 'mean', 'meander', 'meaner', 'meanest', 'meani', 'meaning', 'meaningless', 'meanspirit', 'meanspirited', 'meant', 'meantim', 'meanwhil', 'measur', 'measureless', 'meat', 'meati', 'meatier', 'meatloaf', 'mecca', 'mech', 'mechan', 'med', 'medal', 'meddl', 'mediamanipul', 'medic', 'medicalgrossout', 'medicin', 'mediev', 'mediocr', 'medit', 'medium', 'medley', 'meek', 'meet', 'meg', 'mega', 'megaadvertis', 'megabudget', 'megalomaniac', 'megalopoli', 'megan', 'megastar', 'megaton', 'megatron', 'mehrjui', 'meier', 'mein', 'mel', 'melanchol', 'melancholi', 'melang', 'melani', 'meld', 'melinda', 'melissa', 'mellish', 'mellow', 'melodi', 'melodrama', 'melodramat', 'melon', 'melros', 'melt', 'melvin', 'member', 'membership', 'memento', 'memoir', 'memor', 'memorabilia', 'memori', 'memphi', 'men', 'mena', 'menac', 'menacelabor', 'menag', 'menageatroi', 'menageri', 'mend', 'mendoza', 'menial', 'menkendavid', 'ment', 'mental', 'mentalpati', 'mention', 'mento', 'mentor', 'mentorship', 'menu', 'merced', 'mercenari', 'merchandis', 'merchant', 'merci', 'merciless', 'mercilessli', 'mercuri', 'mere', 'merg', 'merick', 'merienbad', 'merit', 'meritori', 'merl', 'merlin', 'mermaid', 'merri', 'merrier', 'merril', 'merriment', 'merritt', 'merteuil', 'merton', 'meryl', 'mesa', 'mescalin', 'mesh', 'mesmer', 'mess', 'messag', 'messeng', 'messi', 'messiah', 'messian', 'messili', 'met', 'meta', 'metal', 'metaphor', 'metaphys', 'metcalf', 'mete', 'meteor', 'meteorit', 'meter', 'meth', 'methan', 'methi', 'method', 'meticul', 'metro', 'metropoli', 'metropolitan', 'mettl', 'mew', 'mewhat', 'mexican', 'mexicanamerican', 'mexico', 'meyer', 'mezzo', 'mi', 'mia', 'miami', 'mib', 'mic', 'michael', 'micheal', 'michel', 'michelangelo', 'michigan', 'mickey', 'microchip', 'microcosm', 'micromanag', 'microsoft', 'microwav', 'mid1800', 'mid1960', 'mida', 'midair', 'middl', 'middleag', 'middleclass', 'middleoftheroad', 'middleweight', 'mideighti', 'midfield', 'midget', 'midland', 'midlevel', 'midlif', 'midnight', 'midpoint', 'midst', 'midway', 'midwestern', 'might', 'mighti', 'mightili', 'migrain', 'migrant', 'migrat', 'miguel', 'miho', 'mika', 'mikael', 'mike', 'mikey', 'mikhail', 'miko', 'mil', 'milano', 'mild', 'mildli', 'mildmann', 'mile', 'mileag', 'mileston', 'milieu', 'milit', 'militar', 'militari', 'militarycia', 'militia', 'milk', 'mill', 'milla', 'millar', 'millenium', 'millennium', 'miller', 'milli', 'millimet', 'million', 'millionair', 'millionplu', 'milo', 'milquetoast', 'milton', 'mime', 'mimi', 'mimic', 'mimick', 'min', 'mind', 'mindblow', 'mindcharli', 'mindfuck', 'mindi', 'mindless', 'mindnumb', 'mindnumbingli', 'mindread', 'mindset', 'mine', 'minefield', 'miner', 'ming', 'mingl', 'mini', 'miniatur', 'minim', 'minimalist', 'minimart', 'minimum', 'minion', 'miniplot', 'miniplotswithinplot', 'miniscul', 'miniseri', 'minist', 'ministri', 'minisub', 'minivan', 'minna', 'minnesota', 'minni', 'minor', 'minorleagu', 'minstrel', 'minu', 'minut', 'minutelong', 'minuteman', 'mir', 'mira', 'miracl', 'miracul', 'miramax', 'miranda', 'mire', 'miriam', 'mirkovich', 'mirror', 'mirrorpanel', 'mirthless', 'misadventur', 'misanthropi', 'miscalcul', 'miscarri', 'miscast', 'mischief', 'mischiev', 'mischievi', 'miscommun', 'misconceiv', 'misconstru', 'miscu', 'misde', 'misdemeanor', 'misdirect', 'miseenscen', 'miser', 'miseri', 'miserli', 'misfir', 'misfit', 'misfortun', 'misgiv', 'misguid', 'misha', 'mishandl', 'mishap', 'mishmash', 'misinterpret', 'mislead', 'mismatch', 'mismatchedbuddi', 'misogynist', 'misplac', 'misrepres', 'miss', 'missi', 'missil', 'mission', 'mississippi', 'missiv', 'missouri', 'misspel', 'misstep', 'mist', 'mistak', 'mistaken', 'mistakenli', 'misti', 'mistress', 'mistrust', 'misunderstand', 'misunderstood', 'misus', 'mit', 'mitch', 'mitchel', 'mitchum', 'mite', 'mitig', 'mix', 'mixandmatch', 'mixer', 'mixtur', 'mixup', 'miyamoto', 'mnemon', 'mo', 'moan', 'moat', 'mob', 'mobil', 'mobster', 'mobutu', 'mock', 'mockeri', 'mod', 'mode', 'model', 'moder', 'modern', 'modernist', 'modest', 'modesti', 'modestli', 'modicum', 'modifi', 'modu', 'modul', 'mogul', 'mogulpsychot', 'mojo', 'mold', 'moldi', 'mole', 'molecul', 'molest', 'molina', 'moll', 'molli', 'molten', 'mom', 'moment', 'momentari', 'momentarili', 'momentum', 'momma', 'mommi', 'mon', 'mona', 'monahan', 'monarch', 'monasteri', 'monday', 'mone', 'monet', 'monetari', 'money', 'moneygrub', 'moneymak', 'monger', 'mongo', 'monica', 'monik', 'monitor', 'monk', 'monkey', 'mono', 'monogami', 'monologu', 'monomaniac', 'monopoli', 'monosyl', 'monoton', 'monotoni', 'monro', 'monsieur', 'monsoon', 'monster', 'monstrou', 'monstrous', 'montag', 'montageback', 'montagu', 'montana', 'montenegro', 'montero', 'montgomeri', 'month', 'monthli', 'monthlong', 'monti', 'montoya', 'montreal', 'monument', 'mood', 'moodi', 'moon', 'mooncrawl', 'mooney', 'moonlit', 'moor', 'moot', 'mope', 'mopey', 'mora', 'moral', 'moralist', 'morallydepriv', 'moran', 'morass', 'morbid', 'moreau', 'moreov', 'moreso', 'moretti', 'morgan', 'morgu', 'moriarti', 'morissett', 'morlock', 'mormon', 'morn', 'moro', 'moroccan', 'morocco', 'moron', 'morph', 'morpheu', 'morri', 'morricon', 'morrison', 'morrissey', 'morrow', 'mors', 'morsel', 'mort', 'mortal', 'mortar', 'mortgag', 'mortician', 'morton', 'mosaffa', 'mosaic', 'moscow', 'mose', 'moslem', 'mosquito', 'moss', 'mostli', 'motel', 'mother', 'motherdaught', 'motherhood', 'motherinlaw', 'motherlandon', 'motherli', 'motherofallstorm', 'mothersurrog', 'motif', 'motion', 'motiv', 'motley', 'motor', 'motorbik', 'motorcycl', 'motorist', 'motormouth', 'motta', 'motto', 'mould', 'moulin', 'mound', 'mount', 'mountain', 'mountainsid', 'mountaintop', 'mourn', 'mous', 'mouse', 'mousi', 'moustach', 'mouth', 'mouthpiec', 'move', 'movement', 'mover', 'moveth', 'movi', 'movieani', 'moviecould', 'moviego', 'moviehous', 'moviemak', 'movieplotridicul', 'moviereview', 'moviewithinamovi', 'mox', 'mozambiqu', 'mozart', 'mtvinfluenc', 'much', 'muchadmir', 'muchherald', 'muchneed', 'mucho', 'muchpriz', 'muchpublic', 'muchshroudedinsecreci', 'muchtalkedabout', 'muck', 'mucu', 'mud', 'muddi', 'muddl', 'mudslid', 'mueller', 'muellerstahl', 'muff', 'muffin', 'mug', 'mughal', 'mui', 'mulan', 'mulder', 'muldoon', 'mule', 'mulholland', 'mullah', 'mulligan', 'multi', 'multibillion', 'multicharact', 'multicolor', 'multidimension', 'multifacet', 'multilay', 'multilevelmarket', 'multimillion', 'multimillionair', 'multin', 'multipl', 'multiplex', 'multipli', 'multitud', 'mum', 'mumbl', 'mumbojumbo', 'mummi', 'mummifi', 'munch', 'munchi', 'munchkin', 'mundan', 'muntz', 'muppet', 'mural', 'murder', 'murderess', 'murdermysteri', 'murdoch', 'murdochesqu', 'muriel', 'murki', 'murphi', 'murray', 'murtaugh', 'murugan', 'muscl', 'musclebound', 'muscular', 'muse', 'museum', 'mush', 'mushi', 'mushroom', 'mushu', 'music', 'musician', 'musicologist', 'musket', 'muslim', 'muslimar', 'mussolini', 'must', 'mustach', 'mustafa', 'mustang', 'muster', 'musti', 'mutant', 'mutat', 'mute', 'mutil', 'mutini', 'mutter', 'mutual', 'myer', 'myheart', 'mynah', 'myriad', 'myselt', 'mysteri', 'mystic', 'mystiqu', 'myth', 'mythic', 'mytho', 'mytholog', 'na', 'naaaaaaah', 'nab', 'nacho', 'nadia', 'nadja', 'nag', 'nagl', 'nah', 'nail', 'nair', 'naiv', 'naivet', 'nake', 'name', 'nameless', 'namerecognit', 'namesak', 'nan', 'nanci', 'nanimo', 'nanita', 'nanni', 'naoko', 'naomi', 'nap', 'narc', 'narcissist', 'narcolepsi', 'narcolept', 'narcot', 'nari', 'narr', 'narrat', 'narrow', 'narrowli', 'narrowmind', 'narrowminded', 'narrowwaist', 'nasa', 'nashvil', 'nastassja', 'nasti', 'nastier', 'nastytemp', 'natali', 'natasha', 'nathan', 'nathaniel', 'nation', 'nationst', 'nationstyp', 'nationwid', 'nativ', 'nato', 'natur', 'naturalist', 'naturelov', 'naught', 'naughti', 'nausea', 'nauseam', 'nauseat', 'nauseou', 'naval', 'navi', 'navig', 'nay', 'naysay', 'nazi', 'nazicollabor', 'naziesqu', 'nazism', 'nba', 'nci', 'neal', 'neanderth', 'near', 'nearbi', 'nearconst', 'nearest', 'nearflawless', 'nearfutur', 'neargreat', 'neari', 'nearli', 'nearlyfars', 'nearmasterpiec', 'nearpornograph', 'nearruin', 'neat', 'neatli', 'nebbish', 'nebul', 'necess', 'necessari', 'necessarili', 'necessit', 'neck', 'neckdeep', 'necklac', 'necrophilia', 'ned', 'need', 'needi', 'needl', 'needle', 'needlessli', 'nefari', 'neg', 'negat', 'neglect', 'neglig', 'negoti', 'neighbor', 'neighborhood', 'neighbour', 'neighbourhood', 'neil', 'neither', 'nell', 'nelson', 'nemesi', 'nen', 'neo', 'neoclass', 'neon', 'neonat', 'neonazi', 'neonazidom', 'nephew', 'neptun', 'nerd', 'nerdi', 'nerdiest', 'neri', 'nero', 'nerv', 'nervou', 'nervous', 'ness', 'nest', 'net', 'nether', 'netherworld', 'network', 'neurot', 'neuroticlook', 'neutral', 'neuwirth', 'nevada', 'neve', 'neverbeforeseen', 'neverceas', 'neverend', 'neverheard', 'neverland', 'nevertheless', 'nevil', 'newborn', 'newcom', 'newer', 'newest', 'newfound', 'newfoundland', 'newli', 'newlyassign', 'newlyfre', 'newlyrestor', 'newlyw', 'newman', 'news', 'newsgroup', 'newslett', 'newsmagazin', 'newsman', 'newspap', 'newsreel', 'newsweek', 'newt', 'newton', 'newtonjohn', 'next', 'ngo', 'nguyen', 'nhu', 'nia', 'niagara', 'nic', 'niccolo', 'nice', 'nicelytitl', 'nicer', 'nicest', 'nich', 'nichol', 'nichola', 'nicholson', 'nick', 'nickelodeon', 'nicki', 'nicknam', 'nicol', 'nicola', 'nicoletta', 'niec', 'nielsen', 'nietzsch', 'niflheim', 'nifti', 'nigel', 'niger', 'nigeria', 'nigger', 'night', 'nightclub', 'nightingal', 'nightli', 'nightmar', 'nightmarish', 'nighttim', 'nihil', 'nihilist', 'nikita', 'nikki', 'niko', 'nil', 'nimmo', 'nin', 'nina', 'nincompoop', 'nine', 'ninemonthold', 'nineteen', 'nineteenth', 'nineti', 'ninety', 'ninetyminut', 'nineyear', 'nineyearold', 'ninja', 'ninjaman', 'nino', 'ninth', 'nippl', 'niro', 'nishi', 'nit', 'nite', 'nitro', 'nittygritti', 'nixon', 'nntphub', 'noah', 'nob', 'nobil', 'nobl', 'nobleman', 'nobler', 'noblest', 'nobodi', 'nobu', 'nocturn', 'nod', 'nodam', 'noel', 'noggin', 'nogoodnik', 'noholdsbar', 'noir', 'noiresqu', 'noirish', 'nois', 'noisi', 'noisili', 'nolan', 'nom', 'nomi', 'nomin', 'nomine', 'non', 'nonactor', 'nonanim', 'nonbritish', 'nonchal', 'nonchalantli', 'noncommitt', 'nondescript', 'nondisney', 'none', 'nonent', 'nonetheless', 'nonetooobvi', 'nonetoopleas', 'nonetoosubtl', 'nonexist', 'nonfat', 'nonfict', 'nonhuman', 'nonintrus', 'nonjudgment', 'nonlinear', 'nono', 'nonpluss', 'nonreligi', 'nonsens', 'nonspecif', 'nonstop', 'nonthreaten', 'nontradit', 'nontriplex', 'nonunion', 'nonverb', 'nonviol', 'nonwedlock', 'noodl', 'nook', 'noon', 'noot', 'nope', 'nora', 'norad', 'noraruthaol', 'nordoffhal', 'norm', 'norma', 'normal', 'normalci', 'norman', 'normandi', 'normi', 'norri', 'norristown', 'nors', 'north', 'northern', 'northman', 'northward', 'northwest', 'northwestern', 'norton', 'norway', 'norwood', 'nose', 'noseble', 'nosebleed', 'nosed', 'nosferatu', 'nosi', 'nostalg', 'nostalgia', 'nostalig', 'nostrum', 'not', 'notabl', 'notableand', 'notch', 'note', 'notebook', 'noteperfect', 'noteworthi', 'notgood', 'noth', 'nother', 'nothing', 'notic', 'notinahurri', 'notion', 'notori', 'notorieti', 'notquitesubtl', 'notquitethril', 'notr', 'notsohappilymarri', 'notsonic', 'notsosecretli', 'notsotyp', 'notwithstand', 'noun', 'nov', 'nova', 'novak', 'novel', 'novelis', 'novelist', 'novella', 'novelti', 'novemb', 'novic', 'novicorp', 'nowaday', 'nowfam', 'nowher', 'nowin', 'nowoutd', 'noxiou', 'nsa', 'nu', 'nuanc', 'nubil', 'nuclear', 'nude', 'nudg', 'nuditi', 'nuff', 'nugent', 'nuisanc', 'nuke', 'numb', 'number', 'numbingli', 'numer', 'nun', 'nunez', 'nuptial', 'nurs', 'nurseri', 'nurtur', 'nut', 'nutcas', 'nutcrack', 'nutshel', 'nutter', 'nutti', 'nuttiest', 'nuzzl', 'ny', 'nyah', 'nymphomaniac', 'nypd', 'nyu', 'oaf', 'oakley', 'oakwood', 'oasi', 'oat', 'ob', 'obi', 'object', 'oblig', 'obligatori', 'obligingli', 'obliqu', 'obliter', 'oblivi', 'oblivion', 'obnoxi', 'obscen', 'obscur', 'observ', 'obsession', 'obsessivecompuls', 'obsolet', 'obstacl', 'obstetr', 'obstetrician', 'obtain', 'obtus', 'obviou', 'obvious', 'occas', 'occasion', 'occasionallyhumor', 'occult', 'occup', 'occupi', 'occur', 'occurr', 'ocean', 'oceango', 'oceanscap', 'oclock', 'octob', 'octogenarian', 'octopu', 'oday', 'odd', 'oddbal', 'oddest', 'odditi', 'oddli', 'ode', 'odessa', 'odett', 'odil', 'odin', 'odiou', 'odyssey', 'oedip', 'oeuvr', 'of', 'ofa', 'off', 'offagain', 'offat', 'offbeat', 'offbroadway', 'offcamera', 'offenc', 'offend', 'offens', 'offer', 'offhand', 'offic', 'offici', 'offkilt', 'offlimit', 'offscreen', 'offset', 'offspr', 'offthewal', 'offtrack', 'ofmoney', 'ofput', 'oft', 'often', 'oftenincongru', 'oftentim', 'ofthemo', 'ogl', 'ogr', 'oh', 'oherlihi', 'ohio', 'ohlmyer', 'ohneggin', 'ohsonic', 'ohsowis', 'oil', 'oildril', 'oilguycumastronaut', 'oili', 'ok', 'okay', 'oklahoma', 'ol', 'old', 'older', 'oldest', 'oldfashion', 'oldhollywood', 'oldman', 'oldschool', 'oldstyl', 'ole', 'oleynik', 'olga', 'olin', 'oliv', 'olivi', 'olivia', 'olli', 'olmstead', 'olsen', 'olymp', 'olympia', 'olympian', 'omaha', 'omar', 'omega', 'omegahedron', 'omelet', 'omen', 'omin', 'omiss', 'omit', 'omnipot', 'omnipres', 'omnisci', 'on', 'onboard', 'oncegreat', 'onceprofit', 'oncom', 'one', 'onecan', 'oneday', 'onedimension', 'onefourth', 'onehundr', 'onehundreddollar', 'onein', 'onemanwoman', 'onemor', 'oneofakind', 'oneonon', 'oner', 'oneself', 'onesyl', 'onetim', 'oneto', 'onetwopunch', 'oneup', 'oneupmanship', 'ongo', 'onlin', 'onlook', 'onlyon', 'onlyreason', 'onscreen', 'onset', 'onslaught', 'onto', 'onward', 'onz', 'ooh', 'ooki', 'oomph', 'oontz', 'oooh', 'ooooh', 'oop', 'ooz', 'opaqu', 'ope', 'open', 'openandshut', 'openheart', 'openli', 'openmind', 'oper', 'opera', 'operandi', 'operat', 'ophelia', 'opinion', 'opium', 'oppa', 'oppo', 'oppon', 'opportun', 'opportunist', 'oppos', 'opposit', 'oppress', 'oprah', 'opt', 'optim', 'optimist', 'optimum', 'option', 'optometrist', 'opu', 'opul', 'oral', 'orang', 'orat', 'orbit', 'orc', 'orca', 'orchard', 'orchestr', 'orchestra', 'ord', 'ordain', 'ordeal', 'ordel', 'order', 'orderli', 'ordinari', 'ordinarili', 'ordinaryyet', 'ore', 'oregon', 'oreomunch', 'org', 'organ', 'organgrind', 'organis', 'organplay', 'orgasm', 'orgi', 'orgin', 'orient', 'orific', 'origin', 'orion', 'orlando', 'orlean', 'orneri', 'orphan', 'orphanag', 'orphang', 'orson', 'orth', 'orthodox', 'orwel', 'orwellian', 'osborn', 'osbourn', 'oscar', 'oscarbait', 'oscarcalib', 'oscarhungri', 'oscarnomin', 'oscarwin', 'oscarwinn', 'oscarworthi', 'oseranski', 'osiri', 'osmond', 'osmosi', 'osso', 'ostens', 'ostentati', 'ostertag', 'other', 'otherssikh', 'otherwis', 'otherworldli', 'oti', 'otto', 'ottoman', 'ouch', 'ought', 'ouija', 'ounc', 'oust', 'out', 'outa', 'outback', 'outboard', 'outbreak', 'outburst', 'outcast', 'outcom', 'outdat', 'outdid', 'outdo', 'outdon', 'outdoor', 'outer', 'outfac', 'outfield', 'outfit', 'outgo', 'outgrown', 'outing', 'outland', 'outlandish', 'outlast', 'outlaw', 'outlet', 'outlin', 'outlook', 'outnumb', 'outofbal', 'outofbodi', 'outofcharact', 'outofcontrol', 'outofprint', 'outofshap', 'outoftheirmind', 'outperform', 'outpost', 'output', 'outrag', 'outright', 'outrun', 'outset', 'outshin', 'outsid', 'outskirt', 'outsmart', 'outspoken', 'outstand', 'outstandingli', 'outstrip', 'outta', 'outtak', 'outward', 'outwardli', 'outwit', 'outwork', 'oval', 'ovat', 'oven', 'over', 'overabund', 'overachiev', 'overact', 'overal', 'overarch', 'overbear', 'overblown', 'overboard', 'overcam', 'overcoat', 'overcom', 'overconceiv', 'overcrowd', 'overdecor', 'overdo', 'overdon', 'overdos', 'overdr', 'overdramat', 'overdramatic', 'overdrawn', 'overdu', 'overeag', 'overexpos', 'overexposur', 'overextend', 'overfli', 'overflow', 'overgrown', 'overh', 'overhead', 'overhear', 'overhyp', 'overjoy', 'overkil', 'overlaid', 'overlap', 'overlay', 'overli', 'overload', 'overlook', 'overlynoisi', 'overmed', 'overnight', 'overpaid', 'overplay', 'overplot', 'overpopul', 'overpow', 'overprotect', 'overr', 'overrid', 'overrun', 'overse', 'oversea', 'overseen', 'oversex', 'overshadow', 'oversight', 'oversimplif', 'oversimplifi', 'overst', 'overstat', 'overstay', 'overstyl', 'overt', 'overtak', 'overthetop', 'overthrow', 'overtim', 'overtli', 'overton', 'overturn', 'overunderwritten', 'overus', 'overview', 'overweight', 'overwhelm', 'overwhelmingli', 'overwork', 'overwritten', 'overwrought', 'overzeal', 'ovul', 'ovular', 'owe', 'owen', 'own', 'owner', 'ownerpublish', 'ownership', 'ownerturnedpaint', 'oxford', 'oxnard', 'oxymoron', 'oz', 'ozon', 'ozzi', 'pa', 'pace', 'pacif', 'pacino', 'pack', 'packag', 'packard', 'packer', 'packet', 'pact', 'pad', 'paddock', 'padlock', 'padr', 'padua', 'pagan', 'page', 'pageant', 'paid', 'paillard', 'pain', 'painless', 'painstak', 'painstakingli', 'paint', 'paintbynumb', 'painter', 'pair', 'paisa', 'pakistani', 'pakistanthey', 'pal', 'palac', 'palat', 'pale', 'paleontologist', 'palestinian', 'palett', 'palisad', 'palladium', 'pallid', 'palm', 'palma', 'palmer', 'palmetto', 'palminteri', 'palpabl', 'palpatin', 'paltri', 'pam', 'pamela', 'pamper', 'pan', 'panach', 'panama', 'panamanian', 'panandscan', 'panavis', 'pancak', 'pandemonium', 'pander', 'pandora', 'pane', 'pang', 'panic', 'panick', 'panicki', 'panoram', 'panorama', 'panslav', 'pant', 'panther', 'panti', 'pantoliano', 'pantswet', 'paola', 'paolo', 'papa', 'paparazzo', 'papaya', 'paper', 'paperback', 'paperwork', 'paprika', 'par', 'parabl', 'parachut', 'parad', 'paradigm', 'paradin', 'paradis', 'paradiseprison', 'paradox', 'paragon', 'paragraph', 'paral', 'parallax', 'parallel', 'paralys', 'paralyz', 'paramed', 'paramount', 'paranoia', 'paranoid', 'paranorm', 'paraphernalia', 'paraphras', 'parasail', 'parasit', 'paratroop', 'pardon', 'pare', 'parent', 'parenthet', 'pari', 'parisian', 'pariti', 'park', 'parka', 'parker', 'parkman', 'parlay', 'parliamentari', 'parlor', 'parma', 'parodi', 'parol', 'parole', 'parrish', 'parrot', 'parson', 'part', 'partak', 'partcomedi', 'parti', 'partial', 'particip', 'particular', 'particularli', 'partit', 'partli', 'partner', 'partnerincrim', 'partnership', 'partnerwif', 'partridg', 'parttim', 'partygo', 'pas', 'pasadena', 'pascal', 'passabl', 'passag', 'passel', 'passeng', 'passion', 'passiondeni', 'passionless', 'passiv', 'passport', 'passwordprotect', 'past', 'pastel', 'pastich', 'pastor', 'pastorelli', 'pastur', 'pat', 'patach', 'patch', 'patchi', 'patchwork', 'pate', 'patent', 'patern', 'paternalist', 'path', 'pathet', 'patho', 'patholog', 'patienc', 'patient', 'patio', 'patlabor', 'patrasch', 'patriarch', 'patriarchi', 'patric', 'patricia', 'patrick', 'patriot', 'patrol', 'patrolman', 'patron', 'patsi', 'pattern', 'patterson', 'patti', 'patton', 'paul', 'paula', 'pauli', 'paulin', 'paus', 'paw', 'pawn', 'paxton', 'pay', 'payback', 'paycheck', 'payload', 'payment', 'payn', 'payoff', 'payperview', 'payrol', 'pea', 'peac', 'peaceabl', 'peacemak', 'peach', 'peak', 'peanut', 'pear', 'pearc', 'pearl', 'pearli', 'peasant', 'pebbl', 'pecan', 'peck', 'pecker', 'peckinpah', 'peculiar', 'pedant', 'pedestrian', 'pedigre', 'pedlar', 'pedophil', 'pedophilia', 'pedro', 'pee', 'peebl', 'peek', 'peel', 'peep', 'peepshow', 'peer', 'peerless', 'peet', 'peewe', 'peg', 'peggi', 'pejor', 'pelican', 'pellet', 'pelt', 'pen', 'penalti', 'penanc', 'penchant', 'pencil', 'pender', 'pendleton', 'penelop', 'penetr', 'penguin', 'peni', 'penitentiari', 'penn', 'penni', 'penniless', 'pennsylvania', 'pensiv', 'pentagon', 'pentamet', 'pentecost', 'penthous', 'penultim', 'peopl', 'peoplewould', 'pep', 'pepe', 'pepper', 'peppi', 'pepsi', 'per', 'perceiv', 'percent', 'percentag', 'percept', 'perch', 'perci', 'perenni', 'perez', 'perf', 'perfect', 'perfectli', 'perfectlygroom', 'perform', 'perfum', 'perfumedrench', 'perfunctori', 'perhap', 'peril', 'period', 'periodpiec', 'peripher', 'peripheri', 'perk', 'perki', 'perkin', 'perman', 'permeat', 'permiss', 'permit', 'permut', 'pernilla', 'perpetr', 'perpetu', 'perpetualmot', 'perplex', 'perri', 'perrier', 'perrin', 'persecut', 'persever', 'persist', 'person', 'persona', 'personalityimpair', 'personif', 'personifi', 'personnel', 'perspect', 'persuad', 'persuas', 'pertain', 'pertin', 'pervad', 'pervas', 'pervers', 'pervert', 'perviou', 'peski', 'pessim', 'pessimist', 'pest', 'pester', 'pesticid', 'pet', 'petal', 'pete', 'peter', 'petersburg', 'petersen', 'peterson', 'petri', 'petrifi', 'petter', 'petti', 'petul', 'peyot', 'pfeiffer', 'pfferpot', 'pga', 'phantom', 'pharaoh', 'pharmaceut', 'pharoah', 'phase', 'phelp', 'phenomen', 'phenomenon', 'phew', 'phi', 'phil', 'philadelphia', 'philand', 'philanthropist', 'philip', 'philipp', 'phillip', 'phillotson', 'philosoph', 'philosophi', 'phobia', 'phobic', 'phoeb', 'phoenix', 'phone', 'phonepitch', 'phoni', 'phonograph', 'photo', 'photocopi', 'photogen', 'photograph', 'photographi', 'phrase', 'phylli', 'physic', 'physician', 'physicist', 'physiolog', 'pi', 'pia', 'pianist', 'piano', 'pic', 'picard', 'picaresqu', 'picasso', 'pick', 'picker', 'picket', 'pickett', 'picki', 'pickl', 'pickup', 'pictur', 'picturesqu', 'pidgeon', 'pie', 'piec', 'pier', 'pierc', 'pierr', 'pierreaugustin', 'pierreloup', 'piet', 'pig', 'pigeon', 'pigeonhol', 'piggi', 'pighead', 'pike', 'pile', 'pileggi', 'pileup', 'pilgrim', 'pilgrimag', 'pill', 'pillag', 'pillow', 'pillpop', 'pillpoppin', 'pillsburi', 'pilot', 'pimp', 'pimpernel', 'pimpl', 'pin', 'pinch', 'pindar', 'pine', 'pinewood', 'ping', 'pink', 'pinkerton', 'pinki', 'pinnacl', 'pinocchio', 'pinon', 'pinpoint', 'pint', 'pinter', 'pintsiz', 'pinup', 'pioneer', 'pip', 'pipe', 'pipelin', 'piper', 'piraci', 'piranha', 'pirat', 'piss', 'pisspoor', 'pistol', 'piston', 'pit', 'pitch', 'pitchblack', 'pitcher', 'piti', 'pitt', 'pittsburgh', 'pivot', 'pixar', 'pixot', 'pizza', 'pizzazz', 'place', 'placement', 'placer', 'placid', 'plagiar', 'plagu', 'plain', 'plainchees', 'plainli', 'plan', 'plane', 'planet', 'planetari', 'planner', 'plant', 'plantat', 'plaster', 'plastic', 'plate', 'platform', 'platitud', 'plato', 'platoon', 'platt', 'platter', 'plaudit', 'plausibl', 'play', 'playact', 'playbook', 'playboy', 'playbyplay', 'player', 'playground', 'playmat', 'playstat', 'playth', 'playwright', 'plaza', 'plea', 'plead', 'pleasant', 'pleasantli', 'pleasantri', 'pleasantvil', 'pleaser', 'pleasur', 'pledg', 'plenari', 'plenti', 'plethora', 'pli', 'plight', 'plod', 'plot', 'plotdriven', 'plotless', 'plotwis', 'ploy', 'plu', 'pluck', 'plucki', 'plug', 'plumb', 'plumber', 'plummer', 'plummet', 'plump', 'plunder', 'plung', 'plunk', 'plus', 'plush', 'po', 'poacher', 'pocahonta', 'pocket', 'pod', 'poe', 'poem', 'poet', 'poetic', 'poetri', 'poi', 'poignanc', 'poignant', 'poignantli', 'point', 'pointblank', 'pointedli', 'pointer', 'pointi', 'pointless', 'pointofview', 'pointybreast', 'poison', 'poitier', 'poke', 'pokemon', 'poker', 'poland', 'polar', 'pole', 'polem', 'polic', 'policeman', 'policest', 'polici', 'polish', 'polishwed', 'polit', 'politicallycharg', 'politicallycorrect', 'politician', 'poll', 'pollack', 'pollen', 'poloniu', 'poltergeist', 'polyest', 'polygami', 'polynesian', 'pomegran', 'pomfret', 'pomp', 'pompou', 'pond', 'ponder', 'pongo', 'pontif', 'ponytail', 'ponzi', 'pooch', 'poof', 'pool', 'poolsid', 'poon', 'poop', 'poor', 'poorer', 'poorhous', 'poorli', 'poorlystag', 'poorlywritten', 'pop', 'popcorn', 'popcultur', 'pope', 'popey', 'popovich', 'popstar', 'popul', 'populac', 'popular', 'popularbutslow', 'popularli', 'porcelain', 'porch', 'porcin', 'pork', 'porn', 'pornactressturnedpornproduc', 'porno', 'pornograph', 'pornographi', 'pornographyrel', 'porpois', 'port', 'portabl', 'portal', 'portent', 'porter', 'portho', 'portia', 'portion', 'portland', 'portli', 'portman', 'portopotti', 'portrait', 'portray', 'portsmouth', 'portugues', 'pose', 'poseidon', 'poseur', 'posey', 'posh', 'posit', 'posse', 'possibilit', 'possibl', 'post', 'posta', 'postag', 'postal', 'postapocalyps', 'postapocalypt', 'postcard', 'poster', 'postfeminist', 'postforens', 'posthum', 'postman', 'postmodern', 'postop', 'postpon', 'postproduct', 'postprologu', 'postsalari', 'postscream', 'posttraumat', 'postur', 'postwar', 'postwaterg', 'postworld', 'postwwii', 'pot', 'potato', 'potboil', 'potemkin', 'potenc', 'potent', 'potenti', 'pothead', 'pothol', 'potion', 'potter', 'pound', 'pounder', 'pour', 'pout', 'pouti', 'pov', 'poverti', 'povertystricken', 'powder', 'powel', 'power', 'powerfulbutanonym', 'powerhungri', 'powerless', 'powerlessth', 'powermong', 'powerori', 'powersof10', 'powerto', 'pox', 'practic', 'practicemargaret', 'practition', 'prado', 'pragmat', 'pragu', 'prairi', 'prais', 'pranc', 'prank', 'pratfal', 'pratt', 'pray', 'prayer', 'pre', 'preach', 'preacher', 'preachi', 'preaidsscar', 'precari', 'preced', 'precept', 'precinct', 'preciou', 'precious', 'precipic', 'precipit', 'precis', 'preciso', 'precoci', 'preconceiv', 'preconcept', 'precursor', 'predat', 'predatori', 'predecessor', 'predestin', 'predetermin', 'predic', 'predica', 'predict', 'predilect', 'predomin', 'predominantli', 'preempt', 'preen', 'prefabr', 'prefac', 'prefectur', 'prefeminist', 'prefer', 'pregnanc', 'pregnant', 'prehistor', 'prejudg', 'prejudic', 'preliminari', 'prelud', 'prematur', 'premier', 'premis', 'premisekafka', 'premium', 'premonit', 'prentic', 'preoccup', 'preoccupi', 'prep', 'prepar', 'preposter', 'preppi', 'preproduct', 'preprogram', 'prepubesc', 'prequel', 'prereleas', 'prerog', 'prescott', 'prescrib', 'presel', 'presenc', 'present', 'preserv', 'presid', 'presidenti', 'presley', 'press', 'pressur', 'prestig', 'prestigi', 'presto', 'preston', 'presum', 'preteen', 'pretend', 'pretens', 'pretenti', 'pretext', 'pretti', 'prettiest', 'prettyboy', 'prevail', 'preval', 'prevent', 'preview', 'previou', 'previous', 'prewar', 'prey', 'priam', 'price', 'priceless', 'prick', 'pride', 'priest', 'priestess', 'priestli', 'prim', 'prima', 'primal', 'primari', 'primarili', 'primat', 'prime', 'primetim', 'primit', 'primordi', 'princ', 'princel', 'princess', 'princessguard', 'princeton', 'princip', 'principl', 'print', 'prior', 'prioriti', 'priscilla', 'prison', 'prisonbound', 'prisonersofwar', 'pristin', 'privaci', 'privat', 'privetsculpt', 'privi', 'priviledg', 'privileg', 'prize', 'pro', 'probabl', 'probat', 'probe', 'problem', 'problemat', 'problemclon', 'proce', 'procedur', 'proceed', 'process', 'processor', 'proclaim', 'procliv', 'procreat', 'proctor', 'procur', 'prod', 'prodigi', 'produc', 'product', 'prof', 'profan', 'profess', 'profession', 'professionalsmiramax', 'professor', 'professorarcheologist', 'professorship', 'proffer', 'profici', 'profil', 'profit', 'profound', 'profoundli', 'profund', 'profundi', 'progenitor', 'program', 'programm', 'progress', 'prohibit', 'prohibitionera', 'project', 'projectionist', 'projector', 'proletarian', 'prolifer', 'prologu', 'prolong', 'prom', 'promenad', 'promin', 'promis', 'promiscu', 'promiss', 'promot', 'prompt', 'promptli', 'prone', 'pronoun', 'pronounc', 'pronuclear', 'proof', 'prop', 'propaganda', 'propel', 'propens', 'proper', 'properli', 'properti', 'propheci', 'prophes', 'prophesi', 'prophet', 'proport', 'propos', 'proposit', 'proprieti', 'proprietor', 'prosaic', 'prose', 'prosecut', 'prosecutor', 'proselyt', 'prospect', 'prospector', 'prosper', 'prostitut', 'prostrat', 'prot', 'protagonist', 'protect', 'protector', 'proteg', 'protein', 'protest', 'protestor', 'prototyp', 'protract', 'protrud', 'proud', 'proudli', 'prove', 'proven', 'proverb', 'proverbi', 'provid', 'provinc', 'provis', 'provoc', 'provok', 'prowess', 'prowl', 'proxi', 'proximo', 'prozac', 'prudent', 'pruitt', 'pryce', 'pryor', 'pseudo', 'pseudoclimax', 'pseudodocumentari', 'pseudofeminist', 'pseudointellectu', 'pseudonym', 'pseudoplaym', 'pseudosafeti', 'pseudosci', 'pseudosophist', 'pseudosuspens', 'pseudoworld', 'psych', 'psychedel', 'psychiatr', 'psychiatrist', 'psychic', 'psycho', 'psychobabbl', 'psychodrama', 'psycholog', 'psychologist', 'psychologyresearch', 'psychopath', 'psychosexu', 'psychosi', 'psychot', 'psychotherapi', 'pub', 'puberti', 'public', 'publicist', 'publicityseek', 'publicli', 'publish', 'pudgi', 'pueril', 'puerto', 'puf', 'puff', 'pugilist', 'pugnaci', 'puke', 'pul', 'pulitz', 'pulitzerpr', 'pull', 'pullman', 'pulp', 'pulpi', 'pulpit', 'pulsat', 'pulsepound', 'pulver', 'pummel', 'pump', 'pumpkin', 'pun', 'punch', 'punchdrunk', 'punchi', 'punchlin', 'punctuat', 'punctur', 'punish', 'punk', 'punkinthemak', 'punknoir', 'pup', 'pupil', 'puppet', 'puppetri', 'puppi', 'pur', 'purchas', 'pure', 'purer', 'purg', 'purgatori', 'purist', 'puritan', 'puriti', 'purpl', 'purplesequin', 'purplish', 'purport', 'purportedli', 'purpos', 'purr', 'purs', 'pursu', 'pursuer', 'pursuit', 'pusateri', 'push', 'pushi', 'put', 'putdown', 'putit', 'puto', 'putrid', 'putti', 'puzzl', 'pygmalion', 'pyle', 'pyramid', 'pyre', 'pyrotechn', 'python', 'qigong', 'qin', 'quad', 'quadrupl', 'quagmir', 'quaid', 'quaint', 'quak', 'qualifi', 'qualiti', 'qualm', 'quan', 'quandari', 'quantiti', 'quantum', 'quarantin', 'quarri', 'quart', 'quarter', 'quarterback', 'quartet', 'quash', 'quasipopular', 'quasisadist', 'quaternari', 'queasi', 'quebec', 'queen', 'quell', 'quench', 'quentin', 'queri', 'quest', 'question', 'qui', 'quibbl', 'quick', 'quickdraw', 'quicker', 'quickflash', 'quicki', 'quickli', 'quicktemp', 'quiet', 'quieter', 'quietli', 'quill', 'quilt', 'quinci', 'quinlan', 'quinn', 'quint', 'quintana', 'quintessenti', 'quip', 'quir', 'quirk', 'quirki', 'quit', 'quiver', 'quiz', 'quizz', 'quizzic', 'quo', 'quot', 'quota', 'quotabl', 'quotient', 'ra', 'rabb', 'rabbi', 'rabbit', 'rabi', 'rabid', 'rabidli', 'race', 'racer', 'racerel', 'rachel', 'raci', 'racial', 'racialgend', 'racism', 'racist', 'rack', 'racoon', 'radar', 'rade', 'rader', 'radha', 'radianc', 'radiant', 'radiantli', 'radiat', 'radiationrich', 'radic', 'radio', 'radioact', 'radiu', 'rafael', 'raft', 'rage', 'ragstorich', 'ragtag', 'ragtop', 'raheem', 'rahul', 'raid', 'raider', 'rail', 'railroad', 'railway', 'raim', 'raiment', 'rain', 'rainbow', 'raindrop', 'rainforest', 'raini', 'rainier', 'rainmak', 'rainsoak', 'rainstorm', 'raintre', 'rais', 'raison', 'raj', 'raja', 'rake', 'raki', 'raleigh', 'ralli', 'ralph', 'ralphi', 'ram', 'rambaldi', 'rambl', 'rambo', 'rambuncti', 'ramen', 'rames', 'ramif', 'ramirez', 'ramon', 'ramp', 'rampag', 'rampant', 'ramsey', 'ramshackl', 'ramus', 'ran', 'ranad', 'ranch', 'rancher', 'rancor', 'randal', 'randi', 'randolph', 'random', 'randomli', 'rang', 'ranger', 'rank', 'rannian', 'ransom', 'rant', 'raoul', 'rap', 'rapaci', 'rape', 'rapid', 'rapidfir', 'rapidli', 'rapist', 'rapistkil', 'rapper', 'rapport', 'raptor', 'raquel', 'rare', 'rarest', 'rariti', 'rascal', 'rash', 'rashomon', 'rasp', 'rat', 'ratchet', 'rate', 'rather', 'ratio', 'ration', 'rattan', 'ratti', 'rattl', 'rattler', 'ratzenberg', 'raucou', 'raul', 'raunchi', 'ravag', 'rave', 'ravel', 'raven', 'ravish', 'raw', 'ray', 'raymond', 'razor', 'razorsharp', 'razzl', 'razzledazzl', 're', 'rea', 'reach', 'reachabl', 'reacquaint', 'react', 'reaction', 'reactionari', 'reactor', 'read', 'reader', 'readi', 'readili', 'readmit', 'readymad', 'reagan', 'reaganera', 'reagent', 'real', 'realis', 'realism', 'realismbut', 'realist', 'realiti', 'realitybas', 'realiz', 'reallook', 'realm', 'realtim', 'reap', 'reaper', 'reappear', 'rear', 'rearrang', 'reason', 'reassum', 'reassur', 'rebecca', 'rebel', 'rebelli', 'rebellion', 'rebirth', 'reborn', 'rebound', 'rebrand', 'rebuf', 'rebuff', 'rebuild', 'rec', 'recal', 'recap', 'recaptur', 'receipt', 'receiv', 'recent', 'recept', 'receptionist', 'receptor', 'recip', 'recipi', 'recit', 'reckless', 'recklessli', 'reclaim', 'reclam', 'reclus', 'recogn', 'recognis', 'recognit', 'recogniz', 'recollect', 'recommend', 'recon', 'reconcil', 'reconcili', 'reconnaiss', 'reconstruct', 'record', 'recount', 'recours', 'recov', 'recoveri', 'recreat', 'recruit', 'recuper', 'recur', 'recurr', 'recut', 'recycl', 'red', 'redcap', 'redcoat', 'reddick', 'redeem', 'redefin', 'redempt', 'redey', 'redhead', 'rediscoveri', 'redneck', 'redprofondo', 'reduc', 'reduction', 'redund', 'redux', 'reec', 'reed', 'reef', 'reek', 'reel', 'reelect', 'reenact', 'reenter', 'rees', 'reev', 'reevalu', 'reexamin', 'ref', 'refer', 'refere', 'referenc', 'refil', 'refin', 'refineri', 'reflect', 'reflex', 'reform', 'refrain', 'refresh', 'refreshingand', 'refreshingli', 'refug', 'refuge', 'refund', 'refus', 'regain', 'regal', 'regan', 'regard', 'regardless', 'regener', 'regga', 'regi', 'regicid', 'regim', 'regimen', 'regiment', 'regina', 'region', 'regist', 'registr', 'regret', 'regrett', 'regroup', 'regul', 'regular', 'regularli', 'regurgit', 'rehab', 'rehabilit', 'rehash', 'rehears', 'reich', 'reid', 'reign', 'reilli', 'rein', 'reindeer', 'reiner', 'reinforc', 'reinhold', 'reinterpret', 'reintroduc', 'reinvent', 'reissu', 'reject', 'rejoic', 'rejoin', 'rejuven', 'rekindl', 'rel', 'relat', 'relationship', 'relax', 'relay', 'releas', 'releasejohn', 'releg', 'relent', 'relentless', 'relentlessli', 'relev', 'reli', 'reliabl', 'relianc', 'reliant', 'relic', 'relief', 'reliev', 'religi', 'religion', 'relinquish', 'relish', 'reliv', 'rell', 'reload', 'reloc', 'reluct', 'reluctantli', 'remad', 'remain', 'remaind', 'remak', 'reman', 'remand', 'remark', 'remast', 'remedi', 'rememb', 'remembersand', 'remind', 'remington', 'reminisc', 'remodel', 'remors', 'remot', 'remov', 'renaiss', 'renaldo', 'renam', 'renard', 'renault', 'render', 'rendezv', 'rendit', 'rene', 'renegad', 'renew', 'renni', 'reno', 'renoir', 'renounc', 'renown', 'rent', 'rental', 'reopen', 'rep', 'repair', 'repairman', 'reparte', 'repay', 'repeat', 'repeatedli', 'repel', 'repent', 'repercuss', 'repertoir', 'repetit', 'repetiti', 'replac', 'replay', 'replet', 'repli', 'replica', 'report', 'reportag', 'reportedli', 'reprehens', 'repres', 'represent', 'repress', 'repriev', 'repris', 'reproduct', 'reptil', 'reptilian', 'republ', 'republican', 'repugn', 'repuls', 'reput', 'reputedli', 'request', 'requiem', 'requir', 'requisit', 'rereleas', 'rerun', 'rescu', 'rescuer', 'research', 'resel', 'resembl', 'resent', 'reserv', 'reservoir', 'reset', 'reshoot', 'resid', 'resign', 'resigni', 'resili', 'resin', 'resist', 'resnaiss', 'resolut', 'resolv', 'reson', 'resort', 'resound', 'resourc', 'respect', 'respectivelythi', 'respighi', 'respit', 'resplend', 'respond', 'respons', 'ressurect', 'rest', 'restart', 'restaur', 'restaurateur', 'restless', 'restlessli', 'reston', 'restor', 'restrain', 'restraint', 'restrict', 'resubmit', 'result', 'resum', 'resurfac', 'resurg', 'resurrect', 'resuscit', 'retail', 'retain', 'retak', 'retali', 'retel', 'retent', 'rethink', 'retic', 'retin', 'retir', 'retold', 'retool', 'retort', 'retract', 'retread', 'retreat', 'retribut', 'retriev', 'retro', 'retroact', 'retrospect', 'retrostyl', 'return', 'retyp', 'reuben', 'reunion', 'reunit', 'revamp', 'reveal', 'revel', 'reveng', 'revengedriven', 'revenu', 'rever', 'reverend', 'revers', 'revert', 'review', 'revis', 'revisionist', 'revisit', 'revit', 'reviv', 'revolt', 'revoltingli', 'revolut', 'revolutionari', 'revolv', 'revuls', 'reward', 'rewatch', 'rewind', 'rework', 'rewrit', 'rex', 'reynold', 'reza', 'rhapsodi', 'rhe', 'rhea', 'rhetor', 'rhett', 'rhi', 'rhode', 'rhyme', 'rhythm', 'rib', 'ribald', 'ribbon', 'ribtickl', 'rica', 'rican', 'ricardo', 'ricci', 'riccion', 'rice', 'rich', 'richard', 'richardson', 'richelieu', 'richer', 'richest', 'richi', 'richli', 'rick', 'ricki', 'rickl', 'rico', 'rid', 'ridden', 'riddick', 'riddl', 'riddler', 'ride', 'rider', 'ridicul', 'ridley', 'rienfenst', 'rif', 'rife', 'riff', 'rifkin', 'rifl', 'riflecamera', 'rifleri', 'rig', 'rigg', 'right', 'righteou', 'rightfrighteningli', 'righthand', 'rightist', 'rightli', 'rightw', 'rigid', 'rigor', 'rigormorti', 'rigour', 'riker', 'rile', 'riley', 'ring', 'ringer', 'ringlead', 'ringo', 'ringwald', 'rintintin', 'rio', 'riot', 'rioter', 'riotou', 'rip', 'ripe', 'ripley', 'ripoff', 'ripper', 'riproar', 'riproarin', 'risa', 'rise', 'risen', 'riser', 'risibl', 'risk', 'riskadvers', 'riski', 'risqu', 'rita', 'ritchi', 'rite', 'ritter', 'ritual', 'ritualist', 'ritzi', 'rival', 'rivalri', 'river', 'rivera', 'rivet', 'rizzo', 'rko', 'roach', 'road', 'roadblock', 'roadrunn', 'roadsid', 'roam', 'roamer', 'roar', 'roast', 'rob', 'robard', 'robber', 'robberi', 'robbi', 'robbin', 'robe', 'robert', 'roberta', 'roberto', 'robertson', 'robertswhos', 'robespierr', 'robicheaux', 'robin', 'robinson', 'robocop', 'robot', 'robust', 'rocco', 'rochefort', 'rochel', 'rock', 'rocker', 'rocket', 'rocketri', 'rocketship', 'rockhound', 'rocki', 'rockmusicianturnedpavementartist', 'rocksactu', 'rockwel', 'rococo', 'rod', 'roddenberri', 'roddi', 'rodent', 'rodger', 'rodman', 'rodney', 'rodriguez', 'roger', 'rogu', 'roguish', 'roland', 'role', 'roleshift', 'rolf', 'roll', 'roller', 'rollerblad', 'rollercoast', 'rollergirl', 'rollick', 'rollin', 'roman', 'romanc', 'romano', 'romant', 'romantic', 'romanticcomedi', 'rome', 'romeo', 'romero', 'romi', 'romp', 'romper', 'ron', 'ronald', 'rong', 'ronin', 'ronni', 'roof', 'rooftop', 'rooki', 'room', 'roomer', 'roommat', 'rooney', 'rooster', 'root', 'rope', 'roper', 'rosalia', 'rosalind', 'rosari', 'rosco', 'rose', 'rosebud', 'rosemari', 'rosenbaum', 'rosencrantz', 'rosenth', 'roshomonlik', 'rosi', 'ross', 'rossellini', 'rossi', 'roswel', 'rot', 'rota', 'rotat', 'rote', 'roth', 'rothhaar', 'rothschild', 'rotten', 'rotterdam', 'rotund', 'roug', 'rough', 'rougher', 'roughest', 'roughli', 'roughneck', 'roulett', 'round', 'rounder', 'roundtheworld', 'roundtrip', 'roundup', 'rourk', 'rous', 'rousselot', 'rout', 'routin', 'rove', 'rover', 'row', 'rowan', 'rowdi', 'roxann', 'roxburgh', 'roy', 'royal', 'royalti', 'royc', 'royercollard', 'rub', 'rubber', 'rubbish', 'rubbl', 'rube', 'rubella', 'ruben', 'rubi', 'rubin', 'rubinvega', 'rudd', 'rudderless', 'ruddi', 'rude', 'rudi', 'rudimentari', 'rudnick', 'rudolph', 'ruffian', 'rufu', 'rug', 'ruggedli', 'ruin', 'rule', 'ruler', 'rum', 'rumba', 'rumbl', 'rumin', 'rummag', 'rumor', 'rumour', 'rump', 'rumpl', 'run', 'runaway', 'rundown', 'rung', 'runner', 'runneth', 'runofthemil', 'runway', 'rupert', 'rural', 'rus', 'ruse', 'rush', 'rushmor', 'rusnak', 'russel', 'russia', 'russian', 'russiansound', 'russo', 'rusti', 'rustic', 'rustier', 'rustler', 'rut', 'ruth', 'rutherford', 'ruthless', 'rutland', 'ryan', 'ryder', 'rye', 'sabbat', 'sabina', 'sabor', 'sabotag', 'sabrina', 'saccharin', 'sach', 'sachet', 'sack', 'sacr', 'sacrament', 'sacrif', 'sacrific', 'sacrifici', 'sacrilegi', 'sad', 'saddam', 'sadden', 'sadder', 'saddl', 'sade', 'sadi', 'sadist', 'sadli', 'sadomasoch', 'sadsack', 'safari', 'safe', 'safecrack', 'safeti', 'saffron', 'saga', 'sage', 'sagebrush', 'sagemil', 'sahara', 'said', 'saigon', 'sail', 'sailboat', 'sailor', 'saint', 'saintsaen', 'saito', 'sake', 'sal', 'salaam', 'salaci', 'salami', 'salari', 'sale', 'salem', 'salesman', 'salesperson', 'salin', 'saling', 'salli', 'salma', 'salman', 'salon', 'salsa', 'salt', 'salti', 'saltoftheearth', 'salut', 'salvag', 'salvat', 'sam', 'samantha', 'samanthacharli', 'samara', 'samaritan', 'sami', 'sammi', 'sammo', 'samo', 'samoan', 'sampl', 'sampson', 'samuel', 'samurai', 'san', 'sancho', 'sanctimoni', 'sanction', 'sanctuari', 'sand', 'sandal', 'sander', 'sandi', 'sandler', 'sandra', 'sandworm', 'sane', 'sang', 'sanit', 'sanitarium', 'saniti', 'sanjay', 'sank', 'sant', 'santa', 'santiago', 'santo', 'santoro', 'sap', 'sappi', 'sara', 'sarah', 'sarajevo', 'sarcasm', 'sarcast', 'sardon', 'sare', 'sarong', 'sasayaki', 'sasha', 'sassi', 'sat', 'satan', 'sate', 'satellit', 'satin', 'satinski', 'satir', 'satisfact', 'satisfactori', 'satisfactorili', 'satisfi', 'satoshi', 'satur', 'saturday', 'saturdaynightl', 'saturn', 'saucer', 'sauci', 'saul', 'sauna', 'saunder', 'sausag', 'savag', 'savageri', 'savannah', 'savant', 'save', 'savetheworldfromaliensorenviron', 'savil', 'savior', 'savor', 'savoy', 'savvi', 'saw', 'sawa', 'saxon', 'saxophonist', 'say', 'scaffold', 'scale', 'scaleddown', 'scam', 'scamartist', 'scamper', 'scan', 'scandal', 'scandalridden', 'scant', 'scantili', 'scantilyclad', 'scar', 'scarab', 'scarc', 'scare', 'scarfac', 'scari', 'scarier', 'scariest', 'scarlet', 'scarlett', 'scarylook', 'scath', 'scatolog', 'scatter', 'scatterbrain', 'scattershot', 'scav', 'scenario', 'scene', 'sceneri', 'scenerymunch', 'scenest', 'scenesteal', 'scenesth', 'scent', 'schedul', 'schellenberg', 'schema', 'schemat', 'scheme', 'schemer', 'schiffer', 'schill', 'schindler', 'schintziu', 'schizophren', 'schizophrenia', 'schlesing', 'schlictman', 'schlock', 'schlockfest', 'schlocki', 'schlondorff', 'schlumpi', 'schmaltz', 'schmaltzi', 'schmeer', 'schmidt', 'schmuck', 'schneider', 'schnitzel', 'scholar', 'scholarli', 'scholarship', 'schomberg', 'school', 'schoolboy', 'schoolchild', 'schoolchildren', 'schooler', 'schoolgirl', 'schoolmarm', 'schoolteach', 'schoolwork', 'schrader', 'schreck', 'schroeder', 'schtick', 'schumach', 'schumann', 'schwalbach', 'schwartz', 'schwartzman', 'schwarzenegg', 'schweiber', 'scienc', 'sciencefict', 'scientif', 'scientist', 'scientolog', 'scifi', 'scifihorror', 'scifikungfushootemup', 'scissorhand', 'scof', 'scoff', 'scoop', 'scope', 'scorch', 'score', 'scorn', 'scorpion', 'scorses', 'scot', 'scotchinduc', 'scotland', 'scotsirish', 'scott', 'scotti', 'scottish', 'scottthoma', 'scoundrel', 'scour', 'scout', 'scovil', 'scowl', 'scram', 'scrambl', 'scrap', 'scrapbook', 'scrape', 'scrappi', 'scratch', 'scream', 'screamer', 'screamingli', 'screech', 'screed', 'screen', 'screenplay', 'screenplayand', 'screenplaywith', 'screentim', 'screenwrit', 'screenwriternovelist', 'screw', 'screwbal', 'screwer', 'screwi', 'screwup', 'scribbl', 'scribe', 'script', 'scriptur', 'scriptwrit', 'scroog', 'scrub', 'scrubber', 'scruffi', 'scrumptiou', 'scrutin', 'scrutini', 'scuba', 'scuffl', 'sculli', 'sculptor', 'sculptress', 'sculptur', 'scum', 'scumbag', 'scumbal', 'scummi', 'scurri', 'scuzzi', 'se', 'sea', 'seafar', 'seal', 'seam', 'seaman', 'seami', 'seamless', 'seamlessli', 'sean', 'seanc', 'seaport', 'sear', 'search', 'searchlight', 'seasick', 'seasid', 'season', 'seat', 'seatofthep', 'seattl', 'seattlebas', 'seawal', 'sebastian', 'sec', 'secess', 'seclud', 'seclus', 'second', 'secondari', 'secondincommand', 'secondli', 'secondr', 'secondstori', 'secondstr', 'secreci', 'secret', 'secretari', 'secretli', 'sect', 'section', 'sector', 'secur', 'sedat', 'sedit', 'seduc', 'seduct', 'seductress', 'see', 'seed', 'seedi', 'seek', 'seeker', 'seem', 'seemedthough', 'seemingli', 'seeminglyharmless', 'seeminglyheartless', 'seeminglyimpregn', 'seeminglyperfect', 'seeminglystrang', 'seen', 'seenlittl', 'seep', 'seesaw', 'seeth', 'segal', 'segment', 'segonzac', 'segreg', 'segu', 'seinfeld', 'seismic', 'seiz', 'sela', 'selbi', 'seldom', 'select', 'selena', 'self', 'selfabsorb', 'selfabsorpt', 'selfaccept', 'selfacknowledg', 'selfassur', 'selfassured', 'selfawar', 'selfcent', 'selfconfid', 'selfcongratulatori', 'selfconsci', 'selfdefens', 'selfdeprec', 'selfdepreci', 'selfdestruct', 'selfdon', 'selfesteem', 'selffulfil', 'selfhelp', 'selfhypnosi', 'selfimport', 'selfimpos', 'selfindulg', 'selfinflict', 'selfish', 'selflearn', 'selfloath', 'selfparodi', 'selfpiti', 'selfpossess', 'selfproclaim', 'selfrefer', 'selfreferenti', 'selfrepl', 'selfrespect', 'selfright', 'selfsam', 'selfserv', 'selfsustain', 'selftalk', 'selftaught', 'selftranc', 'selftreat', 'selfworth', 'sell', 'sellar', 'seller', 'selloff', 'sellout', 'selma', 'seltzer', 'selv', 'semblanc', 'semblenc', 'semen', 'semest', 'semi', 'semiarticul', 'semiautobiograph', 'semidramat', 'semiintrospect', 'seminak', 'seminar', 'semipromis', 'semislum', 'semistal', 'semistarmak', 'sen', 'senat', 'send', 'sender', 'sendoff', 'senil', 'senior', 'senora', 'sensat', 'sensei', 'senseless', 'sensibl', 'sensit', 'sensori', 'sensual', 'sensuou', 'sent', 'sentenc', 'sentient', 'sentiment', 'separ', 'seper', 'septemb', 'septic', 'sequel', 'sequelspinoff', 'sequenc', 'sequencesthey', 'serb', 'serbedzija', 'seren', 'serena', 'serenad', 'serendip', 'sergeant', 'sergio', 'serial', 'serialis', 'seriou', 'serious', 'serl', 'serlingish', 'sermon', 'serou', 'serpico', 'serra', 'serrano', 'serv', 'servant', 'servic', 'servo', 'sesam', 'session', 'set', 'setback', 'seth', 'seti', 'setpiec', 'settl', 'settlement', 'settler', 'setup', 'seung', 'seven', 'sevenight', 'seventeen', 'seventh', 'seventi', 'seventy', 'seventyf', 'sever', 'sevigni', 'sevil', 'sewag', 'sewer', 'sewn', 'sex', 'sexcraz', 'sexi', 'sexist', 'sexploit', 'sexpot', 'sexstarv', 'sexton', 'sexual', 'sexuallyfrustr', 'seymour', 'shabbi', 'shack', 'shackl', 'shackleton', 'shade', 'shadi', 'shadow', 'shadowi', 'shaft', 'shaftinafrica', 'shaftsbigscor', 'shag', 'shagadel', 'shaggi', 'shah', 'shake', 'shakedown', 'shaken', 'shaker', 'shakespear', 'shakespearean', 'shakespeareantrain', 'shakespearian', 'shaki', 'shakier', 'shale', 'shall', 'shallow', 'sham', 'shaman', 'shame', 'shameless', 'shamelessli', 'shampoolik', 'shamrock', 'shane', 'shang', 'shanghai', 'shanhou', 'shannon', 'shao', 'shape', 'shapeless', 'shard', 'share', 'shark', 'sharon', 'sharp', 'sharpen', 'sharper', 'sharpest', 'sharpli', 'shatter', 'shaun', 'shave', 'shaven', 'shaw', 'shawn', 'shawshank', 'she', 'shea', 'shear', 'shearer', 'shed', 'sheen', 'sheep', 'sheer', 'sheet', 'sheffield', 'sheik', 'sheikh', 'sheila', 'shelbi', 'sheldon', 'shelf', 'shell', 'shelley', 'shelli', 'shelmikedmu', 'shelter', 'shelton', 'shelv', 'shen', 'shenanigan', 'shepard', 'sheperd', 'sheppard', 'sherbedgia', 'sheridan', 'sheriff', 'sherlock', 'sherman', 'sherri', 'sheryl', 'shi', 'shield', 'shift', 'shifti', 'shimmer', 'shindig', 'shine', 'shini', 'shinohara', 'ship', 'shipboard', 'shipment', 'shirley', 'shiro', 'shirt', 'shirtless', 'shit', 'shite', 'shitheel', 'shitkick', 'shoal', 'shock', 'shocker', 'shockingli', 'shockwav', 'shoddi', 'shoe', 'shoeless', 'shoestr', 'shogun', 'shoo', 'shook', 'shoot', 'shootemup', 'shooter', 'shootout', 'shop', 'shopper', 'shor', 'shore', 'shorelin', 'short', 'shortag', 'shortcom', 'shortcrop', 'shortcut', 'shorten', 'shorter', 'shortest', 'shortfal', 'shorthand', 'shorti', 'shortlast', 'shortli', 'shortlist', 'shostakovich', 'shot', 'shotgun', 'shoulder', 'shoulderlength', 'shouldnt', 'shouldv', 'shout', 'shove', 'shovel', 'show', 'showbiz', 'showcas', 'showdown', 'shower', 'showgirl', 'showi', 'showman', 'showmanship', 'shown', 'showstop', 'showtim', 'shred', 'shrek', 'shrew', 'shrewd', 'shrewish', 'shriek', 'shrift', 'shrimp', 'shrink', 'shroud', 'shrug', 'shtick', 'shuck', 'shudder', 'shue', 'shuffl', 'shun', 'shunt', 'shut', 'shuttl', 'shyamalan', 'shyer', 'sibirski', 'sibl', 'sicili', 'sick', 'sickandtwist', 'sickbay', 'sicken', 'sickeningli', 'sickli', 'sid', 'side', 'sideeffect', 'sidekick', 'sidekicksidekick', 'sidelin', 'sideplot', 'sideshow', 'sidesplittingli', 'sidetrack', 'sidewalk', 'sidiou', 'sidney', 'sieg', 'siegel', 'sierra', 'sift', 'sigh', 'sight', 'sightless', 'sightse', 'sigmund', 'sign', 'signal', 'signatur', 'signifi', 'signific', 'significantli', 'sigourney', 'sikh', 'sil', 'silenc', 'silent', 'silicon', 'silk', 'silki', 'silli', 'silliest', 'sillysound', 'silva', 'silver', 'silverado', 'silveri', 'silverman', 'silverston', 'silverwar', 'silvi', 'silvio', 'sim', 'simian', 'similar', 'similarli', 'similarlystructur', 'similarlythem', 'simmer', 'simmon', 'simon', 'simonesqu', 'simper', 'simpl', 'simplemind', 'simpler', 'simplest', 'simpleton', 'simpli', 'simplic', 'simplifi', 'simplist', 'simpson', 'simul', 'simultan', 'sin', 'sinatra', 'sinc', 'sincer', 'sinceth', 'sinclair', 'sing', 'singapor', 'singer', 'singersthey', 'singh', 'singin', 'singl', 'singlehandedli', 'singleton', 'singsong', 'singular', 'singularli', 'sinist', 'sink', 'siouxsi', 'sip', 'sir', 'sire', 'siren', 'sirocco', 'sissi', 'sister', 'sisterinlaw', 'sit', 'sitch', 'sitcom', 'site', 'sith', 'sitter', 'sittingduck', 'situat', 'siva', 'six', 'sixmonth', 'sixpackwield', 'sixstr', 'sixteen', 'sixteenth', 'sixth', 'sixti', 'sixty', 'sixtyish', 'sixyear', 'sixyearold', 'sizabl', 'size', 'sizeabl', 'sizemor', 'skarsgard', 'skate', 'skateboard', 'skeet', 'skelet', 'skeleton', 'skellington', 'skeptic', 'sketch', 'sketchi', 'skew', 'skewer', 'ski', 'skid', 'skil', 'skill', 'skimp', 'skimpi', 'skin', 'skinhead', 'skinni', 'skintight', 'skip', 'skirmish', 'skirt', 'skit', 'skitlength', 'skittish', 'skull', 'skullfac', 'skunk', 'sky', 'skye', 'skylar', 'skylin', 'skyrocket', 'skyscrap', 'skywalk', 'skyway', 'slack', 'slacker', 'slackerhood', 'slackjaw', 'slade', 'sladewild', 'slain', 'slam', 'slang', 'slap', 'slappedtogeth', 'slapstick', 'slash', 'slasher', 'slashermovi', 'slate', 'slater', 'slatteri', 'slaughter', 'slave', 'slaver', 'slaveri', 'slay', 'slayer', 'sleaz', 'sleazi', 'sledgehamm', 'sleek', 'sleep', 'sleeper', 'sleepi', 'sleepless', 'sleepwalk', 'sleev', 'sleight', 'sleightofhand', 'slept', 'sleuth', 'slew', 'sli', 'slice', 'sliceanddic', 'sliceoflif', 'slick', 'slicker', 'slickest', 'slide', 'slight', 'slightest', 'slightli', 'slightlyless', 'slim', 'slime', 'slimebal', 'slimi', 'sling', 'slink', 'slinki', 'slip', 'slipperi', 'slipperysmooth', 'slitheri', 'slo', 'slob', 'slobber', 'slog', 'slogan', 'slomo', 'slop', 'slope', 'sloppi', 'sloppili', 'slosh', 'slot', 'slouch', 'slovenli', 'slow', 'slower', 'slowli', 'slowmot', 'slowmov', 'slowpac', 'sludg', 'slug', 'sluggish', 'slum', 'slumber', 'slur', 'slut', 'slutti', 'slyli', 'smack', 'small', 'smaller', 'smallest', 'smallscreen', 'smalltim', 'smalltown', 'smarmi', 'smart', 'smarta', 'smarter', 'smartest', 'smartli', 'smartmouth', 'smash', 'smatter', 'smear', 'smell', 'smelli', 'smile', 'smiley', 'smirk', 'smith', 'smitten', 'smoke', 'smokejump', 'smoker', 'smolder', 'smooth', 'smoothli', 'smorgasbord', 'smother', 'smug', 'smuggl', 'smuggler', 'smugli', 'smuglook', 'smut', 'smutti', 'snack', 'snag', 'snaggletooth', 'snail', 'snake', 'snap', 'snappi', 'snapshot', 'snarl', 'snatch', 'snatcher', 'snazzi', 'sneak', 'sneaker', 'sneaki', 'sneer', 'snicker', 'snickerworthi', 'snide', 'sniff', 'snip', 'snipe', 'sniper', 'snippet', 'snitch', 'snivel', 'snob', 'snobberi', 'snobbi', 'snobbish', 'snoop', 'snooti', 'snort', 'snot', 'snow', 'snowbal', 'snowbound', 'snowcov', 'snowfal', 'snowi', 'snowiest', 'snowsho', 'snowstorm', 'snub', 'snuf', 'snuff', 'soak', 'soap', 'soar', 'soav', 'sob', 'sobchak', 'sober', 'sobrieti', 'soc', 'socal', 'soccer', 'social', 'socialist', 'socialit', 'societ', 'societi', 'sociolog', 'sociopath', 'sock', 'socket', 'soda', 'soderbergh', 'sofia', 'soft', 'softcor', 'soften', 'softi', 'softli', 'softtoss', 'softwar', 'soggi', 'soho', 'soil', 'soilwhich', 'soire', 'sol', 'solac', 'solar', 'sold', 'soldier', 'sole', 'solemn', 'solemnli', 'solicit', 'solid', 'solidar', 'solidifi', 'soliloqui', 'soliloquy', 'solitari', 'solitud', 'solo', 'soloflight', 'solomon', 'solon', 'solut', 'solv', 'solvent', 'solver', 'somalia', 'somber', 'somebodi', 'someday', 'somehow', 'someon', 'someplac', 'somerset', 'someth', 'sometim', 'sometimesodi', 'somewhat', 'somewher', 'sommeli', 'sommer', 'son', 'sona', 'sondra', 'song', 'songandd', 'songwrit', 'soni', 'sonnenfeld', 'sonni', 'sonora', 'sonya', 'sonyloew', 'soon', 'sooner', 'soontob', 'soontobeclass', 'soooo', 'sooooo', 'sooth', 'soothingli', 'sooti', 'sophi', 'sophia', 'sophist', 'sophomor', 'soppi', 'sopranalik', 'soprano', 'sora', 'sorcer', 'sorceri', 'sordid', 'sore', 'soror', 'sorri', 'sorrow', 'sort', 'sorta', 'soso', 'souca', 'sought', 'soughtaft', 'soul', 'soulcollect', 'soulless', 'soulmat', 'sound', 'soundbit', 'soundman', 'soundtrack', 'soup', 'soupi', 'sour', 'sourc', 'south', 'southampton', 'southern', 'southerndrawl', 'southland', 'southwest', 'souvenir', 'soviet', 'soy', 'space', 'spacebal', 'spacecraft', 'spacefar', 'spaceport', 'spaceship', 'spacey', 'spaciou', 'spade', 'spaghetti', 'spain', 'spam', 'span', 'spaniard', 'spanish', 'spank', 'spar', 'spare', 'spark', 'sparki', 'sparkl', 'spartacu', 'spasmod', 'spastic', 'spat', 'spate', 'spatial', 'spawn', 'speak', 'speakeasytyp', 'speaker', 'spear', 'speci', 'special', 'specialeffect', 'specialis', 'specialist', 'specif', 'spectacl', 'spectacular', 'spectacularli', 'spectat', 'specter', 'spector', 'spectrum', 'specul', 'sped', 'speech', 'speechless', 'speed', 'speedboat', 'speedi', 'spell', 'spencer', 'spend', 'spent', 'sperm', 'spew', 'sphere', 'spheric', 'spi', 'spice', 'spici', 'spicoli', 'spider', 'spiderman', 'spiel', 'spielberg', 'spielberginspir', 'spier', 'spike', 'spill', 'spin', 'spindli', 'spine', 'spinechil', 'spinella', 'spinoff', 'spinster', 'spiral', 'spirit', 'spiritless', 'spiritu', 'spiritualist', 'spit', 'spite', 'splash', 'splashi', 'splatter', 'spleen', 'splendid', 'splendidli', 'splendor', 'splendour', 'splice', 'split', 'splitsecond', 'spoil', 'spoiler', 'spoilerfil', 'spoke', 'spoken', 'spokesman', 'spong', 'sponsor', 'spontan', 'spoof', 'spook', 'spooki', 'spoon', 'sporad', 'sport', 'sporti', 'sportscast', 'spot', 'spotlight', 'spotter', 'spotti', 'spous', 'spousal', 'spout', 'sprang', 'sprawl', 'spray', 'spraypaint', 'spread', 'spree', 'spri', 'spring', 'springer', 'springsteen', 'sprinkl', 'sprint', 'sprite', 'spruce', 'sprung', 'spud', 'spunk', 'spunki', 'spur', 'spurt', 'sputnik', 'sputter', 'spyglass', 'squabbl', 'squad', 'squaddi', 'squalid', 'squalor', 'squander', 'squar', 'squarejaw', 'squaresoft', 'squash', 'squeaki', 'squeakyclean', 'squeal', 'squeamish', 'squeez', 'squib', 'squid', 'squiggli', 'squint', 'squirm', 'squirminduc', 'squirrel', 'squish', 'stab', 'stabil', 'stabl', 'staccato', 'stacey', 'staci', 'stack', 'stadium', 'staff', 'staffer', 'stag', 'stage', 'stagger', 'stagnant', 'stahl', 'stain', 'stair', 'stake', 'stalag', 'stale', 'stalk', 'stalker', 'stall', 'stallon', 'stalwart', 'stamen', 'stammer', 'stamp', 'stamped', 'stamper', 'stan', 'stanc', 'stand', 'standard', 'standardis', 'standbi', 'standin', 'standoff', 'standoffish', 'standout', 'standpoint', 'standup', 'stanford', 'stanislav', 'stanley', 'stanleyvil', 'stanton', 'stapl', 'stapleton', 'star', 'starbuck', 'starcross', 'stardom', 'stardust', 'stare', 'stargat', 'stargher', 'stark', 'starl', 'starlet', 'starship', 'starstruck', 'starstud', 'start', 'startl', 'startlingli', 'starv', 'stash', 'state', 'statement', 'statementmak', 'staten', 'stateoftheart', 'statesanct', 'statesid', 'static', 'station', 'stationari', 'statist', 'statu', 'statur', 'stavro', 'stay', 'stayin', 'steadfast', 'steadi', 'steadicam', 'steadili', 'steak', 'steal', 'stealer', 'stealth', 'stealthi', 'steam', 'steami', 'steed', 'steel', 'steelfactori', 'steelgray', 'steen', 'steenburgen', 'steep', 'steer', 'steerag', 'stein', 'steinberg', 'steiner', 'stella', 'stellar', 'stem', 'stempl', 'stendahl', 'stendhal', 'step', 'stepchild', 'stepdaught', 'stepfath', 'stephan', 'stephen', 'stepmom', 'stepmoth', 'stereo', 'stereotyp', 'steril', 'sterl', 'stern', 'sternli', 'steroid', 'stetson', 'steve', 'steven', 'stevenson', 'stevi', 'stew', 'stewardess', 'stewart', 'stick', 'sticki', 'stickler', 'stickman', 'stickup', 'stiff', 'stifl', 'stifler', 'stiger', 'stigma', 'stile', 'still', 'stiller', 'stillman', 'stilt', 'stimul', 'sting', 'stink', 'stinker', 'stinki', 'stinkiest', 'stint', 'stipul', 'stir', 'stirrup', 'stitch', 'stivaletti', 'stock', 'stockwel', 'stockyard', 'stoddard', 'stogi', 'stoic', 'stoical', 'stoicism', 'stoke', 'stoker', 'stole', 'stolen', 'stoli', 'stoltz', 'stomach', 'stomp', 'stone', 'stonecutt', 'stoner', 'stonework', 'stood', 'stoog', 'stooli', 'stoop', 'stop', 'stopanim', 'stopper', 'storag', 'store', 'stori', 'storm', 'stormi', 'storyboard', 'storybook', 'storylin', 'storytel', 'stout', 'stove', 'stowaway', 'straight', 'straighten', 'straightest', 'straightfac', 'straightforward', 'straightforwardli', 'straighttothecutoutbin', 'straighttovideo', 'strain', 'strait', 'straitjacket', 'straitlac', 'strand', 'strang', 'strangelov', 'stranger', 'strangest', 'strangl', 'stranglehold', 'strap', 'strass', 'strateg', 'strategi', 'strategist', 'strathairn', 'stratospher', 'stratum', 'stravinski', 'straw', 'strawberri', 'stray', 'streak', 'stream', 'streep', 'street', 'streetcar', 'streetsmart', 'streetwis', 'streisand', 'strength', 'strengthen', 'stress', 'stressedout', 'stressinduc', 'stretch', 'strewn', 'stricken', 'strickler', 'strict', 'stricter', 'strictli', 'stride', 'strident', 'strife', 'strike', 'striker', 'strikingli', 'string', 'stringi', 'strip', 'stripe', 'stripper', 'stripteas', 'strive', 'strobe', 'stroke', 'stroll', 'stroller', 'strong', 'stronger', 'strongest', 'strongli', 'strongman', 'strongwil', 'struck', 'structur', 'structurewis', 'struggl', 'strum', 'strung', 'strut', 'struther', 'strychninelac', 'stu', 'stuart', 'stubbi', 'stubborn', 'stubbornli', 'stuck', 'stud', 'student', 'studi', 'studio', 'studli', 'stuf', 'stuff', 'stuffexcept', 'stuffi', 'stultifi', 'stumbl', 'stump', 'stun', 'stung', 'stunner', 'stunningli', 'stunt', 'stuntman', 'stupefi', 'stupefyingli', 'stupend', 'stupid', 'stupidest', 'stupidli', 'stupor', 'sturdi', 'stutter', 'style', 'stylish', 'stylishli', 'stylist', 'styliz', 'stymi', 'su', 'suav', 'sub', 'subconsci', 'subcontin', 'subcultur', 'subdesarrollo', 'subdu', 'subgeniu', 'subgenr', 'subject', 'subjectmatt', 'sublim', 'submarin', 'submerg', 'submiss', 'submissionth', 'submit', 'subordin', 'subpar', 'subplot', 'subscrib', 'subsequ', 'subservi', 'subsidi', 'subsidiari', 'substanc', 'substandard', 'substant', 'substanti', 'substitut', 'subsum', 'subterfug', 'subtext', 'subthem', 'subtitl', 'subtl', 'subtler', 'subtleti', 'subtli', 'subtract', 'suburb', 'suburban', 'suburbia', 'subvers', 'subvert', 'subway', 'succe', 'succeed', 'success', 'successor', 'succinct', 'succumb', 'suck', 'sucker', 'sudden', 'suddenli', 'sue', 'suffer', 'suffic', 'suffici', 'suffoc', 'sufi', 'sugar', 'sugarcoat', 'sugari', 'sugarplum', 'suggest', 'sugiyama', 'sugiyana', 'sui', 'suicid', 'suit', 'suitabl', 'suitandti', 'suitcas', 'suitor', 'sulcus', 'sulfur', 'sulk', 'sullen', 'sulli', 'sullivan', 'sultan', 'sultri', 'sum', 'sumbitch', 'summa', 'summar', 'summari', 'summat', 'summer', 'summon', 'sumo', 'sumptuou', 'sun', 'sunbath', 'sunda', 'sundanc', 'sunday', 'sunder', 'sung', 'sunglass', 'sunk', 'sunken', 'sunlight', 'sunni', 'sunniest', 'sunris', 'sunset', 'sunshin', 'suo', 'super', 'superador', 'superag', 'superb', 'superbl', 'supercharg', 'supercili', 'supercop', 'superfici', 'superflu', 'supergeniu', 'supergirl', 'superhero', 'superhuman', 'superimpos', 'superintellig', 'superior', 'superjudgment', 'superl', 'supermarket', 'supermasochist', 'supermodel', 'supermom', 'supernatur', 'superpow', 'supersecret', 'supersed', 'superseventi', 'superstar', 'superstit', 'superstructur', 'supertechnolog', 'supervis', 'supervisor', 'superweapon', 'supplant', 'supplement', 'suppli', 'supplic', 'supplier', 'supplytrad', 'support', 'suppos', 'supposedli', 'suppress', 'suprem', 'supress', 'supris', 'sure', 'surefir', 'surf', 'surfac', 'surfeit', 'surfer', 'surg', 'surgeon', 'surgeri', 'surgic', 'surmis', 'surpass', 'surpris', 'surprisingli', 'surreal', 'surrealist', 'surrend', 'surreptiti', 'surrog', 'surround', 'surveil', 'survey', 'surviv', 'survivor', 'susan', 'suscept', 'suspect', 'suspend', 'suspens', 'suspenseless', 'suspensesci', 'suspici', 'suspicion', 'suspiria', 'sustain', 'susten', 'sutherland', 'sutton', 'sutur', 'suvarov', 'suzann', 'suzi', 'sven', 'svu', 'swagger', 'swallow', 'swamp', 'swan', 'swank', 'swanson', 'swarm', 'swashbuckl', 'swastika', 'swastikawear', 'swat', 'sway', 'swayz', 'swear', 'sweargruntblast', 'sweat', 'sweater', 'sweati', 'sweatshirt', 'sweatshop', 'sweden', 'swedish', 'sweeney', 'sweep', 'sweepstak', 'sweet', 'sweetback', 'sweeten', 'sweetest', 'sweetfac', 'sweetheart', 'sweetli', 'sweetnatur', 'swell', 'swept', 'swift', 'swiftli', 'swill', 'swim', 'swimmer', 'swindler', 'swing', 'swinger', 'swingin', 'swinton', 'swipe', 'swirl', 'swiss', 'switch', 'switchback', 'switzerland', 'swoon', 'sword', 'swordplay', 'swordsman', 'swordwield', 'swore', 'sworn', 'syd', 'sydney', 'syke', 'syllabl', 'sylvest', 'sylvi', 'sylvia', 'symbiosi', 'symbol', 'symbolis', 'symmetri', 'sympath', 'sympathet', 'sympathi', 'sympathis', 'symphoni', 'symptom', 'symptomat', 'synaps', 'sync', 'synchron', 'syndic', 'syndrom', 'syndromelik', 'synonym', 'synopsi', 'synthes', 'synthesi', 'synthet', 'syring', 'syrup', 'syrupi', 'system', 'systemat', 'szubanski', 'ta', 'tabasco', 'tabl', 'tabloid', 'taboo', 'tachi', 'tacitli', 'taciturn', 'tack', 'tacki', 'tackl', 'taco', 'tact', 'tactic', 'tactil', 'tad', 'tael', 'tag', 'tagalong', 'taglin', 'tahiti', 'taho', 'tai', 'tail', 'tailor', 'taint', 'taipan', 'taiwan', 'taiwanes', 'takaku', 'take', 'takedown', 'taken', 'takenocrap', 'takenoprison', 'takeoff', 'takeov', 'takeshi', 'tale', 'talent', 'talentless', 'talk', 'talker', 'talki', 'talkin', 'talkingdirectlyintothecameraschtick', 'talkinghead', 'talkshow', 'tall', 'taller', 'talli', 'tam', 'tamara', 'tame', 'tamino', 'tammi', 'tamper', 'tampon', 'tan', 'tanaka', 'tandi', 'tang', 'tangent', 'tangenti', 'tangibl', 'tangl', 'tango', 'tank', 'tanker', 'tanner', 'tantal', 'tantamount', 'tanto', 'tantric', 'tantrum', 'tap', 'tape', 'tapestri', 'tapeworship', 'tapioca', 'tara', 'taran', 'tarantino', 'tarantula', 'tardi', 'target', 'tarnish', 'tarout', 'tarp', 'tart', 'tartar', 'tartli', 'tarzan', 'tasha', 'task', 'tassel', 'tast', 'tasteless', 'tasti', 'tatami', 'tate', 'tatooin', 'tatopoulo', 'tatopouloss', 'tatter', 'tattoo', 'tatum', 'tatyana', 'taught', 'taunt', 'taut', 'tawdri', 'tax', 'taxat', 'taxi', 'tay', 'taylor', 'taylorgordon', 'tea', 'teach', 'teacher', 'teacherstud', 'team', 'teammat', 'teapot', 'tear', 'teari', 'tearjerk', 'tearoom', 'teaseathon', 'teaser', 'tech', 'technic', 'technician', 'technicolor', 'techniqu', 'techno', 'technobabbl', 'technolog', 'technothril', 'tecton', 'ted', 'teddi', 'tediou', 'tedious', 'tedium', 'tee', 'teen', 'teenag', 'teenagedavid', 'teenspeak', 'teentarget', 'teeshirt', 'teeter', 'teetertott', 'teeth', 'teleconferenc', 'telegram', 'telegraph', 'telekinet', 'telepath', 'telephon', 'teleplay', 'teleprompt', 'telescop', 'televis', 'tell', 'teller', 'telli', 'tellingli', 'tellitlik', 'telltal', 'temer', 'temp', 'temper', 'temperatur', 'tempestu', 'templ', 'templar', 'templeton', 'tempo', 'temporarili', 'tempt', 'temptat', 'temptress', 'ten', 'tenaci', 'tenant', 'tend', 'tendenc', 'tender', 'tenderli', 'tenebra', 'tenet', 'tennant', 'tennesse', 'tenni', 'tenor', 'tension', 'tent', 'tentacl', 'tenth', 'tenuou', 'tenur', 'tepid', 'tequila', 'terenc', 'teresa', 'teri', 'terk', 'term', 'termin', 'terminolog', 'terminu', 'terra', 'terrac', 'terrain', 'terrarium', 'terrenc', 'terrestri', 'terri', 'terrian', 'terribl', 'terrif', 'terrifi', 'terrifyingli', 'territori', 'terror', 'terroris', 'terrorist', 'tertiari', 'test', 'testament', 'testicl', 'testicular', 'testifi', 'testimoni', 'testosteron', 'testosteronedriven', 'texa', 'texan', 'text', 'textbook', 'textual', 'textur', 'thade', 'thai', 'thaiborn', 'thailand', 'thank', 'thankless', 'thanksgiv', 'that', 'that8216', 'thatd', 'thatll', 'theater', 'theatr', 'theatric', 'thebook', 'thebroadwaymus', 'thee', 'theend', 'theft', 'thefugit', 'thejob', 'thelionk', 'themat', 'theme', 'themself', 'thenfootag', 'thentechnolog', 'thenunknown', 'theo', 'theodor', 'theolog', 'theorem', 'theoret', 'theoretician', 'theori', 'theorist', 'theoriz', 'therapi', 'therapist', 'there', 'thereaft', 'therebi', 'therefor', 'therein', 'theremindriven', 'thereof', 'thereofthreaten', 'theresa', 'thermian', 'thermit', 'thermoelectr', 'thermonuclear', 'these', 'thesi', 'thespian', 'theyd', 'theyll', 'theymightbecaught', 'theyv', 'thi', 'thick', 'thicken', 'thickhead', 'thief', 'thierri', 'thiev', 'thigh', 'thin', 'thine', 'thing', 'thingi', 'thingsgoneawri', 'thingsthat', 'think', 'thinker', 'thinkth', 'thinli', 'thinnest', 'third', 'thirdclass', 'thirdli', 'thirdrat', 'thirst', 'thirteen', 'thirteenth', 'thirti', 'thirty', 'thirtyf', 'thirtysometh', 'thirtytoo', 'thirtyyear', 'thirtyyearold', 'thisobviouslycostalotsoyouknow', 'thivisol', 'tho', 'tholian', 'thom', 'thoma', 'thompson', 'thorax', 'thorn', 'thorni', 'thornton', 'thorough', 'thoroughbr', 'thoroughlymodern', 'thou', 'though', 'thought', 'thoughtless', 'thoughtprovok', 'thousand', 'thrash', 'thre', 'thread', 'threadeach', 'threadi', 'threat', 'threaten', 'three', 'threebe', 'threedimension', 'threefold', 'threehour', 'threehourtearfest', 'threeminut', 'threeplu', 'threequart', 'threesom', 'threestar', 'threethousand', 'threeyear', 'threw', 'thrift', 'thrill', 'thriller', 'thrillrid', 'thrive', 'throat', 'throb', 'throe', 'throne', 'throttl', 'throug', 'throughandthrough', 'throughout', 'throughouteras', 'throughthesight', 'throw', 'throwaway', 'throwback', 'thrown', 'throwtogeth', 'thru', 'thrust', 'thu', 'thud', 'thug', 'thuggish', 'thumb', 'thump', 'thunder', 'thurman', 'thwart', 'thyself', 'ti', 'tian', 'tiberiu', 'tibet', 'tibetan', 'tic', 'tick', 'ticker', 'ticket', 'tickl', 'tidal', 'tidbit', 'tide', 'tideyman', 'tidi', 'tie', 'tien', 'tier', 'tierney', 'tiff', 'tiffani', 'tiger', 'tight', 'tighten', 'tighter', 'tightfit', 'tightli', 'til', 'tilda', 'tile', 'till', 'tilli', 'tillman', 'tim', 'timberland', 'time', 'timeconserv', 'timeconstrain', 'timefram', 'timeless', 'timeli', 'timelin', 'timemachin', 'timer', 'timescal', 'timetotim', 'timetravel', 'timid', 'timmon', 'timo', 'timon', 'timor', 'timothi', 'tin', 'tina', 'tinder', 'ting', 'tingl', 'tini', 'tinier', 'tinker', 'tinseltown', 'tint', 'tip', 'tipsi', 'tipto', 'tirad', 'tire', 'tirelessli', 'tiresom', 'tisdal', 'tish', 'tissu', 'tit', 'titan', 'titanicfev', 'titil', 'titl', 'titleist', 'titt', 'titti', 'titu', 'titular', 'toad', 'toast', 'toaster', 'tobacco', 'tobey', 'tobi', 'tod', 'today', 'todd', 'toddler', 'todiefor', 'toe', 'togeth', 'toho', 'toil', 'toilet', 'token', 'tokyo', 'told', 'toler', 'toll', 'tollbooth', 'toller', 'tom', 'toma', 'tomahawk', 'tomato', 'tomb', 'tomboy', 'tomboyish', 'tombston', 'tome', 'tommi', 'tomorrow', 'ton', 'tone', 'toneddown', 'tongu', 'tongueincheek', 'tongueti', 'toni', 'tonight', 'tonino', 'tooforgiv', 'took', 'tool', 'toontown', 'tooobviou', 'tooth', 'toothi', 'toothpick', 'tootsi', 'top', 'topbil', 'topflight', 'topiari', 'topic', 'topless', 'topnotch', 'topo', 'toppl', 'topsecret', 'topsyturvi', 'torah', 'torben', 'torch', 'tore', 'torino', 'torment', 'torn', 'tornado', 'tornadocaus', 'toro', 'toronto', 'torpedo', 'torpor', 'torranc', 'torrent', 'torrenti', 'torrid', 'torso', 'tortilla', 'tortur', 'torus', 'toshiyuki', 'toss', 'tot', 'total', 'totalitarian', 'tote', 'toto', 'totopoulo', 'totoro', 'touch', 'touchi', 'touchingli', 'touchston', 'touchyfe', 'tough', 'toughasnail', 'toughen', 'tougher', 'toughest', 'toughguy', 'toulouselautrec', 'tour', 'tourdeforc', 'tourett', 'tourism', 'tourist', 'tournament', 'toursdeforc', 'tout', 'tow', 'toward', 'towel', 'tower', 'towhead', 'town', 'townfolk', 'towni', 'townsfolk', 'townspeopl', 'toxic', 'toy', 'toyour', 'trace', 'trachtenberg', 'traci', 'track', 'tracker', 'tract', 'trade', 'trademark', 'trader', 'tradit', 'traffic', 'tragedi', 'trager', 'tragic', 'tragicom', 'trail', 'trailer', 'train', 'traine', 'trainer', 'trait', 'traitor', 'trajectori', 'tram', 'tramp', 'tran', 'tranc', 'tranquil', 'transact', 'transatlant', 'transcend', 'transcendent', 'transfer', 'transfix', 'transform', 'transgress', 'transit', 'transitori', 'translat', 'transmiss', 'transmit', 'transmitt', 'transpar', 'transpir', 'transplant', 'transport', 'transpos', 'transsexu', 'transvestit', 'transylvania', 'trap', 'trapez', 'trash', 'trashi', 'trask', 'trauma', 'traumat', 'traumatis', 'traumnovel', 'travail', 'travel', 'travelbookstor', 'travelogu', 'traver', 'travers', 'travesti', 'travi', 'travolta', 'tray', 'treacher', 'treacheri', 'treacli', 'tread', 'treasur', 'treasuretrov', 'treat', 'treati', 'treatment', 'tree', 'treehorn', 'treehous', 'treelin', 'trek', 'trekker', 'trekki', 'tremend', 'tremor', 'trench', 'trenchcoat', 'trend', 'trendi', 'trendsett', 'trent', 'trepid', 'tretiak', 'trevor', 'trey', 'tri', 'triad', 'trial', 'triangl', 'tribal', 'tribe', 'tribul', 'tribun', 'tribut', 'tricia', 'trick', 'trickeri', 'tricki', 'triedandtru', 'trifl', 'trigger', 'trilog', 'trim', 'trinidad', 'triniti', 'trio', 'trip', 'tripe', 'tripl', 'triplecross', 'tripledigit', 'tripp', 'trippi', 'tripplehorn', 'trish', 'tristan', 'tristen', 'trite', 'triton', 'triumph', 'triumphant', 'triumphantli', 'trivia', 'trivial', 'troi', 'trojan', 'trollop', 'troop', 'trooper', 'trophi', 'tropic', 'trot', 'troubl', 'troublesom', 'trough', 'troup', 'trouser', 'trout', 'troy', 'truck', 'trucker', 'truckload', 'trudg', 'true', 'truer', 'truest', 'truethre', 'truetolif', 'truffaut', 'truli', 'truman', 'trump', 'trumpet', 'trumpetplay', 'truncat', 'trunchbul', 'trunk', 'trust', 'trusti', 'trustworthi', 'truth', 'tryst', 'tsai', 'tschomb', 'tshomb', 'tso', 'tsubasa', 'tsui', 'tsutomu', 'tub', 'tube', 'tucci', 'tuck', 'tucker', 'tudeski', 'tuesday', 'tug', 'tuition', 'tulip', 'tumbl', 'tumblewe', 'tumor', 'tumultu', 'tumultuos', 'tuna', 'tune', 'tunesand', 'tunesbut', 'tunnel', 'tunney', 'tupac', 'turbo', 'turbul', 'turf', 'turgid', 'turgidson', 'turin', 'turk', 'turkey', 'turkish', 'turmoil', 'turn', 'turnaround', 'turner', 'turnerown', 'turnoff', 'turnpik', 'turnstil', 'turret', 'turtl', 'turtleneck', 'turturro', 'tuscan', 'tussl', 'tutelag', 'tutor', 'tvmovieoftheweek', 'twang', 'tweak', 'tweedi', 'twelv', 'twenti', 'twentieth', 'twenty', 'twentyeight', 'twentyf', 'twentyfoottal', 'twentyfour', 'twentynin', 'twentysometh', 'twentytwo', 'twice', 'twigsculptur', 'twilight', 'twin', 'twirl', 'twist', 'twister', 'twisteroccurr', 'twisti', 'twistpeopl', 'twit', 'twitch', 'two', 'twoandahalf', 'twocenturi', 'twodimension', 'twofold', 'twosom', 'twothird', 'twotim', 'tycoon', 'tyke', 'tylenol', 'tyler', 'type', 'typecast', 'typewrit', 'typhoon', 'typic', 'typifi', 'tyra', 'tyrann', 'tyranni', 'tyrel', 'tyron', 'tyson', 'u571', 'uber', 'ubertemptress', 'ubiqu', 'ubiquit', 'ucla', 'ufo', 'ugg', 'ugh', 'ugli', 'ugliest', 'uh', 'uhhmm', 'uk', 'ulrich', 'ulterior', 'ultim', 'ultra', 'ultraconfid', 'ultraconserv', 'ultracool', 'ultraman', 'ultranationalist', 'ultraorthodox', 'ultrareligi', 'ultrasecret', 'ultraviolet', 'ulyss', 'um', 'uma', 'umbrella', 'umm', 'ummm', 'umpteenth', 'un', 'unab', 'unabash', 'unabashedli', 'unabl', 'unabomb', 'unaccept', 'unadulter', 'unafraid', 'unambigu', 'unambiti', 'unanim', 'unannounc', 'unansw', 'unapologet', 'unapp', 'unarm', 'unassail', 'unassum', 'unattain', 'unattract', 'unavoid', 'unawar', 'unbalanc', 'unbear', 'unbeknownst', 'unbeliev', 'unbias', 'unblink', 'unborn', 'unbreak', 'unbridl', 'unbroken', 'unburi', 'uncanni', 'uncar', 'unceremoni', 'uncertain', 'uncertainti', 'unchalleng', 'unchang', 'uncharacterist', 'uncheck', 'uncl', 'unclear', 'uncomfort', 'uncommon', 'uncommonli', 'uncompromis', 'unconnect', 'unconsci', 'uncontrol', 'unconvent', 'unconvinc', 'uncoop', 'uncork', 'uncount', 'uncouth', 'uncov', 'uncredit', 'uncrit', 'unctuou', 'uncut', 'undead', 'undecid', 'undefin', 'undemand', 'undeni', 'underachiev', 'underag', 'underappreci', 'underbelli', 'underclass', 'undercov', 'undercurr', 'undercut', 'underdevelop', 'underdog', 'underestim', 'undergo', 'undergon', 'underground', 'underhand', 'underl', 'underli', 'underlin', 'undermin', 'underneath', 'underperform', 'underpin', 'underplay', 'underpopul', 'underr', 'underscor', 'undersid', 'underst', 'understand', 'understat', 'understood', 'undertak', 'underton', 'underus', 'underutil', 'underwat', 'underway', 'underwear', 'underwhelm', 'underwhelmingand', 'underwood', 'underworld', 'underwritten', 'undeserv', 'undet', 'undevelop', 'undi', 'undirect', 'undisclos', 'undiscov', 'undisneyish', 'undisput', 'undistinguish', 'undo', 'undocu', 'undoubtedli', 'undress', 'undu', 'undul', 'unearth', 'uneasi', 'uneasili', 'uneduc', 'unemot', 'unemploy', 'unendur', 'unenthusiast', 'unenvi', 'unequip', 'unequivoc', 'unerringli', 'unev', 'uneven', 'unexcept', 'unexcit', 'unexpect', 'unexpectedli', 'unexplain', 'unexplor', 'unfair', 'unfairli', 'unfaith', 'unfamiliar', 'unfathom', 'unfeas', 'unfeel', 'unfinish', 'unfit', 'unflag', 'unflatt', 'unflinch', 'unfocus', 'unfold', 'unforc', 'unforgett', 'unforgiv', 'unfortun', 'unfriendli', 'unfulfil', 'unfunni', 'unger', 'unhappi', 'unhappili', 'unharm', 'unhealthi', 'unheard', 'unhing', 'unhip', 'unholi', 'uni', 'unidentifi', 'unifi', 'uniform', 'uniformli', 'unimagin', 'unimport', 'unimpress', 'uninform', 'uninhabit', 'uninhibit', 'uniniti', 'uninspir', 'unintellig', 'unintend', 'unintent', 'uninterest', 'union', 'uniqu', 'unison', 'unit', 'uniti', 'univers', 'unjust', 'unjustifi', 'unjustli', 'unkempt', 'unkind', 'unknow', 'unknowingli', 'unknown', 'unlaw', 'unleash', 'unless', 'unlicens', 'unlik', 'unlimit', 'unlock', 'unlucki', 'unmask', 'unmatch', 'unmerci', 'unmistak', 'unmitig', 'unnam', 'unnecessari', 'unnecessarili', 'unneed', 'unnerv', 'unnot', 'unnotic', 'unoffici', 'unorigin', 'unorthodox', 'unparallel', 'unpav', 'unperturb', 'unpleas', 'unplug', 'unpreced', 'unpredict', 'unprepar', 'unpretenti', 'unproduc', 'unprofession', 'unpromis', 'unprotect', 'unpublish', 'unquest', 'unquestion', 'unrat', 'unravel', 'unreal', 'unrealist', 'unreason', 'unrecept', 'unrecogniz', 'unrel', 'unrelentingli', 'unreli', 'unremark', 'unrequit', 'unresolv', 'unrest', 'unrestrain', 'unreward', 'unromant', 'unruli', 'unsatisfactori', 'unsatisfi', 'unsavori', 'unscath', 'unscrupul', 'unseen', 'unselfconsci', 'unsentiment', 'unsettl', 'unshaven', 'unsheath', 'unsink', 'unsoci', 'unsophist', 'unspeak', 'unspecifi', 'unspectacular', 'unspoken', 'unspool', 'unstabl', 'unstopp', 'unstructur', 'unsubtl', 'unsuccess', 'unsung', 'unsur', 'unsurprisingfashion', 'unsurprisingli', 'unsuspect', 'unsympathet', 'untal', 'untam', 'unthink', 'unti', 'untim', 'unto', 'untold', 'untouch', 'untru', 'unusu', 'unveil', 'unw', 'unwant', 'unwatch', 'unwav', 'unwelcom', 'unwil', 'unwilling', 'unwit', 'unwittingli', 'unworthi', 'unwritten', 'up', 'upandcom', 'upbeat', 'upbring', 'upcom', 'updat', 'updraft', 'upfront', 'upheav', 'uphil', 'uphold', 'upholst', 'uplift', 'upon', 'upper', 'uppercut', 'uppiti', 'upright', 'uproar', 'uproari', 'upscal', 'upset', 'upsid', 'upsidedown', 'upstag', 'upstair', 'upstart', 'upstat', 'uptight', 'upward', 'upwardli', 'upwardlymobil', 'urban', 'urbanit', 'urbanlegend', 'urg', 'urgenc', 'urgent', 'urin', 'urinari', 'ursula', 'us100', 'usa', 'usag', 'use', 'useless', 'user', 'usher', 'ussr', 'ustinov', 'usual', 'usurp', 'utah', 'util', 'utmost', 'utopia', 'utter', 'utterli', 'vacanc', 'vacant', 'vacat', 'vaccaro', 'vacuou', 'vacuum', 'vader', 'vagu', 'vaguest', 'vai', 'vain', 'val', 'valdez', 'valencia', 'valentin', 'valeri', 'valeria', 'valet', 'valiant', 'valid', 'valjean', 'vallejo', 'valley', 'valu', 'valuabl', 'vamp', 'vampi', 'vampir', 'vampirefilm', 'vampyr', 'van', 'vancouv', 'vandal', 'vandernoot', 'vanessa', 'vanish', 'vaniti', 'vanquish', 'vapid', 'var', 'vari', 'variabl', 'variant', 'variat', 'varieti', 'variou', 'varsiti', 'vasquez', 'vassili', 'vast', 'vastli', 'vat', 'vatican', 'vaughn', 'vault', 've', 'veer', 'vega', 'vegan', 'vegasbas', 'veget', 'vehicl', 'veil', 'vein', 'veini', 'velma', 'veloc', 'velociraptor', 'velvet', 'vend', 'vendetta', 'vendor', 'veneer', 'vener', 'venetian', 'veng', 'vengeanc', 'venic', 'venom', 'vent', 'ventur', 'ventura', 'venu', 'ver', 'vera', 'verac', 'verbal', 'verbos', 'verboten', 'verdant', 'verdict', 'verg', 'verger', 'verhoeven', 'verifi', 'verisimilitud', 'verit', 'veriti', 'verma', 'vermin', 'vern', 'vernacular', 'vernier', 'vernon', 'verona', 'veronica', 'verplanck', 'vers', 'versa', 'versatil', 'version', 'versu', 'vertic', 'vertigo', 'verv', 'verysmal', 'vessel', 'vest', 'vestig', 'vet', 'veteran', 'veterinarian', 'vey', 'vh1vogu', 'vi', 'via', 'viabl', 'vibe', 'vibranc', 'vibrant', 'vibrantlyact', 'vibrat', 'vic', 'vicar', 'vicari', 'vice', 'vicel', 'vicepresid', 'viceroy', 'viceversa', 'vichi', 'viciou', 'vicious', 'vicki', 'victim', 'victoir', 'victor', 'victori', 'victoria', 'victorian', 'victorianera', 'video', 'videocamera', 'videocassett', 'videogam', 'videotap', 'vienna', 'vietnam', 'vietnames', 'vieux', 'view', 'viewer', 'viewpoint', 'viggo', 'vigil', 'vigilant', 'vignett', 'vigo', 'vigor', 'vii', 'vike', 'vikram', 'vile', 'vilifi', 'vill', 'villa', 'villag', 'villain', 'villaini', 'villian', 'vin', 'vinc', 'vincenn', 'vincent', 'vincentjerom', 'vincenzo', 'vinci', 'vindic', 'vindict', 'vine', 'vinegar', 'vineyard', 'ving', 'vinni', 'vintag', 'vinyl', 'viola', 'violat', 'violenc', 'violencegor', 'violent', 'violet', 'violin', 'violinist', 'vip', 'viper', 'virgil', 'virgin', 'virginia', 'virginian', 'viril', 'virtu', 'virtual', 'virtuos', 'virtuoso', 'virtuou', 'viru', 'visa', 'visag', 'viscer', 'vishnu', 'visibl', 'vision', 'visionari', 'visit', 'visitor', 'visitorsfriend', 'visnjic', 'vista', 'visual', 'vita', 'vital', 'vitello', 'viterelli', 'vito', 'vitriol', 'vitti', 'vivaci', 'vivaldi', 'vivian', 'vivid', 'vividli', 'vixen', 'vizard', 'vladimir', 'vo', 'vocabulari', 'vocal', 'vocat', 'vodka', 'vogu', 'voic', 'voicechang', 'voiceov', 'void', 'voight', 'voil', 'volatil', 'volcan', 'volcano', 'volcanologist', 'volker', 'volkswagen', 'voltag', 'volum', 'volunt', 'voluntari', 'vomit', 'von', 'vonnegut', 'voodoo', 'voraci', 'vortex', 'vote', 'voter', 'vow', 'voyag', 'voyeur', 'voyeurist', 'vrooshka', 'vu', 'vulcan', 'vulgar', 'vulner', 'vultur', 'vy', 'wa', 'waaaay', 'wachowski', 'wacki', 'wacko', 'wade', 'wafflemovi', 'wag', 'wage', 'wager', 'wagner', 'wagnerian', 'wagon', 'wah', 'wai', 'waikiki', 'wail', 'wainwright', 'waist', 'wait', 'waiter', 'waitress', 'wake', 'wakefield', 'walcott', 'wale', 'walk', 'walkaround', 'walken', 'walker', 'walkway', 'wall', 'wallac', 'wallenberg', 'wallet', 'walli', 'wallop', 'wallow', 'wallpap', 'walltowal', 'walmart', 'walnutsexcept', 'walsh', 'walt', 'walter', 'walther', 'walton', 'waltz', 'wan', 'wand', 'wanda', 'wander', 'wanderlust', 'wane', 'wang', 'wangl', 'wanker', 'wannab', 'want', 'wanton', 'war', 'warbl', 'warburton', 'warcraft', 'ward', 'warden', 'wardrob', 'ware', 'warehous', 'warfar', 'wargam', 'warhead', 'warhol', 'wari', 'warlik', 'warlock', 'warlord', 'warm', 'warmandfuzzi', 'warmer', 'warmest', 'warmheart', 'warmth', 'warmup', 'warn', 'warner', 'warnerbrotherscoyotefalloffthecliff', 'warp', 'warrant', 'warren', 'warrior', 'warship', 'wart', 'wartim', 'wash', 'washington', 'washout', 'wasnt', 'wasp', 'waspi', 'wast', 'wasteland', 'wasth', 'watch', 'watchabl', 'watchdog', 'watcher', 'water', 'waterb', 'waterboy', 'watercolor', 'watereddown', 'waterfal', 'waterg', 'wateri', 'waterlog', 'watersh', 'waterunit', 'waterway', 'waterwork', 'watson', 'watt', 'wave', 'waver', 'wax', 'way', 'wayan', 'wayback', 'waylaid', 'wayn', 'waysid', 'wayward', 'wazoo', 'we', 'weak', 'weaken', 'weaker', 'weakest', 'weakl', 'weakli', 'weakwil', 'wealth', 'wealthi', 'weapon', 'weaponri', 'wear', 'weari', 'weather', 'weatherman', 'weav', 'weaver', 'web', 'webb', 'webber', 'webcam', 'webpag', 'websit', 'webster', 'wed', 'wedg', 'wedlock', 'wednesday', 'wee', 'weed', 'week', 'weeken', 'weekend', 'weekli', 'weeklyread', 'weeni', 'weep', 'weepi', 'wei', 'weigh', 'weight', 'weighti', 'weil', 'weinstein', 'weir', 'weird', 'weirdest', 'weirdli', 'weirdo', 'weit', 'welch', 'welcom', 'weld', 'welfar', 'well', 'wellbar', 'wellborn', 'wellchoreograph', 'wellchosen', 'wellcom', 'wellconstruct', 'wellcraft', 'welldefin', 'welldeserv', 'welldesign', 'welldevelop', 'welldocu', 'welldrawn', 'welleduc', 'weller', 'wellexecut', 'wellington', 'wellintent', 'wellkept', 'wellknown', 'welllik', 'wellmean', 'wellmeant', 'wellpac', 'wellpaid', 'wellreceiv', 'wellrespect', 'wellround', 'wellselect', 'wellstag', 'wellstructur', 'welltim', 'welltodo', 'welltold', 'welltravel', 'wellwritten', 'welsh', 'welshman', 'wen', 'wench', 'wendel', 'wender', 'wendi', 'wendigo', 'went', 'wentworth', 'werent', 'werewolf', 'werewolv', 'werner', 'wesley', 'wesleyan', 'wessex', 'west', 'western', 'westlak', 'westward', 'wet', 'wetbehindtheear', 'wetmor', 'wetsuit', 'weve', 'whack', 'whackedout', 'whacko', 'whalberg', 'whale', 'wharton', 'what', 'whatev', 'whatnot', 'whatsoev', 'wheel', 'wheelchair', 'wheelchairbound', 'wheeler', 'wheez', 'whenev', 'where', 'wherea', 'whereabout', 'wherebi', 'wherein', 'whereupon', 'wherev', 'whew', 'whic', 'whichev', 'whiff', 'whilst', 'whim', 'whimsi', 'whimsic', 'whine', 'whini', 'whip', 'whiplash', 'whirlpool', 'whirlwind', 'whisk', 'whiskey', 'whisper', 'whistl', 'whit', 'whitak', 'white', 'whitecollar', 'whitefac', 'whitest', 'whitewat', 'whitey', 'whitman', 'whitney', 'whittl', 'whiz', 'whizz', 'who', 'whoa', 'whod', 'whodunit', 'whoever', 'wholeheartedli', 'wholesom', 'wholli', 'whomev', 'whoop', 'whoope', 'whoopi', 'whop', 'whore', 'whorehous', 'whose', 'wicca', 'wiccan', 'wichita', 'wick', 'wicked', 'wickedli', 'wide', 'wideangl', 'widen', 'wideopen', 'wider', 'widereleas', 'widescreen', 'widespread', 'widmor', 'widow', 'wie', 'wield', 'wierd', 'wife', 'wifetob', 'wig', 'wigger', 'wilbur', 'wilcox', 'wild', 'wilder', 'wildest', 'wildfir', 'wildli', 'wildlif', 'wilford', 'wilhelm', 'wili', 'wilk', 'wilkinson', 'will', 'willa', 'willard', 'willem', 'willi', 'william', 'williamshakespearesromeojuliet', 'williamson', 'williamsonesqu', 'williamsonless', 'willing', 'willingli', 'willpow', 'wilmingtonasdetroit', 'wilson', 'wim', 'wimp', 'wimpi', 'win', 'winbush', 'winc', 'wind', 'windbag', 'windmil', 'window', 'windshield', 'windsor', 'windswept', 'windtunnel', 'windup', 'wine', 'winfr', 'wing', 'winglet', 'wink', 'winkandaconcussivenudg', 'winkl', 'winnabl', 'winner', 'winni', 'wino', 'winona', 'winslow', 'winsom', 'winston', 'wint', 'winter', 'winterbottom', 'wipe', 'wire', 'wirehair', 'wisconsin', 'wisdom', 'wise', 'wiseass', 'wisecrack', 'wiseguy', 'wiser', 'wish', 'wispi', 'wist', 'wit', 'witch', 'witchcraft', 'witchwannab', 'withdraw', 'withdrawn', 'witherspoon', 'withheld', 'withhold', 'within', 'without', 'withoutshock', 'withstand', 'witt', 'witti', 'wittili', 'wive', 'wizard', 'wizardri', 'wizen', 'wo', 'wobbl', 'woeful', 'woefulli', 'woke', 'wolcott', 'wolf', 'wolfgang', 'wolv', 'woman', 'womanhood', 'womanli', 'womb', 'wonder', 'wonderland', 'wondrou', 'wondrous', 'wong', 'wonka', 'wont', 'woo', 'wood', 'woodbin', 'wooden', 'woodi', 'woodman', 'woodsboro', 'woodward', 'woolli', 'woolsey', 'woostyl', 'word', 'wordi', 'wordless', 'wordlessli', 'wordli', 'wordofmouth', 'wore', 'worf', 'work', 'workaday', 'workahol', 'worker', 'workerjanitor', 'workin', 'workingclass', 'workload', 'workman', 'workmanlik', 'workmat', 'workout', 'workplac', 'workshop', 'world', 'worldassum', 'worldclass', 'worldli', 'worldlywis', 'worldreknown', 'worldrenown', 'worldweari', 'worldwid', 'worm', 'wormhol', 'wormwood', 'worn', 'worri', 'worriedli', 'wors', 'worsen', 'worship', 'worst', 'worth', 'worthi', 'worthless', 'worthwhil', 'would', 'wouldb', 'wouldbeahab', 'wouldnt', 'wouldv', 'wound', 'woven', 'wow', 'wowi', 'wowinspir', 'wrack', 'wrap', 'wrath', 'wreak', 'wreck', 'wreckag', 'wren', 'wrench', 'wrestl', 'wrestler', 'wretch', 'wri', 'wright', 'wring', 'wrinkl', 'write', 'writer', 'writerdirector', 'writerdirectorproduc', 'writerdirectorstar', 'writersdirector', 'writh', 'writingdirect', 'writinghenri', 'written', 'wrong', 'wrongdo', 'wronghead', 'wrongi', 'wrongli', 'wrongperhap', 'wrote', 'wrought', 'wryli', 'wunderbar', 'wunderkind', 'wwe', 'wwii', 'wyatt', 'wynn', 'wyom', 'xavier', 'xenophob', 'xiao', 'xindi', 'xing', 'xiong', 'xma', 'xmozillastatu', 'xray', 'xu', 'xusia', 'xvi', 'ya', 'yacht', 'yahoo', 'yak', 'yakusho', 'yakuza', 'yam', 'yamazaki', 'yang', 'yangjung', 'yank', 'yanke', 'yankov', 'yanni', 'yao', 'yap', 'yar', 'yard', 'yarn', 'yasmin', 'yasuko', 'yavin', 'yawn', 'yaz', 'ye', 'yea', 'yeager', 'yeah', 'year', 'yearbook', 'yeareveri', 'yearn', 'yearold', 'yearsgonebi', 'yearsold', 'yee', 'yeesh', 'yell', 'yeller', 'yellow', 'yellowston', 'yelp', 'yen', 'yeoman', 'yep', 'yesterday', 'yesteryear', 'yet', 'yeti', 'yeung', 'yg', 'yield', 'yin', 'yip', 'yo', 'yoda', 'yojimbo', 'yoland', 'yon', 'yong', 'york', 'yorker', 'yoshikawa', 'yoshio', 'yost', 'you', 'youat', 'youd', 'youknowwher', 'youll', 'young', 'younger', 'youngest', 'youngster', 'your', 'yourfac', 'youth', 'youthrestor', 'youv', 'yoyo', 'yu', 'yuck', 'yucki', 'yuen', 'yugo', 'yugoslavia', 'yugoslavian', 'yuji', 'yuk', 'yulia', 'yum', 'yun', 'yunkish', 'yup', 'yuppi', 'yvett', 'yzma', 'zach', 'zack', 'zag', 'zak', 'zane', 'zani', 'zap', 'zappa', 'zar', 'zavitz', 'ze', 'zeal', 'zealot', 'zealous', 'zed', 'zeek', 'zeffirelli', 'zellweg', 'zemecki', 'zemeckiss', 'zen', 'zero', 'zest', 'zeta', 'zetajon', 'zeu', 'zhan', 'zhang', 'zhou', 'zhuangzhuang', 'ziembicki', 'zig', 'ziggi', 'zilch', 'zillion', 'zimbabw', 'zinger', 'zinnemman', 'zinnia', 'zip', 'zipper', 'zippi', 'ziti', 'zoe', 'zombi', 'zombielik', 'zombifi', 'zone', 'zoo', 'zookeep', 'zooland', 'zoologist', 'zoom', 'zorro', 'zuko', 'zweibel', 'zwigoff']\n"
          ]
        }
      ],
      "source": [
        "print(parseur.get_feature_names())"
      ]
    },
    {
      "cell_type": "code",
      "execution_count": null,
      "metadata": {
        "id": "7gq9ZqV6tPHc",
        "outputId": "7fd637dd-7ebd-4f9d-d277-bc12c040bbd9"
      },
      "outputs": [
        {
          "name": "stdout",
          "output_type": "stream",
          "text": [
            "<class 'numpy.ndarray'>\n",
            "(1600, 17248)\n"
          ]
        }
      ],
      "source": [
        "#transform the sparse matrix into a numpy matrix\n",
        "mdtTrain = XTrain.toarray()\n",
        "\n",
        "#type of the matrix\n",
        "print(type(mdtTrain))\n",
        "\n",
        "#size of the matrix\n",
        "print(mdtTrain.shape)"
      ]
    },
    {
      "cell_type": "code",
      "execution_count": null,
      "metadata": {
        "id": "RiyA5wCptPHc",
        "outputId": "21490b79-6c02-4478-c9d4-e63579b8703b"
      },
      "outputs": [
        {
          "name": "stdout",
          "output_type": "stream",
          "text": [
            "[1 1 1 ... 2 1 1]\n",
            "****\n",
            "[    0  8485  8483 ...  2829  9030 11378]\n",
            "****\n",
            "           terme  freq\n",
            "17247       play   939\n",
            "17246       make   873\n",
            "17245       come   859\n",
            "17244         go   847\n",
            "17243       take   845\n",
            "...          ...   ...\n",
            "3180    ostertag     1\n",
            "3181   ostentati     1\n",
            "3182        osso     1\n",
            "3183       osiri     1\n",
            "0          0009f     1\n",
            "\n",
            "[17248 rows x 2 columns]\n"
          ]
        }
      ],
      "source": [
        "#frequency of the terms\n",
        "freq_mots = np.sum(mdtTrain,axis=0)#sum since we are using binary ponderation\n",
        "print(freq_mots)\n",
        "print('****')\n",
        "#argmax\n",
        "index = np.argsort(freq_mots)\n",
        "print(index)\n",
        "print('****')\n",
        "#print the terms and their frequency\n",
        "imp = {'terme':np.asarray(parseur.get_feature_names())[index],'freq':freq_mots[index]}\n",
        "print(pd.DataFrame(imp).sort_values(by='freq', ascending=False))"
      ]
    },
    {
      "cell_type": "code",
      "execution_count": null,
      "metadata": {
        "id": "HRX0XtqBtPHc",
        "outputId": "c719e42d-6306-475f-9c5c-f7c127a9f409"
      },
      "outputs": [
        {
          "name": "stdout",
          "output_type": "stream",
          "text": [
            "5005\n"
          ]
        }
      ],
      "source": [
        "#***** MIN FREQUENCY\n",
        "\n",
        "#rebuild the parser with new options : min_df = 10\n",
        "parseurBis = CountVectorizer(stop_words='english',binary=True, min_df = 10)\n",
        "XTrainBis = parseurBis.fit_transform(dataTrain['review'])\n",
        "\n",
        "#number of tokens\n",
        "print(len(parseurBis.get_feature_names()))\n",
        "\n",
        "#mdt_bis\n",
        "mdtTrainBis = XTrainBis.toarray()"
      ]
    },
    {
      "cell_type": "code",
      "execution_count": null,
      "metadata": {
        "id": "zq1bJI_ItPHc",
        "outputId": "7fdcb1da-5e4c-4f67-ba8d-27d105fd9195"
      },
      "outputs": [
        {
          "data": {
            "text/plain": [
              "KNeighborsClassifier(n_neighbors=2)"
            ]
          },
          "execution_count": 175,
          "metadata": {},
          "output_type": "execute_result"
        }
      ],
      "source": [
        "#import the class KNeighborsClassifier\n",
        "from sklearn.neighbors import KNeighborsClassifier\n",
        "\n",
        "#instatiate the object\n",
        "knn_classifier = KNeighborsClassifier(n_neighbors=2)\n",
        "\n",
        "#perform the training process\n",
        "knn_classifier.fit(mdtTrainBis,dataTrain['label'])\n",
        "\n"
      ]
    },
    {
      "cell_type": "code",
      "execution_count": null,
      "metadata": {
        "id": "jh4CVFuWtPHc",
        "outputId": "86aae9cc-3f5d-43e6-e4bd-d3ce25619e47"
      },
      "outputs": [
        {
          "name": "stdout",
          "output_type": "stream",
          "text": [
            "***Confusion matrix\n"
          ]
        }
      ],
      "source": [
        "#generate the document term matrix for the test set\n",
        "#using the object learned from the train set\n",
        "#import the metrics class for the performance measurement\n",
        "from sklearn import metrics\n",
        "\n",
        "#create the document term matrix\n",
        "mdtTestBis = parseurBis.transform(dataTest['review'])\n",
        "\n",
        "#prediction for the test set\n",
        "predTestBis = knn_classifier.predict(mdtTestBis)\n",
        "\n",
        "#confusion matrix\n",
        "print('***Confusion matrix')\n",
        "mcTestBis = metrics.confusion_matrix(dataTest['label'],predTestBis)"
      ]
    },
    {
      "cell_type": "code",
      "execution_count": null,
      "metadata": {
        "id": "a3bi8s_NtPHd",
        "outputId": "462afe9e-4eb2-40b1-d42f-99f9835ec12e"
      },
      "outputs": [
        {
          "name": "stdout",
          "output_type": "stream",
          "text": [
            "Recall\n",
            "1.0\n",
            "precision\n",
            "0.5\n",
            "F1-Score\n",
            "0.6666666666666666\n",
            "accuracy rate -->\n",
            "0.5\n"
          ]
        }
      ],
      "source": [
        "#recall\n",
        "print('Recall')\n",
        "print(metrics.recall_score(dataTest['label'],predTestBis,pos_label='neg'))\n",
        "\n",
        "#precision\n",
        "print('precision')\n",
        "print(metrics.precision_score(dataTest['label'],predTestBis,pos_label='neg'))\n",
        "\n",
        "#F1-Score\n",
        "print('F1-Score')\n",
        "print(metrics.f1_score(dataTest['label'],predTestBis,pos_label='neg'))\n",
        "\n",
        "#accuracy rate\n",
        "print('accuracy rate -->')\n",
        "print(metrics.accuracy_score(dataTest['label'],predTestBis))"
      ]
    },
    {
      "cell_type": "markdown",
      "metadata": {
        "id": "xa34pLOOtPHd"
      },
      "source": [
        "### Hyperparameter tuning"
      ]
    },
    {
      "cell_type": "code",
      "execution_count": null,
      "metadata": {
        "id": "-dHN50qetPHd"
      },
      "outputs": [],
      "source": [
        "k_range=range(1,35)\n",
        "scores=[]\n",
        "\n",
        "for k in k_range:\n",
        "    knn=KNeighborsClassifier(n_neighbors=k)\n",
        "    knn.fit(mdtTrainBis, dataTrain['label'])\n",
        "    predTestBis=knn.predict(mdtTestBis)\n",
        "    scores.append(metrics.accuracy_score(dataTest['label'], predTestBis))"
      ]
    },
    {
      "cell_type": "code",
      "execution_count": null,
      "metadata": {
        "id": "lfg9itjYtPHd",
        "outputId": "2fc77c8b-eaf7-4dd7-a2f3-182611f5f519"
      },
      "outputs": [
        {
          "data": {
            "image/png": "[encoded data removed]",
            "text/plain": [
              "<Figure size 432x288 with 1 Axes>"
            ]
          },
          "metadata": {
            "needs_background": "light"
          },
          "output_type": "display_data"
        }
      ],
      "source": [
        "import matplotlib.pyplot as plt\n",
        "\n",
        "plt.plot(k_range, scores)\n",
        "plt.xlabel('k value')\n",
        "plt.ylabel('Accuracy')\n",
        "\n",
        "plt.show()"
      ]
    },
    {
      "cell_type": "code",
      "execution_count": null,
      "metadata": {
        "id": "mduy9cD8tPHd",
        "outputId": "534da3a7-5212-42f6-cd4e-d4571508d813"
      },
      "outputs": [
        {
          "data": {
            "text/plain": [
              "0.6725"
            ]
          },
          "execution_count": 184,
          "metadata": {},
          "output_type": "execute_result"
        }
      ],
      "source": [
        "import numpy as np\n",
        "np.max(scores)"
      ]
    },
    {
      "cell_type": "markdown",
      "metadata": {
        "id": "oQZMJJ1LtPHe"
      },
      "source": [
        "### LOGISTIC REGRESSION"
      ]
    },
    {
      "cell_type": "code",
      "execution_count": null,
      "metadata": {
        "id": "Q4-TnuUGtPHe",
        "outputId": "8c4b972d-e408-44c6-a89d-1fadb0765fa5"
      },
      "outputs": [
        {
          "name": "stdout",
          "output_type": "stream",
          "text": [
            "***Confusion matrix\n",
            "[[175  25]\n",
            " [ 34 166]]\n",
            "Recall\n",
            "0.875\n",
            "precision\n",
            "0.8373205741626795\n",
            "F1-Score\n",
            "0.8557457212713937\n",
            "accuracy rate -->\n",
            "0.8525\n"
          ]
        }
      ],
      "source": [
        "#*** train the classifier\n",
        "\n",
        "#import the class LogistiRegression\n",
        "from sklearn.linear_model import LogisticRegression\n",
        "\n",
        "#instatiate the object\n",
        "modelBis = LogisticRegression()\n",
        "\n",
        "#perform the training process\n",
        "modelBis.fit(mdtTrainBis,dataTrain['label'])\n",
        "\n",
        "#generate the document term matrix for the test set\n",
        "#using the object learned from the train set\n",
        "\n",
        "\n",
        "#import the metrics class for the performance measurement\n",
        "#from sklearn import metrics\n",
        "\n",
        "#create the document term matrix for test\n",
        "mdtTestBis = parseurBis.transform(dataTest['review'])\n",
        "\n",
        "#prediction for the test set\n",
        "predTestBis = modelBis.predict(mdtTestBis)\n",
        "\n",
        "#confusion matrix\n",
        "print('***Confusion matrix')\n",
        "mcTestBis = metrics.confusion_matrix(dataTest['label'],predTestBis)\n",
        "print(mcTestBis)\n",
        "\n",
        "#recall\n",
        "print('Recall')\n",
        "print(metrics.recall_score(dataTest['label'],predTestBis,pos_label='neg'))\n",
        "\n",
        "#precision\n",
        "print('precision')\n",
        "print(metrics.precision_score(dataTest['label'],predTestBis,pos_label='neg'))\n",
        "\n",
        "#F1-Score\n",
        "print('F1-Score')\n",
        "print(metrics.f1_score(dataTest['label'],predTestBis,pos_label='neg'))\n",
        "\n",
        "#accuracy rate\n",
        "print('accuracy rate -->')\n",
        "print(metrics.accuracy_score(dataTest['label'],predTestBis))"
      ]
    },
    {
      "cell_type": "code",
      "execution_count": null,
      "metadata": {
        "id": "HtMyBdb8tPHe",
        "outputId": "2049b746-26be-49e0-d3ab-3a9b1cf55e77"
      },
      "outputs": [
        {
          "data": {
            "text/plain": [
              "array([[ 0.06190688, -0.34302794,  0.0839147 , ..., -0.07139492,\n",
              "        -0.1537861 ,  0.04318937]])"
            ]
          },
          "execution_count": 53,
          "metadata": {},
          "output_type": "execute_result"
        }
      ],
      "source": [
        "modelBis.coef_"
      ]
    },
    {
      "cell_type": "code",
      "execution_count": null,
      "metadata": {
        "id": "OroL8mgZtPHe",
        "outputId": "25cbea99-7f00-4658-9ec8-5bbadf3018ef"
      },
      "outputs": [
        {
          "data": {
            "text/plain": [
              "array([0.06190688, 0.34302794, 0.0839147 , ..., 0.07139492, 0.1537861 ,\n",
              "       0.04318937])"
            ]
          },
          "execution_count": 54,
          "metadata": {},
          "output_type": "execute_result"
        }
      ],
      "source": [
        "#***** REMOVE TERMS WITH COEFFICIENTS NEARLY ZERO\n",
        "#Tout d’abord il nous faut caractériser les coefficients du modèle. Nous les passons en valeur absolue et nous calculons plusieurs quantiles.\n",
        "\n",
        "#absolute  value of the coefficients\n",
        "coef_abs = np.abs(modelBis.coef_[0,:])\n",
        "\n",
        "coef_abs"
      ]
    },
    {
      "cell_type": "code",
      "execution_count": null,
      "metadata": {
        "id": "k7DDcQs5tPHe",
        "outputId": "977295d2-e0a5-4973-a4ad-6c40bbc2ef0d"
      },
      "outputs": [
        {
          "name": "stdout",
          "output_type": "stream",
          "text": [
            "[1.52666331e-04 3.51255032e-02 7.60214026e-02 1.36665154e-01\n",
            " 2.19757837e-01 1.00820633e+00]\n"
          ]
        }
      ],
      "source": [
        "#percentiles of the coefficients (absolute value)\n",
        "thresholds = np.percentile(coef_abs,[0,25,50,75,90,100])\n",
        "print(thresholds)"
      ]
    },
    {
      "cell_type": "code",
      "execution_count": null,
      "metadata": {
        "id": "EJAXU54RtPHf",
        "outputId": "f9fc2a8e-d146-4d9f-c0c3-a083f755116c"
      },
      "outputs": [
        {
          "name": "stdout",
          "output_type": "stream",
          "text": [
            "2648\n"
          ]
        }
      ],
      "source": [
        "#identify the coefficients \"significantly higher than zero\n",
        "#use 1st quartile as threshold\n",
        "indices = np.where(coef_abs > thresholds[2])\n",
        "print(len(indices[0]))"
      ]
    },
    {
      "cell_type": "code",
      "execution_count": null,
      "metadata": {
        "id": "YBnf_EAytPHf",
        "outputId": "a53d01e2-5128-4f99-da82-517b1c31d399"
      },
      "outputs": [
        {
          "name": "stdout",
          "output_type": "stream",
          "text": [
            "(1600, 2648)\n",
            "(400, 2648)\n"
          ]
        }
      ],
      "source": [
        "#create the new document term matrices\n",
        "\n",
        "#document term matrices - train and test sets\n",
        "mdtTrainTer = mdtTrainBis[:,indices[0]]#toutes les lignes et uniquement les colones \n",
        "mdtTestTer = mdtTestBis[:,indices[0]]\n",
        "\n",
        "#checking\n",
        "print(mdtTrainTer.shape)\n",
        "print(mdtTestTer.shape)"
      ]
    },
    {
      "cell_type": "code",
      "execution_count": null,
      "metadata": {
        "id": "17DP_oIUtPHf",
        "outputId": "46a2730f-e630-41ab-9817-55899580510d"
      },
      "outputs": [
        {
          "name": "stdout",
          "output_type": "stream",
          "text": [
            "[[172  28]\n",
            " [ 31 169]]\n"
          ]
        }
      ],
      "source": [
        "#instatiate the object\n",
        "modelTer = LogisticRegression()\n",
        "\n",
        "#train a new classifier with selected terms\n",
        "modelTer.fit(mdtTrainTer,dataTrain['label'])\n",
        "\n",
        "#prediction on the test set\n",
        "predTestTer = modelTer.predict(mdtTestTer)\n",
        "\n",
        "#confusion matrix\n",
        "mcTestTer = metrics.confusion_matrix(dataTest['label'],predTestTer)\n",
        "print(mcTestTer)"
      ]
    },
    {
      "cell_type": "code",
      "execution_count": null,
      "metadata": {
        "id": "aTurMCkatPHf",
        "outputId": "81e2b553-8145-47a9-ccb0-d0f1e814865b"
      },
      "outputs": [
        {
          "name": "stdout",
          "output_type": "stream",
          "text": [
            "         term      coef\n",
            "2642  surpris  0.725737\n",
            "2641    thank  0.724306\n",
            "2639   hilari  0.708211\n",
            "2635    enjoy  0.655290\n",
            "2633      fun  0.649994\n",
            "2631    excel  0.628528\n",
            "2630  sometim  0.626082\n",
            "2629    great  0.619830\n",
            "2628     flaw  0.618240\n",
            "2626     town  0.615431\n"
          ]
        }
      ],
      "source": [
        "#selected terms\n",
        "sel_terms = np.array(parseurBis.get_feature_names())[indices[0]]\n",
        "\n",
        "#sorted indices of the absolute value coefficients\n",
        "sorted_indices = np.argsort(np.abs(modelTer.coef_[0,:]))\n",
        "\n",
        "#print the terms and theirs coefficients\n",
        "imp = {'term':np.asarray(sel_terms)[sorted_indices],'coef':modelTer.coef_[0,:][sorted_indices]}\n",
        "#Les 10 termes les plus discriminants dans le modèle sont (avec les coefficients associés) :\n",
        "print(pd.DataFrame(imp).sort_values(by='coef', ascending=False).head(10))"
      ]
    },
    {
      "cell_type": "code",
      "execution_count": null,
      "metadata": {
        "id": "vShEr_39tPHg",
        "outputId": "e36d3da9-cec4-4e26-c4b8-3cae193049e4"
      },
      "outputs": [
        {
          "name": "stdout",
          "output_type": "stream",
          "text": [
            "Collecting contractions\n",
            "  Downloading contractions-0.1.72-py2.py3-none-any.whl (8.3 kB)\n",
            "Collecting textsearch>=0.0.21\n",
            "  Downloading textsearch-0.0.21-py2.py3-none-any.whl (7.5 kB)\n",
            "Collecting anyascii\n",
            "  Downloading anyascii-0.3.1-py3-none-any.whl (287 kB)\n",
            "Collecting pyahocorasick\n",
            "  Downloading pyahocorasick-1.4.4-cp39-cp39-win_amd64.whl (39 kB)\n",
            "Installing collected packages: pyahocorasick, anyascii, textsearch, contractions\n",
            "Successfully installed anyascii-0.3.1 contractions-0.1.72 pyahocorasick-1.4.4 textsearch-0.0.21\n",
            "Note: you may need to restart the kernel to use updated packages.\n"
          ]
        },
        {
          "name": "stderr",
          "output_type": "stream",
          "text": [
            "  WARNING: Retrying (Retry(total=4, connect=None, read=None, redirect=None, status=None)) after connection broken by 'ReadTimeoutError(\"HTTPSConnectionPool(host='files.pythonhosted.org', port=443): Read timed out. (read timeout=15)\")': /packages/1f/db/2e740daaccf53629339677d05b8a491c0963d779ebeccb23acfd6ae6d4d8/contractions-0.1.72-py2.py3-none-any.whl\n"
          ]
        }
      ],
      "source": [
        "pip install contractions"
      ]
    },
    {
      "cell_type": "code",
      "execution_count": null,
      "metadata": {
        "id": "NHlWIgbQtPHg"
      },
      "outputs": [],
      "source": [
        "contractions_dict = {\"ain't\": \"are not\",\"'s\":\" is\",\"aren't\": \"are not\"}\n",
        "# Regular expression for finding contractions\n",
        "contractions_re=re.compile('(%s)' % '|'.join(contractions_dict.keys()))\n",
        "def expand_contractions(text,contractions_dict=contractions_dict):\n",
        "    def replace(match):\n",
        "        return contractions_dict[match.group(0)]\n",
        "    return contractions_re.sub(replace, text)"
      ]
    },
    {
      "cell_type": "code",
      "execution_count": null,
      "metadata": {
        "id": "2PX1a4CutPHg",
        "outputId": "f1bdbdc6-4f49-4da0-c2b0-95f746f57dc2"
      },
      "outputs": [
        {
          "name": "stdout",
          "output_type": "stream",
          "text": [
            "  (0, 1906)\t1\n",
            "  (0, 3177)\t1\n"
          ]
        }
      ],
      "source": [
        "\n",
        "#document to classify\n",
        "doc = ['this is a new free service for you only']\n",
        "\n",
        "#document preprocessing\n",
        "doc=expand_contractions(str(doc))\n",
        "doc = str(doc).lower()\n",
        "doc = re.sub('[%s]' % re.escape(string.punctuation), '' , str(doc))\n",
        "doc = re.sub('[%s]' % re.escape(string.punctuation), '' ,  str(doc))\n",
        "doc =re.sub(r'\\b[0-9]+\\b\\s*', '', str(doc))\n",
        "doc = remove_stopwords(str(doc))\n",
        "\n",
        "#get its description\n",
        "desc = parseurBis.transform([doc])\n",
        "print(desc)"
      ]
    },
    {
      "cell_type": "code",
      "execution_count": null,
      "metadata": {
        "id": "0Iv9cG73tPHg",
        "outputId": "319da2ca-deea-41c2-895d-312561f758c4"
      },
      "outputs": [
        {
          "name": "stdout",
          "output_type": "stream",
          "text": [
            "  (0, 3941)\t1\n"
          ]
        }
      ],
      "source": [
        "\n",
        "doc = [\"Hello elasri.ikram, You are customer #0836901 by Amazon Rewards and we have been waiting for your confirmation since. This delivery is for elasri.ikram To activate delivery, validate here! Cordially,, Amazon reward\"]\n",
        "#document preprocessing\n",
        "doc=expand_contractions(str(doc))\n",
        "doc = str(doc).lower()\n",
        "doc = re.sub('[%s]' % re.escape(string.punctuation), '' , str(doc))\n",
        "doc =re.sub(r'\\b[0-9]+\\b\\s*', '', str(doc))\n",
        "doc = remove_stopwords(str(doc))\n",
        "\n",
        "#get its description\n",
        "desc = parseurBis.transform([doc])\n",
        "print(desc)"
      ]
    },
    {
      "cell_type": "code",
      "execution_count": null,
      "metadata": {
        "id": "ic6UYaRttPHh",
        "outputId": "c049e249-bdea-4a25-afad-76bf6128b5ba"
      },
      "outputs": [
        {
          "data": {
            "text/plain": [
              "'hello elasriikram customer amazon rewards waiting confirmation since delivery elasriikram activate delivery validate cordially amazon reward'"
            ]
          },
          "execution_count": 69,
          "metadata": {},
          "output_type": "execute_result"
        }
      ],
      "source": [
        "doc"
      ]
    },
    {
      "cell_type": "code",
      "execution_count": null,
      "metadata": {
        "id": "sLzREcP7tPHh",
        "outputId": "f7d1d679-64c7-42a8-ec49-c487bfb1de49"
      },
      "outputs": [
        {
          "name": "stdout",
          "output_type": "stream",
          "text": [
            "['reward']\n"
          ]
        }
      ],
      "source": [
        "print(np.asarray(parseurBis.get_feature_names())[desc.indices])"
      ]
    },
    {
      "cell_type": "code",
      "execution_count": null,
      "metadata": {
        "id": "aM94SquetPHh"
      },
      "outputs": [],
      "source": [
        "#dense representation\n",
        "dense_desc = desc.toarray()\n",
        "\n",
        "#apply var. selection\n",
        "dense_sel = dense_desc[:,indices[0]]"
      ]
    },
    {
      "cell_type": "code",
      "execution_count": null,
      "metadata": {
        "id": "zR1r6IgGtPHh",
        "outputId": "fc6e6f2b-f025-402b-f7d3-0df8d27524ea"
      },
      "outputs": [
        {
          "data": {
            "text/plain": [
              "array([[0, 0, 0, ..., 0, 0, 0]], dtype=int64)"
            ]
          },
          "execution_count": 73,
          "metadata": {},
          "output_type": "execute_result"
        }
      ],
      "source": [
        "dense_desc "
      ]
    },
    {
      "cell_type": "code",
      "execution_count": null,
      "metadata": {
        "id": "vGIUpUHytPHi",
        "outputId": "5880ab1d-5324-4a46-d21d-06ada043d297"
      },
      "outputs": [
        {
          "name": "stdout",
          "output_type": "stream",
          "text": [
            "['neg']\n"
          ]
        }
      ],
      "source": [
        "#prediction of the class membership\n",
        "pred_doc = modelTer.predict(dense_sel)\n",
        "print(pred_doc)"
      ]
    },
    {
      "cell_type": "code",
      "execution_count": null,
      "metadata": {
        "id": "W1qOtog3tPHi",
        "outputId": "5716b206-1aa6-47a2-a9fe-d61fa82df4f3"
      },
      "outputs": [
        {
          "name": "stdout",
          "output_type": "stream",
          "text": [
            "[[0.73760705 0.26239295]]\n"
          ]
        }
      ],
      "source": [
        "#prediction of the class membership probabilities\n",
        "pred_proba = modelTer.predict_proba(dense_sel)\n",
        "print(pred_proba)"
      ]
    },
    {
      "cell_type": "code",
      "execution_count": null,
      "metadata": {
        "id": "KR7-Pv0vtPHi"
      },
      "outputs": [],
      "source": [
        ""
      ]
    }
  ],
  "metadata": {
    "kernelspec": {
      "display_name": "Python 3 (ipykernel)",
      "language": "python",
      "name": "python3"
    },
    "language_info": {
      "codemirror_mode": {
        "name": "ipython",
        "version": 3
      },
      "file_extension": ".py",
      "mimetype": "text/x-python",
      "name": "python",
      "nbconvert_exporter": "python",
      "pygments_lexer": "ipython3",
      "version": "3.9.7"
    },
    "toc": {
      "base_numbering": 1,
      "nav_menu": {
        "height": "532px",
        "width": "198px"
      },
      "number_sections": true,
      "sideBar": false,
      "skip_h1_title": false,
      "title_cell": "Table of Contents",
      "title_sidebar": "Contents",
      "toc_cell": true,
      "toc_position": {},
      "toc_section_display": true,
      "toc_window_display": false
    },
    "colab": {
      "name": "lab_amelioration.ipynb",
      "provenance": []
    }
  },
  "nbformat": 4,
  "nbformat_minor": 0
}